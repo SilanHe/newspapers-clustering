{
 "cells": [
  {
   "cell_type": "markdown",
   "metadata": {},
   "source": [
    "# Progress report on newspaper bias identification"
   ]
  },
  {
   "cell_type": "markdown",
   "metadata": {},
   "source": [
    "This document summarizes our approach and findings when evaluating political and quality biases of different online newspapers."
   ]
  },
  {
   "cell_type": "markdown",
   "metadata": {},
   "source": [
    "Running this notebook requires to increase the iopub_data_rate_limit:\n",
    "\n",
    "```SH\n",
    "jupyter notebook --NotebookApp.iopub_data_rate_limit=1.0e10\n",
    "```"
   ]
  },
  {
   "cell_type": "markdown",
   "metadata": {},
   "source": [
    "## Load and preprocess data"
   ]
  },
  {
   "cell_type": "code",
   "execution_count": 1,
   "metadata": {
    "collapsed": true
   },
   "outputs": [],
   "source": [
    "import numpy as np\n",
    "import pandas as pd\n",
    "from bias import Bias"
   ]
  },
  {
   "cell_type": "code",
   "execution_count": 2,
   "metadata": {
    "collapsed": true
   },
   "outputs": [],
   "source": [
    "df = pd.read_csv(\"../data/source/newsclust.csv\")\n",
    "df = df.query(\"site != 'cbn.com'\")"
   ]
  },
  {
   "cell_type": "code",
   "execution_count": 3,
   "metadata": {
    "collapsed": true
   },
   "outputs": [],
   "source": [
    "df['bias'] = df.apply(lambda row: Bias.get_bias_for_domain(row['site']), axis=1).astype('str')"
   ]
  },
  {
   "cell_type": "code",
   "execution_count": 4,
   "metadata": {},
   "outputs": [
    {
     "data": {
      "text/html": [
       "<div>\n",
       "<style>\n",
       "    .dataframe thead tr:only-child th {\n",
       "        text-align: right;\n",
       "    }\n",
       "\n",
       "    .dataframe thead th {\n",
       "        text-align: left;\n",
       "    }\n",
       "\n",
       "    .dataframe tbody tr th {\n",
       "        vertical-align: top;\n",
       "    }\n",
       "</style>\n",
       "<table border=\"1\" class=\"dataframe\">\n",
       "  <thead>\n",
       "    <tr style=\"text-align: right;\">\n",
       "      <th></th>\n",
       "      <th>date</th>\n",
       "      <th>site</th>\n",
       "      <th>text</th>\n",
       "      <th>title</th>\n",
       "      <th>url</th>\n",
       "      <th>bias</th>\n",
       "    </tr>\n",
       "  </thead>\n",
       "  <tbody>\n",
       "    <tr>\n",
       "      <th>0</th>\n",
       "      <td>2015-01-29T23:14:00.000+02:00</td>\n",
       "      <td>washingtonexaminer.com</td>\n",
       "      <td>Class action filed over United’s ‘low fare gua...</td>\n",
       "      <td>Class action filed over United’s ‘low fare gua...</td>\n",
       "      <td>http://www.washingtonexaminer.com/class-action...</td>\n",
       "      <td>Bias.RIGHT_CENTER</td>\n",
       "    </tr>\n",
       "    <tr>\n",
       "      <th>1</th>\n",
       "      <td>2015-01-23T02:00:00.000+02:00</td>\n",
       "      <td>nydailynews.com</td>\n",
       "      <td>Jupiterimages/Getty Images/Goodshoot RF Snuggl...</td>\n",
       "      <td>Portland pro cuddler hosts ‘Cuddle Con’ on Val...</td>\n",
       "      <td>http://www.nydailynews.com/news/national/portl...</td>\n",
       "      <td>Bias.LEFT_CENTER</td>\n",
       "    </tr>\n",
       "    <tr>\n",
       "      <th>2</th>\n",
       "      <td>2015-01-17T22:05:00.000+02:00</td>\n",
       "      <td>youngcons.com</td>\n",
       "      <td>Cops have been getting a lot of negative atten...</td>\n",
       "      <td>The Hilarious Reason Why Cops Don’t Want to We...</td>\n",
       "      <td>http://www.youngcons.com/hilarious-reason-cops...</td>\n",
       "      <td>Bias.RIGHT</td>\n",
       "    </tr>\n",
       "    <tr>\n",
       "      <th>3</th>\n",
       "      <td>2015-01-21T23:24:00.000+02:00</td>\n",
       "      <td>youngcons.com</td>\n",
       "      <td>Powered by Starbox \\nIn the social media satur...</td>\n",
       "      <td>A Third Of All Divorce Cases Are Citing THIS W...</td>\n",
       "      <td>http://www.youngcons.com/third-divorce-cases-c...</td>\n",
       "      <td>Bias.RIGHT</td>\n",
       "    </tr>\n",
       "    <tr>\n",
       "      <th>4</th>\n",
       "      <td>2015-01-09T02:00:00.000+02:00</td>\n",
       "      <td>nj.com</td>\n",
       "      <td>View/Post Comments 2013 Star-Ledger file photo...</td>\n",
       "      <td>Feds name New Castle County, Delaware a high-i...</td>\n",
       "      <td>http://www.nj.com/south/index.ssf/2015/01/feds...</td>\n",
       "      <td>Bias.LEFT_CENTER</td>\n",
       "    </tr>\n",
       "  </tbody>\n",
       "</table>\n",
       "</div>"
      ],
      "text/plain": [
       "                            date                    site  \\\n",
       "0  2015-01-29T23:14:00.000+02:00  washingtonexaminer.com   \n",
       "1  2015-01-23T02:00:00.000+02:00         nydailynews.com   \n",
       "2  2015-01-17T22:05:00.000+02:00           youngcons.com   \n",
       "3  2015-01-21T23:24:00.000+02:00           youngcons.com   \n",
       "4  2015-01-09T02:00:00.000+02:00                  nj.com   \n",
       "\n",
       "                                                text  \\\n",
       "0  Class action filed over United’s ‘low fare gua...   \n",
       "1  Jupiterimages/Getty Images/Goodshoot RF Snuggl...   \n",
       "2  Cops have been getting a lot of negative atten...   \n",
       "3  Powered by Starbox \\nIn the social media satur...   \n",
       "4  View/Post Comments 2013 Star-Ledger file photo...   \n",
       "\n",
       "                                               title  \\\n",
       "0  Class action filed over United’s ‘low fare gua...   \n",
       "1  Portland pro cuddler hosts ‘Cuddle Con’ on Val...   \n",
       "2  The Hilarious Reason Why Cops Don’t Want to We...   \n",
       "3  A Third Of All Divorce Cases Are Citing THIS W...   \n",
       "4  Feds name New Castle County, Delaware a high-i...   \n",
       "\n",
       "                                                 url               bias  \n",
       "0  http://www.washingtonexaminer.com/class-action...  Bias.RIGHT_CENTER  \n",
       "1  http://www.nydailynews.com/news/national/portl...   Bias.LEFT_CENTER  \n",
       "2  http://www.youngcons.com/hilarious-reason-cops...         Bias.RIGHT  \n",
       "3  http://www.youngcons.com/third-divorce-cases-c...         Bias.RIGHT  \n",
       "4  http://www.nj.com/south/index.ssf/2015/01/feds...   Bias.LEFT_CENTER  "
      ]
     },
     "execution_count": 4,
     "metadata": {},
     "output_type": "execute_result"
    }
   ],
   "source": [
    "df[['date', 'site', 'text', 'title', 'url', 'bias']].head()"
   ]
  },
  {
   "cell_type": "markdown",
   "metadata": {},
   "source": [
    "## Embbed articles and newspapers into a topic space"
   ]
  },
  {
   "cell_type": "code",
   "execution_count": 5,
   "metadata": {
    "collapsed": true
   },
   "outputs": [],
   "source": [
    "from sklearn.decomposition import TruncatedSVD, LatentDirichletAllocation\n",
    "from sklearn.feature_extraction.text import CountVectorizer\n",
    "from sklearn.pipeline import Pipeline"
   ]
  },
  {
   "cell_type": "code",
   "execution_count": 6,
   "metadata": {
    "collapsed": true
   },
   "outputs": [],
   "source": [
    "n_samples = 1000\n",
    "X_samples = df['text'][:n_samples].values"
   ]
  },
  {
   "cell_type": "code",
   "execution_count": 7,
   "metadata": {
    "collapsed": true
   },
   "outputs": [],
   "source": [
    "pipeline = Pipeline([\n",
    "    ('vect', CountVectorizer(max_df=0.95, min_df=2, max_features=1000, stop_words='english')),\n",
    "    ('class', LatentDirichletAllocation(n_components=20, learning_method='batch'))\n",
    "])\n",
    "\n",
    "X = pipeline.fit_transform(X_samples)"
   ]
  },
  {
   "cell_type": "markdown",
   "metadata": {},
   "source": [
    "##  Choose projection axes"
   ]
  },
  {
   "cell_type": "markdown",
   "metadata": {},
   "source": [
    "The topic space will cluster together articles that cover the same events. However it is difficult to interpret in terms of bias as the dimension do not have a well defined semantic meaning. Fortunately we do have labels informing us on the bias of different newspapers. We can use these labels to project the embeddings along a custom axis."
   ]
  },
  {
   "cell_type": "markdown",
   "metadata": {},
   "source": [
    "First, we need to compute a global representation of the newspapers topics. To do this we simply average vectors for the individual articles."
   ]
  },
  {
   "cell_type": "code",
   "execution_count": 8,
   "metadata": {
    "collapsed": true
   },
   "outputs": [],
   "source": [
    "centroids = []\n",
    "labels = []\n",
    "for site in df['site'].unique():\n",
    "    idx = df['site'][:n_samples].values == site\n",
    "    if sum(idx) > 0:\n",
    "        a = np.mean(X[idx, :], axis=0)\n",
    "        centroids.append(a)\n",
    "        labels.append(site)\n",
    "centroids = np.array(centroids)"
   ]
  },
  {
   "cell_type": "markdown",
   "metadata": {},
   "source": [
    "We can now choose a few prototypical newspaper vectors to construct our articles. We do just that (after renormalization for a better visual effect)."
   ]
  },
  {
   "cell_type": "code",
   "execution_count": 9,
   "metadata": {
    "collapsed": true
   },
   "outputs": [],
   "source": [
    "from sklearn.preprocessing import Normalizer\n",
    "\n",
    "normalizer = Normalizer()\n",
    "centroids = normalizer.fit_transform(centroids)"
   ]
  },
  {
   "cell_type": "code",
   "execution_count": 10,
   "metadata": {
    "collapsed": true
   },
   "outputs": [],
   "source": [
    "# We can play a bit with the axes to get a mapping that makes more sense.\n",
    "\n",
    "ic = dict(zip(labels, centroids))\n",
    "\n",
    "x_axis = ic['breitbart.com'] - ic['dailykos.com'] / 3\n",
    "y_axis = ic['reuters.com'] - ic['thinkprogress.org']\n",
    "\n",
    "X_proj = centroids.dot(x_axis)\n",
    "Y_proj = centroids.dot(y_axis)"
   ]
  },
  {
   "cell_type": "markdown",
   "metadata": {},
   "source": [
    "## Visualize results"
   ]
  },
  {
   "cell_type": "code",
   "execution_count": 11,
   "metadata": {},
   "outputs": [
    {
     "data": {
      "text/html": [
       "<script>requirejs.config({paths: { 'plotly': ['https://cdn.plot.ly/plotly-latest.min']},});if(!window.Plotly) {{require(['plotly'],function(plotly) {window.Plotly=plotly;});}}</script>"
      ],
      "text/vnd.plotly.v1+html": [
       "<script>requirejs.config({paths: { 'plotly': ['https://cdn.plot.ly/plotly-latest.min']},});if(!window.Plotly) {{require(['plotly'],function(plotly) {window.Plotly=plotly;});}}</script>"
      ]
     },
     "metadata": {},
     "output_type": "display_data"
    }
   ],
   "source": [
    "from plotly.offline import init_notebook_mode, plot, iplot\n",
    "init_notebook_mode(connected=True)\n",
    "\n",
    "from plotly.graph_objs import Bar, Scatter, Figure, Layout, XAxis, YAxis"
   ]
  },
  {
   "cell_type": "code",
   "execution_count": 12,
   "metadata": {},
   "outputs": [
    {
     "data": {
      "application/vnd.plotly.v1+json": {
       "data": [
        {
         "marker": {
          "size": 10
         },
         "mode": "markers+text",
         "text": [
          "washingtonexaminer.com",
          "nydailynews.com",
          "youngcons.com",
          "nj.com",
          "reuters.com",
          "bbc.com",
          "washingtonpost.com",
          "propublica.org",
          "wsj.com",
          "ft.com",
          "azcentral.com",
          "cnn.com",
          "theblaze.com",
          "nytimes.com",
          "thegatewaypundit.com",
          "chron.com",
          "dailykos.com",
          "motherjones.com",
          "latimes.com",
          "rawstory.com",
          "westernjournalism.com",
          "breitbart.com",
          "townhall.com",
          "chicagotribune.com",
          "dallasnews.com",
          "rightwingnews.com",
          "seattletimes.com",
          "thinkprogress.org",
          "democracynow.org",
          "economist.com",
          "usatoday.com",
          "dailycaller.com",
          "bizpacreview.com",
          "bloomberg.com",
          "forbes.com",
          "thenation.com",
          "redstate.com",
          "politicususa.com",
          "nypost.com",
          "slate.com",
          "afp.com",
          "allenbwest.com",
          "talkingpointsmemo.com",
          "thefederalistpapers.org",
          "c-span.org",
          "judicialwatch.org"
         ],
         "textposition": "top",
         "type": "scatter",
         "x": [
          0.6350983216810729,
          0.6017496594761749,
          0.6169783564014889,
          0.4978884802103539,
          0.35559193544742856,
          0.6437566763433096,
          0.6793153496189241,
          0.3713973688674696,
          0.38171799858918576,
          0.38472263980954063,
          0.37210010297750074,
          0.539944513668345,
          0.7713695807079202,
          0.6154889159043136,
          0.7789256241825743,
          0.6539481535815079,
          -0.1385555028665423,
          0.6643026054740842,
          0.4897076987530052,
          0.4629352109900492,
          0.7258761667011349,
          0.9350740565110699,
          0.7133889136572904,
          0.6215355378600711,
          0.5463083445846322,
          0.5945969918251419,
          0.46162969678975235,
          0.48430661049574897,
          0.37067189651799615,
          0.6440563324188122,
          0.3450193843159789,
          0.5494300882627726,
          0.8207975660928469,
          0.24174152193183668,
          0.35868539186935516,
          0.3854257837370525,
          0.523309976781101,
          0.6635827975892679,
          0.3879307616487984,
          0.55600105205759,
          0.43338471863115746,
          0.6135841828690709,
          0.6422624879929605,
          0.8206079953573859,
          0.18508181489123982,
          0.2408712767716899
         ],
         "y": [
          -0.09891736861528218,
          0.09496574719473483,
          -0.18710841515393067,
          -0.20904587880158232,
          0.6233691012982728,
          0.1827799088261766,
          0.048501440500228234,
          -0.3903757871633539,
          0.5314832496326636,
          0.38922126357047343,
          0.11031656137226849,
          0.08924089044459935,
          -0.03748971001547477,
          0.03493983189391696,
          0.061848837245044405,
          -0.15702637741247688,
          -0.11560516154950728,
          -0.36017175215077857,
          -0.004332916472697096,
          0.1991041672355591,
          -0.12347354094407928,
          -0.16724972889815615,
          -0.07958360776417293,
          -0.21311458281252094,
          0.20689565682354177,
          -0.21561713353344966,
          -0.06974815926113569,
          -0.6233691012982729,
          -0.09549384744306856,
          -0.19643621310916526,
          0.05527885951962412,
          0.12805928421828797,
          -0.33317419703121665,
          0.5469754444866295,
          0.20161254425389377,
          -0.012880382268045349,
          -0.20726276839185143,
          -0.09064915115458427,
          0.1281654520001354,
          0.05075390360951554,
          0.16834606922700746,
          -0.08725142797183622,
          -0.271764346152462,
          -0.28924971097599766,
          0.06863447751835579,
          -0.5938735597300386
         ]
        }
       ],
       "layout": {
        "autosize": false,
        "height": 700,
        "width": 1000,
        "xaxis": {
         "title": "Left vs Right"
        },
        "yaxis": {
         "title": "Biased vs Factual"
        }
       }
      },
      "text/html": [
       "<div id=\"972d3148-2599-40ff-a123-5cf1b23a9add\" style=\"height: 700px; width: 1000px;\" class=\"plotly-graph-div\"></div><script type=\"text/javascript\">require([\"plotly\"], function(Plotly) { window.PLOTLYENV=window.PLOTLYENV || {};window.PLOTLYENV.BASE_URL=\"https://plot.ly\";Plotly.newPlot(\"972d3148-2599-40ff-a123-5cf1b23a9add\", [{\"type\": \"scatter\", \"x\": [0.6350983216810729, 0.6017496594761749, 0.6169783564014889, 0.4978884802103539, 0.35559193544742856, 0.6437566763433096, 0.6793153496189241, 0.3713973688674696, 0.38171799858918576, 0.38472263980954063, 0.37210010297750074, 0.539944513668345, 0.7713695807079202, 0.6154889159043136, 0.7789256241825743, 0.6539481535815079, -0.1385555028665423, 0.6643026054740842, 0.4897076987530052, 0.4629352109900492, 0.7258761667011349, 0.9350740565110699, 0.7133889136572904, 0.6215355378600711, 0.5463083445846322, 0.5945969918251419, 0.46162969678975235, 0.48430661049574897, 0.37067189651799615, 0.6440563324188122, 0.3450193843159789, 0.5494300882627726, 0.8207975660928469, 0.24174152193183668, 0.35868539186935516, 0.3854257837370525, 0.523309976781101, 0.6635827975892679, 0.3879307616487984, 0.55600105205759, 0.43338471863115746, 0.6135841828690709, 0.6422624879929605, 0.8206079953573859, 0.18508181489123982, 0.2408712767716899], \"y\": [-0.09891736861528218, 0.09496574719473483, -0.18710841515393067, -0.20904587880158232, 0.6233691012982728, 0.1827799088261766, 0.048501440500228234, -0.3903757871633539, 0.5314832496326636, 0.38922126357047343, 0.11031656137226849, 0.08924089044459935, -0.03748971001547477, 0.03493983189391696, 0.061848837245044405, -0.15702637741247688, -0.11560516154950728, -0.36017175215077857, -0.004332916472697096, 0.1991041672355591, -0.12347354094407928, -0.16724972889815615, -0.07958360776417293, -0.21311458281252094, 0.20689565682354177, -0.21561713353344966, -0.06974815926113569, -0.6233691012982729, -0.09549384744306856, -0.19643621310916526, 0.05527885951962412, 0.12805928421828797, -0.33317419703121665, 0.5469754444866295, 0.20161254425389377, -0.012880382268045349, -0.20726276839185143, -0.09064915115458427, 0.1281654520001354, 0.05075390360951554, 0.16834606922700746, -0.08725142797183622, -0.271764346152462, -0.28924971097599766, 0.06863447751835579, -0.5938735597300386], \"mode\": \"markers+text\", \"text\": [\"washingtonexaminer.com\", \"nydailynews.com\", \"youngcons.com\", \"nj.com\", \"reuters.com\", \"bbc.com\", \"washingtonpost.com\", \"propublica.org\", \"wsj.com\", \"ft.com\", \"azcentral.com\", \"cnn.com\", \"theblaze.com\", \"nytimes.com\", \"thegatewaypundit.com\", \"chron.com\", \"dailykos.com\", \"motherjones.com\", \"latimes.com\", \"rawstory.com\", \"westernjournalism.com\", \"breitbart.com\", \"townhall.com\", \"chicagotribune.com\", \"dallasnews.com\", \"rightwingnews.com\", \"seattletimes.com\", \"thinkprogress.org\", \"democracynow.org\", \"economist.com\", \"usatoday.com\", \"dailycaller.com\", \"bizpacreview.com\", \"bloomberg.com\", \"forbes.com\", \"thenation.com\", \"redstate.com\", \"politicususa.com\", \"nypost.com\", \"slate.com\", \"afp.com\", \"allenbwest.com\", \"talkingpointsmemo.com\", \"thefederalistpapers.org\", \"c-span.org\", \"judicialwatch.org\"], \"textposition\": \"top\", \"marker\": {\"size\": 10}}], {\"xaxis\": {\"title\": \"Left vs Right\"}, \"yaxis\": {\"title\": \"Biased vs Factual\"}, \"autosize\": false, \"width\": 1000, \"height\": 700}, {\"showLink\": false, \"linkText\": \"Export to plot.ly\"})});</script>"
      ],
      "text/vnd.plotly.v1+html": [
       "<div id=\"972d3148-2599-40ff-a123-5cf1b23a9add\" style=\"height: 700px; width: 1000px;\" class=\"plotly-graph-div\"></div><script type=\"text/javascript\">require([\"plotly\"], function(Plotly) { window.PLOTLYENV=window.PLOTLYENV || {};window.PLOTLYENV.BASE_URL=\"https://plot.ly\";Plotly.newPlot(\"972d3148-2599-40ff-a123-5cf1b23a9add\", [{\"type\": \"scatter\", \"x\": [0.6350983216810729, 0.6017496594761749, 0.6169783564014889, 0.4978884802103539, 0.35559193544742856, 0.6437566763433096, 0.6793153496189241, 0.3713973688674696, 0.38171799858918576, 0.38472263980954063, 0.37210010297750074, 0.539944513668345, 0.7713695807079202, 0.6154889159043136, 0.7789256241825743, 0.6539481535815079, -0.1385555028665423, 0.6643026054740842, 0.4897076987530052, 0.4629352109900492, 0.7258761667011349, 0.9350740565110699, 0.7133889136572904, 0.6215355378600711, 0.5463083445846322, 0.5945969918251419, 0.46162969678975235, 0.48430661049574897, 0.37067189651799615, 0.6440563324188122, 0.3450193843159789, 0.5494300882627726, 0.8207975660928469, 0.24174152193183668, 0.35868539186935516, 0.3854257837370525, 0.523309976781101, 0.6635827975892679, 0.3879307616487984, 0.55600105205759, 0.43338471863115746, 0.6135841828690709, 0.6422624879929605, 0.8206079953573859, 0.18508181489123982, 0.2408712767716899], \"y\": [-0.09891736861528218, 0.09496574719473483, -0.18710841515393067, -0.20904587880158232, 0.6233691012982728, 0.1827799088261766, 0.048501440500228234, -0.3903757871633539, 0.5314832496326636, 0.38922126357047343, 0.11031656137226849, 0.08924089044459935, -0.03748971001547477, 0.03493983189391696, 0.061848837245044405, -0.15702637741247688, -0.11560516154950728, -0.36017175215077857, -0.004332916472697096, 0.1991041672355591, -0.12347354094407928, -0.16724972889815615, -0.07958360776417293, -0.21311458281252094, 0.20689565682354177, -0.21561713353344966, -0.06974815926113569, -0.6233691012982729, -0.09549384744306856, -0.19643621310916526, 0.05527885951962412, 0.12805928421828797, -0.33317419703121665, 0.5469754444866295, 0.20161254425389377, -0.012880382268045349, -0.20726276839185143, -0.09064915115458427, 0.1281654520001354, 0.05075390360951554, 0.16834606922700746, -0.08725142797183622, -0.271764346152462, -0.28924971097599766, 0.06863447751835579, -0.5938735597300386], \"mode\": \"markers+text\", \"text\": [\"washingtonexaminer.com\", \"nydailynews.com\", \"youngcons.com\", \"nj.com\", \"reuters.com\", \"bbc.com\", \"washingtonpost.com\", \"propublica.org\", \"wsj.com\", \"ft.com\", \"azcentral.com\", \"cnn.com\", \"theblaze.com\", \"nytimes.com\", \"thegatewaypundit.com\", \"chron.com\", \"dailykos.com\", \"motherjones.com\", \"latimes.com\", \"rawstory.com\", \"westernjournalism.com\", \"breitbart.com\", \"townhall.com\", \"chicagotribune.com\", \"dallasnews.com\", \"rightwingnews.com\", \"seattletimes.com\", \"thinkprogress.org\", \"democracynow.org\", \"economist.com\", \"usatoday.com\", \"dailycaller.com\", \"bizpacreview.com\", \"bloomberg.com\", \"forbes.com\", \"thenation.com\", \"redstate.com\", \"politicususa.com\", \"nypost.com\", \"slate.com\", \"afp.com\", \"allenbwest.com\", \"talkingpointsmemo.com\", \"thefederalistpapers.org\", \"c-span.org\", \"judicialwatch.org\"], \"textposition\": \"top\", \"marker\": {\"size\": 10}}], {\"xaxis\": {\"title\": \"Left vs Right\"}, \"yaxis\": {\"title\": \"Biased vs Factual\"}, \"autosize\": false, \"width\": 1000, \"height\": 700}, {\"showLink\": false, \"linkText\": \"Export to plot.ly\"})});</script>"
      ]
     },
     "metadata": {},
     "output_type": "display_data"
    }
   ],
   "source": [
    "trace = Scatter(x=X_proj, y=Y_proj, mode='markers+text', text=labels, textposition='top',  marker=dict(size=10))\n",
    "iplot({\n",
    "    'data': [trace],\n",
    "    'layout': Layout(\n",
    "        xaxis=XAxis(title='Left vs Right'), \n",
    "        yaxis=YAxis(title='Biased vs Factual'),\n",
    "        autosize=False,\n",
    "        width=1000,\n",
    "        height=700)},\n",
    "    show_link=False\n",
    ")"
   ]
  },
  {
   "cell_type": "markdown",
   "metadata": {},
   "source": [
    "## Next steps"
   ]
  },
  {
   "cell_type": "markdown",
   "metadata": {},
   "source": [
    "This is only a preliminary result and many things can be done to improve on it. The main limitation of this techinque is that it only relies on topic information. More features can ()\n",
    "\n",
    "* Rodrigo looking at better classfiers\n",
    "* NER + Sentiment as an additional feature\n",
    "* Grouping by topic + same analysis to get a finer grain visualization"
   ]
  }
 ],
 "metadata": {
  "kernelspec": {
   "display_name": "Python 3",
   "language": "python",
   "name": "python3"
  },
  "language_info": {
   "codemirror_mode": {
    "name": "ipython",
    "version": 3
   },
   "file_extension": ".py",
   "mimetype": "text/x-python",
   "name": "python",
   "nbconvert_exporter": "python",
   "pygments_lexer": "ipython3",
   "version": "3.6.2"
  }
 },
 "nbformat": 4,
 "nbformat_minor": 2
}
