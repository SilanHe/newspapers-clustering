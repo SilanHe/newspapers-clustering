{
 "cells": [
  {
   "cell_type": "markdown",
   "metadata": {},
   "source": [
    "# Title NN classifier for Political Bias"
   ]
  },
  {
   "cell_type": "code",
   "execution_count": 1,
   "metadata": {},
   "outputs": [],
   "source": [
    "%matplotlib inline\n",
    "\n",
    "import pandas as pd\n",
    "import numpy as np\n",
    "\n",
    "from sklearn.metrics import confusion_matrix\n",
    "\n",
    "import seaborn as sn\n",
    "import matplotlib.pyplot as plt\n",
    "\n",
    "batch_size = 64"
   ]
  },
  {
   "cell_type": "code",
   "execution_count": 2,
   "metadata": {},
   "outputs": [
    {
     "name": "stdout",
     "output_type": "stream",
     "text": [
      "103262\n"
     ]
    }
   ],
   "source": [
    "df = pd.read_csv(\"../data/source/newsclust.csv\")\n",
    "df = df.query(\"site != 'cbn.com'\")\n",
    "print(len(df))\n",
    "df = df.sample(90000)"
   ]
  },
  {
   "cell_type": "markdown",
   "metadata": {},
   "source": [
    "Compute the bias for each one of the articles, based on the publication's known bias"
   ]
  },
  {
   "cell_type": "code",
   "execution_count": 3,
   "metadata": {},
   "outputs": [
    {
     "data": {
      "text/html": [
       "<div>\n",
       "<style>\n",
       "    .dataframe thead tr:only-child th {\n",
       "        text-align: right;\n",
       "    }\n",
       "\n",
       "    .dataframe thead th {\n",
       "        text-align: left;\n",
       "    }\n",
       "\n",
       "    .dataframe tbody tr th {\n",
       "        vertical-align: top;\n",
       "    }\n",
       "</style>\n",
       "<table border=\"1\" class=\"dataframe\">\n",
       "  <thead>\n",
       "    <tr style=\"text-align: right;\">\n",
       "      <th></th>\n",
       "      <th>Unnamed: 0</th>\n",
       "      <th>date</th>\n",
       "      <th>site</th>\n",
       "      <th>text</th>\n",
       "      <th>title</th>\n",
       "      <th>url</th>\n",
       "      <th>bias</th>\n",
       "    </tr>\n",
       "  </thead>\n",
       "  <tbody>\n",
       "    <tr>\n",
       "      <th>42164</th>\n",
       "      <td>42164</td>\n",
       "      <td>2015-06-03T17:07:00.000+03:00</td>\n",
       "      <td>azcentral.com</td>\n",
       "      <td>Arizona Department of Public Safety officers s...</td>\n",
       "      <td>DPS rescues hiker without food, water for 3 days</td>\n",
       "      <td>http://www.azcentral.com/story/news/local/ariz...</td>\n",
       "      <td>4</td>\n",
       "    </tr>\n",
       "    <tr>\n",
       "      <th>32568</th>\n",
       "      <td>32568</td>\n",
       "      <td>2015-04-30T00:22:00.000+03:00</td>\n",
       "      <td>nj.com</td>\n",
       "      <td>Comments The Lebanon Township School District ...</td>\n",
       "      <td>Parents, teachers voice concerns over cuts in ...</td>\n",
       "      <td>http://www.nj.com/hunterdon-county-democrat/in...</td>\n",
       "      <td>2</td>\n",
       "    </tr>\n",
       "  </tbody>\n",
       "</table>\n",
       "</div>"
      ],
      "text/plain": [
       "       Unnamed: 0                           date           site  \\\n",
       "42164       42164  2015-06-03T17:07:00.000+03:00  azcentral.com   \n",
       "32568       32568  2015-04-30T00:22:00.000+03:00         nj.com   \n",
       "\n",
       "                                                    text  \\\n",
       "42164  Arizona Department of Public Safety officers s...   \n",
       "32568  Comments The Lebanon Township School District ...   \n",
       "\n",
       "                                                   title  \\\n",
       "42164   DPS rescues hiker without food, water for 3 days   \n",
       "32568  Parents, teachers voice concerns over cuts in ...   \n",
       "\n",
       "                                                     url  bias  \n",
       "42164  http://www.azcentral.com/story/news/local/ariz...     4  \n",
       "32568  http://www.nj.com/hunterdon-county-democrat/in...     2  "
      ]
     },
     "execution_count": 3,
     "metadata": {},
     "output_type": "execute_result"
    }
   ],
   "source": [
    "from bias import Bias\n",
    "\n",
    "num_classes = 7\n",
    "df['bias'] = df.apply(lambda row: Bias.get_bias_for_domain(row['site']).value, axis=1)\n",
    "df.head(2)"
   ]
  },
  {
   "cell_type": "markdown",
   "metadata": {},
   "source": [
    "Tokenize the text of the articles, create a vocabulary of words"
   ]
  },
  {
   "cell_type": "code",
   "execution_count": 4,
   "metadata": {
    "collapsed": true
   },
   "outputs": [],
   "source": [
    "import spacy\n",
    "nlp = spacy.load('en')\n",
    "nlp.pipeline = []\n",
    "\n",
    "def tokenize_text(texts):\n",
    "    docs = [doc for doc in nlp.pipe(texts, batch_size=500, n_threads=8)]\n",
    "    return docs\n",
    "\n",
    "def is_invalid_token(token):\n",
    "    return token.is_punct or token.is_space or token.like_url or token.like_num or token.is_digit\n",
    "\n",
    "def get_words_for_docs(docs):\n",
    "    return [get_words_ids(doc) for doc in docs]\n",
    "\n",
    "def get_words_ids(doc):\n",
    "    return [token.orth for token in doc if not is_invalid_token(token)]"
   ]
  },
  {
   "cell_type": "code",
   "execution_count": 5,
   "metadata": {
    "collapsed": true
   },
   "outputs": [],
   "source": [
    "df['docs'] = tokenize_text(df['title'].astype(str))"
   ]
  },
  {
   "cell_type": "code",
   "execution_count": 6,
   "metadata": {},
   "outputs": [
    {
     "data": {
      "text/html": [
       "<div>\n",
       "<style>\n",
       "    .dataframe thead tr:only-child th {\n",
       "        text-align: right;\n",
       "    }\n",
       "\n",
       "    .dataframe thead th {\n",
       "        text-align: left;\n",
       "    }\n",
       "\n",
       "    .dataframe tbody tr th {\n",
       "        vertical-align: top;\n",
       "    }\n",
       "</style>\n",
       "<table border=\"1\" class=\"dataframe\">\n",
       "  <thead>\n",
       "    <tr style=\"text-align: right;\">\n",
       "      <th></th>\n",
       "      <th>Unnamed: 0</th>\n",
       "      <th>date</th>\n",
       "      <th>site</th>\n",
       "      <th>text</th>\n",
       "      <th>title</th>\n",
       "      <th>url</th>\n",
       "      <th>bias</th>\n",
       "      <th>docs</th>\n",
       "      <th>words</th>\n",
       "    </tr>\n",
       "  </thead>\n",
       "  <tbody>\n",
       "    <tr>\n",
       "      <th>42164</th>\n",
       "      <td>42164</td>\n",
       "      <td>2015-06-03T17:07:00.000+03:00</td>\n",
       "      <td>azcentral.com</td>\n",
       "      <td>Arizona Department of Public Safety officers s...</td>\n",
       "      <td>DPS rescues hiker without food, water for 3 days</td>\n",
       "      <td>http://www.azcentral.com/story/news/local/ariz...</td>\n",
       "      <td>4</td>\n",
       "      <td>(DPS, rescues, hiker, without, food, ,, water,...</td>\n",
       "      <td>[544831, 182434, 123302, 845, 1296, 1334, 531,...</td>\n",
       "    </tr>\n",
       "  </tbody>\n",
       "</table>\n",
       "</div>"
      ],
      "text/plain": [
       "       Unnamed: 0                           date           site  \\\n",
       "42164       42164  2015-06-03T17:07:00.000+03:00  azcentral.com   \n",
       "\n",
       "                                                    text  \\\n",
       "42164  Arizona Department of Public Safety officers s...   \n",
       "\n",
       "                                                  title  \\\n",
       "42164  DPS rescues hiker without food, water for 3 days   \n",
       "\n",
       "                                                     url  bias  \\\n",
       "42164  http://www.azcentral.com/story/news/local/ariz...     4   \n",
       "\n",
       "                                                    docs  \\\n",
       "42164  (DPS, rescues, hiker, without, food, ,, water,...   \n",
       "\n",
       "                                                   words  \n",
       "42164  [544831, 182434, 123302, 845, 1296, 1334, 531,...  "
      ]
     },
     "execution_count": 6,
     "metadata": {},
     "output_type": "execute_result"
    }
   ],
   "source": [
    "df['words'] = get_words_for_docs(df['docs'])\n",
    "df.head(1)"
   ]
  },
  {
   "cell_type": "markdown",
   "metadata": {},
   "source": [
    "Keep the most common words as vocabulary, replace the words out of vocabulary by the least frequently used word"
   ]
  },
  {
   "cell_type": "code",
   "execution_count": 7,
   "metadata": {},
   "outputs": [
    {
     "data": {
      "text/plain": [
       "[(504, 18201), (576246, 14785), (522, 12742), (566, 11629), (501, 11600)]"
      ]
     },
     "execution_count": 7,
     "metadata": {},
     "output_type": "execute_result"
    }
   ],
   "source": [
    "from collections import Counter\n",
    "\n",
    "vocab_size = 100000\n",
    "\n",
    "def flatten(l):\n",
    "    flat_list = [item for sublist in l for item in sublist]\n",
    "    return flat_list\n",
    "\n",
    "word_freq = Counter(flatten(df['words']))\n",
    "common_words = word_freq.most_common(vocab_size)\n",
    "word_freq.most_common(5)"
   ]
  },
  {
   "cell_type": "code",
   "execution_count": 8,
   "metadata": {},
   "outputs": [
    {
     "name": "stdout",
     "output_type": "stream",
     "text": [
      "the of and a\n"
     ]
    }
   ],
   "source": [
    "print(nlp.vocab.strings[501], nlp.vocab.strings[510], nlp.vocab.strings[512], nlp.vocab.strings[506])"
   ]
  },
  {
   "cell_type": "code",
   "execution_count": 9,
   "metadata": {},
   "outputs": [
    {
     "name": "stdout",
     "output_type": "stream",
     "text": [
      "66064 4 0 5\n"
     ]
    },
    {
     "data": {
      "text/plain": [
       "99999"
      ]
     },
     "execution_count": 9,
     "metadata": {},
     "output_type": "execute_result"
    }
   ],
   "source": [
    "vocab = {word_id: i for (i, (word_id, freq)) in enumerate(common_words)}\n",
    "print(len(vocab), vocab[501], vocab[504], vocab[510])\n",
    "oov_word = vocab_size - 1\n",
    "oov_word"
   ]
  },
  {
   "cell_type": "code",
   "execution_count": 10,
   "metadata": {},
   "outputs": [
    {
     "data": {
      "text/plain": [
       "42164       [17711, 8011, 20637, 1326, 1510, 1024, 7, 1260]\n",
       "32568     [934, 5293, 4972, 3056, 77, 1526, 2, 8988, 412...\n",
       "84295     [78, 480, 544, 45, 14058, 3605, 20638, 1916, 2...\n",
       "11957     [16, 15, 167, 1150, 9, 275, 1327, 150, 73, 638...\n",
       "101327     [731, 8989, 10114, 8462, 6381, 1597, 2, 10, 809]\n",
       "Name: words_with_oov, dtype: object"
      ]
     },
     "execution_count": 10,
     "metadata": {},
     "output_type": "execute_result"
    }
   ],
   "source": [
    "def get_words_ids_if_common(words):\n",
    "    return [vocab.get(word, oov_word) for word in words]\n",
    "\n",
    "df['words_with_oov'] = df.apply(lambda row: get_words_ids_if_common(row['words']), axis=1)\n",
    "df['words_with_oov'].head()"
   ]
  },
  {
   "cell_type": "markdown",
   "metadata": {},
   "source": [
    "Look at the distribution of words. The longest article has 15K words, the shortest 21."
   ]
  },
  {
   "cell_type": "code",
   "execution_count": 11,
   "metadata": {},
   "outputs": [
    {
     "data": {
      "text/plain": [
       "(45, 0, 11.1021)"
      ]
     },
     "execution_count": 11,
     "metadata": {},
     "output_type": "execute_result"
    }
   ],
   "source": [
    "lens = np.array(list(map(len, df['words'])))\n",
    "(lens.max(), lens.min(), lens.mean())"
   ]
  },
  {
   "cell_type": "markdown",
   "metadata": {},
   "source": [
    "Split the data for training and validation"
   ]
  },
  {
   "cell_type": "code",
   "execution_count": 12,
   "metadata": {},
   "outputs": [
    {
     "name": "stdout",
     "output_type": "stream",
     "text": [
      "82383\n",
      "7617\n"
     ]
    }
   ],
   "source": [
    "TEST_DOMAINS =  {\n",
    "    'bloomberg.com',\n",
    "     'breitbart.com',\n",
    "     'c-span.org',\n",
    "     'chicagotribune.com',\n",
    "     'chron.com'\n",
    "}\n",
    "df_train =  df.loc[~df['site'].isin(TEST_DOMAINS)]\n",
    "df_test =  df.loc[df['site'].isin(TEST_DOMAINS)]\n",
    "print(len(df_train))\n",
    "print(len(df_test))"
   ]
  },
  {
   "cell_type": "markdown",
   "metadata": {},
   "source": [
    "Enforce all texts to have the same length, truncating or padding if necessary"
   ]
  },
  {
   "cell_type": "code",
   "execution_count": 13,
   "metadata": {},
   "outputs": [
    {
     "name": "stderr",
     "output_type": "stream",
     "text": [
      "Using TensorFlow backend.\n"
     ]
    },
    {
     "data": {
      "text/plain": [
       "array([[    0,     0,     0, ...,  1024,     7,  1260],\n",
       "       [    0,     0,     0, ...,     9,  4230,  1136],\n",
       "       [    0,     0,     0, ...,    10,   460,  5110],\n",
       "       ..., \n",
       "       [    0,     0,     0, ...,    20,     3,   292],\n",
       "       [    0,     0,     0, ..., 19156,    10, 66063],\n",
       "       [    0,     0,     0, ...,   173,  1027,  4286]], dtype=int32)"
      ]
     },
     "execution_count": 13,
     "metadata": {},
     "output_type": "execute_result"
    }
   ],
   "source": [
    "seq_len = 50\n",
    "\n",
    "from keras.preprocessing import sequence\n",
    "\n",
    "trn = sequence.pad_sequences(df_train['words_with_oov'], maxlen=seq_len, value=0)\n",
    "test = sequence.pad_sequences(df_test['words_with_oov'], maxlen=seq_len, value=0)\n",
    "\n",
    "trn"
   ]
  },
  {
   "cell_type": "markdown",
   "metadata": {},
   "source": [
    "## Single Hidden Layer NN classifier"
   ]
  },
  {
   "cell_type": "markdown",
   "metadata": {},
   "source": [
    "### Keras NN model"
   ]
  },
  {
   "cell_type": "code",
   "execution_count": 14,
   "metadata": {
    "collapsed": true
   },
   "outputs": [],
   "source": [
    "# Force use CPU\n",
    "import os\n",
    "os.environ[\"CUDA_DEVICE_ORDER\"] = \"PCI_BUS_ID\"   # see issue #152\n",
    "os.environ[\"CUDA_VISIBLE_DEVICES\"] = \"\"\n",
    "\n",
    "import keras\n",
    "from keras.models import Sequential, Model\n",
    "from keras.layers import Embedding, Convolution1D, MaxPooling1D\n",
    "from keras.layers.core import Flatten, Dense, Dropout\n",
    "from keras.optimizers import Adam"
   ]
  },
  {
   "cell_type": "code",
   "execution_count": 15,
   "metadata": {
    "collapsed": true
   },
   "outputs": [],
   "source": [
    "k_model = Sequential([\n",
    "    Embedding(vocab_size, 32, input_length=seq_len),\n",
    "    Flatten(),\n",
    "    Dense(50, activation='relu'),\n",
    "    Dropout(0.3),\n",
    "    Dense(7, activation='softmax')])"
   ]
  },
  {
   "cell_type": "code",
   "execution_count": 16,
   "metadata": {
    "collapsed": true
   },
   "outputs": [],
   "source": [
    "k_model.compile(loss='sparse_categorical_crossentropy', optimizer=Adam(), metrics=['accuracy'])\n",
    "#k_model.summary()"
   ]
  },
  {
   "cell_type": "code",
   "execution_count": 17,
   "metadata": {},
   "outputs": [
    {
     "name": "stderr",
     "output_type": "stream",
     "text": [
      "/home/ubuntu/pytorch/lib/python3.6/site-packages/keras/models.py:848: UserWarning: The `nb_epoch` argument in `fit` has been renamed `epochs`.\n",
      "  warnings.warn('The `nb_epoch` argument in `fit` '\n"
     ]
    },
    {
     "name": "stdout",
     "output_type": "stream",
     "text": [
      "Train on 82383 samples, validate on 7617 samples\n",
      "Epoch 1/2\n",
      "82383/82383 [==============================] - 72s - loss: 1.3093 - acc: 0.4827 - val_loss: 1.1588 - val_acc: 0.5598\n",
      "Epoch 2/2\n",
      "82383/82383 [==============================] - 72s - loss: 0.7689 - acc: 0.7228 - val_loss: 1.2821 - val_acc: 0.4839\n"
     ]
    },
    {
     "data": {
      "text/plain": [
       "<keras.callbacks.History at 0x7fb76661eba8>"
      ]
     },
     "execution_count": 17,
     "metadata": {},
     "output_type": "execute_result"
    }
   ],
   "source": [
    "from keras.utils.np_utils import to_categorical\n",
    "\n",
    "labels_train = np.array(df_train['bias'])\n",
    "labels_test = np.array(df_test['bias'])\n",
    "\n",
    "k_model.fit(trn, labels_train, validation_data=(test, labels_test), nb_epoch=2, batch_size=batch_size)"
   ]
  },
  {
   "cell_type": "markdown",
   "metadata": {},
   "source": [
    "Manually verify some articles. The bias for these articles should match the predicted bias below."
   ]
  },
  {
   "cell_type": "code",
   "execution_count": 18,
   "metadata": {},
   "outputs": [
    {
     "data": {
      "text/html": [
       "<div>\n",
       "<style>\n",
       "    .dataframe thead tr:only-child th {\n",
       "        text-align: right;\n",
       "    }\n",
       "\n",
       "    .dataframe thead th {\n",
       "        text-align: left;\n",
       "    }\n",
       "\n",
       "    .dataframe tbody tr th {\n",
       "        vertical-align: top;\n",
       "    }\n",
       "</style>\n",
       "<table border=\"1\" class=\"dataframe\">\n",
       "  <thead>\n",
       "    <tr style=\"text-align: right;\">\n",
       "      <th></th>\n",
       "      <th>site</th>\n",
       "      <th>title</th>\n",
       "      <th>bias</th>\n",
       "    </tr>\n",
       "  </thead>\n",
       "  <tbody>\n",
       "    <tr>\n",
       "      <th>30315</th>\n",
       "      <td>c-span.org</td>\n",
       "      <td>2015 Youth Violence Prevention Summit | Video ...</td>\n",
       "      <td>3</td>\n",
       "    </tr>\n",
       "    <tr>\n",
       "      <th>63740</th>\n",
       "      <td>breitbart.com</td>\n",
       "      <td>Glenn Beck Sues Former TheBlaze CEO in Texas C...</td>\n",
       "      <td>5</td>\n",
       "    </tr>\n",
       "    <tr>\n",
       "      <th>74117</th>\n",
       "      <td>breitbart.com</td>\n",
       "      <td>Concerns Grow About Tunisia's Stability amid E...</td>\n",
       "      <td>5</td>\n",
       "    </tr>\n",
       "    <tr>\n",
       "      <th>96114</th>\n",
       "      <td>chron.com</td>\n",
       "      <td>Lightning-Blue Jackets Sums - Houston Chronicle</td>\n",
       "      <td>2</td>\n",
       "    </tr>\n",
       "    <tr>\n",
       "      <th>93439</th>\n",
       "      <td>bloomberg.com</td>\n",
       "      <td>AISIN SEIKI CO LTD (7259:Tokyo Stock Exchange)...</td>\n",
       "      <td>2</td>\n",
       "    </tr>\n",
       "  </tbody>\n",
       "</table>\n",
       "</div>"
      ],
      "text/plain": [
       "                site                                              title  bias\n",
       "30315     c-span.org  2015 Youth Violence Prevention Summit | Video ...     3\n",
       "63740  breitbart.com  Glenn Beck Sues Former TheBlaze CEO in Texas C...     5\n",
       "74117  breitbart.com  Concerns Grow About Tunisia's Stability amid E...     5\n",
       "96114      chron.com    Lightning-Blue Jackets Sums - Houston Chronicle     2\n",
       "93439  bloomberg.com  AISIN SEIKI CO LTD (7259:Tokyo Stock Exchange)...     2"
      ]
     },
     "execution_count": 18,
     "metadata": {},
     "output_type": "execute_result"
    }
   ],
   "source": [
    "df_sample = df_test.sample(5)\n",
    "df_sample[['site', 'title', 'bias']]"
   ]
  },
  {
   "cell_type": "code",
   "execution_count": 19,
   "metadata": {},
   "outputs": [
    {
     "name": "stdout",
     "output_type": "stream",
     "text": [
      "precision =  48.3917552842\n"
     ]
    },
    {
     "name": "stderr",
     "output_type": "stream",
     "text": [
      "/home/ubuntu/pytorch/lib/python3.6/site-packages/ipykernel_launcher.py:4: SettingWithCopyWarning: \n",
      "A value is trying to be set on a copy of a slice from a DataFrame.\n",
      "Try using .loc[row_indexer,col_indexer] = value instead\n",
      "\n",
      "See the caveats in the documentation: http://pandas.pydata.org/pandas-docs/stable/indexing.html#indexing-view-versus-copy\n",
      "  after removing the cwd from sys.path.\n"
     ]
    },
    {
     "data": {
      "text/html": [
       "<div>\n",
       "<style>\n",
       "    .dataframe thead tr:only-child th {\n",
       "        text-align: right;\n",
       "    }\n",
       "\n",
       "    .dataframe thead th {\n",
       "        text-align: left;\n",
       "    }\n",
       "\n",
       "    .dataframe tbody tr th {\n",
       "        vertical-align: top;\n",
       "    }\n",
       "</style>\n",
       "<table border=\"1\" class=\"dataframe\">\n",
       "  <thead>\n",
       "    <tr style=\"text-align: right;\">\n",
       "      <th></th>\n",
       "      <th>site</th>\n",
       "      <th>title</th>\n",
       "      <th>bias</th>\n",
       "    </tr>\n",
       "  </thead>\n",
       "  <tbody>\n",
       "    <tr>\n",
       "      <th>30315</th>\n",
       "      <td>c-span.org</td>\n",
       "      <td>2015 Youth Violence Prevention Summit | Video ...</td>\n",
       "      <td>4</td>\n",
       "    </tr>\n",
       "    <tr>\n",
       "      <th>63740</th>\n",
       "      <td>breitbart.com</td>\n",
       "      <td>Glenn Beck Sues Former TheBlaze CEO in Texas C...</td>\n",
       "      <td>5</td>\n",
       "    </tr>\n",
       "    <tr>\n",
       "      <th>74117</th>\n",
       "      <td>breitbart.com</td>\n",
       "      <td>Concerns Grow About Tunisia's Stability amid E...</td>\n",
       "      <td>2</td>\n",
       "    </tr>\n",
       "    <tr>\n",
       "      <th>96114</th>\n",
       "      <td>chron.com</td>\n",
       "      <td>Lightning-Blue Jackets Sums - Houston Chronicle</td>\n",
       "      <td>2</td>\n",
       "    </tr>\n",
       "    <tr>\n",
       "      <th>93439</th>\n",
       "      <td>bloomberg.com</td>\n",
       "      <td>AISIN SEIKI CO LTD (7259:Tokyo Stock Exchange)...</td>\n",
       "      <td>5</td>\n",
       "    </tr>\n",
       "  </tbody>\n",
       "</table>\n",
       "</div>"
      ],
      "text/plain": [
       "                site                                              title  bias\n",
       "30315     c-span.org  2015 Youth Violence Prevention Summit | Video ...     4\n",
       "63740  breitbart.com  Glenn Beck Sues Former TheBlaze CEO in Texas C...     5\n",
       "74117  breitbart.com  Concerns Grow About Tunisia's Stability amid E...     2\n",
       "96114      chron.com    Lightning-Blue Jackets Sums - Houston Chronicle     2\n",
       "93439  bloomberg.com  AISIN SEIKI CO LTD (7259:Tokyo Stock Exchange)...     5"
      ]
     },
     "execution_count": 19,
     "metadata": {},
     "output_type": "execute_result"
    }
   ],
   "source": [
    "sample = sequence.pad_sequences(df_sample['words_with_oov'], maxlen=seq_len, value=0)\n",
    "prediction = np.argmax(k_model.predict(test), axis=1)\n",
    "print(\"precision = \", np.sum(prediction == labels_test) * 100.0 / len(labels_test))\n",
    "df_prediction, df_prediction['bias'] = df_sample[['site', 'title']], np.argmax(k_model.predict(sample), axis=1)\n",
    "df_prediction"
   ]
  },
  {
   "cell_type": "code",
   "execution_count": 21,
   "metadata": {
    "scrolled": true
   },
   "outputs": [
    {
     "data": {
      "text/plain": [
       "array([[   0,    0,    0,    0,    0,    0,    0],\n",
       "       [   0,    0,    0,    0,    0,    0,    0],\n",
       "       [  11,  272, 2950,  337,  999,  387,   32],\n",
       "       [   3,   39,  205,  180,  569,   32,    5],\n",
       "       [   0,    0,    0,    0,    0,    0,    0],\n",
       "       [   5,  615,  213,   11,   81,  556,  115],\n",
       "       [   0,    0,    0,    0,    0,    0,    0]])"
      ]
     },
     "execution_count": 21,
     "metadata": {},
     "output_type": "execute_result"
    }
   ],
   "source": [
    "cm = confusion_matrix(labels_test, prediction)\n",
    "cm"
   ]
  },
  {
   "cell_type": "code",
   "execution_count": 23,
   "metadata": {},
   "outputs": [
    {
     "data": {
      "text/plain": [
       "<matplotlib.axes._subplots.AxesSubplot at 0x7fb7002eac88>"
      ]
     },
     "execution_count": 23,
     "metadata": {},
     "output_type": "execute_result"
    },
    {
     "data": {
      "image/png": "[encoded data removed]",
      "text/plain": [
       "<matplotlib.figure.Figure at 0x7fb77b82a080>"
      ]
     },
     "metadata": {},
     "output_type": "display_data"
    }
   ],
   "source": [
    "sn.heatmap(cm, annot=True)"
   ]
  },
  {
   "cell_type": "markdown",
   "metadata": {},
   "source": [
    "## CNN with MaxPool NN classifier"
   ]
  },
  {
   "cell_type": "code",
   "execution_count": 24,
   "metadata": {},
   "outputs": [
    {
     "name": "stderr",
     "output_type": "stream",
     "text": [
      "/home/ubuntu/pytorch/lib/python3.6/site-packages/ipykernel_launcher.py:2: UserWarning: The `dropout` argument is no longer support in `Embedding`. You can apply a `keras.layers.SpatialDropout1D` layer right after the `Embedding` layer to get the same behavior.\n",
      "  \n",
      "/home/ubuntu/pytorch/lib/python3.6/site-packages/ipykernel_launcher.py:4: UserWarning: Update your `Conv1D` call to the Keras 2 API: `Conv1D(32, 5, activation=\"relu\", padding=\"same\")`\n",
      "  after removing the cwd from sys.path.\n"
     ]
    }
   ],
   "source": [
    "conv1 = Sequential([\n",
    "    Embedding(vocab_size, 32, input_length=seq_len, dropout=0.2),\n",
    "    Dropout(0.2),\n",
    "    Convolution1D(32, 5, border_mode='same', activation='relu'),\n",
    "    Dropout(0.2),\n",
    "    MaxPooling1D(),\n",
    "    Flatten(),\n",
    "    Dense(50, activation='relu'),\n",
    "    Dropout(0.3),\n",
    "    Dense(7, activation='softmax')])\n",
    "\n",
    "conv1.compile(loss='sparse_categorical_crossentropy', optimizer=Adam(), metrics=['accuracy'])\n",
    "# conv1.summary()"
   ]
  },
  {
   "cell_type": "code",
   "execution_count": 25,
   "metadata": {},
   "outputs": [
    {
     "name": "stderr",
     "output_type": "stream",
     "text": [
      "/home/ubuntu/pytorch/lib/python3.6/site-packages/keras/models.py:848: UserWarning: The `nb_epoch` argument in `fit` has been renamed `epochs`.\n",
      "  warnings.warn('The `nb_epoch` argument in `fit` '\n"
     ]
    },
    {
     "name": "stdout",
     "output_type": "stream",
     "text": [
      "Train on 82383 samples, validate on 7617 samples\n",
      "Epoch 1/3\n",
      "82383/82383 [==============================] - 81s - loss: 1.3428 - acc: 0.4647 - val_loss: 1.2082 - val_acc: 0.5763\n",
      "Epoch 2/3\n",
      "82383/82383 [==============================] - 81s - loss: 0.9170 - acc: 0.6580 - val_loss: 1.2014 - val_acc: 0.5171\n",
      "Epoch 3/3\n",
      "82383/82383 [==============================] - 81s - loss: 0.6969 - acc: 0.7512 - val_loss: 1.4967 - val_acc: 0.4595\n"
     ]
    },
    {
     "data": {
      "text/plain": [
       "<keras.callbacks.History at 0x7fb6f1f79ef0>"
      ]
     },
     "execution_count": 25,
     "metadata": {},
     "output_type": "execute_result"
    }
   ],
   "source": [
    "conv1.fit(trn, labels_train, validation_data=(test, labels_test), nb_epoch=3, batch_size=batch_size)"
   ]
  },
  {
   "cell_type": "code",
   "execution_count": 26,
   "metadata": {},
   "outputs": [
    {
     "name": "stdout",
     "output_type": "stream",
     "text": [
      "precision =  45.9498490219\n"
     ]
    },
    {
     "name": "stderr",
     "output_type": "stream",
     "text": [
      "/home/ubuntu/pytorch/lib/python3.6/site-packages/ipykernel_launcher.py:3: SettingWithCopyWarning: \n",
      "A value is trying to be set on a copy of a slice from a DataFrame.\n",
      "Try using .loc[row_indexer,col_indexer] = value instead\n",
      "\n",
      "See the caveats in the documentation: http://pandas.pydata.org/pandas-docs/stable/indexing.html#indexing-view-versus-copy\n",
      "  This is separate from the ipykernel package so we can avoid doing imports until\n"
     ]
    },
    {
     "data": {
      "text/html": [
       "<div>\n",
       "<style>\n",
       "    .dataframe thead tr:only-child th {\n",
       "        text-align: right;\n",
       "    }\n",
       "\n",
       "    .dataframe thead th {\n",
       "        text-align: left;\n",
       "    }\n",
       "\n",
       "    .dataframe tbody tr th {\n",
       "        vertical-align: top;\n",
       "    }\n",
       "</style>\n",
       "<table border=\"1\" class=\"dataframe\">\n",
       "  <thead>\n",
       "    <tr style=\"text-align: right;\">\n",
       "      <th></th>\n",
       "      <th>site</th>\n",
       "      <th>title</th>\n",
       "      <th>bias</th>\n",
       "    </tr>\n",
       "  </thead>\n",
       "  <tbody>\n",
       "    <tr>\n",
       "      <th>30315</th>\n",
       "      <td>c-span.org</td>\n",
       "      <td>2015 Youth Violence Prevention Summit | Video ...</td>\n",
       "      <td>2</td>\n",
       "    </tr>\n",
       "    <tr>\n",
       "      <th>63740</th>\n",
       "      <td>breitbart.com</td>\n",
       "      <td>Glenn Beck Sues Former TheBlaze CEO in Texas C...</td>\n",
       "      <td>5</td>\n",
       "    </tr>\n",
       "    <tr>\n",
       "      <th>74117</th>\n",
       "      <td>breitbart.com</td>\n",
       "      <td>Concerns Grow About Tunisia's Stability amid E...</td>\n",
       "      <td>2</td>\n",
       "    </tr>\n",
       "    <tr>\n",
       "      <th>96114</th>\n",
       "      <td>chron.com</td>\n",
       "      <td>Lightning-Blue Jackets Sums - Houston Chronicle</td>\n",
       "      <td>2</td>\n",
       "    </tr>\n",
       "    <tr>\n",
       "      <th>93439</th>\n",
       "      <td>bloomberg.com</td>\n",
       "      <td>AISIN SEIKI CO LTD (7259:Tokyo Stock Exchange)...</td>\n",
       "      <td>4</td>\n",
       "    </tr>\n",
       "  </tbody>\n",
       "</table>\n",
       "</div>"
      ],
      "text/plain": [
       "                site                                              title  bias\n",
       "30315     c-span.org  2015 Youth Violence Prevention Summit | Video ...     2\n",
       "63740  breitbart.com  Glenn Beck Sues Former TheBlaze CEO in Texas C...     5\n",
       "74117  breitbart.com  Concerns Grow About Tunisia's Stability amid E...     2\n",
       "96114      chron.com    Lightning-Blue Jackets Sums - Houston Chronicle     2\n",
       "93439  bloomberg.com  AISIN SEIKI CO LTD (7259:Tokyo Stock Exchange)...     4"
      ]
     },
     "execution_count": 26,
     "metadata": {},
     "output_type": "execute_result"
    }
   ],
   "source": [
    "predictions = np.argmax(conv1.predict(test), axis=1)\n",
    "print(\"precision = \", np.sum(predictions == labels_test) * 100.0 / len(labels_test))\n",
    "df_prediction, df_prediction['bias'] = df_sample[['site', 'title']], np.argmax(conv1.predict(sample), axis=1)\n",
    "df_prediction"
   ]
  },
  {
   "cell_type": "code",
   "execution_count": 27,
   "metadata": {
    "scrolled": true
   },
   "outputs": [
    {
     "data": {
      "text/plain": [
       "array([[   0,    0,    0,    0,    0,    0,    0],\n",
       "       [   0,    0,    0,    0,    0,    0,    0],\n",
       "       [  13,  454, 2774,  234, 1038,  461,   14],\n",
       "       [   1,   65,  666,   46,  139,  114,    2],\n",
       "       [   0,    0,    0,    0,    0,    0,    0],\n",
       "       [  10,  618,  154,    5,   61,  680,   68],\n",
       "       [   0,    0,    0,    0,    0,    0,    0]])"
      ]
     },
     "execution_count": 27,
     "metadata": {},
     "output_type": "execute_result"
    }
   ],
   "source": [
    "cm = confusion_matrix(labels_test, predictions)\n",
    "cm"
   ]
  },
  {
   "cell_type": "code",
   "execution_count": 28,
   "metadata": {},
   "outputs": [
    {
     "data": {
      "text/plain": [
       "<matplotlib.axes._subplots.AxesSubplot at 0x7fb70028c908>"
      ]
     },
     "execution_count": 28,
     "metadata": {},
     "output_type": "execute_result"
    },
    {
     "data": {
      "image/png": "[encoded data removed]",
      "text/plain": [
       "<matplotlib.figure.Figure at 0x7fb6f1d3ae80>"
      ]
     },
     "metadata": {},
     "output_type": "display_data"
    }
   ],
   "source": [
    "sn.heatmap(cm, annot=True)"
   ]
  },
  {
   "cell_type": "markdown",
   "metadata": {},
   "source": [
    "## Multi-size CNN"
   ]
  },
  {
   "cell_type": "markdown",
   "metadata": {},
   "source": [
    "This gives the best performance at around 60% accuracy"
   ]
  },
  {
   "cell_type": "code",
   "execution_count": 29,
   "metadata": {},
   "outputs": [
    {
     "name": "stderr",
     "output_type": "stream",
     "text": [
      "/home/ubuntu/pytorch/lib/python3.6/site-packages/ipykernel_launcher.py:6: UserWarning: Update your `Conv1D` call to the Keras 2 API: `Conv1D(64, 3, activation=\"relu\", padding=\"same\")`\n",
      "  \n",
      "/home/ubuntu/pytorch/lib/python3.6/site-packages/ipykernel_launcher.py:6: UserWarning: Update your `Conv1D` call to the Keras 2 API: `Conv1D(64, 4, activation=\"relu\", padding=\"same\")`\n",
      "  \n",
      "/home/ubuntu/pytorch/lib/python3.6/site-packages/ipykernel_launcher.py:6: UserWarning: Update your `Conv1D` call to the Keras 2 API: `Conv1D(64, 5, activation=\"relu\", padding=\"same\")`\n",
      "  \n",
      "/home/ubuntu/pytorch/lib/python3.6/site-packages/ipykernel_launcher.py:10: UserWarning: The `Merge` layer is deprecated and will be removed after 08/2017. Use instead layers from `keras.layers.merge`, e.g. `add`, `concatenate`, etc.\n",
      "  # Remove the CWD from sys.path while we load stuff.\n"
     ]
    }
   ],
   "source": [
    "from keras.layers import Merge, Input\n",
    "\n",
    "graph_in = Input ((vocab_size, 50))\n",
    "convs = [ ] \n",
    "for fsz in range (3, 6): \n",
    "    x = Convolution1D(64, fsz, border_mode='same', activation=\"relu\")(graph_in)\n",
    "    x = MaxPooling1D()(x) \n",
    "    x = Flatten()(x) \n",
    "    convs.append(x)\n",
    "out = Merge(mode=\"concat\")(convs) \n",
    "graph = Model(graph_in, out)"
   ]
  },
  {
   "cell_type": "code",
   "execution_count": 30,
   "metadata": {},
   "outputs": [
    {
     "name": "stderr",
     "output_type": "stream",
     "text": [
      "/home/ubuntu/pytorch/lib/python3.6/site-packages/ipykernel_launcher.py:2: UserWarning: The `dropout` argument is no longer support in `Embedding`. You can apply a `keras.layers.SpatialDropout1D` layer right after the `Embedding` layer to get the same behavior.\n",
      "  \n"
     ]
    }
   ],
   "source": [
    "multi_size_cnn = Sequential ([\n",
    "    Embedding(vocab_size, 50, input_length=seq_len, dropout=0.2),\n",
    "    Dropout (0.3),\n",
    "    graph,\n",
    "    Dropout (0.5),\n",
    "    Dense (100, activation=\"relu\"),\n",
    "    Dropout (0.3),\n",
    "    Dense (7, activation='softmax')\n",
    "    ])\n",
    "\n",
    "multi_size_cnn.compile(loss='sparse_categorical_crossentropy', optimizer=Adam(), metrics=['accuracy'])\n",
    "# conv1.summary()"
   ]
  },
  {
   "cell_type": "code",
   "execution_count": 31,
   "metadata": {},
   "outputs": [
    {
     "name": "stderr",
     "output_type": "stream",
     "text": [
      "/home/ubuntu/pytorch/lib/python3.6/site-packages/keras/models.py:848: UserWarning: The `nb_epoch` argument in `fit` has been renamed `epochs`.\n",
      "  warnings.warn('The `nb_epoch` argument in `fit` '\n"
     ]
    },
    {
     "name": "stdout",
     "output_type": "stream",
     "text": [
      "Train on 82383 samples, validate on 7617 samples\n",
      "Epoch 1/3\n",
      "82383/82383 [==============================] - 198s - loss: 1.2664 - acc: 0.4962 - val_loss: 1.3434 - val_acc: 0.4810\n",
      "Epoch 2/3\n",
      "82383/82383 [==============================] - 196s - loss: 0.8837 - acc: 0.6716 - val_loss: 1.4418 - val_acc: 0.4468\n",
      "Epoch 3/3\n",
      "82383/82383 [==============================] - 195s - loss: 0.6699 - acc: 0.7570 - val_loss: 1.5885 - val_acc: 0.4432\n"
     ]
    },
    {
     "data": {
      "text/plain": [
       "<keras.callbacks.History at 0x7fb6ebb9abe0>"
      ]
     },
     "execution_count": 31,
     "metadata": {},
     "output_type": "execute_result"
    }
   ],
   "source": [
    "multi_size_cnn.fit(trn, labels_train, validation_data=(test, labels_test), nb_epoch=3, batch_size=batch_size)"
   ]
  },
  {
   "cell_type": "code",
   "execution_count": 32,
   "metadata": {},
   "outputs": [
    {
     "name": "stdout",
     "output_type": "stream",
     "text": [
      "precision =  44.3219115137\n"
     ]
    },
    {
     "name": "stderr",
     "output_type": "stream",
     "text": [
      "/home/ubuntu/pytorch/lib/python3.6/site-packages/ipykernel_launcher.py:3: SettingWithCopyWarning: \n",
      "A value is trying to be set on a copy of a slice from a DataFrame.\n",
      "Try using .loc[row_indexer,col_indexer] = value instead\n",
      "\n",
      "See the caveats in the documentation: http://pandas.pydata.org/pandas-docs/stable/indexing.html#indexing-view-versus-copy\n",
      "  This is separate from the ipykernel package so we can avoid doing imports until\n"
     ]
    },
    {
     "data": {
      "text/html": [
       "<div>\n",
       "<style>\n",
       "    .dataframe thead tr:only-child th {\n",
       "        text-align: right;\n",
       "    }\n",
       "\n",
       "    .dataframe thead th {\n",
       "        text-align: left;\n",
       "    }\n",
       "\n",
       "    .dataframe tbody tr th {\n",
       "        vertical-align: top;\n",
       "    }\n",
       "</style>\n",
       "<table border=\"1\" class=\"dataframe\">\n",
       "  <thead>\n",
       "    <tr style=\"text-align: right;\">\n",
       "      <th></th>\n",
       "      <th>site</th>\n",
       "      <th>title</th>\n",
       "      <th>bias</th>\n",
       "    </tr>\n",
       "  </thead>\n",
       "  <tbody>\n",
       "    <tr>\n",
       "      <th>30315</th>\n",
       "      <td>c-span.org</td>\n",
       "      <td>2015 Youth Violence Prevention Summit | Video ...</td>\n",
       "      <td>4</td>\n",
       "    </tr>\n",
       "    <tr>\n",
       "      <th>63740</th>\n",
       "      <td>breitbart.com</td>\n",
       "      <td>Glenn Beck Sues Former TheBlaze CEO in Texas C...</td>\n",
       "      <td>5</td>\n",
       "    </tr>\n",
       "    <tr>\n",
       "      <th>74117</th>\n",
       "      <td>breitbart.com</td>\n",
       "      <td>Concerns Grow About Tunisia's Stability amid E...</td>\n",
       "      <td>4</td>\n",
       "    </tr>\n",
       "    <tr>\n",
       "      <th>96114</th>\n",
       "      <td>chron.com</td>\n",
       "      <td>Lightning-Blue Jackets Sums - Houston Chronicle</td>\n",
       "      <td>2</td>\n",
       "    </tr>\n",
       "    <tr>\n",
       "      <th>93439</th>\n",
       "      <td>bloomberg.com</td>\n",
       "      <td>AISIN SEIKI CO LTD (7259:Tokyo Stock Exchange)...</td>\n",
       "      <td>2</td>\n",
       "    </tr>\n",
       "  </tbody>\n",
       "</table>\n",
       "</div>"
      ],
      "text/plain": [
       "                site                                              title  bias\n",
       "30315     c-span.org  2015 Youth Violence Prevention Summit | Video ...     4\n",
       "63740  breitbart.com  Glenn Beck Sues Former TheBlaze CEO in Texas C...     5\n",
       "74117  breitbart.com  Concerns Grow About Tunisia's Stability amid E...     4\n",
       "96114      chron.com    Lightning-Blue Jackets Sums - Houston Chronicle     2\n",
       "93439  bloomberg.com  AISIN SEIKI CO LTD (7259:Tokyo Stock Exchange)...     2"
      ]
     },
     "execution_count": 32,
     "metadata": {},
     "output_type": "execute_result"
    }
   ],
   "source": [
    "predictions = np.argmax(multi_size_cnn.predict(test), axis=1)\n",
    "print(\"precision = \", np.sum(predictions == labels_test) * 100.0 / len(labels_test))\n",
    "df_prediction, df_prediction['bias'] = df_sample[['site', 'title']], np.argmax(multi_size_cnn.predict(sample), axis=1)\n",
    "df_prediction"
   ]
  },
  {
   "cell_type": "code",
   "execution_count": 33,
   "metadata": {},
   "outputs": [
    {
     "data": {
      "text/plain": [
       "array([[   0,    0,    0,    0,    0,    0,    0],\n",
       "       [   0,    0,    0,    0,    0,    0,    0],\n",
       "       [  14,  358, 2759,  415, 1074,  326,   42],\n",
       "       [   3,   53,  189,   70,  694,   16,    8],\n",
       "       [   0,    0,    0,    0,    0,    0,    0],\n",
       "       [   9,  593,  171,   11,  100,  547,  165],\n",
       "       [   0,    0,    0,    0,    0,    0,    0]])"
      ]
     },
     "execution_count": 33,
     "metadata": {},
     "output_type": "execute_result"
    }
   ],
   "source": [
    "cm = confusion_matrix(labels_test, predictions)\n",
    "cm"
   ]
  },
  {
   "cell_type": "code",
   "execution_count": 34,
   "metadata": {},
   "outputs": [
    {
     "data": {
      "text/plain": [
       "<matplotlib.axes._subplots.AxesSubplot at 0x7fb700126128>"
      ]
     },
     "execution_count": 34,
     "metadata": {},
     "output_type": "execute_result"
    },
    {
     "data": {
      "image/png": "[encoded data removed]",
      "text/plain": [
       "<matplotlib.figure.Figure at 0x7fb6ec178710>"
      ]
     },
     "metadata": {},
     "output_type": "display_data"
    }
   ],
   "source": [
    "sn.heatmap(cm, annot=True)"
   ]
  },
  {
   "cell_type": "markdown",
   "metadata": {},
   "source": [
    "## Site vectors"
   ]
  },
  {
   "cell_type": "markdown",
   "metadata": {},
   "source": [
    "Remove the last linear classifier"
   ]
  },
  {
   "cell_type": "code",
   "execution_count": 35,
   "metadata": {
    "collapsed": true
   },
   "outputs": [],
   "source": [
    "l4 = k_model.pop()\n",
    "l3 = k_model.pop()"
   ]
  },
  {
   "cell_type": "code",
   "execution_count": 36,
   "metadata": {},
   "outputs": [
    {
     "name": "stdout",
     "output_type": "stream",
     "text": [
      "_________________________________________________________________\n",
      "Layer (type)                 Output Shape              Param #   \n",
      "=================================================================\n",
      "embedding_1 (Embedding)      (None, 50, 32)            3200000   \n",
      "_________________________________________________________________\n",
      "flatten_1 (Flatten)          (None, 1600)              0         \n",
      "_________________________________________________________________\n",
      "dense_1 (Dense)              (None, 50)                80050     \n",
      "=================================================================\n",
      "Total params: 3,280,050\n",
      "Trainable params: 3,280,050\n",
      "Non-trainable params: 0\n",
      "_________________________________________________________________\n"
     ]
    }
   ],
   "source": [
    "k_model.compile(loss='sparse_categorical_crossentropy', optimizer=Adam(), metrics=['accuracy'])\n",
    "k_model.summary()"
   ]
  },
  {
   "cell_type": "code",
   "execution_count": 37,
   "metadata": {},
   "outputs": [
    {
     "data": {
      "text/plain": [
       "(82383, 50)"
      ]
     },
     "execution_count": 37,
     "metadata": {},
     "output_type": "execute_result"
    }
   ],
   "source": [
    "article_vectors = k_model.predict(trn)\n",
    "article_vectors.shape"
   ]
  },
  {
   "cell_type": "markdown",
   "metadata": {},
   "source": [
    "Generate an average vector of all the article vectors for each site"
   ]
  },
  {
   "cell_type": "code",
   "execution_count": 38,
   "metadata": {},
   "outputs": [
    {
     "data": {
      "text/plain": [
       "(57, 50)"
      ]
     },
     "execution_count": 38,
     "metadata": {},
     "output_type": "execute_result"
    }
   ],
   "source": [
    "site_vectors = []\n",
    "labels = []\n",
    "sample_size = 1000\n",
    "for site in df_train['site'].unique():\n",
    "    site_indexes = np.where(df_train[\"site\"] == site)[0]\n",
    "    if len(site_indexes) > 0:\n",
    "        site_vector = np.mean(article_vectors[site_indexes[:sample_size], :], axis=0)\n",
    "        site_vectors.append(site_vector)\n",
    "        labels.append(site)\n",
    "site_vectors = np.array(site_vectors)\n",
    "site_vectors.shape"
   ]
  },
  {
   "cell_type": "code",
   "execution_count": 39,
   "metadata": {
    "collapsed": true
   },
   "outputs": [],
   "source": [
    "from sklearn.manifold import TSNE\n",
    "\n",
    "tsne_model = TSNE(n_components=2, random_state=0)\n",
    "# np.set_printoptions(suppress=True)\n",
    "site_vectors_2_dim = tsne_model.fit_transform(site_vectors)\n",
    "X_proj = site_vectors_2_dim[:, 0]\n",
    "Y_proj = site_vectors_2_dim[:, 1]"
   ]
  },
  {
   "cell_type": "code",
   "execution_count": 40,
   "metadata": {},
   "outputs": [
    {
     "data": {
      "text/html": [
       "<script>requirejs.config({paths: { 'plotly': ['https://cdn.plot.ly/plotly-latest.min']},});if(!window.Plotly) {{require(['plotly'],function(plotly) {window.Plotly=plotly;});}}</script>"
      ],
      "text/vnd.plotly.v1+html": [
       "<script>requirejs.config({paths: { 'plotly': ['https://cdn.plot.ly/plotly-latest.min']},});if(!window.Plotly) {{require(['plotly'],function(plotly) {window.Plotly=plotly;});}}</script>"
      ]
     },
     "metadata": {},
     "output_type": "display_data"
    }
   ],
   "source": [
    "from plotly.offline import init_notebook_mode, plot, iplot\n",
    "init_notebook_mode(connected=True)\n",
    "\n",
    "from plotly.graph_objs import Bar, Scatter, Figure, Layout, XAxis, YAxis"
   ]
  },
  {
   "cell_type": "code",
   "execution_count": 41,
   "metadata": {},
   "outputs": [
    {
     "data": {
      "application/vnd.plotly.v1+json": {
       "data": [
        {
         "marker": {
          "size": 10
         },
         "mode": "markers+text",
         "text": [
          "azcentral.com",
          "nj.com",
          "thinkprogress.org",
          "motherjones.com",
          "sfchronicle.com",
          "bizpacreview.com",
          "truthfeed.com",
          "100percentfedup.com",
          "reuters.com",
          "afp.com",
          "ijr.com",
          "oppositionreport.com",
          "democracynow.org",
          "dailykos.com",
          "washingtonexaminer.com",
          "nytimes.com",
          "politicususa.com",
          "theblaze.com",
          "redstate.com",
          "nydailynews.com",
          "freedomdaily.com",
          "slate.com",
          "dallasnews.com",
          "youngcons.com",
          "thenewcivilrightsmovement.com",
          "allenbwest.com",
          "nypost.com",
          "thegatewaypundit.com",
          "talkingpointsmemo.com",
          "dailycaller.com",
          "townhall.com",
          "seattletimes.com",
          "cnn.com",
          "dailywire.com",
          "wsj.com",
          "thefederalistpapers.org",
          "westernjournalism.com",
          "ft.com",
          "thenation.com",
          "conservativetribune.com",
          "judicialwatch.org",
          "rightwingnews.com",
          "bbc.com",
          "economist.com",
          "propublica.org",
          "occupydemocrats.com",
          "latimes.com",
          "mediamatters.org",
          "washingtonpost.com",
          "usatoday.com",
          "louderwithcrowder.com",
          "mrctv.org",
          "forbes.com",
          "apnews.com",
          "rawstory.com",
          "usherald.com",
          "conservative101.com"
         ],
         "textposition": "top",
         "type": "scatter",
         "x": [
          -15.809338569641113,
          1.06892991065979,
          -21.376659393310547,
          -17.530567169189453,
          22.556026458740234,
          22.37578010559082,
          94.31206512451172,
          67.49779510498047,
          -20.916202545166016,
          -35.14706039428711,
          7.879423141479492,
          44.84135055541992,
          -49.80803680419922,
          17.179452896118164,
          -15.702557563781738,
          16.09004020690918,
          -20.596647262573242,
          6.172125816345215,
          15.439433097839355,
          5.98519229888916,
          83.11854553222656,
          3.890397310256958,
          -45.83844757080078,
          30.258028030395508,
          -35.965362548828125,
          -6.365992069244385,
          -45.52570343017578,
          60.19647216796875,
          -7.168890476226807,
          -2.9566681385040283,
          2.592458724975586,
          9.575551986694336,
          1.6178069114685059,
          12.717808723449707,
          -31.3342227935791,
          50.93169403076172,
          21.860454559326172,
          -16.823808670043945,
          -39.15108871459961,
          50.18791961669922,
          9.933938026428223,
          42.55632019042969,
          35.420005798339844,
          -32.92658615112305,
          41.677955627441406,
          31.15937042236328,
          27.340255737304688,
          -31.9384708404541,
          21.710412979125977,
          -30.45659065246582,
          1.0620373487472534,
          22.82341194152832,
          -30.249961853027344,
          -17.06790542602539,
          -4.912746429443359,
          98.8865966796875,
          75.4703140258789
         ],
         "y": [
          -24.996978759765625,
          -53.67203903198242,
          20.48740577697754,
          6.396456241607666,
          -40.38617706298828,
          55.52522659301758,
          37.92851638793945,
          41.21963119506836,
          -96.23206329345703,
          -103.82562255859375,
          28.429603576660156,
          -0.3216993510723114,
          40.56105041503906,
          -4.305296421051025,
          -39.20180130004883,
          -54.47877502441406,
          35.65713882446289,
          50.54225158691406,
          40.169593811035156,
          -39.895423889160156,
          52.65717697143555,
          10.13364315032959,
          -43.04850769042969,
          39.78682327270508,
          13.144697189331055,
          60.564029693603516,
          -26.633739471435547,
          21.899309158325195,
          20.68372917175293,
          39.13351058959961,
          -20.4498291015625,
          -80.62620544433594,
          -67.38590240478516,
          95.6384506225586,
          -35.459991455078125,
          35.4459114074707,
          24.388660430908203,
          -74.85538482666016,
          29.023086547851562,
          50.42122268676758,
          66.83094024658203,
          23.38715171813965,
          -56.45323181152344,
          -85.12549591064453,
          -72.85045623779297,
          4.798349857330322,
          -83.55760955810547,
          47.38601303100586,
          -67.9613037109375,
          -65.15745544433594,
          79.86497497558594,
          76.32643127441406,
          -18.849292755126953,
          -58.189727783203125,
          -1.451138973236084,
          52.556739807128906,
          26.780092239379883
         ]
        }
       ],
       "layout": {
        "autosize": false,
        "height": 700,
        "width": 1000
       }
      },
      "text/html": [
       "<div id=\"41a3c94d-b3d3-482d-9ba7-49ad5c869c5d\" style=\"height: 700px; width: 1000px;\" class=\"plotly-graph-div\"></div><script type=\"text/javascript\">require([\"plotly\"], function(Plotly) { window.PLOTLYENV=window.PLOTLYENV || {};window.PLOTLYENV.BASE_URL=\"https://plot.ly\";Plotly.newPlot(\"41a3c94d-b3d3-482d-9ba7-49ad5c869c5d\", [{\"type\": \"scatter\", \"x\": [-15.809338569641113, 1.06892991065979, -21.376659393310547, -17.530567169189453, 22.556026458740234, 22.37578010559082, 94.31206512451172, 67.49779510498047, -20.916202545166016, -35.14706039428711, 7.879423141479492, 44.84135055541992, -49.80803680419922, 17.179452896118164, -15.702557563781738, 16.09004020690918, -20.596647262573242, 6.172125816345215, 15.439433097839355, 5.98519229888916, 83.11854553222656, 3.890397310256958, -45.83844757080078, 30.258028030395508, -35.965362548828125, -6.365992069244385, -45.52570343017578, 60.19647216796875, -7.168890476226807, -2.9566681385040283, 2.592458724975586, 9.575551986694336, 1.6178069114685059, 12.717808723449707, -31.3342227935791, 50.93169403076172, 21.860454559326172, -16.823808670043945, -39.15108871459961, 50.18791961669922, 9.933938026428223, 42.55632019042969, 35.420005798339844, -32.92658615112305, 41.677955627441406, 31.15937042236328, 27.340255737304688, -31.9384708404541, 21.710412979125977, -30.45659065246582, 1.0620373487472534, 22.82341194152832, -30.249961853027344, -17.06790542602539, -4.912746429443359, 98.8865966796875, 75.4703140258789], \"y\": [-24.996978759765625, -53.67203903198242, 20.48740577697754, 6.396456241607666, -40.38617706298828, 55.52522659301758, 37.92851638793945, 41.21963119506836, -96.23206329345703, -103.82562255859375, 28.429603576660156, -0.3216993510723114, 40.56105041503906, -4.305296421051025, -39.20180130004883, -54.47877502441406, 35.65713882446289, 50.54225158691406, 40.169593811035156, -39.895423889160156, 52.65717697143555, 10.13364315032959, -43.04850769042969, 39.78682327270508, 13.144697189331055, 60.564029693603516, -26.633739471435547, 21.899309158325195, 20.68372917175293, 39.13351058959961, -20.4498291015625, -80.62620544433594, -67.38590240478516, 95.6384506225586, -35.459991455078125, 35.4459114074707, 24.388660430908203, -74.85538482666016, 29.023086547851562, 50.42122268676758, 66.83094024658203, 23.38715171813965, -56.45323181152344, -85.12549591064453, -72.85045623779297, 4.798349857330322, -83.55760955810547, 47.38601303100586, -67.9613037109375, -65.15745544433594, 79.86497497558594, 76.32643127441406, -18.849292755126953, -58.189727783203125, -1.451138973236084, 52.556739807128906, 26.780092239379883], \"mode\": \"markers+text\", \"text\": [\"azcentral.com\", \"nj.com\", \"thinkprogress.org\", \"motherjones.com\", \"sfchronicle.com\", \"bizpacreview.com\", \"truthfeed.com\", \"100percentfedup.com\", \"reuters.com\", \"afp.com\", \"ijr.com\", \"oppositionreport.com\", \"democracynow.org\", \"dailykos.com\", \"washingtonexaminer.com\", \"nytimes.com\", \"politicususa.com\", \"theblaze.com\", \"redstate.com\", \"nydailynews.com\", \"freedomdaily.com\", \"slate.com\", \"dallasnews.com\", \"youngcons.com\", \"thenewcivilrightsmovement.com\", \"allenbwest.com\", \"nypost.com\", \"thegatewaypundit.com\", \"talkingpointsmemo.com\", \"dailycaller.com\", \"townhall.com\", \"seattletimes.com\", \"cnn.com\", \"dailywire.com\", \"wsj.com\", \"thefederalistpapers.org\", \"westernjournalism.com\", \"ft.com\", \"thenation.com\", \"conservativetribune.com\", \"judicialwatch.org\", \"rightwingnews.com\", \"bbc.com\", \"economist.com\", \"propublica.org\", \"occupydemocrats.com\", \"latimes.com\", \"mediamatters.org\", \"washingtonpost.com\", \"usatoday.com\", \"louderwithcrowder.com\", \"mrctv.org\", \"forbes.com\", \"apnews.com\", \"rawstory.com\", \"usherald.com\", \"conservative101.com\"], \"textposition\": \"top\", \"marker\": {\"size\": 10}}], {\"autosize\": false, \"width\": 1000, \"height\": 700}, {\"showLink\": false, \"linkText\": \"Export to plot.ly\"})});</script>"
      ],
      "text/vnd.plotly.v1+html": [
       "<div id=\"41a3c94d-b3d3-482d-9ba7-49ad5c869c5d\" style=\"height: 700px; width: 1000px;\" class=\"plotly-graph-div\"></div><script type=\"text/javascript\">require([\"plotly\"], function(Plotly) { window.PLOTLYENV=window.PLOTLYENV || {};window.PLOTLYENV.BASE_URL=\"https://plot.ly\";Plotly.newPlot(\"41a3c94d-b3d3-482d-9ba7-49ad5c869c5d\", [{\"type\": \"scatter\", \"x\": [-15.809338569641113, 1.06892991065979, -21.376659393310547, -17.530567169189453, 22.556026458740234, 22.37578010559082, 94.31206512451172, 67.49779510498047, -20.916202545166016, -35.14706039428711, 7.879423141479492, 44.84135055541992, -49.80803680419922, 17.179452896118164, -15.702557563781738, 16.09004020690918, -20.596647262573242, 6.172125816345215, 15.439433097839355, 5.98519229888916, 83.11854553222656, 3.890397310256958, -45.83844757080078, 30.258028030395508, -35.965362548828125, -6.365992069244385, -45.52570343017578, 60.19647216796875, -7.168890476226807, -2.9566681385040283, 2.592458724975586, 9.575551986694336, 1.6178069114685059, 12.717808723449707, -31.3342227935791, 50.93169403076172, 21.860454559326172, -16.823808670043945, -39.15108871459961, 50.18791961669922, 9.933938026428223, 42.55632019042969, 35.420005798339844, -32.92658615112305, 41.677955627441406, 31.15937042236328, 27.340255737304688, -31.9384708404541, 21.710412979125977, -30.45659065246582, 1.0620373487472534, 22.82341194152832, -30.249961853027344, -17.06790542602539, -4.912746429443359, 98.8865966796875, 75.4703140258789], \"y\": [-24.996978759765625, -53.67203903198242, 20.48740577697754, 6.396456241607666, -40.38617706298828, 55.52522659301758, 37.92851638793945, 41.21963119506836, -96.23206329345703, -103.82562255859375, 28.429603576660156, -0.3216993510723114, 40.56105041503906, -4.305296421051025, -39.20180130004883, -54.47877502441406, 35.65713882446289, 50.54225158691406, 40.169593811035156, -39.895423889160156, 52.65717697143555, 10.13364315032959, -43.04850769042969, 39.78682327270508, 13.144697189331055, 60.564029693603516, -26.633739471435547, 21.899309158325195, 20.68372917175293, 39.13351058959961, -20.4498291015625, -80.62620544433594, -67.38590240478516, 95.6384506225586, -35.459991455078125, 35.4459114074707, 24.388660430908203, -74.85538482666016, 29.023086547851562, 50.42122268676758, 66.83094024658203, 23.38715171813965, -56.45323181152344, -85.12549591064453, -72.85045623779297, 4.798349857330322, -83.55760955810547, 47.38601303100586, -67.9613037109375, -65.15745544433594, 79.86497497558594, 76.32643127441406, -18.849292755126953, -58.189727783203125, -1.451138973236084, 52.556739807128906, 26.780092239379883], \"mode\": \"markers+text\", \"text\": [\"azcentral.com\", \"nj.com\", \"thinkprogress.org\", \"motherjones.com\", \"sfchronicle.com\", \"bizpacreview.com\", \"truthfeed.com\", \"100percentfedup.com\", \"reuters.com\", \"afp.com\", \"ijr.com\", \"oppositionreport.com\", \"democracynow.org\", \"dailykos.com\", \"washingtonexaminer.com\", \"nytimes.com\", \"politicususa.com\", \"theblaze.com\", \"redstate.com\", \"nydailynews.com\", \"freedomdaily.com\", \"slate.com\", \"dallasnews.com\", \"youngcons.com\", \"thenewcivilrightsmovement.com\", \"allenbwest.com\", \"nypost.com\", \"thegatewaypundit.com\", \"talkingpointsmemo.com\", \"dailycaller.com\", \"townhall.com\", \"seattletimes.com\", \"cnn.com\", \"dailywire.com\", \"wsj.com\", \"thefederalistpapers.org\", \"westernjournalism.com\", \"ft.com\", \"thenation.com\", \"conservativetribune.com\", \"judicialwatch.org\", \"rightwingnews.com\", \"bbc.com\", \"economist.com\", \"propublica.org\", \"occupydemocrats.com\", \"latimes.com\", \"mediamatters.org\", \"washingtonpost.com\", \"usatoday.com\", \"louderwithcrowder.com\", \"mrctv.org\", \"forbes.com\", \"apnews.com\", \"rawstory.com\", \"usherald.com\", \"conservative101.com\"], \"textposition\": \"top\", \"marker\": {\"size\": 10}}], {\"autosize\": false, \"width\": 1000, \"height\": 700}, {\"showLink\": false, \"linkText\": \"Export to plot.ly\"})});</script>"
      ]
     },
     "metadata": {},
     "output_type": "display_data"
    }
   ],
   "source": [
    "trace = Scatter(x=X_proj, y=Y_proj, mode='markers+text', text=labels, textposition='top',  marker=dict(size=10))\n",
    "iplot({\n",
    "    'data': [trace],\n",
    "    'layout': Layout(\n",
    "        #xaxis=XAxis(title='Left vs Right'), \n",
    "        #yaxis=YAxis(title='Biased vs Factual'),\n",
    "        autosize=False,\n",
    "        width=1000,\n",
    "        height=700)},\n",
    "    show_link=False\n",
    ")"
   ]
  },
  {
   "cell_type": "markdown",
   "metadata": {},
   "source": [
    "### PCA Analysis"
   ]
  },
  {
   "cell_type": "code",
   "execution_count": 42,
   "metadata": {
    "collapsed": true
   },
   "outputs": [],
   "source": [
    "from sklearn.decomposition import PCA\n",
    "pca = PCA(n_components=2)\n",
    "site_vectors_pca = pca.fit(site_vectors).components_"
   ]
  },
  {
   "cell_type": "code",
   "execution_count": 43,
   "metadata": {},
   "outputs": [
    {
     "data": {
      "application/vnd.plotly.v1+json": {
       "data": [
        {
         "marker": {
          "size": 10
         },
         "mode": "markers+text",
         "text": [
          "azcentral.com",
          "nj.com",
          "thinkprogress.org",
          "motherjones.com",
          "sfchronicle.com",
          "bizpacreview.com",
          "truthfeed.com",
          "100percentfedup.com",
          "reuters.com",
          "afp.com",
          "ijr.com",
          "oppositionreport.com",
          "democracynow.org",
          "dailykos.com",
          "washingtonexaminer.com",
          "nytimes.com",
          "politicususa.com",
          "theblaze.com",
          "redstate.com",
          "nydailynews.com",
          "freedomdaily.com",
          "slate.com",
          "dallasnews.com",
          "youngcons.com",
          "thenewcivilrightsmovement.com",
          "allenbwest.com",
          "nypost.com",
          "thegatewaypundit.com",
          "talkingpointsmemo.com",
          "dailycaller.com",
          "townhall.com",
          "seattletimes.com",
          "cnn.com",
          "dailywire.com",
          "wsj.com",
          "thefederalistpapers.org",
          "westernjournalism.com",
          "ft.com",
          "thenation.com",
          "conservativetribune.com",
          "judicialwatch.org",
          "rightwingnews.com",
          "bbc.com",
          "economist.com",
          "propublica.org",
          "occupydemocrats.com",
          "latimes.com",
          "mediamatters.org",
          "washingtonpost.com",
          "usatoday.com",
          "louderwithcrowder.com",
          "mrctv.org",
          "forbes.com",
          "apnews.com",
          "rawstory.com",
          "usherald.com",
          "conservative101.com"
         ],
         "textposition": "top",
         "type": "scatter",
         "x": [
          0.22105461359024048,
          -0.1131293773651123,
          0.2701950669288635,
          -0.10194901376962662,
          0.20710793137550354,
          0.3555663228034973,
          0.0858459547162056,
          0.25659623742103577,
          0.03742969408631325,
          -0.16380760073661804,
          0.22614115476608276,
          -0.054549913853406906,
          -0.06227117404341698,
          -0.0781678557395935,
          0.1137533113360405,
          0.02449481375515461,
          0.20120340585708618,
          0.2328971028327942,
          0.02420186437666416,
          -0.046247147023677826,
          0.1425466239452362,
          -0.029180284589529037,
          -0.09763176739215851,
          -0.04409359395503998,
          -0.05637875199317932,
          -0.2076369822025299,
          -0.033428143709897995,
          0.19984856247901917,
          -0.1383008360862732,
          -0.028996417298913002,
          0.004193454049527645,
          -0.08465089648962021,
          0.0036208766978234053,
          0.024006811901926994,
          0.15199947357177734,
          0.049010373651981354,
          0.11397434026002884,
          -0.1437786966562271,
          -0.2238248586654663,
          -0.0693870261311531,
          0.2222301959991455,
          0.1748921424150467,
          -0.0450611487030983,
          -0.07165227830410004,
          -0.07798490673303604,
          0.050121765583753586,
          -0.06781521439552307,
          0.20353733003139496,
          -0.06909950077533722,
          0.027009598910808563
         ],
         "y": [
          0.1285184770822525,
          0.16416232287883759,
          0.22953146696090698,
          0.13847845792770386,
          0.20349788665771484,
          0.003963977098464966,
          0.22456973791122437,
          0.24412068724632263,
          -0.2559517025947571,
          0.22128626704216003,
          0.021655237302184105,
          -0.04735850170254707,
          0.09061197191476822,
          0.1475907415151596,
          0.04376867786049843,
          -0.0334915816783905,
          0.2078912854194641,
          -0.13122597336769104,
          -0.2102523297071457,
          -0.04072832688689232,
          0.027386389672756195,
          -0.07069473713636398,
          0.10231369733810425,
          0.06607972085475922,
          0.05495297163724899,
          0.25392740964889526,
          -0.00012186708772787824,
          0.19868381321430206,
          0.24398432672023773,
          -0.03215859457850456,
          -0.009862979874014854,
          0.03839114308357239,
          -0.09909875690937042,
          -0.08118615299463272,
          0.07449685037136078,
          0.09410292655229568,
          -0.08803058415651321,
          0.06221677362918854,
          0.16878271102905273,
          0.12732350826263428,
          -0.1709662675857544,
          0.20307056605815887,
          0.018451469019055367,
          0.14095543324947357,
          0.1113044023513794,
          -0.12042109668254852,
          0.12719586491584778,
          0.0942370668053627,
          0.0733824148774147,
          -0.22772249579429626
         ]
        }
       ],
       "layout": {
        "autosize": false,
        "height": 700,
        "width": 1000
       }
      },
      "text/html": [
       "<div id=\"096e78e9-2e24-481a-9237-0b376e18629a\" style=\"height: 700px; width: 1000px;\" class=\"plotly-graph-div\"></div><script type=\"text/javascript\">require([\"plotly\"], function(Plotly) { window.PLOTLYENV=window.PLOTLYENV || {};window.PLOTLYENV.BASE_URL=\"https://plot.ly\";Plotly.newPlot(\"096e78e9-2e24-481a-9237-0b376e18629a\", [{\"type\": \"scatter\", \"x\": [0.22105461359024048, -0.1131293773651123, 0.2701950669288635, -0.10194901376962662, 0.20710793137550354, 0.3555663228034973, 0.0858459547162056, 0.25659623742103577, 0.03742969408631325, -0.16380760073661804, 0.22614115476608276, -0.054549913853406906, -0.06227117404341698, -0.0781678557395935, 0.1137533113360405, 0.02449481375515461, 0.20120340585708618, 0.2328971028327942, 0.02420186437666416, -0.046247147023677826, 0.1425466239452362, -0.029180284589529037, -0.09763176739215851, -0.04409359395503998, -0.05637875199317932, -0.2076369822025299, -0.033428143709897995, 0.19984856247901917, -0.1383008360862732, -0.028996417298913002, 0.004193454049527645, -0.08465089648962021, 0.0036208766978234053, 0.024006811901926994, 0.15199947357177734, 0.049010373651981354, 0.11397434026002884, -0.1437786966562271, -0.2238248586654663, -0.0693870261311531, 0.2222301959991455, 0.1748921424150467, -0.0450611487030983, -0.07165227830410004, -0.07798490673303604, 0.050121765583753586, -0.06781521439552307, 0.20353733003139496, -0.06909950077533722, 0.027009598910808563], \"y\": [0.1285184770822525, 0.16416232287883759, 0.22953146696090698, 0.13847845792770386, 0.20349788665771484, 0.003963977098464966, 0.22456973791122437, 0.24412068724632263, -0.2559517025947571, 0.22128626704216003, 0.021655237302184105, -0.04735850170254707, 0.09061197191476822, 0.1475907415151596, 0.04376867786049843, -0.0334915816783905, 0.2078912854194641, -0.13122597336769104, -0.2102523297071457, -0.04072832688689232, 0.027386389672756195, -0.07069473713636398, 0.10231369733810425, 0.06607972085475922, 0.05495297163724899, 0.25392740964889526, -0.00012186708772787824, 0.19868381321430206, 0.24398432672023773, -0.03215859457850456, -0.009862979874014854, 0.03839114308357239, -0.09909875690937042, -0.08118615299463272, 0.07449685037136078, 0.09410292655229568, -0.08803058415651321, 0.06221677362918854, 0.16878271102905273, 0.12732350826263428, -0.1709662675857544, 0.20307056605815887, 0.018451469019055367, 0.14095543324947357, 0.1113044023513794, -0.12042109668254852, 0.12719586491584778, 0.0942370668053627, 0.0733824148774147, -0.22772249579429626], \"mode\": \"markers+text\", \"text\": [\"azcentral.com\", \"nj.com\", \"thinkprogress.org\", \"motherjones.com\", \"sfchronicle.com\", \"bizpacreview.com\", \"truthfeed.com\", \"100percentfedup.com\", \"reuters.com\", \"afp.com\", \"ijr.com\", \"oppositionreport.com\", \"democracynow.org\", \"dailykos.com\", \"washingtonexaminer.com\", \"nytimes.com\", \"politicususa.com\", \"theblaze.com\", \"redstate.com\", \"nydailynews.com\", \"freedomdaily.com\", \"slate.com\", \"dallasnews.com\", \"youngcons.com\", \"thenewcivilrightsmovement.com\", \"allenbwest.com\", \"nypost.com\", \"thegatewaypundit.com\", \"talkingpointsmemo.com\", \"dailycaller.com\", \"townhall.com\", \"seattletimes.com\", \"cnn.com\", \"dailywire.com\", \"wsj.com\", \"thefederalistpapers.org\", \"westernjournalism.com\", \"ft.com\", \"thenation.com\", \"conservativetribune.com\", \"judicialwatch.org\", \"rightwingnews.com\", \"bbc.com\", \"economist.com\", \"propublica.org\", \"occupydemocrats.com\", \"latimes.com\", \"mediamatters.org\", \"washingtonpost.com\", \"usatoday.com\", \"louderwithcrowder.com\", \"mrctv.org\", \"forbes.com\", \"apnews.com\", \"rawstory.com\", \"usherald.com\", \"conservative101.com\"], \"textposition\": \"top\", \"marker\": {\"size\": 10}}], {\"autosize\": false, \"width\": 1000, \"height\": 700}, {\"showLink\": false, \"linkText\": \"Export to plot.ly\"})});</script>"
      ],
      "text/vnd.plotly.v1+html": [
       "<div id=\"096e78e9-2e24-481a-9237-0b376e18629a\" style=\"height: 700px; width: 1000px;\" class=\"plotly-graph-div\"></div><script type=\"text/javascript\">require([\"plotly\"], function(Plotly) { window.PLOTLYENV=window.PLOTLYENV || {};window.PLOTLYENV.BASE_URL=\"https://plot.ly\";Plotly.newPlot(\"096e78e9-2e24-481a-9237-0b376e18629a\", [{\"type\": \"scatter\", \"x\": [0.22105461359024048, -0.1131293773651123, 0.2701950669288635, -0.10194901376962662, 0.20710793137550354, 0.3555663228034973, 0.0858459547162056, 0.25659623742103577, 0.03742969408631325, -0.16380760073661804, 0.22614115476608276, -0.054549913853406906, -0.06227117404341698, -0.0781678557395935, 0.1137533113360405, 0.02449481375515461, 0.20120340585708618, 0.2328971028327942, 0.02420186437666416, -0.046247147023677826, 0.1425466239452362, -0.029180284589529037, -0.09763176739215851, -0.04409359395503998, -0.05637875199317932, -0.2076369822025299, -0.033428143709897995, 0.19984856247901917, -0.1383008360862732, -0.028996417298913002, 0.004193454049527645, -0.08465089648962021, 0.0036208766978234053, 0.024006811901926994, 0.15199947357177734, 0.049010373651981354, 0.11397434026002884, -0.1437786966562271, -0.2238248586654663, -0.0693870261311531, 0.2222301959991455, 0.1748921424150467, -0.0450611487030983, -0.07165227830410004, -0.07798490673303604, 0.050121765583753586, -0.06781521439552307, 0.20353733003139496, -0.06909950077533722, 0.027009598910808563], \"y\": [0.1285184770822525, 0.16416232287883759, 0.22953146696090698, 0.13847845792770386, 0.20349788665771484, 0.003963977098464966, 0.22456973791122437, 0.24412068724632263, -0.2559517025947571, 0.22128626704216003, 0.021655237302184105, -0.04735850170254707, 0.09061197191476822, 0.1475907415151596, 0.04376867786049843, -0.0334915816783905, 0.2078912854194641, -0.13122597336769104, -0.2102523297071457, -0.04072832688689232, 0.027386389672756195, -0.07069473713636398, 0.10231369733810425, 0.06607972085475922, 0.05495297163724899, 0.25392740964889526, -0.00012186708772787824, 0.19868381321430206, 0.24398432672023773, -0.03215859457850456, -0.009862979874014854, 0.03839114308357239, -0.09909875690937042, -0.08118615299463272, 0.07449685037136078, 0.09410292655229568, -0.08803058415651321, 0.06221677362918854, 0.16878271102905273, 0.12732350826263428, -0.1709662675857544, 0.20307056605815887, 0.018451469019055367, 0.14095543324947357, 0.1113044023513794, -0.12042109668254852, 0.12719586491584778, 0.0942370668053627, 0.0733824148774147, -0.22772249579429626], \"mode\": \"markers+text\", \"text\": [\"azcentral.com\", \"nj.com\", \"thinkprogress.org\", \"motherjones.com\", \"sfchronicle.com\", \"bizpacreview.com\", \"truthfeed.com\", \"100percentfedup.com\", \"reuters.com\", \"afp.com\", \"ijr.com\", \"oppositionreport.com\", \"democracynow.org\", \"dailykos.com\", \"washingtonexaminer.com\", \"nytimes.com\", \"politicususa.com\", \"theblaze.com\", \"redstate.com\", \"nydailynews.com\", \"freedomdaily.com\", \"slate.com\", \"dallasnews.com\", \"youngcons.com\", \"thenewcivilrightsmovement.com\", \"allenbwest.com\", \"nypost.com\", \"thegatewaypundit.com\", \"talkingpointsmemo.com\", \"dailycaller.com\", \"townhall.com\", \"seattletimes.com\", \"cnn.com\", \"dailywire.com\", \"wsj.com\", \"thefederalistpapers.org\", \"westernjournalism.com\", \"ft.com\", \"thenation.com\", \"conservativetribune.com\", \"judicialwatch.org\", \"rightwingnews.com\", \"bbc.com\", \"economist.com\", \"propublica.org\", \"occupydemocrats.com\", \"latimes.com\", \"mediamatters.org\", \"washingtonpost.com\", \"usatoday.com\", \"louderwithcrowder.com\", \"mrctv.org\", \"forbes.com\", \"apnews.com\", \"rawstory.com\", \"usherald.com\", \"conservative101.com\"], \"textposition\": \"top\", \"marker\": {\"size\": 10}}], {\"autosize\": false, \"width\": 1000, \"height\": 700}, {\"showLink\": false, \"linkText\": \"Export to plot.ly\"})});</script>"
      ]
     },
     "metadata": {},
     "output_type": "display_data"
    }
   ],
   "source": [
    "trace = Scatter(x=site_vectors_pca[0], y=site_vectors_pca[1], mode='markers+text', text=labels, textposition='top',  marker=dict(size=10))\n",
    "iplot({\n",
    "    'data': [trace],\n",
    "    'layout': Layout(\n",
    "        #xaxis=XAxis(title='Left vs Right'), \n",
    "        #yaxis=YAxis(title='Biased vs Factual'),\n",
    "        autosize=False,\n",
    "        width=1000,\n",
    "        height=700)},\n",
    "    show_link=False\n",
    ")"
   ]
  }
 ],
 "metadata": {
  "kernelspec": {
   "display_name": "Python 3",
   "language": "python",
   "name": "python3"
  },
  "language_info": {
   "codemirror_mode": {
    "name": "ipython",
    "version": 3
   },
   "file_extension": ".py",
   "mimetype": "text/x-python",
   "name": "python",
   "nbconvert_exporter": "python",
   "pygments_lexer": "ipython3",
   "version": "3.6.2"
  }
 },
 "nbformat": 4,
 "nbformat_minor": 2
}
