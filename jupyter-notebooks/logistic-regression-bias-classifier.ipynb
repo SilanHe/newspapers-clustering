{
 "cells": [
  {
   "cell_type": "code",
   "execution_count": 23,
   "metadata": {
    "collapsed": true
   },
   "outputs": [],
   "source": [
    "import pandas as pd\n",
    "import numpy as np\n",
    "import matplotlib.pyplot as plt\n",
    "\n",
    "from bias import Bias, SimplifiedBias"
   ]
  },
  {
   "cell_type": "markdown",
   "metadata": {},
   "source": [
    "## Load and transform data"
   ]
  },
  {
   "cell_type": "code",
   "execution_count": 2,
   "metadata": {
    "collapsed": true
   },
   "outputs": [],
   "source": [
    "df = pd.read_csv(\"../data/source/newsclust.csv\")"
   ]
  },
  {
   "cell_type": "code",
   "execution_count": 3,
   "metadata": {
    "collapsed": true
   },
   "outputs": [],
   "source": [
    "df = df.query(\"site != 'cbn.com'\")"
   ]
  },
  {
   "cell_type": "code",
   "execution_count": 4,
   "metadata": {
    "collapsed": true
   },
   "outputs": [],
   "source": [
    "df['bias'] = df.apply(lambda row: Bias.get_bias_for_domain(row['site']), axis=1)"
   ]
  },
  {
   "cell_type": "code",
   "execution_count": 5,
   "metadata": {
    "collapsed": true
   },
   "outputs": [],
   "source": [
    "df['simplified_bias'] = df.apply(lambda row: SimplifiedBias.get_simplified_bias_for_domain(row['site']), axis=1)"
   ]
  },
  {
   "cell_type": "markdown",
   "metadata": {},
   "source": [
    "## Train-test split"
   ]
  },
  {
   "cell_type": "code",
   "execution_count": 6,
   "metadata": {
    "collapsed": true
   },
   "outputs": [],
   "source": [
    "TEST_DOMAINS =  {\n",
    "    'bloomberg.com',\n",
    "     'breitbart.com',\n",
    "     'bbc.com',\n",
    "     'ijr.com',\n",
    "     'wsj.com',\n",
    "     'nypost.com',\n",
    "     'talkingpointsmemo.com',\n",
    "     'motherhones.com',\n",
    "     'usatoday.com',\n",
    "     'afp.com',\n",
    "     'rightwingnews.com',\n",
    "     'occupydemocrats.com'\n",
    "}"
   ]
  },
  {
   "cell_type": "code",
   "execution_count": 7,
   "metadata": {
    "collapsed": true
   },
   "outputs": [],
   "source": [
    "df_train =  df.loc[~df['site'].isin(TEST_DOMAINS)]\n",
    "df_test =  df.loc[df['site'].isin(TEST_DOMAINS)]"
   ]
  },
  {
   "cell_type": "code",
   "execution_count": 8,
   "metadata": {
    "collapsed": true
   },
   "outputs": [],
   "source": [
    "bias_type = 'bias'\n",
    "\n",
    "X_train = df_train['text'].values\n",
    "y_train = df_train[bias_type].apply(lambda b: b.value).values\n",
    "\n",
    "X_test = df_test['text'].values\n",
    "y_test = df_test[bias_type].apply(lambda b: b.value).values"
   ]
  },
  {
   "cell_type": "markdown",
   "metadata": {},
   "source": [
    "## Build a pipeline"
   ]
  },
  {
   "cell_type": "code",
   "execution_count": 9,
   "metadata": {
    "collapsed": true
   },
   "outputs": [],
   "source": [
    "from imblearn.pipeline import Pipeline\n",
    "from imblearn.under_sampling import RandomUnderSampler\n",
    "\n",
    "from sklearn.decomposition import TruncatedSVD\n",
    "from sklearn.feature_extraction.text import TfidfVectorizer, CountVectorizer, TfidfTransformer\n",
    "from sklearn.linear_model import LogisticRegression\n",
    "from sklearn.metrics import accuracy_score, precision_score, recall_score, classification_report\n",
    "from sklearn.neighbors import KNeighborsClassifier\n",
    "# from sklearn.pipeline import Pipeline"
   ]
  },
  {
   "cell_type": "code",
   "execution_count": 10,
   "metadata": {
    "collapsed": true
   },
   "outputs": [],
   "source": [
    "from sklearn.base import BaseEstimator, TransformerMixin\n",
    "\n",
    "class DenseTransformer(BaseEstimator, TransformerMixin):\n",
    "\n",
    "    def transform(self, X, y=None, **fit_params):\n",
    "        return X.todense()\n",
    "\n",
    "    def fit_transform(self, X, y=None, **fit_params):\n",
    "        self.fit(X, y, **fit_params)\n",
    "        return self.transform(X)\n",
    "\n",
    "    def fit(self, X, y=None, **fit_params):\n",
    "        return self"
   ]
  },
  {
   "cell_type": "code",
   "execution_count": 11,
   "metadata": {
    "collapsed": true
   },
   "outputs": [],
   "source": [
    "ratio = dict((i, 2000) for i in range(7))\n",
    "\n",
    "pipeline = Pipeline([\n",
    "    ('vect', TfidfVectorizer()),\n",
    "#     ('vect', CountVectorizer()),\n",
    "#     ('trans', TfidfTransformer()),\n",
    "#     ('svd', TruncatedSVD(n_components=20)),\n",
    "#     ('samp', RandomUnderSampler(ratio=ratio)),\n",
    "    ('clf', LogisticRegression())\n",
    "])"
   ]
  },
  {
   "cell_type": "code",
   "execution_count": 12,
   "metadata": {},
   "outputs": [
    {
     "name": "stdout",
     "output_type": "stream",
     "text": [
      "CPU times: user 2min 2s, sys: 612 ms, total: 2min 3s\n",
      "Wall time: 2min 3s\n"
     ]
    },
    {
     "data": {
      "text/plain": [
       "Pipeline(memory=None,\n",
       "     steps=[('vect', TfidfVectorizer(analyzer='word', binary=False, decode_error='strict',\n",
       "        dtype=<class 'numpy.int64'>, encoding='utf-8', input='content',\n",
       "        lowercase=True, max_df=1.0, max_features=None, min_df=1,\n",
       "        ngram_range=(1, 1), norm='l2', preprocessor=None, smooth_idf=True,\n",
       "  ...ty='l2', random_state=None, solver='liblinear', tol=0.0001,\n",
       "          verbose=0, warm_start=False))])"
      ]
     },
     "execution_count": 12,
     "metadata": {},
     "output_type": "execute_result"
    }
   ],
   "source": [
    "%time pipeline.fit(X_train, y_train)"
   ]
  },
  {
   "cell_type": "code",
   "execution_count": 13,
   "metadata": {},
   "outputs": [
    {
     "name": "stdout",
     "output_type": "stream",
     "text": [
      "             precision    recall  f1-score   support\n",
      "\n",
      "          0       0.69      0.01      0.01      2029\n",
      "          1       0.19      0.32      0.23      1798\n",
      "          2       0.25      0.61      0.35      3850\n",
      "          3       0.19      0.09      0.12      3949\n",
      "          4       0.10      0.02      0.03      3781\n",
      "          5       0.39      0.55      0.45      3722\n",
      "          6       0.31      0.12      0.17      1886\n",
      "\n",
      "avg / total       0.28      0.27      0.21     21015\n",
      "\n"
     ]
    }
   ],
   "source": [
    "best_clf = pipeline\n",
    "print(classification_report(df_test[bias_type].apply(lambda b: b.value).values, best_clf.predict(X_test)))"
   ]
  },
  {
   "cell_type": "markdown",
   "metadata": {},
   "source": [
    "## Cross-validation"
   ]
  },
  {
   "cell_type": "code",
   "execution_count": 14,
   "metadata": {
    "collapsed": true
   },
   "outputs": [],
   "source": [
    "from sklearn.model_selection import GridSearchCV"
   ]
  },
  {
   "cell_type": "code",
   "execution_count": 15,
   "metadata": {
    "collapsed": true
   },
   "outputs": [],
   "source": [
    "param_grid = {\n",
    "#     'vect__ngram_range': ((1, 1), (1, 2)),\n",
    "#     'vect__max_df': (0.5, 0.75),\n",
    "#     'svd__n_components': [10, 20, 100],\n",
    "    'clf__C': [.1, 1, 10, 100, 1000]\n",
    "}"
   ]
  },
  {
   "cell_type": "code",
   "execution_count": 16,
   "metadata": {
    "scrolled": false
   },
   "outputs": [
    {
     "name": "stdout",
     "output_type": "stream",
     "text": [
      "Fitting 3 folds for each of 5 candidates, totalling 15 fits\n",
      "[CV] clf__C=0.1 ......................................................\n",
      "[CV] clf__C=0.1 ......................................................\n",
      "[CV] clf__C=0.1 ......................................................\n",
      "[CV] clf__C=1 ........................................................\n",
      "[CV] clf__C=1 ........................................................\n",
      "[CV] clf__C=1 ........................................................\n",
      "[CV] ............. clf__C=0.1, score=0.6091983368589977, total= 3.0min\n"
     ]
    },
    {
     "name": "stderr",
     "output_type": "stream",
     "text": [
      "[Parallel(n_jobs=6)]: Done   1 tasks      | elapsed:  5.8min\n"
     ]
    },
    {
     "name": "stdout",
     "output_type": "stream",
     "text": [
      "[CV] clf__C=10 .......................................................\n",
      "[CV] ............. clf__C=0.1, score=0.6379486431281004, total= 6.6min\n",
      "[CV] ............. clf__C=0.1, score=0.6179549848611973, total= 6.8min\n",
      "[CV] clf__C=10 .......................................................\n",
      "[CV] ............... clf__C=1, score=0.7566847845912523, total= 7.9min\n",
      "[CV] ................ clf__C=1, score=0.760704646582537, total= 8.2min\n",
      "[CV] ............... clf__C=1, score=0.7628027429238401, total= 8.2min\n"
     ]
    },
    {
     "name": "stderr",
     "output_type": "stream",
     "text": [
      "[Parallel(n_jobs=6)]: Done   6 out of  15 | elapsed: 15.6min remaining: 23.4min\n"
     ]
    },
    {
     "name": "stdout",
     "output_type": "stream",
     "text": [
      "[CV] clf__C=10 .......................................................\n",
      "[CV] clf__C=100 ......................................................\n",
      "[CV] .............. clf__C=10, score=0.8029396746662776, total= 8.0min\n",
      "[CV] clf__C=100 ......................................................\n",
      "[CV] .............. clf__C=10, score=0.7975269915377882, total= 8.1min\n"
     ]
    },
    {
     "name": "stderr",
     "output_type": "stream",
     "text": [
      "[Parallel(n_jobs=6)]: Done   8 out of  15 | elapsed: 22.7min remaining: 19.9min\n"
     ]
    },
    {
     "name": "stdout",
     "output_type": "stream",
     "text": [
      "[CV] clf__C=100 ......................................................\n",
      "[CV] .............. clf__C=10, score=0.7910115638565645, total= 8.3min\n",
      "[CV] clf__C=1000 .....................................................\n",
      "[CV] ............. clf__C=100, score=0.7987453497702239, total= 7.5min\n",
      "[CV] clf__C=1000 .....................................................\n"
     ]
    },
    {
     "name": "stderr",
     "output_type": "stream",
     "text": [
      "[Parallel(n_jobs=6)]: Done  10 out of  15 | elapsed: 32.4min remaining: 16.2min\n"
     ]
    },
    {
     "name": "stdout",
     "output_type": "stream",
     "text": [
      "[CV] ............. clf__C=100, score=0.7933323606653049, total= 7.9min\n",
      "[CV] clf__C=1000 .....................................................\n",
      "[CV] ............. clf__C=100, score=0.7865611206361945, total= 7.5min\n"
     ]
    },
    {
     "name": "stderr",
     "output_type": "stream",
     "text": [
      "[Parallel(n_jobs=6)]: Done  12 out of  15 | elapsed: 35.1min remaining:  8.8min\n"
     ]
    },
    {
     "name": "stdout",
     "output_type": "stream",
     "text": [
      "[CV] ............ clf__C=1000, score=0.7915967612517324, total= 7.6min\n",
      "[CV] ............ clf__C=1000, score=0.7816364498595557, total= 6.7min\n",
      "[CV] ............ clf__C=1000, score=0.7884082287715203, total= 9.3min\n"
     ]
    },
    {
     "name": "stderr",
     "output_type": "stream",
     "text": [
      "[Parallel(n_jobs=6)]: Done  15 out of  15 | elapsed: 42.3min finished\n"
     ]
    },
    {
     "name": "stdout",
     "output_type": "stream",
     "text": [
      "CPU times: user 3min 14s, sys: 26.8 s, total: 3min 41s\n",
      "Wall time: 46min 32s\n"
     ]
    }
   ],
   "source": [
    "%%time\n",
    "grid = GridSearchCV(pipeline, cv=3, n_jobs=6, param_grid=param_grid, verbose=10)\n",
    "grid.fit(X_train, y_train)"
   ]
  },
  {
   "cell_type": "code",
   "execution_count": 17,
   "metadata": {},
   "outputs": [
    {
     "name": "stdout",
     "output_type": "stream",
     "text": [
      "             precision    recall  f1-score   support\n",
      "\n",
      "          0       0.72      0.05      0.10      2029\n",
      "          1       0.20      0.32      0.24      1798\n",
      "          2       0.25      0.57      0.35      3850\n",
      "          3       0.25      0.12      0.17      3949\n",
      "          4       0.16      0.05      0.08      3781\n",
      "          5       0.37      0.50      0.43      3722\n",
      "          6       0.28      0.19      0.23      1886\n",
      "\n",
      "avg / total       0.30      0.27      0.24     21015\n",
      "\n"
     ]
    }
   ],
   "source": [
    "best_clf = grid.best_estimator_\n",
    "print(classification_report(df_test[bias_type].apply(lambda b: b.value).values, best_clf.predict(X_test)))"
   ]
  },
  {
   "cell_type": "code",
   "execution_count": 21,
   "metadata": {},
   "outputs": [],
   "source": [
    "params = grid.cv_results_['params']\n",
    "train_scores = np.mean([grid.cv_results_[(\"split%s_train_score\" % d)] for d in range(3)], axis=0)\n",
    "test_scores = np.mean([grid.cv_results_[(\"split%s_test_score\" % d)] for d in range(3)], axis=0)"
   ]
  },
  {
   "cell_type": "code",
   "execution_count": 24,
   "metadata": {},
   "outputs": [
    {
     "data": {
      "image/png": "[encoded data removed]",
      "text/plain": [
       "<matplotlib.figure.Figure at 0x7f502b13c1d0>"
      ]
     },
     "metadata": {},
     "output_type": "display_data"
    }
   ],
   "source": [
    "plt.figure(figsize=(15, 5))\n",
    "plt.semilogx(param_grid['clf__C'], train_scores)\n",
    "plt.semilogx(param_grid['clf__C'], test_scores)\n",
    "plt.title(\"Validation curves\", size=18)\n",
    "plt.xlabel(\"regularisation\")\n",
    "plt.ylabel(\"accuracy\")\n",
    "plt.show()"
   ]
  },
  {
   "cell_type": "markdown",
   "metadata": {},
   "source": [
    "## Viz"
   ]
  },
  {
   "cell_type": "code",
   "execution_count": 25,
   "metadata": {
    "collapsed": true
   },
   "outputs": [],
   "source": [
    "if bias_type == 'bias':\n",
    "    bias = [Bias(v) for v in best_clf.predict(X_test)]\n",
    "    cols = ['Bias.EXTREME_LEFT', 'Bias.LEFT', 'Bias.LEFT_CENTER', 'Bias.LEAST_BIASED', 'Bias.RIGHT_CENTER', 'Bias.RIGHT', 'Bias.EXTREME_RIGHT']\n",
    "    ticks = ['EXT_LEFT', 'LEFT', 'LEFT_CENTER', 'UNBIASED', 'RIGHT_CENTER', 'RIGHT', 'EXTREME_RIGHT']\n",
    "    k = 7\n",
    "elif bias_type == 'simplified_bias':\n",
    "    bias = [SimplifiedBias(v) for v in best_clf.predict(X_test)]\n",
    "    cols = ['SimplifiedBias.LEFT', 'SimplifiedBias.UNBIASED', 'SimplifiedBias.RIGHT']\n",
    "    ticks = ['LEFT', 'UNBIASED', 'RIGHT']\n",
    "    k = 3\n",
    "else:\n",
    "    raise ValueError\n",
    "\n",
    "df_test = df_test.assign(pred=pd.Series(bias).values)"
   ]
  },
  {
   "cell_type": "code",
   "execution_count": 26,
   "metadata": {},
   "outputs": [
    {
     "data": {
      "text/html": [
       "<div>\n",
       "<style>\n",
       "    .dataframe thead tr:only-child th {\n",
       "        text-align: right;\n",
       "    }\n",
       "\n",
       "    .dataframe thead th {\n",
       "        text-align: left;\n",
       "    }\n",
       "\n",
       "    .dataframe tbody tr th {\n",
       "        vertical-align: top;\n",
       "    }\n",
       "</style>\n",
       "<table border=\"1\" class=\"dataframe\">\n",
       "  <thead>\n",
       "    <tr style=\"text-align: right;\">\n",
       "      <th>pred</th>\n",
       "      <th>Bias.EXTREME_LEFT</th>\n",
       "      <th>Bias.LEFT</th>\n",
       "      <th>Bias.LEFT_CENTER</th>\n",
       "      <th>Bias.LEAST_BIASED</th>\n",
       "      <th>Bias.RIGHT_CENTER</th>\n",
       "      <th>Bias.RIGHT</th>\n",
       "      <th>Bias.EXTREME_RIGHT</th>\n",
       "    </tr>\n",
       "    <tr>\n",
       "      <th>site</th>\n",
       "      <th></th>\n",
       "      <th></th>\n",
       "      <th></th>\n",
       "      <th></th>\n",
       "      <th></th>\n",
       "      <th></th>\n",
       "      <th></th>\n",
       "    </tr>\n",
       "  </thead>\n",
       "  <tbody>\n",
       "    <tr>\n",
       "      <th>afp.com</th>\n",
       "      <td>0.000000</td>\n",
       "      <td>0.141022</td>\n",
       "      <td>0.377660</td>\n",
       "      <td>0.381946</td>\n",
       "      <td>0.078662</td>\n",
       "      <td>0.020710</td>\n",
       "      <td>0.000000</td>\n",
       "    </tr>\n",
       "    <tr>\n",
       "      <th>bbc.com</th>\n",
       "      <td>0.006856</td>\n",
       "      <td>0.000000</td>\n",
       "      <td>0.496676</td>\n",
       "      <td>0.461477</td>\n",
       "      <td>0.015996</td>\n",
       "      <td>0.000530</td>\n",
       "      <td>0.018464</td>\n",
       "    </tr>\n",
       "    <tr>\n",
       "      <th>bloomberg.com</th>\n",
       "      <td>0.011402</td>\n",
       "      <td>0.012673</td>\n",
       "      <td>0.364267</td>\n",
       "      <td>0.438891</td>\n",
       "      <td>0.145290</td>\n",
       "      <td>0.024685</td>\n",
       "      <td>0.002792</td>\n",
       "    </tr>\n",
       "    <tr>\n",
       "      <th>breitbart.com</th>\n",
       "      <td>0.011976</td>\n",
       "      <td>0.159030</td>\n",
       "      <td>0.145654</td>\n",
       "      <td>0.074012</td>\n",
       "      <td>0.018269</td>\n",
       "      <td>0.321306</td>\n",
       "      <td>0.269753</td>\n",
       "    </tr>\n",
       "    <tr>\n",
       "      <th>ijr.com</th>\n",
       "      <td>0.075451</td>\n",
       "      <td>0.234267</td>\n",
       "      <td>0.083090</td>\n",
       "      <td>0.000000</td>\n",
       "      <td>0.005208</td>\n",
       "      <td>0.435730</td>\n",
       "      <td>0.166254</td>\n",
       "    </tr>\n",
       "    <tr>\n",
       "      <th>nypost.com</th>\n",
       "      <td>0.006843</td>\n",
       "      <td>0.071254</td>\n",
       "      <td>0.530195</td>\n",
       "      <td>0.023903</td>\n",
       "      <td>0.099475</td>\n",
       "      <td>0.186237</td>\n",
       "      <td>0.082093</td>\n",
       "    </tr>\n",
       "    <tr>\n",
       "      <th>occupydemocrats.com</th>\n",
       "      <td>0.324884</td>\n",
       "      <td>0.306273</td>\n",
       "      <td>0.000000</td>\n",
       "      <td>0.003777</td>\n",
       "      <td>0.000000</td>\n",
       "      <td>0.128736</td>\n",
       "      <td>0.236330</td>\n",
       "    </tr>\n",
       "    <tr>\n",
       "      <th>rightwingnews.com</th>\n",
       "      <td>0.040160</td>\n",
       "      <td>0.089274</td>\n",
       "      <td>0.031941</td>\n",
       "      <td>0.003372</td>\n",
       "      <td>0.013514</td>\n",
       "      <td>0.400170</td>\n",
       "      <td>0.421569</td>\n",
       "    </tr>\n",
       "    <tr>\n",
       "      <th>talkingpointsmemo.com</th>\n",
       "      <td>0.068522</td>\n",
       "      <td>0.389181</td>\n",
       "      <td>0.312956</td>\n",
       "      <td>0.025944</td>\n",
       "      <td>0.032420</td>\n",
       "      <td>0.061167</td>\n",
       "      <td>0.109809</td>\n",
       "    </tr>\n",
       "    <tr>\n",
       "      <th>usatoday.com</th>\n",
       "      <td>0.015432</td>\n",
       "      <td>0.021665</td>\n",
       "      <td>0.371271</td>\n",
       "      <td>0.007602</td>\n",
       "      <td>0.543731</td>\n",
       "      <td>0.000000</td>\n",
       "      <td>0.040300</td>\n",
       "    </tr>\n",
       "    <tr>\n",
       "      <th>wsj.com</th>\n",
       "      <td>0.000000</td>\n",
       "      <td>0.026438</td>\n",
       "      <td>0.647760</td>\n",
       "      <td>0.163722</td>\n",
       "      <td>0.108627</td>\n",
       "      <td>0.045551</td>\n",
       "      <td>0.007904</td>\n",
       "    </tr>\n",
       "  </tbody>\n",
       "</table>\n",
       "</div>"
      ],
      "text/plain": [
       "pred                   Bias.EXTREME_LEFT  Bias.LEFT  Bias.LEFT_CENTER  \\\n",
       "site                                                                    \n",
       "afp.com                         0.000000   0.141022          0.377660   \n",
       "bbc.com                         0.006856   0.000000          0.496676   \n",
       "bloomberg.com                   0.011402   0.012673          0.364267   \n",
       "breitbart.com                   0.011976   0.159030          0.145654   \n",
       "ijr.com                         0.075451   0.234267          0.083090   \n",
       "nypost.com                      0.006843   0.071254          0.530195   \n",
       "occupydemocrats.com             0.324884   0.306273          0.000000   \n",
       "rightwingnews.com               0.040160   0.089274          0.031941   \n",
       "talkingpointsmemo.com           0.068522   0.389181          0.312956   \n",
       "usatoday.com                    0.015432   0.021665          0.371271   \n",
       "wsj.com                         0.000000   0.026438          0.647760   \n",
       "\n",
       "pred                   Bias.LEAST_BIASED  Bias.RIGHT_CENTER  Bias.RIGHT  \\\n",
       "site                                                                      \n",
       "afp.com                         0.381946           0.078662    0.020710   \n",
       "bbc.com                         0.461477           0.015996    0.000530   \n",
       "bloomberg.com                   0.438891           0.145290    0.024685   \n",
       "breitbart.com                   0.074012           0.018269    0.321306   \n",
       "ijr.com                         0.000000           0.005208    0.435730   \n",
       "nypost.com                      0.023903           0.099475    0.186237   \n",
       "occupydemocrats.com             0.003777           0.000000    0.128736   \n",
       "rightwingnews.com               0.003372           0.013514    0.400170   \n",
       "talkingpointsmemo.com           0.025944           0.032420    0.061167   \n",
       "usatoday.com                    0.007602           0.543731    0.000000   \n",
       "wsj.com                         0.163722           0.108627    0.045551   \n",
       "\n",
       "pred                   Bias.EXTREME_RIGHT  \n",
       "site                                       \n",
       "afp.com                          0.000000  \n",
       "bbc.com                          0.018464  \n",
       "bloomberg.com                    0.002792  \n",
       "breitbart.com                    0.269753  \n",
       "ijr.com                          0.166254  \n",
       "nypost.com                       0.082093  \n",
       "occupydemocrats.com              0.236330  \n",
       "rightwingnews.com                0.421569  \n",
       "talkingpointsmemo.com            0.109809  \n",
       "usatoday.com                     0.040300  \n",
       "wsj.com                          0.007904  "
      ]
     },
     "execution_count": 26,
     "metadata": {},
     "output_type": "execute_result"
    }
   ],
   "source": [
    "dfc = df_test.copy()\n",
    "dfc['bias'] = dfc['bias'].astype(str)\n",
    "dfc['pred'] = dfc['pred'].astype(str)\n",
    "r = dfc.groupby(['site', 'pred']).apply(lambda g: len(g)).unstack().fillna(0)[cols]\n",
    "\n",
    "r = (r - r.mean(axis=0)) / np.sqrt(r.var(axis=0)) + (0 - ((r - r.mean(axis=0)) / np.sqrt(r.var(axis=0))).min())\n",
    "r = r / np.repeat(r.sum(axis=1).values[:, None], k, axis=1)\n",
    "r"
   ]
  },
  {
   "cell_type": "code",
   "execution_count": 28,
   "metadata": {
    "collapsed": true
   },
   "outputs": [],
   "source": [
    "def viz(domain):\n",
    "    plt.figure(figsize=(15, 2))\n",
    "    plt.stem(r.ix[domain, :])\n",
    "    plt.xticks(range(k), ticks, rotation=45)\n",
    "    plt.title(domain, size=18)\n",
    "    plt.show()"
   ]
  },
  {
   "cell_type": "code",
   "execution_count": 35,
   "metadata": {},
   "outputs": [
    {
     "data": {
      "image/png": "[encoded data removed]",
      "text/plain": [
       "<matplotlib.figure.Figure at 0x7f502b1fe7f0>"
      ]
     },
     "metadata": {},
     "output_type": "display_data"
    }
   ],
   "source": [
    "viz('bloomberg.com')"
   ]
  },
  {
   "cell_type": "code",
   "execution_count": 30,
   "metadata": {},
   "outputs": [
    {
     "data": {
      "image/png": "[encoded data removed]",
      "text/plain": [
       "<matplotlib.figure.Figure at 0x7f502bd54f28>"
      ]
     },
     "metadata": {},
     "output_type": "display_data"
    }
   ],
   "source": [
    "viz('rightwingnews.com')"
   ]
  },
  {
   "cell_type": "code",
   "execution_count": 31,
   "metadata": {},
   "outputs": [
    {
     "data": {
      "image/png": "[encoded data removed]",
      "text/plain": [
       "<matplotlib.figure.Figure at 0x7f502bd54fd0>"
      ]
     },
     "metadata": {},
     "output_type": "display_data"
    }
   ],
   "source": [
    "viz('ijr.com')"
   ]
  },
  {
   "cell_type": "code",
   "execution_count": 32,
   "metadata": {},
   "outputs": [
    {
     "data": {
      "image/png": "[encoded data removed]",
      "text/plain": [
       "<matplotlib.figure.Figure at 0x7f502c12ff60>"
      ]
     },
     "metadata": {},
     "output_type": "display_data"
    }
   ],
   "source": [
    "viz('bbc.com')"
   ]
  },
  {
   "cell_type": "code",
   "execution_count": 33,
   "metadata": {},
   "outputs": [
    {
     "data": {
      "image/png": "[encoded data removed]",
      "text/plain": [
       "<matplotlib.figure.Figure at 0x7f502c411cf8>"
      ]
     },
     "metadata": {},
     "output_type": "display_data"
    }
   ],
   "source": [
    "viz('occupydemocrats.com')"
   ]
  },
  {
   "cell_type": "code",
   "execution_count": 34,
   "metadata": {},
   "outputs": [
    {
     "data": {
      "text/html": [
       "<div>\n",
       "<style>\n",
       "    .dataframe thead tr:only-child th {\n",
       "        text-align: right;\n",
       "    }\n",
       "\n",
       "    .dataframe thead th {\n",
       "        text-align: left;\n",
       "    }\n",
       "\n",
       "    .dataframe tbody tr th {\n",
       "        vertical-align: top;\n",
       "    }\n",
       "</style>\n",
       "<table border=\"1\" class=\"dataframe\">\n",
       "  <thead>\n",
       "    <tr style=\"text-align: right;\">\n",
       "      <th></th>\n",
       "      <th>title</th>\n",
       "      <th>site</th>\n",
       "      <th>bias</th>\n",
       "      <th>pred</th>\n",
       "      <th>simplified_bias</th>\n",
       "    </tr>\n",
       "  </thead>\n",
       "  <tbody>\n",
       "    <tr>\n",
       "      <th>6</th>\n",
       "      <td>NI budget: Extra £150m found in final deal</td>\n",
       "      <td>bbc.com</td>\n",
       "      <td>Bias.LEFT_CENTER</td>\n",
       "      <td>Bias.LEAST_BIASED</td>\n",
       "      <td>SimplifiedBias.UNBIASED</td>\n",
       "    </tr>\n",
       "    <tr>\n",
       "      <th>10</th>\n",
       "      <td>Constellation Taps Former Beam Executive as Ch...</td>\n",
       "      <td>wsj.com</td>\n",
       "      <td>Bias.RIGHT_CENTER</td>\n",
       "      <td>Bias.LEFT_CENTER</td>\n",
       "      <td>SimplifiedBias.UNBIASED</td>\n",
       "    </tr>\n",
       "    <tr>\n",
       "      <th>11</th>\n",
       "      <td>BBC News - Missing Seaford teenager: Woman arr...</td>\n",
       "      <td>bbc.com</td>\n",
       "      <td>Bias.LEFT_CENTER</td>\n",
       "      <td>Bias.LEFT_CENTER</td>\n",
       "      <td>SimplifiedBias.UNBIASED</td>\n",
       "    </tr>\n",
       "    <tr>\n",
       "      <th>31</th>\n",
       "      <td>Swiss Bank Shares Plummet After SNB Move - WSJ</td>\n",
       "      <td>wsj.com</td>\n",
       "      <td>Bias.RIGHT_CENTER</td>\n",
       "      <td>Bias.RIGHT_CENTER</td>\n",
       "      <td>SimplifiedBias.UNBIASED</td>\n",
       "    </tr>\n",
       "    <tr>\n",
       "      <th>34</th>\n",
       "      <td>Once-Blind Orangutan Returns to Indonesia’s Fo...</td>\n",
       "      <td>wsj.com</td>\n",
       "      <td>Bias.RIGHT_CENTER</td>\n",
       "      <td>Bias.RIGHT</td>\n",
       "      <td>SimplifiedBias.UNBIASED</td>\n",
       "    </tr>\n",
       "    <tr>\n",
       "      <th>43</th>\n",
       "      <td>Ingraham: GOP Establishment Now 'Firmly Entren...</td>\n",
       "      <td>breitbart.com</td>\n",
       "      <td>Bias.RIGHT</td>\n",
       "      <td>Bias.RIGHT</td>\n",
       "      <td>SimplifiedBias.RIGHT</td>\n",
       "    </tr>\n",
       "    <tr>\n",
       "      <th>50</th>\n",
       "      <td>Stoned to death and crucified: While the world...</td>\n",
       "      <td>rightwingnews.com</td>\n",
       "      <td>Bias.EXTREME_RIGHT</td>\n",
       "      <td>Bias.EXTREME_RIGHT</td>\n",
       "      <td>SimplifiedBias.RIGHT</td>\n",
       "    </tr>\n",
       "    <tr>\n",
       "      <th>59</th>\n",
       "      <td>Australian Open 2015 day two: Serena Williams ...</td>\n",
       "      <td>bbc.com</td>\n",
       "      <td>Bias.LEFT_CENTER</td>\n",
       "      <td>Bias.LEFT_CENTER</td>\n",
       "      <td>SimplifiedBias.UNBIASED</td>\n",
       "    </tr>\n",
       "    <tr>\n",
       "      <th>79</th>\n",
       "      <td>Hindustan Unilever Profit Rises 18%</td>\n",
       "      <td>wsj.com</td>\n",
       "      <td>Bias.RIGHT_CENTER</td>\n",
       "      <td>Bias.LEFT_CENTER</td>\n",
       "      <td>SimplifiedBias.UNBIASED</td>\n",
       "    </tr>\n",
       "    <tr>\n",
       "      <th>80</th>\n",
       "      <td>Vikings stadium will showcase Minnesota art</td>\n",
       "      <td>usatoday.com</td>\n",
       "      <td>Bias.LEAST_BIASED</td>\n",
       "      <td>Bias.LEFT_CENTER</td>\n",
       "      <td>SimplifiedBias.UNBIASED</td>\n",
       "    </tr>\n",
       "    <tr>\n",
       "      <th>82</th>\n",
       "      <td>BBC News - Welsh Streets: Eric Pickles overrul...</td>\n",
       "      <td>bbc.com</td>\n",
       "      <td>Bias.LEFT_CENTER</td>\n",
       "      <td>Bias.LEFT_CENTER</td>\n",
       "      <td>SimplifiedBias.UNBIASED</td>\n",
       "    </tr>\n",
       "    <tr>\n",
       "      <th>84</th>\n",
       "      <td>Viacom CEO Earns $44.3 Million for Year</td>\n",
       "      <td>wsj.com</td>\n",
       "      <td>Bias.RIGHT_CENTER</td>\n",
       "      <td>Bias.LEFT_CENTER</td>\n",
       "      <td>SimplifiedBias.UNBIASED</td>\n",
       "    </tr>\n",
       "    <tr>\n",
       "      <th>85</th>\n",
       "      <td>Company That Provided Guns for ‘Taken 3′ Does ...</td>\n",
       "      <td>rightwingnews.com</td>\n",
       "      <td>Bias.EXTREME_RIGHT</td>\n",
       "      <td>Bias.RIGHT</td>\n",
       "      <td>SimplifiedBias.RIGHT</td>\n",
       "    </tr>\n",
       "    <tr>\n",
       "      <th>87</th>\n",
       "      <td>Indonesia approves corruption suspect as polic...</td>\n",
       "      <td>bbc.com</td>\n",
       "      <td>Bias.LEFT_CENTER</td>\n",
       "      <td>Bias.LEFT_CENTER</td>\n",
       "      <td>SimplifiedBias.UNBIASED</td>\n",
       "    </tr>\n",
       "    <tr>\n",
       "      <th>91</th>\n",
       "      <td>The College Football Playoff Final Generated H...</td>\n",
       "      <td>wsj.com</td>\n",
       "      <td>Bias.RIGHT_CENTER</td>\n",
       "      <td>Bias.LEFT_CENTER</td>\n",
       "      <td>SimplifiedBias.UNBIASED</td>\n",
       "    </tr>\n",
       "    <tr>\n",
       "      <th>95</th>\n",
       "      <td>London Housing Weakens as Election Adds to Buy...</td>\n",
       "      <td>bloomberg.com</td>\n",
       "      <td>Bias.LEFT_CENTER</td>\n",
       "      <td>Bias.LEFT_CENTER</td>\n",
       "      <td>SimplifiedBias.UNBIASED</td>\n",
       "    </tr>\n",
       "    <tr>\n",
       "      <th>96</th>\n",
       "      <td>Are Junk Bonds Really a Golden Opportunity?: V...</td>\n",
       "      <td>bloomberg.com</td>\n",
       "      <td>Bias.LEFT_CENTER</td>\n",
       "      <td>Bias.LEFT_CENTER</td>\n",
       "      <td>SimplifiedBias.UNBIASED</td>\n",
       "    </tr>\n",
       "    <tr>\n",
       "      <th>98</th>\n",
       "      <td>BBC Sport - Tiger Woods, Rory McIlroy, links m...</td>\n",
       "      <td>bbc.com</td>\n",
       "      <td>Bias.LEFT_CENTER</td>\n",
       "      <td>Bias.LEFT_CENTER</td>\n",
       "      <td>SimplifiedBias.UNBIASED</td>\n",
       "    </tr>\n",
       "    <tr>\n",
       "      <th>99</th>\n",
       "      <td>BBC Sport - Premier League: Swansea 0-5 Chelsea</td>\n",
       "      <td>bbc.com</td>\n",
       "      <td>Bias.LEFT_CENTER</td>\n",
       "      <td>Bias.LEFT_CENTER</td>\n",
       "      <td>SimplifiedBias.UNBIASED</td>\n",
       "    </tr>\n",
       "    <tr>\n",
       "      <th>101</th>\n",
       "      <td>Huckabee Signs Off Fox, Keeps 2016 Options Open</td>\n",
       "      <td>breitbart.com</td>\n",
       "      <td>Bias.RIGHT</td>\n",
       "      <td>Bias.RIGHT</td>\n",
       "      <td>SimplifiedBias.RIGHT</td>\n",
       "    </tr>\n",
       "  </tbody>\n",
       "</table>\n",
       "</div>"
      ],
      "text/plain": [
       "                                                 title               site  \\\n",
       "6           NI budget: Extra £150m found in final deal            bbc.com   \n",
       "10   Constellation Taps Former Beam Executive as Ch...            wsj.com   \n",
       "11   BBC News - Missing Seaford teenager: Woman arr...            bbc.com   \n",
       "31      Swiss Bank Shares Plummet After SNB Move - WSJ            wsj.com   \n",
       "34   Once-Blind Orangutan Returns to Indonesia’s Fo...            wsj.com   \n",
       "43   Ingraham: GOP Establishment Now 'Firmly Entren...      breitbart.com   \n",
       "50   Stoned to death and crucified: While the world...  rightwingnews.com   \n",
       "59   Australian Open 2015 day two: Serena Williams ...            bbc.com   \n",
       "79                 Hindustan Unilever Profit Rises 18%            wsj.com   \n",
       "80         Vikings stadium will showcase Minnesota art       usatoday.com   \n",
       "82   BBC News - Welsh Streets: Eric Pickles overrul...            bbc.com   \n",
       "84             Viacom CEO Earns $44.3 Million for Year            wsj.com   \n",
       "85   Company That Provided Guns for ‘Taken 3′ Does ...  rightwingnews.com   \n",
       "87   Indonesia approves corruption suspect as polic...            bbc.com   \n",
       "91   The College Football Playoff Final Generated H...            wsj.com   \n",
       "95   London Housing Weakens as Election Adds to Buy...      bloomberg.com   \n",
       "96   Are Junk Bonds Really a Golden Opportunity?: V...      bloomberg.com   \n",
       "98   BBC Sport - Tiger Woods, Rory McIlroy, links m...            bbc.com   \n",
       "99     BBC Sport - Premier League: Swansea 0-5 Chelsea            bbc.com   \n",
       "101    Huckabee Signs Off Fox, Keeps 2016 Options Open      breitbart.com   \n",
       "\n",
       "                   bias                pred          simplified_bias  \n",
       "6      Bias.LEFT_CENTER   Bias.LEAST_BIASED  SimplifiedBias.UNBIASED  \n",
       "10    Bias.RIGHT_CENTER    Bias.LEFT_CENTER  SimplifiedBias.UNBIASED  \n",
       "11     Bias.LEFT_CENTER    Bias.LEFT_CENTER  SimplifiedBias.UNBIASED  \n",
       "31    Bias.RIGHT_CENTER   Bias.RIGHT_CENTER  SimplifiedBias.UNBIASED  \n",
       "34    Bias.RIGHT_CENTER          Bias.RIGHT  SimplifiedBias.UNBIASED  \n",
       "43           Bias.RIGHT          Bias.RIGHT     SimplifiedBias.RIGHT  \n",
       "50   Bias.EXTREME_RIGHT  Bias.EXTREME_RIGHT     SimplifiedBias.RIGHT  \n",
       "59     Bias.LEFT_CENTER    Bias.LEFT_CENTER  SimplifiedBias.UNBIASED  \n",
       "79    Bias.RIGHT_CENTER    Bias.LEFT_CENTER  SimplifiedBias.UNBIASED  \n",
       "80    Bias.LEAST_BIASED    Bias.LEFT_CENTER  SimplifiedBias.UNBIASED  \n",
       "82     Bias.LEFT_CENTER    Bias.LEFT_CENTER  SimplifiedBias.UNBIASED  \n",
       "84    Bias.RIGHT_CENTER    Bias.LEFT_CENTER  SimplifiedBias.UNBIASED  \n",
       "85   Bias.EXTREME_RIGHT          Bias.RIGHT     SimplifiedBias.RIGHT  \n",
       "87     Bias.LEFT_CENTER    Bias.LEFT_CENTER  SimplifiedBias.UNBIASED  \n",
       "91    Bias.RIGHT_CENTER    Bias.LEFT_CENTER  SimplifiedBias.UNBIASED  \n",
       "95     Bias.LEFT_CENTER    Bias.LEFT_CENTER  SimplifiedBias.UNBIASED  \n",
       "96     Bias.LEFT_CENTER    Bias.LEFT_CENTER  SimplifiedBias.UNBIASED  \n",
       "98     Bias.LEFT_CENTER    Bias.LEFT_CENTER  SimplifiedBias.UNBIASED  \n",
       "99     Bias.LEFT_CENTER    Bias.LEFT_CENTER  SimplifiedBias.UNBIASED  \n",
       "101          Bias.RIGHT          Bias.RIGHT     SimplifiedBias.RIGHT  "
      ]
     },
     "execution_count": 34,
     "metadata": {},
     "output_type": "execute_result"
    }
   ],
   "source": [
    "df_test[['title', 'site', 'bias', 'pred', 'simplified_bias']].iloc[:20, :]"
   ]
  }
 ],
 "metadata": {
  "kernelspec": {
   "display_name": "Python 3",
   "language": "python",
   "name": "python3"
  },
  "language_info": {
   "codemirror_mode": {
    "name": "ipython",
    "version": 3
   },
   "file_extension": ".py",
   "mimetype": "text/x-python",
   "name": "python",
   "nbconvert_exporter": "python",
   "pygments_lexer": "ipython3",
   "version": "3.6.2"
  }
 },
 "nbformat": 4,
 "nbformat_minor": 2
}
