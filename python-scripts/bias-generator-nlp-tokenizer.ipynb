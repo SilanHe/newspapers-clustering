{
 "cells": [
  {
   "cell_type": "markdown",
   "metadata": {},
   "source": [
    "## Create a dataframe that stores the site, text and bias of all articles + tokenizes the text using spacy"
   ]
  },
  {
   "cell_type": "code",
   "execution_count": 1,
   "metadata": {
    "collapsed": true
   },
   "outputs": [],
   "source": [
    "import pandas as pd\n",
    "import json\n",
    "import glob\n",
    "import os"
   ]
  },
  {
   "cell_type": "code",
   "execution_count": 2,
   "metadata": {
    "collapsed": true
   },
   "outputs": [],
   "source": [
    "# Where the JSON files are located\n",
    "source = '../data/source/*.json'\n",
    "# Where the processed data will be stored\n",
    "save_directory = '../data/text-spacy-features'\n",
    "\n",
    "if not os.path.exists(save_directory):\n",
    "    os.makedirs(save_directory)"
   ]
  },
  {
   "cell_type": "markdown",
   "metadata": {},
   "source": [
    "Load all JSON files under data/source"
   ]
  },
  {
   "cell_type": "code",
   "execution_count": 3,
   "metadata": {},
   "outputs": [],
   "source": [
    "# returns the last processed df and docs\n",
    "def apply_on_each_json_file(f):\n",
    "    for filename in glob.glob(source):\n",
    "        articles = []\n",
    "        with open(filename, 'r') as file:\n",
    "            for line in file:\n",
    "                articles.append(json.loads(line))\n",
    "        df, docs = f(articles, filename)\n",
    "    return df, docs"
   ]
  },
  {
   "cell_type": "markdown",
   "metadata": {},
   "source": [
    "Select features and remove unknown sites"
   ]
  },
  {
   "cell_type": "code",
   "execution_count": 4,
   "metadata": {
    "collapsed": true
   },
   "outputs": [],
   "source": [
    "def select_features(articles):\n",
    "    df = pd.io.json.json_normalize(articles)\n",
    "    df = df[['uuid', 'thread.site', 'text']]\n",
    "    # Remove cbn.com (no bias defined in spreadsheet)\n",
    "    df = df[df['thread.site'] != 'cbn.com']\n",
    "    return df"
   ]
  },
  {
   "cell_type": "markdown",
   "metadata": {},
   "source": [
    "Find the bias for each article"
   ]
  },
  {
   "cell_type": "code",
   "execution_count": 5,
   "metadata": {
    "collapsed": true
   },
   "outputs": [],
   "source": [
    "from bias import Bias\n",
    "\n",
    "def add_bias_to_df(df):\n",
    "    df['bias'] = df.apply(lambda row: Bias.get_bias_for_domain(row['thread.site']), axis=1)\n",
    "    return df"
   ]
  },
  {
   "cell_type": "markdown",
   "metadata": {},
   "source": [
    "Store the select features"
   ]
  },
  {
   "cell_type": "code",
   "execution_count": 6,
   "metadata": {},
   "outputs": [],
   "source": [
    "import gzip\n",
    "\n",
    "def filename_root(filename):\n",
    "    filename_no_path = os.path.basename(filename)\n",
    "    return save_directory + '/' + filename_no_path\n",
    "\n",
    "def persist_df_and_docs(filename, df, docs):\n",
    "    # store the dataframe\n",
    "    df.to_pickle(filename_root(filename) + '.df_site_text_bias.pickle.gz', compression=\"gzip\")\n",
    "    # store the parsed docs in binary format (doesn't work with pickle)\n",
    "    with gzip.open(filename_root(filename) +'docs.bin.gz', 'wb') as f:\n",
    "        for doc in docs:\n",
    "            f.write(doc.to_bytes())"
   ]
  },
  {
   "cell_type": "markdown",
   "metadata": {},
   "source": [
    "Split the text with spacy's tokenizer"
   ]
  },
  {
   "cell_type": "code",
   "execution_count": 7,
   "metadata": {
    "collapsed": true
   },
   "outputs": [],
   "source": [
    "import spacy\n",
    "nlp = spacy.load('en')"
   ]
  },
  {
   "cell_type": "code",
   "execution_count": 8,
   "metadata": {
    "collapsed": true
   },
   "outputs": [],
   "source": [
    "def tokenize_text(df):\n",
    "    docs = [doc for doc in nlp.pipe(df['text'], batch_size=10000, n_threads=4)]\n",
    "    return docs"
   ]
  },
  {
   "cell_type": "code",
   "execution_count": 9,
   "metadata": {},
   "outputs": [],
   "source": [
    "def process_articles(articles, filename):\n",
    "    df = select_features(articles)\n",
    "    df = add_bias_to_df(df)\n",
    "    docs = %time tokenize_text(df)\n",
    "    %time persist_df_and_docs(filename, df, docs)\n",
    "    print('NLP proccessed {} articles from {}'.format(len(df), filename))\n",
    "    return df, docs"
   ]
  },
  {
   "cell_type": "code",
   "execution_count": 10,
   "metadata": {
    "collapsed": true
   },
   "outputs": [],
   "source": [
    "from spacy.tokens.doc import Doc\n",
    "\n",
    "def read_docs_from_file(filename):\n",
    "    docs = []\n",
    "    with gzip.open(filename, 'rb') as file:\n",
    "        for byte_string in Doc.read_bytes(file):\n",
    "            docs.append(Doc(nlp.vocab).from_bytes(byte_string))\n",
    "    return docs\n",
    "\n",
    "def read_df_and_docs(filename):\n",
    "    # store the dataframe\n",
    "    df = pd.read_pickle(filename_root(filename) + '.df_site_text_bias.pickle.gz', compression=\"gzip\")\n",
    "    # store the parsed docs in binary format (doesn't work with pickle)\n",
    "    docs = read_docs_from_file(filename_root(filename) +'docs.bin.gz')\n",
    "    return df, docs"
   ]
  },
  {
   "cell_type": "markdown",
   "metadata": {},
   "source": [
    "Run the pipeline:"
   ]
  },
  {
   "cell_type": "code",
   "execution_count": 11,
   "metadata": {},
   "outputs": [
    {
     "name": "stdout",
     "output_type": "stream",
     "text": [
      "CPU times: user 2min 13s, sys: 764 ms, total: 2min 14s\n",
      "Wall time: 54.8 s\n",
      "CPU times: user 48.6 s, sys: 421 ms, total: 49.1 s\n",
      "Wall time: 48.7 s\n",
      "NLP proccessed 3437 articles from ../data/source/part-00000-fdfd9a6e-3c71-4540-91f5-559870381531.json\n",
      "CPU times: user 2min 22s, sys: 2.01 s, total: 2min 25s\n",
      "Wall time: 51 s\n",
      "CPU times: user 50.6 s, sys: 472 ms, total: 51 s\n",
      "Wall time: 50.6 s\n",
      "NLP proccessed 4637 articles from ../data/source/part-00001-fdfd9a6e-3c71-4540-91f5-559870381531.json\n",
      "CPU times: user 2min 10s, sys: 667 ms, total: 2min 11s\n",
      "Wall time: 48.8 s\n",
      "CPU times: user 46.4 s, sys: 275 ms, total: 46.6 s\n",
      "Wall time: 46.1 s\n",
      "NLP proccessed 3163 articles from ../data/source/part-00002-fdfd9a6e-3c71-4540-91f5-559870381531.json\n",
      "CPU times: user 4min 6s, sys: 2.67 s, total: 4min 9s\n",
      "Wall time: 1min 19s\n",
      "CPU times: user 53.2 s, sys: 362 ms, total: 53.5 s\n",
      "Wall time: 53 s\n",
      "NLP proccessed 4468 articles from ../data/source/part-00003-fdfd9a6e-3c71-4540-91f5-559870381531.json\n",
      "CPU times: user 4min 5s, sys: 2.49 s, total: 4min 8s\n",
      "Wall time: 1min 18s\n",
      "CPU times: user 55.9 s, sys: 731 ms, total: 56.6 s\n",
      "Wall time: 56.4 s\n",
      "NLP proccessed 4938 articles from ../data/source/part-00004-fdfd9a6e-3c71-4540-91f5-559870381531.json\n",
      "CPU times: user 2min 58s, sys: 1.13 s, total: 2min 59s\n",
      "Wall time: 59.5 s\n",
      "CPU times: user 43.5 s, sys: 333 ms, total: 43.8 s\n",
      "Wall time: 43.4 s\n",
      "NLP proccessed 2899 articles from ../data/source/part-00005-fdfd9a6e-3c71-4540-91f5-559870381531.json\n",
      "CPU times: user 2min 57s, sys: 1.03 s, total: 2min 58s\n",
      "Wall time: 59 s\n",
      "CPU times: user 41.6 s, sys: 330 ms, total: 41.9 s\n",
      "Wall time: 41.4 s\n",
      "NLP proccessed 2819 articles from ../data/source/part-00006-fdfd9a6e-3c71-4540-91f5-559870381531.json\n",
      "CPU times: user 6min 36s, sys: 4.64 s, total: 6min 41s\n",
      "Wall time: 2min 4s\n",
      "CPU times: user 1min 11s, sys: 772 ms, total: 1min 12s\n",
      "Wall time: 1min 12s\n",
      "NLP proccessed 5193 articles from ../data/source/part-00007-fdfd9a6e-3c71-4540-91f5-559870381531.json\n",
      "CPU times: user 4min 27s, sys: 3.56 s, total: 4min 31s\n",
      "Wall time: 1min 30s\n",
      "CPU times: user 48.8 s, sys: 858 ms, total: 49.6 s\n",
      "Wall time: 49.8 s\n",
      "NLP proccessed 2913 articles from ../data/source/part-00008-fdfd9a6e-3c71-4540-91f5-559870381531.json\n",
      "CPU times: user 3min 59s, sys: 1.45 s, total: 4min 1s\n",
      "Wall time: 1min 12s\n",
      "CPU times: user 53.5 s, sys: 544 ms, total: 54.1 s\n",
      "Wall time: 53.7 s\n",
      "NLP proccessed 3965 articles from ../data/source/part-00009-fdfd9a6e-3c71-4540-91f5-559870381531.json\n",
      "CPU times: user 5min 50s, sys: 2.55 s, total: 5min 52s\n",
      "Wall time: 1min 45s\n",
      "CPU times: user 1min 22s, sys: 844 ms, total: 1min 23s\n",
      "Wall time: 1min 23s\n",
      "NLP proccessed 5093 articles from ../data/source/part-00010-fdfd9a6e-3c71-4540-91f5-559870381531.json\n",
      "CPU times: user 3min 11s, sys: 1.85 s, total: 3min 13s\n",
      "Wall time: 1min 1s\n",
      "CPU times: user 38.2 s, sys: 320 ms, total: 38.6 s\n",
      "Wall time: 38.2 s\n",
      "NLP proccessed 2609 articles from ../data/source/part-00011-fdfd9a6e-3c71-4540-91f5-559870381531.json\n",
      "CPU times: user 4min 48s, sys: 1.85 s, total: 4min 50s\n",
      "Wall time: 1min 27s\n",
      "CPU times: user 58.9 s, sys: 421 ms, total: 59.3 s\n",
      "Wall time: 58.8 s\n",
      "NLP proccessed 4562 articles from ../data/source/part-00012-fdfd9a6e-3c71-4540-91f5-559870381531.json\n",
      "CPU times: user 4min 37s, sys: 2.37 s, total: 4min 40s\n",
      "Wall time: 1min 24s\n",
      "CPU times: user 55.5 s, sys: 512 ms, total: 56 s\n",
      "Wall time: 55.7 s\n",
      "NLP proccessed 4335 articles from ../data/source/part-00013-fdfd9a6e-3c71-4540-91f5-559870381531.json\n",
      "CPU times: user 6min 17s, sys: 4.96 s, total: 6min 22s\n",
      "Wall time: 1min 55s\n",
      "CPU times: user 1min 15s, sys: 1.74 s, total: 1min 16s\n",
      "Wall time: 1min 17s\n",
      "NLP proccessed 4702 articles from ../data/source/part-00014-fdfd9a6e-3c71-4540-91f5-559870381531.json\n",
      "CPU times: user 4min 2s, sys: 1.47 s, total: 4min 3s\n",
      "Wall time: 1min 14s\n",
      "CPU times: user 52.9 s, sys: 351 ms, total: 53.3 s\n",
      "Wall time: 52.8 s\n",
      "NLP proccessed 4279 articles from ../data/source/part-00015-fdfd9a6e-3c71-4540-91f5-559870381531.json\n",
      "CPU times: user 5min 51s, sys: 2.89 s, total: 5min 54s\n",
      "Wall time: 1min 49s\n",
      "CPU times: user 1min 3s, sys: 456 ms, total: 1min 4s\n",
      "Wall time: 1min 3s\n",
      "NLP proccessed 5148 articles from ../data/source/part-00016-fdfd9a6e-3c71-4540-91f5-559870381531.json\n",
      "CPU times: user 5min 2s, sys: 2.36 s, total: 5min 5s\n",
      "Wall time: 1min 32s\n",
      "CPU times: user 56.8 s, sys: 408 ms, total: 57.2 s\n",
      "Wall time: 56.8 s\n",
      "NLP proccessed 4655 articles from ../data/source/part-00017-fdfd9a6e-3c71-4540-91f5-559870381531.json\n",
      "CPU times: user 4min 53s, sys: 2.22 s, total: 4min 56s\n",
      "Wall time: 1min 28s\n",
      "CPU times: user 57.7 s, sys: 463 ms, total: 58.1 s\n",
      "Wall time: 57.8 s\n",
      "NLP proccessed 4570 articles from ../data/source/part-00018-fdfd9a6e-3c71-4540-91f5-559870381531.json\n",
      "CPU times: user 4min 34s, sys: 2.37 s, total: 4min 36s\n",
      "Wall time: 1min 23s\n",
      "CPU times: user 1min 8s, sys: 828 ms, total: 1min 8s\n",
      "Wall time: 1min 8s\n",
      "NLP proccessed 4226 articles from ../data/source/part-00019-fdfd9a6e-3c71-4540-91f5-559870381531.json\n",
      "CPU times: user 4min 39s, sys: 1.96 s, total: 4min 41s\n",
      "Wall time: 1min 26s\n",
      "CPU times: user 53.3 s, sys: 331 ms, total: 53.6 s\n",
      "Wall time: 53.2 s\n",
      "NLP proccessed 4575 articles from ../data/source/part-00020-fdfd9a6e-3c71-4540-91f5-559870381531.json\n",
      "CPU times: user 4min 53s, sys: 1.68 s, total: 4min 55s\n",
      "Wall time: 1min 28s\n",
      "CPU times: user 1min 6s, sys: 699 ms, total: 1min 7s\n",
      "Wall time: 1min 6s\n",
      "NLP proccessed 4530 articles from ../data/source/part-00021-fdfd9a6e-3c71-4540-91f5-559870381531.json\n",
      "CPU times: user 2min 28s, sys: 1.19 s, total: 2min 29s\n",
      "Wall time: 49.3 s\n",
      "CPU times: user 33 s, sys: 225 ms, total: 33.3 s\n",
      "Wall time: 32.7 s\n",
      "NLP proccessed 2352 articles from ../data/source/part-00022-fdfd9a6e-3c71-4540-91f5-559870381531.json\n",
      "CPU times: user 3min 16s, sys: 2.15 s, total: 3min 18s\n",
      "Wall time: 1min 6s\n",
      "CPU times: user 40.1 s, sys: 540 ms, total: 40.7 s\n",
      "Wall time: 40.4 s\n",
      "NLP proccessed 2755 articles from ../data/source/part-00023-fdfd9a6e-3c71-4540-91f5-559870381531.json\n",
      "CPU times: user 2min 35s, sys: 1.44 s, total: 2min 36s\n",
      "Wall time: 51.8 s\n",
      "CPU times: user 30.4 s, sys: 236 ms, total: 30.7 s\n",
      "Wall time: 30.1 s\n",
      "NLP proccessed 2241 articles from ../data/source/part-00024-fdfd9a6e-3c71-4540-91f5-559870381531.json\n",
      "CPU times: user 2min 45s, sys: 1.02 s, total: 2min 46s\n",
      "Wall time: 53.1 s\n",
      "CPU times: user 37 s, sys: 305 ms, total: 37.3 s\n",
      "Wall time: 36.8 s\n",
      "NLP proccessed 2369 articles from ../data/source/part-00025-fdfd9a6e-3c71-4540-91f5-559870381531.json\n",
      "CPU times: user 2min 50s, sys: 1.49 s, total: 2min 52s\n",
      "Wall time: 59 s\n",
      "CPU times: user 33.5 s, sys: 291 ms, total: 33.8 s\n",
      "Wall time: 33.3 s\n",
      "NLP proccessed 2133 articles from ../data/source/part-00026-fdfd9a6e-3c71-4540-91f5-559870381531.json\n",
      "CPU times: user 2min 19s, sys: 833 ms, total: 2min 20s\n",
      "Wall time: 44.4 s\n",
      "CPU times: user 31.8 s, sys: 285 ms, total: 32.1 s\n",
      "Wall time: 31.6 s\n",
      "NLP proccessed 2077 articles from ../data/source/part-00027-fdfd9a6e-3c71-4540-91f5-559870381531.json\n",
      "CPU times: user 2min 27s, sys: 1.36 s, total: 2min 28s\n",
      "Wall time: 46.8 s\n",
      "CPU times: user 29.4 s, sys: 251 ms, total: 29.7 s\n",
      "Wall time: 29.2 s\n",
      "NLP proccessed 1809 articles from ../data/source/part-00028-fdfd9a6e-3c71-4540-91f5-559870381531.json\n",
      "CPU times: user 2min 25s, sys: 1.23 s, total: 2min 26s\n",
      "Wall time: 49.5 s\n",
      "CPU times: user 27.1 s, sys: 168 ms, total: 27.3 s\n",
      "Wall time: 26.7 s\n",
      "NLP proccessed 1733 articles from ../data/source/part-00029-fdfd9a6e-3c71-4540-91f5-559870381531.json\n"
     ]
    }
   ],
   "source": [
    "df, docs = apply_on_each_json_file(process_articles)"
   ]
  },
  {
   "cell_type": "markdown",
   "metadata": {},
   "source": [
    "Verify the data has been correctly stored:"
   ]
  },
  {
   "cell_type": "code",
   "execution_count": 12,
   "metadata": {},
   "outputs": [
    {
     "data": {
      "text/html": [
       "<div>\n",
       "<style>\n",
       "    .dataframe thead tr:only-child th {\n",
       "        text-align: right;\n",
       "    }\n",
       "\n",
       "    .dataframe thead th {\n",
       "        text-align: left;\n",
       "    }\n",
       "\n",
       "    .dataframe tbody tr th {\n",
       "        vertical-align: top;\n",
       "    }\n",
       "</style>\n",
       "<table border=\"1\" class=\"dataframe\">\n",
       "  <thead>\n",
       "    <tr style=\"text-align: right;\">\n",
       "      <th></th>\n",
       "      <th>uuid</th>\n",
       "      <th>thread.site</th>\n",
       "      <th>text</th>\n",
       "      <th>bias</th>\n",
       "    </tr>\n",
       "  </thead>\n",
       "  <tbody>\n",
       "    <tr>\n",
       "      <th>0</th>\n",
       "      <td>a2547fd206cf2d182e7f58131b0445e5041be533</td>\n",
       "      <td>washingtonexaminer.com</td>\n",
       "      <td>Class action filed over United’s ‘low fare gua...</td>\n",
       "      <td>Bias.RIGHT_CENTER</td>\n",
       "    </tr>\n",
       "    <tr>\n",
       "      <th>1</th>\n",
       "      <td>6e8a766deb69148bd1a840d3353d10a3d1d4590a</td>\n",
       "      <td>nydailynews.com</td>\n",
       "      <td>Jupiterimages/Getty Images/Goodshoot RF Snuggl...</td>\n",
       "      <td>Bias.LEFT_CENTER</td>\n",
       "    </tr>\n",
       "    <tr>\n",
       "      <th>2</th>\n",
       "      <td>7c14e6606642ecc8c1394458ff1cdf19fda06d06</td>\n",
       "      <td>youngcons.com</td>\n",
       "      <td>Cops have been getting a lot of negative atten...</td>\n",
       "      <td>Bias.RIGHT</td>\n",
       "    </tr>\n",
       "    <tr>\n",
       "      <th>3</th>\n",
       "      <td>608b600a0148d8257145aebb8a29c12199580d01</td>\n",
       "      <td>youngcons.com</td>\n",
       "      <td>Powered by Starbox \\nIn the social media satur...</td>\n",
       "      <td>Bias.RIGHT</td>\n",
       "    </tr>\n",
       "    <tr>\n",
       "      <th>4</th>\n",
       "      <td>f94ff5791ae401d509689e8645c59f91cb8bfc15</td>\n",
       "      <td>nj.com</td>\n",
       "      <td>View/Post Comments 2013 Star-Ledger file photo...</td>\n",
       "      <td>Bias.LEFT_CENTER</td>\n",
       "    </tr>\n",
       "  </tbody>\n",
       "</table>\n",
       "</div>"
      ],
      "text/plain": [
       "                                       uuid             thread.site  \\\n",
       "0  a2547fd206cf2d182e7f58131b0445e5041be533  washingtonexaminer.com   \n",
       "1  6e8a766deb69148bd1a840d3353d10a3d1d4590a         nydailynews.com   \n",
       "2  7c14e6606642ecc8c1394458ff1cdf19fda06d06           youngcons.com   \n",
       "3  608b600a0148d8257145aebb8a29c12199580d01           youngcons.com   \n",
       "4  f94ff5791ae401d509689e8645c59f91cb8bfc15                  nj.com   \n",
       "\n",
       "                                                text               bias  \n",
       "0  Class action filed over United’s ‘low fare gua...  Bias.RIGHT_CENTER  \n",
       "1  Jupiterimages/Getty Images/Goodshoot RF Snuggl...   Bias.LEFT_CENTER  \n",
       "2  Cops have been getting a lot of negative atten...         Bias.RIGHT  \n",
       "3  Powered by Starbox \\nIn the social media satur...         Bias.RIGHT  \n",
       "4  View/Post Comments 2013 Star-Ledger file photo...   Bias.LEFT_CENTER  "
      ]
     },
     "execution_count": 12,
     "metadata": {},
     "output_type": "execute_result"
    }
   ],
   "source": [
    "df, docs = read_df_and_docs('part-00000-fdfd9a6e-3c71-4540-91f5-559870381531.json')\n",
    "df.head()"
   ]
  },
  {
   "cell_type": "code",
   "execution_count": 13,
   "metadata": {},
   "outputs": [
    {
     "data": {
      "text/plain": [
       "[Class action filed over United’s ‘low fare guarantee’ Legal Newsline Staff Writer • | January 29, 2015 | 4:14 pm \n",
       " HOUSTON (Legal Newsline) - A Peoria County, Ill., man sued United Airlines on Jan. 21, alleging misrepresentation of its online fare prices, wrongful conduct and deceptive practices. \n",
       " Scott Coulier alleged United's “low fare guarantee” pricing advertised on its website is fraudulent. He traveled from Peoria International Airport to Orlando Airport on March 1 with two family members, having purchased three one-way tickets in a single transaction on Jan. 26, 2014. He alleged in the suit that he could have bought the tickets for a lower overall price if he had purchased them separately. Please enter your email address below to begin receiving the Politics Today newsletter. You must enter a valid email address in the field above! Thank you for signing up for the Politics Today newsletter! You should receive your first newsletter very soon. We're sorry, there was an error processing your newsletter signup. Please click here to visit our Newsletter Signup Center to register for this newsletter. More Stories BY ETHAN BARTON | 01/30/15 2:28 PM The transparency advocacy group is disputing that the order would significantly reform property seizures. BY LINDA CHAVEZ | 01/30/15 1:19 PM GOP hopefuls are better off coming up with real solutions to U.S. work problems, not blaming immigrants. BY ASHE SCHOW | 01/30/15 12:37 PM Now, outright bans on risky behavior are suddenly coming back into fashion. BY WASHINGTON EXAMINER | 01/29/15 5:54 PM The REINS Act would discourage presidents from becoming too ambitious with their executive actions. BY SEAN REYES | 01/29/15 7:31 PM The Justice Department estimates that as many as 300,000 U.S. children are at risk of being sex trafficked. WEX TV]"
      ]
     },
     "execution_count": 13,
     "metadata": {},
     "output_type": "execute_result"
    }
   ],
   "source": [
    "docs[:1]"
   ]
  }
 ],
 "metadata": {
  "kernelspec": {
   "display_name": "Python 3",
   "language": "python",
   "name": "python3"
  },
  "language_info": {
   "codemirror_mode": {
    "name": "ipython",
    "version": 3
   },
   "file_extension": ".py",
   "mimetype": "text/x-python",
   "name": "python",
   "nbconvert_exporter": "python",
   "pygments_lexer": "ipython3",
   "version": "3.5.2"
  }
 },
 "nbformat": 4,
 "nbformat_minor": 2
}
