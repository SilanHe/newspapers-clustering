{
 "cells": [
  {
   "cell_type": "markdown",
   "metadata": {},
   "source": [
    "# Title NN classifier for Political Bia"
   ]
  },
  {
   "cell_type": "code",
   "execution_count": 1,
   "metadata": {
    "collapsed": true
   },
   "outputs": [],
   "source": [
    "import pandas as pd\n",
    "import numpy as np\n",
    "\n",
    "batch_size = 64"
   ]
  },
  {
   "cell_type": "code",
   "execution_count": 2,
   "metadata": {},
   "outputs": [
    {
     "name": "stdout",
     "output_type": "stream",
     "text": [
      "103262\n"
     ]
    }
   ],
   "source": [
    "df = pd.read_csv(\"../data/source/newsclust.csv\")\n",
    "df = df.query(\"site != 'cbn.com'\")\n",
    "print(len(df))\n",
    "df = df.sample(90000)"
   ]
  },
  {
   "cell_type": "markdown",
   "metadata": {},
   "source": [
    "Compute the bias for each one of the articles, based on the publication's known bias"
   ]
  },
  {
   "cell_type": "code",
   "execution_count": 3,
   "metadata": {},
   "outputs": [
    {
     "data": {
      "text/html": [
       "<div>\n",
       "<style>\n",
       "    .dataframe thead tr:only-child th {\n",
       "        text-align: right;\n",
       "    }\n",
       "\n",
       "    .dataframe thead th {\n",
       "        text-align: left;\n",
       "    }\n",
       "\n",
       "    .dataframe tbody tr th {\n",
       "        vertical-align: top;\n",
       "    }\n",
       "</style>\n",
       "<table border=\"1\" class=\"dataframe\">\n",
       "  <thead>\n",
       "    <tr style=\"text-align: right;\">\n",
       "      <th></th>\n",
       "      <th>Unnamed: 0</th>\n",
       "      <th>date</th>\n",
       "      <th>site</th>\n",
       "      <th>text</th>\n",
       "      <th>title</th>\n",
       "      <th>url</th>\n",
       "      <th>bias</th>\n",
       "    </tr>\n",
       "  </thead>\n",
       "  <tbody>\n",
       "    <tr>\n",
       "      <th>3607</th>\n",
       "      <td>3607</td>\n",
       "      <td>2016-03-07T13:19:00.000+02:00</td>\n",
       "      <td>ft.com</td>\n",
       "      <td>Iran’s hardliners down but not out after poll ...</td>\n",
       "      <td>Iran’s hardliners down but not out after poll ...</td>\n",
       "      <td>http://www.ft.com/cms/s/0/3c499716-e055-11e5-9...</td>\n",
       "      <td>3</td>\n",
       "    </tr>\n",
       "    <tr>\n",
       "      <th>39744</th>\n",
       "      <td>39744</td>\n",
       "      <td>2017-05-13T06:11:00.000+03:00</td>\n",
       "      <td>oppositionreport.com</td>\n",
       "      <td>Democrats Discuss Path To Trump Impeachment — ...</td>\n",
       "      <td>Democrats Discuss Path To Trump Impeachment — ...</td>\n",
       "      <td>http://oppositionreport.com/democrats-discuss-...</td>\n",
       "      <td>0</td>\n",
       "    </tr>\n",
       "  </tbody>\n",
       "</table>\n",
       "</div>"
      ],
      "text/plain": [
       "       Unnamed: 0                           date                  site  \\\n",
       "3607         3607  2016-03-07T13:19:00.000+02:00                ft.com   \n",
       "39744       39744  2017-05-13T06:11:00.000+03:00  oppositionreport.com   \n",
       "\n",
       "                                                    text  \\\n",
       "3607   Iran’s hardliners down but not out after poll ...   \n",
       "39744  Democrats Discuss Path To Trump Impeachment — ...   \n",
       "\n",
       "                                                   title  \\\n",
       "3607   Iran’s hardliners down but not out after poll ...   \n",
       "39744  Democrats Discuss Path To Trump Impeachment — ...   \n",
       "\n",
       "                                                     url  bias  \n",
       "3607   http://www.ft.com/cms/s/0/3c499716-e055-11e5-9...     3  \n",
       "39744  http://oppositionreport.com/democrats-discuss-...     0  "
      ]
     },
     "execution_count": 3,
     "metadata": {},
     "output_type": "execute_result"
    }
   ],
   "source": [
    "from bias import Bias\n",
    "\n",
    "num_classes = 7\n",
    "df['bias'] = df.apply(lambda row: Bias.get_bias_for_domain(row['site']).value, axis=1)\n",
    "df.head(2)"
   ]
  },
  {
   "cell_type": "markdown",
   "metadata": {},
   "source": [
    "Tokenize the text of the articles, create a vocabulary of words"
   ]
  },
  {
   "cell_type": "code",
   "execution_count": 4,
   "metadata": {
    "collapsed": true
   },
   "outputs": [],
   "source": [
    "import spacy\n",
    "nlp = spacy.load('en')\n",
    "nlp.pipeline = []\n",
    "\n",
    "def tokenize_text(texts):\n",
    "    docs = [doc for doc in nlp.pipe(texts, batch_size=500, n_threads=8)]\n",
    "    return docs\n",
    "\n",
    "def is_invalid_token(token):\n",
    "    return token.is_punct or token.is_space or token.like_url or token.like_num or token.is_digit\n",
    "\n",
    "def get_words_for_docs(docs):\n",
    "    return [get_words_ids(doc) for doc in docs]\n",
    "\n",
    "def get_words_ids(doc):\n",
    "    return [token.orth for token in doc if not is_invalid_token(token)]"
   ]
  },
  {
   "cell_type": "code",
   "execution_count": 5,
   "metadata": {},
   "outputs": [],
   "source": [
    "df['docs'] = tokenize_text(df['title'].astype(str))"
   ]
  },
  {
   "cell_type": "code",
   "execution_count": 6,
   "metadata": {},
   "outputs": [
    {
     "data": {
      "text/html": [
       "<div>\n",
       "<style>\n",
       "    .dataframe thead tr:only-child th {\n",
       "        text-align: right;\n",
       "    }\n",
       "\n",
       "    .dataframe thead th {\n",
       "        text-align: left;\n",
       "    }\n",
       "\n",
       "    .dataframe tbody tr th {\n",
       "        vertical-align: top;\n",
       "    }\n",
       "</style>\n",
       "<table border=\"1\" class=\"dataframe\">\n",
       "  <thead>\n",
       "    <tr style=\"text-align: right;\">\n",
       "      <th></th>\n",
       "      <th>Unnamed: 0</th>\n",
       "      <th>date</th>\n",
       "      <th>site</th>\n",
       "      <th>text</th>\n",
       "      <th>title</th>\n",
       "      <th>url</th>\n",
       "      <th>bias</th>\n",
       "      <th>docs</th>\n",
       "      <th>words</th>\n",
       "    </tr>\n",
       "  </thead>\n",
       "  <tbody>\n",
       "    <tr>\n",
       "      <th>3607</th>\n",
       "      <td>3607</td>\n",
       "      <td>2016-03-07T13:19:00.000+02:00</td>\n",
       "      <td>ft.com</td>\n",
       "      <td>Iran’s hardliners down but not out after poll ...</td>\n",
       "      <td>Iran’s hardliners down but not out after poll ...</td>\n",
       "      <td>http://www.ft.com/cms/s/0/3c499716-e055-11e5-9...</td>\n",
       "      <td>3</td>\n",
       "      <td>(Iran, ’s, hardliners, down, but, not, out, af...</td>\n",
       "      <td>[2385, 1402, 295995, 765, 559, 538, 582, 805, ...</td>\n",
       "    </tr>\n",
       "  </tbody>\n",
       "</table>\n",
       "</div>"
      ],
      "text/plain": [
       "      Unnamed: 0                           date    site  \\\n",
       "3607        3607  2016-03-07T13:19:00.000+02:00  ft.com   \n",
       "\n",
       "                                                   text  \\\n",
       "3607  Iran’s hardliners down but not out after poll ...   \n",
       "\n",
       "                                                  title  \\\n",
       "3607  Iran’s hardliners down but not out after poll ...   \n",
       "\n",
       "                                                    url  bias  \\\n",
       "3607  http://www.ft.com/cms/s/0/3c499716-e055-11e5-9...     3   \n",
       "\n",
       "                                                   docs  \\\n",
       "3607  (Iran, ’s, hardliners, down, but, not, out, af...   \n",
       "\n",
       "                                                  words  \n",
       "3607  [2385, 1402, 295995, 765, 559, 538, 582, 805, ...  "
      ]
     },
     "execution_count": 6,
     "metadata": {},
     "output_type": "execute_result"
    }
   ],
   "source": [
    "df['words'] = get_words_for_docs(df['docs'])\n",
    "df.head(1)"
   ]
  },
  {
   "cell_type": "markdown",
   "metadata": {},
   "source": [
    "Keep the most common words as vocabulary, replace the words out of vocabulary by the least frequently used word"
   ]
  },
  {
   "cell_type": "code",
   "execution_count": 7,
   "metadata": {},
   "outputs": [
    {
     "data": {
      "text/plain": [
       "[(504, 18205), (576246, 14814), (522, 12694), (501, 11626), (566, 11506)]"
      ]
     },
     "execution_count": 7,
     "metadata": {},
     "output_type": "execute_result"
    }
   ],
   "source": [
    "from collections import Counter\n",
    "\n",
    "vocab_size = 5000\n",
    "\n",
    "def flatten(l):\n",
    "    flat_list = [item for sublist in l for item in sublist]\n",
    "    return flat_list\n",
    "\n",
    "word_freq = Counter(flatten(df['words']))\n",
    "common_words = word_freq.most_common(vocab_size)\n",
    "word_freq.most_common(5)"
   ]
  },
  {
   "cell_type": "code",
   "execution_count": 8,
   "metadata": {},
   "outputs": [
    {
     "name": "stdout",
     "output_type": "stream",
     "text": [
      "the of and a\n"
     ]
    }
   ],
   "source": [
    "print(nlp.vocab.strings[501], nlp.vocab.strings[510], nlp.vocab.strings[512], nlp.vocab.strings[506])"
   ]
  },
  {
   "cell_type": "code",
   "execution_count": 9,
   "metadata": {},
   "outputs": [
    {
     "name": "stdout",
     "output_type": "stream",
     "text": [
      "5000 3 0 5\n"
     ]
    },
    {
     "data": {
      "text/plain": [
       "4999"
      ]
     },
     "execution_count": 9,
     "metadata": {},
     "output_type": "execute_result"
    }
   ],
   "source": [
    "vocab = {word_id: i for (i, (word_id, freq)) in enumerate(common_words)}\n",
    "print(len(vocab), vocab[501], vocab[504], vocab[510])\n",
    "oov_word = vocab_size - 1\n",
    "oov_word"
   ]
  },
  {
   "cell_type": "code",
   "execution_count": 10,
   "metadata": {},
   "outputs": [
    {
     "data": {
      "text/plain": [
       "3607     [222, 6, 4999, 249, 136, 110, 112, 57, 1018, 3...\n",
       "39744    [141, 4065, 4108, 13, 1, 2773, 955, 3300, 364,...\n",
       "72172    [19, 941, 50, 4999, 4999, 2306, 20, 21, 3138, ...\n",
       "29279    [99, 3, 357, 2, 92, 2232, 86, 9, 11, 1899, 0, ...\n",
       "91596    [4999, 4999, 4999, 4999, 3056, 1581, 276, 4319...\n",
       "Name: words_with_oov, dtype: object"
      ]
     },
     "execution_count": 10,
     "metadata": {},
     "output_type": "execute_result"
    }
   ],
   "source": [
    "def get_words_ids_if_common(words):\n",
    "    return [vocab.get(word, oov_word) for word in words]\n",
    "\n",
    "df['words_with_oov'] = df.apply(lambda row: get_words_ids_if_common(row['words']), axis=1)\n",
    "df['words_with_oov'].head()"
   ]
  },
  {
   "cell_type": "markdown",
   "metadata": {},
   "source": [
    "Look at the distribution of words. The longest article has 15K words, the shortest 21."
   ]
  },
  {
   "cell_type": "code",
   "execution_count": 11,
   "metadata": {},
   "outputs": [
    {
     "data": {
      "text/plain": [
       "(45, 0, 11.102155555555555)"
      ]
     },
     "execution_count": 11,
     "metadata": {},
     "output_type": "execute_result"
    }
   ],
   "source": [
    "lens = np.array(list(map(len, df['words'])))\n",
    "(lens.max(), lens.min(), lens.mean())"
   ]
  },
  {
   "cell_type": "markdown",
   "metadata": {},
   "source": [
    "Split the data for training and validation"
   ]
  },
  {
   "cell_type": "code",
   "execution_count": 12,
   "metadata": {},
   "outputs": [
    {
     "name": "stdout",
     "output_type": "stream",
     "text": [
      "82284\n",
      "7716\n"
     ]
    }
   ],
   "source": [
    "TEST_DOMAINS =  {\n",
    "    'bloomberg.com',\n",
    "     'breitbart.com',\n",
    "     'c-span.org',\n",
    "     'chicagotribune.com',\n",
    "     'chron.com'\n",
    "}\n",
    "df_train =  df.loc[~df['site'].isin(TEST_DOMAINS)]\n",
    "df_test =  df.loc[df['site'].isin(TEST_DOMAINS)]\n",
    "print(len(df_train))\n",
    "print(len(df_test))"
   ]
  },
  {
   "cell_type": "markdown",
   "metadata": {},
   "source": [
    "Enforce all texts to have the same length, truncating or padding if necessary"
   ]
  },
  {
   "cell_type": "code",
   "execution_count": 13,
   "metadata": {},
   "outputs": [
    {
     "name": "stderr",
     "output_type": "stream",
     "text": [
      "Using TensorFlow backend.\n"
     ]
    },
    {
     "data": {
      "text/plain": [
       "array([[   0,    0,    0, ...,   57, 1018, 3518],\n",
       "       [   0,    0,    0, ..., 3300,  364, 1453],\n",
       "       [   0,    0,    0, ...,   97,  516,  299],\n",
       "       ..., \n",
       "       [   0,    0,    0, ...,    7,  870, 1830],\n",
       "       [   0,    0,    0, ...,  101,    4, 4999],\n",
       "       [   0,    0,    0, ...,    5, 4999,  255]], dtype=int32)"
      ]
     },
     "execution_count": 13,
     "metadata": {},
     "output_type": "execute_result"
    }
   ],
   "source": [
    "seq_len = 50\n",
    "\n",
    "from keras.preprocessing import sequence\n",
    "\n",
    "trn = sequence.pad_sequences(df_train['words_with_oov'], maxlen=seq_len, value=0)\n",
    "test = sequence.pad_sequences(df_test['words_with_oov'], maxlen=seq_len, value=0)\n",
    "\n",
    "trn"
   ]
  },
  {
   "cell_type": "markdown",
   "metadata": {},
   "source": [
    "## Single Hidden Layer NN classifier"
   ]
  },
  {
   "cell_type": "markdown",
   "metadata": {},
   "source": [
    "### Keras NN model"
   ]
  },
  {
   "cell_type": "code",
   "execution_count": 14,
   "metadata": {
    "collapsed": true
   },
   "outputs": [],
   "source": [
    "# Force use CPU\n",
    "import os\n",
    "os.environ[\"CUDA_DEVICE_ORDER\"] = \"PCI_BUS_ID\"   # see issue #152\n",
    "os.environ[\"CUDA_VISIBLE_DEVICES\"] = \"\"\n",
    "\n",
    "import keras\n",
    "from keras.models import Sequential, Model\n",
    "from keras.layers import Embedding\n",
    "from keras.layers.core import Flatten, Dense, Dropout\n",
    "from keras.optimizers import Adam"
   ]
  },
  {
   "cell_type": "code",
   "execution_count": 15,
   "metadata": {
    "collapsed": true
   },
   "outputs": [],
   "source": [
    "k_model = Sequential([\n",
    "    Embedding(vocab_size, 32, input_length=seq_len),\n",
    "    Flatten(),\n",
    "    Dense(100, activation='relu'),\n",
    "    Dropout(0.7),\n",
    "    Dense(7, activation='softmax')])"
   ]
  },
  {
   "cell_type": "code",
   "execution_count": 16,
   "metadata": {},
   "outputs": [
    {
     "name": "stdout",
     "output_type": "stream",
     "text": [
      "____________________________________________________________________________________________________\n",
      "Layer (type)                     Output Shape          Param #     Connected to                     \n",
      "====================================================================================================\n",
      "embedding_1 (Embedding)          (None, 50, 32)        160000      embedding_input_1[0][0]          \n",
      "____________________________________________________________________________________________________\n",
      "flatten_1 (Flatten)              (None, 1600)          0           embedding_1[0][0]                \n",
      "____________________________________________________________________________________________________\n",
      "dense_1 (Dense)                  (None, 100)           160100      flatten_1[0][0]                  \n",
      "____________________________________________________________________________________________________\n",
      "dropout_1 (Dropout)              (None, 100)           0           dense_1[0][0]                    \n",
      "____________________________________________________________________________________________________\n",
      "dense_2 (Dense)                  (None, 7)             707         dropout_1[0][0]                  \n",
      "====================================================================================================\n",
      "Total params: 320,807\n",
      "Trainable params: 320,807\n",
      "Non-trainable params: 0\n",
      "____________________________________________________________________________________________________\n"
     ]
    }
   ],
   "source": [
    "k_model.compile(loss='sparse_categorical_crossentropy', optimizer=Adam(), metrics=['accuracy'])\n",
    "k_model.summary()"
   ]
  },
  {
   "cell_type": "code",
   "execution_count": 17,
   "metadata": {},
   "outputs": [
    {
     "name": "stdout",
     "output_type": "stream",
     "text": [
      "[2 5 2]\n",
      "Train on 82284 samples, validate on 7716 samples\n",
      "Epoch 1/3\n",
      "82284/82284 [==============================] - 7s - loss: 1.3418 - acc: 0.4551 - val_loss: 1.1584 - val_acc: 0.6085\n",
      "Epoch 2/3\n",
      "82284/82284 [==============================] - 7s - loss: 1.0179 - acc: 0.6025 - val_loss: 1.0820 - val_acc: 0.5989\n",
      "Epoch 3/3\n",
      "82284/82284 [==============================] - 8s - loss: 0.9033 - acc: 0.6544 - val_loss: 1.1220 - val_acc: 0.5779\n"
     ]
    },
    {
     "data": {
      "text/plain": [
       "<keras.callbacks.History at 0x183fa2cf8>"
      ]
     },
     "execution_count": 17,
     "metadata": {},
     "output_type": "execute_result"
    }
   ],
   "source": [
    "from keras.utils.np_utils import to_categorical\n",
    "\n",
    "labels_train = np.array(df_train['bias'])\n",
    "labels_test = np.array(df_test['bias'])\n",
    "\n",
    "print(labels_test[:3])\n",
    "k_model.fit(trn, labels_train, validation_data=(test, labels_test), nb_epoch=3, batch_size=batch_size)"
   ]
  },
  {
   "cell_type": "markdown",
   "metadata": {},
   "source": [
    "Manually verify some articles. The bias for these articles should match the predicted bias below."
   ]
  },
  {
   "cell_type": "code",
   "execution_count": 18,
   "metadata": {},
   "outputs": [
    {
     "data": {
      "text/html": [
       "<div>\n",
       "<style>\n",
       "    .dataframe thead tr:only-child th {\n",
       "        text-align: right;\n",
       "    }\n",
       "\n",
       "    .dataframe thead th {\n",
       "        text-align: left;\n",
       "    }\n",
       "\n",
       "    .dataframe tbody tr th {\n",
       "        vertical-align: top;\n",
       "    }\n",
       "</style>\n",
       "<table border=\"1\" class=\"dataframe\">\n",
       "  <thead>\n",
       "    <tr style=\"text-align: right;\">\n",
       "      <th></th>\n",
       "      <th>site</th>\n",
       "      <th>bias</th>\n",
       "    </tr>\n",
       "  </thead>\n",
       "  <tbody>\n",
       "    <tr>\n",
       "      <th>71514</th>\n",
       "      <td>chicagotribune.com</td>\n",
       "      <td>2</td>\n",
       "    </tr>\n",
       "    <tr>\n",
       "      <th>59478</th>\n",
       "      <td>breitbart.com</td>\n",
       "      <td>5</td>\n",
       "    </tr>\n",
       "    <tr>\n",
       "      <th>497</th>\n",
       "      <td>chicagotribune.com</td>\n",
       "      <td>2</td>\n",
       "    </tr>\n",
       "    <tr>\n",
       "      <th>34585</th>\n",
       "      <td>c-span.org</td>\n",
       "      <td>3</td>\n",
       "    </tr>\n",
       "    <tr>\n",
       "      <th>36709</th>\n",
       "      <td>breitbart.com</td>\n",
       "      <td>5</td>\n",
       "    </tr>\n",
       "  </tbody>\n",
       "</table>\n",
       "</div>"
      ],
      "text/plain": [
       "                     site  bias\n",
       "71514  chicagotribune.com     2\n",
       "59478       breitbart.com     5\n",
       "497    chicagotribune.com     2\n",
       "34585          c-span.org     3\n",
       "36709       breitbart.com     5"
      ]
     },
     "execution_count": 18,
     "metadata": {},
     "output_type": "execute_result"
    }
   ],
   "source": [
    "df_sample = df_test.sample(5)\n",
    "df_sample[['site', 'bias']]"
   ]
  },
  {
   "cell_type": "code",
   "execution_count": 19,
   "metadata": {},
   "outputs": [
    {
     "name": "stdout",
     "output_type": "stream",
     "text": [
      "precision =  57.7890098497\n"
     ]
    },
    {
     "data": {
      "text/plain": [
       "array([1, 4, 0, 3, 0, 1, 1])"
      ]
     },
     "execution_count": 19,
     "metadata": {},
     "output_type": "execute_result"
    }
   ],
   "source": [
    "sample = sequence.pad_sequences(df_sample['words_with_oov'], maxlen=seq_len, value=0)\n",
    "print(\"precision = \", np.sum(np.argmax(k_model.predict(test), axis=1) == labels_test) * 100.0 / len(labels_test))\n",
    "np.argmax(k_model.predict(sample), axis=0)"
   ]
  },
  {
   "cell_type": "markdown",
   "metadata": {},
   "source": [
    "## Site vectors"
   ]
  },
  {
   "cell_type": "markdown",
   "metadata": {},
   "source": [
    "Remove the last linear classifier"
   ]
  },
  {
   "cell_type": "code",
   "execution_count": 20,
   "metadata": {
    "collapsed": true
   },
   "outputs": [],
   "source": [
    "l4 = k_model.pop()\n",
    "l3 = k_model.pop()"
   ]
  },
  {
   "cell_type": "code",
   "execution_count": 21,
   "metadata": {},
   "outputs": [
    {
     "name": "stdout",
     "output_type": "stream",
     "text": [
      "____________________________________________________________________________________________________\n",
      "Layer (type)                     Output Shape          Param #     Connected to                     \n",
      "====================================================================================================\n",
      "embedding_1 (Embedding)          (None, 50, 32)        160000      embedding_input_1[0][0]          \n",
      "____________________________________________________________________________________________________\n",
      "flatten_1 (Flatten)              (None, 1600)          0           embedding_1[0][0]                \n",
      "____________________________________________________________________________________________________\n",
      "dense_1 (Dense)                  (None, 100)           160100      flatten_1[0][0]                  \n",
      "====================================================================================================\n",
      "Total params: 320,100\n",
      "Trainable params: 320,100\n",
      "Non-trainable params: 0\n",
      "____________________________________________________________________________________________________\n"
     ]
    }
   ],
   "source": [
    "k_model.compile(loss='sparse_categorical_crossentropy', optimizer=Adam(), metrics=['accuracy'])\n",
    "k_model.summary()"
   ]
  },
  {
   "cell_type": "code",
   "execution_count": 22,
   "metadata": {},
   "outputs": [
    {
     "data": {
      "text/plain": [
       "(82284, 100)"
      ]
     },
     "execution_count": 22,
     "metadata": {},
     "output_type": "execute_result"
    }
   ],
   "source": [
    "article_vectors = k_model.predict(trn)\n",
    "article_vectors.shape"
   ]
  },
  {
   "cell_type": "markdown",
   "metadata": {},
   "source": [
    "Generate an average vector of all the article vectors for each site"
   ]
  },
  {
   "cell_type": "code",
   "execution_count": 23,
   "metadata": {},
   "outputs": [
    {
     "data": {
      "text/plain": [
       "(57, 100)"
      ]
     },
     "execution_count": 23,
     "metadata": {},
     "output_type": "execute_result"
    }
   ],
   "source": [
    "site_vectors = []\n",
    "labels = []\n",
    "sample_size = 1000\n",
    "for site in df_train['site'].unique():\n",
    "    site_indexes = np.where(df_train[\"site\"] == site)[0]\n",
    "    if len(site_indexes) > 0:\n",
    "        site_vector = np.mean(article_vectors[site_indexes[:sample_size], :], axis=0)\n",
    "        site_vectors.append(site_vector)\n",
    "        labels.append(site)\n",
    "site_vectors = np.array(site_vectors)\n",
    "site_vectors.shape"
   ]
  },
  {
   "cell_type": "code",
   "execution_count": 24,
   "metadata": {
    "collapsed": true
   },
   "outputs": [],
   "source": [
    "from sklearn.manifold import TSNE\n",
    "\n",
    "tsne_model = TSNE(n_components=2, random_state=0)\n",
    "# np.set_printoptions(suppress=True)\n",
    "site_vectors_2_dim = tsne_model.fit_transform(site_vectors)\n",
    "X_proj = site_vectors_2_dim[:, 0]\n",
    "Y_proj = site_vectors_2_dim[:, 1]"
   ]
  },
  {
   "cell_type": "code",
   "execution_count": 25,
   "metadata": {},
   "outputs": [
    {
     "data": {
      "text/html": [
       "<script>requirejs.config({paths: { 'plotly': ['https://cdn.plot.ly/plotly-latest.min']},});if(!window.Plotly) {{require(['plotly'],function(plotly) {window.Plotly=plotly;});}}</script>"
      ],
      "text/vnd.plotly.v1+html": [
       "<script>requirejs.config({paths: { 'plotly': ['https://cdn.plot.ly/plotly-latest.min']},});if(!window.Plotly) {{require(['plotly'],function(plotly) {window.Plotly=plotly;});}}</script>"
      ]
     },
     "metadata": {},
     "output_type": "display_data"
    }
   ],
   "source": [
    "from plotly.offline import init_notebook_mode, plot, iplot\n",
    "init_notebook_mode(connected=True)\n",
    "\n",
    "from plotly.graph_objs import Bar, Scatter, Figure, Layout, XAxis, YAxis"
   ]
  },
  {
   "cell_type": "code",
   "execution_count": 26,
   "metadata": {},
   "outputs": [
    {
     "data": {
      "application/vnd.plotly.v1+json": {
       "data": [
        {
         "marker": {
          "size": 10
         },
         "mode": "markers+text",
         "text": [
          "ft.com",
          "oppositionreport.com",
          "occupydemocrats.com",
          "latimes.com",
          "thenation.com",
          "politicususa.com",
          "slate.com",
          "rawstory.com",
          "thefederalistpapers.org",
          "cnn.com",
          "seattletimes.com",
          "propublica.org",
          "democracynow.org",
          "sfchronicle.com",
          "theblaze.com",
          "afp.com",
          "conservativetribune.com",
          "dailywire.com",
          "thenewcivilrightsmovement.com",
          "louderwithcrowder.com",
          "washingtonpost.com",
          "thinkprogress.org",
          "nytimes.com",
          "townhall.com",
          "wsj.com",
          "dailycaller.com",
          "redstate.com",
          "thegatewaypundit.com",
          "forbes.com",
          "bbc.com",
          "talkingpointsmemo.com",
          "usatoday.com",
          "mediamatters.org",
          "azcentral.com",
          "allenbwest.com",
          "rightwingnews.com",
          "judicialwatch.org",
          "dailykos.com",
          "economist.com",
          "reuters.com",
          "washingtonexaminer.com",
          "nypost.com",
          "nj.com",
          "dallasnews.com",
          "nydailynews.com",
          "truthfeed.com",
          "youngcons.com",
          "motherjones.com",
          "westernjournalism.com",
          "bizpacreview.com",
          "ijr.com",
          "apnews.com",
          "usherald.com",
          "100percentfedup.com",
          "mrctv.org",
          "conservative101.com",
          "freedomdaily.com"
         ],
         "textposition": "top",
         "type": "scatter",
         "x": [
          -73.75474258977282,
          88.65753787549038,
          104.35276172607473,
          11.694951809858543,
          -16.604995364384855,
          47.32712215136169,
          -75.13668911029824,
          -18.020538240554885,
          -43.37208644066723,
          -44.945608510117054,
          -99.71900790662026,
          34.2628242427071,
          75.00434337397428,
          -31.011730238215417,
          38.96302293727208,
          -110.55788645583434,
          21.403167994231374,
          71.54097496390362,
          63.55788572156767,
          -108.89547113035304,
          80.00789660052574,
          -28.18733333406977,
          -6.477837952913319,
          7.536992479526484,
          -72.51604484549887,
          293.79575180540314,
          -25.240096145105156,
          52.57872192555105,
          -54.77923174546334,
          -138.37023380523186,
          17.789471993395225,
          61.08067584830811,
          57.260764024680306,
          -52.282529052560925,
          88.7087808781045,
          -40.941448584732655,
          90.19903648230016,
          21.25036560168356,
          87.58637425396263,
          -80.23912815650857,
          -163.1512387990651,
          -16.845070357433556,
          -35.17925816105599,
          -38.90328380653018,
          -21.663539725738936,
          42.34145540213558,
          61.59338052286837,
          1.3608272560700059,
          -5.684049302912179,
          31.240599999454858,
          1.9087811513979778,
          -77.71988549884037,
          -44.018800278791716,
          16.13958127523339,
          -75.48249960008218,
          -5.499026136542189,
          36.76579309201274
         ],
         "y": [
          -15.761990263551676,
          62.949759460447936,
          42.04737016393283,
          -61.64018275208005,
          289.98029503990045,
          65.8115283048168,
          83.89638874786894,
          -14.401823238469818,
          43.832906165440605,
          -8.628847193542773,
          -41.29738839317085,
          -69.61999802187587,
          94.43807649640596,
          14.073134026763414,
          31.51264141424052,
          33.07134489032086,
          75.3033656724561,
          -43.50941491106612,
          47.778304870249826,
          -0.4221293058490434,
          -319.0811739397804,
          107.89489282152313,
          -89.24010334272864,
          -30.815346003601533,
          -52.69236566543622,
          228.8942514655252,
          59.59811049189501,
          -120.56196812426393,
          -32.89479032575168,
          61.6808762828244,
          20.815819980821015,
          -76.32959474970983,
          -9.286117366218734,
          -71.06219862557879,
          7.822010773434827,
          80.97369765744402,
          -19.265484689403998,
          -99.96193251635502,
          -98.62928963164326,
          15.988412050745916,
          -258.88765691281475,
          -43.93042140631376,
          -95.47857259724499,
          -49.386580031930514,
          -69.57556788132864,
          128.8133211314988,
          20.310166847930173,
          3.5506918519718127,
          72.91115488158785,
          -3.879407780005701,
          98.1567614398114,
          -83.33295203787911,
          -132.25344913502823,
          51.663702164200664,
          50.539731577174955,
          39.52850299950943,
          104.71690747133563
         ]
        }
       ],
       "layout": {
        "autosize": false,
        "height": 700,
        "width": 1000
       }
      },
      "text/html": [
       "<div id=\"80028b31-e48a-4b07-aec0-c7396166b49f\" style=\"height: 700px; width: 1000px;\" class=\"plotly-graph-div\"></div><script type=\"text/javascript\">require([\"plotly\"], function(Plotly) { window.PLOTLYENV=window.PLOTLYENV || {};window.PLOTLYENV.BASE_URL=\"https://plot.ly\";Plotly.newPlot(\"80028b31-e48a-4b07-aec0-c7396166b49f\", [{\"textposition\": \"top\", \"marker\": {\"size\": 10}, \"type\": \"scatter\", \"x\": [-73.75474258977282, 88.65753787549038, 104.35276172607473, 11.694951809858543, -16.604995364384855, 47.32712215136169, -75.13668911029824, -18.020538240554885, -43.37208644066723, -44.945608510117054, -99.71900790662026, 34.2628242427071, 75.00434337397428, -31.011730238215417, 38.96302293727208, -110.55788645583434, 21.403167994231374, 71.54097496390362, 63.55788572156767, -108.89547113035304, 80.00789660052574, -28.18733333406977, -6.477837952913319, 7.536992479526484, -72.51604484549887, 293.79575180540314, -25.240096145105156, 52.57872192555105, -54.77923174546334, -138.37023380523186, 17.789471993395225, 61.08067584830811, 57.260764024680306, -52.282529052560925, 88.7087808781045, -40.941448584732655, 90.19903648230016, 21.25036560168356, 87.58637425396263, -80.23912815650857, -163.1512387990651, -16.845070357433556, -35.17925816105599, -38.90328380653018, -21.663539725738936, 42.34145540213558, 61.59338052286837, 1.3608272560700059, -5.684049302912179, 31.240599999454858, 1.9087811513979778, -77.71988549884037, -44.018800278791716, 16.13958127523339, -75.48249960008218, -5.499026136542189, 36.76579309201274], \"mode\": \"markers+text\", \"text\": [\"ft.com\", \"oppositionreport.com\", \"occupydemocrats.com\", \"latimes.com\", \"thenation.com\", \"politicususa.com\", \"slate.com\", \"rawstory.com\", \"thefederalistpapers.org\", \"cnn.com\", \"seattletimes.com\", \"propublica.org\", \"democracynow.org\", \"sfchronicle.com\", \"theblaze.com\", \"afp.com\", \"conservativetribune.com\", \"dailywire.com\", \"thenewcivilrightsmovement.com\", \"louderwithcrowder.com\", \"washingtonpost.com\", \"thinkprogress.org\", \"nytimes.com\", \"townhall.com\", \"wsj.com\", \"dailycaller.com\", \"redstate.com\", \"thegatewaypundit.com\", \"forbes.com\", \"bbc.com\", \"talkingpointsmemo.com\", \"usatoday.com\", \"mediamatters.org\", \"azcentral.com\", \"allenbwest.com\", \"rightwingnews.com\", \"judicialwatch.org\", \"dailykos.com\", \"economist.com\", \"reuters.com\", \"washingtonexaminer.com\", \"nypost.com\", \"nj.com\", \"dallasnews.com\", \"nydailynews.com\", \"truthfeed.com\", \"youngcons.com\", \"motherjones.com\", \"westernjournalism.com\", \"bizpacreview.com\", \"ijr.com\", \"apnews.com\", \"usherald.com\", \"100percentfedup.com\", \"mrctv.org\", \"conservative101.com\", \"freedomdaily.com\"], \"y\": [-15.761990263551676, 62.949759460447936, 42.04737016393283, -61.64018275208005, 289.98029503990045, 65.8115283048168, 83.89638874786894, -14.401823238469818, 43.832906165440605, -8.628847193542773, -41.29738839317085, -69.61999802187587, 94.43807649640596, 14.073134026763414, 31.51264141424052, 33.07134489032086, 75.3033656724561, -43.50941491106612, 47.778304870249826, -0.4221293058490434, -319.0811739397804, 107.89489282152313, -89.24010334272864, -30.815346003601533, -52.69236566543622, 228.8942514655252, 59.59811049189501, -120.56196812426393, -32.89479032575168, 61.6808762828244, 20.815819980821015, -76.32959474970983, -9.286117366218734, -71.06219862557879, 7.822010773434827, 80.97369765744402, -19.265484689403998, -99.96193251635502, -98.62928963164326, 15.988412050745916, -258.88765691281475, -43.93042140631376, -95.47857259724499, -49.386580031930514, -69.57556788132864, 128.8133211314988, 20.310166847930173, 3.5506918519718127, 72.91115488158785, -3.879407780005701, 98.1567614398114, -83.33295203787911, -132.25344913502823, 51.663702164200664, 50.539731577174955, 39.52850299950943, 104.71690747133563]}], {\"autosize\": false, \"height\": 700, \"width\": 1000}, {\"showLink\": false, \"linkText\": \"Export to plot.ly\"})});</script>"
      ],
      "text/vnd.plotly.v1+html": [
       "<div id=\"80028b31-e48a-4b07-aec0-c7396166b49f\" style=\"height: 700px; width: 1000px;\" class=\"plotly-graph-div\"></div><script type=\"text/javascript\">require([\"plotly\"], function(Plotly) { window.PLOTLYENV=window.PLOTLYENV || {};window.PLOTLYENV.BASE_URL=\"https://plot.ly\";Plotly.newPlot(\"80028b31-e48a-4b07-aec0-c7396166b49f\", [{\"textposition\": \"top\", \"marker\": {\"size\": 10}, \"type\": \"scatter\", \"x\": [-73.75474258977282, 88.65753787549038, 104.35276172607473, 11.694951809858543, -16.604995364384855, 47.32712215136169, -75.13668911029824, -18.020538240554885, -43.37208644066723, -44.945608510117054, -99.71900790662026, 34.2628242427071, 75.00434337397428, -31.011730238215417, 38.96302293727208, -110.55788645583434, 21.403167994231374, 71.54097496390362, 63.55788572156767, -108.89547113035304, 80.00789660052574, -28.18733333406977, -6.477837952913319, 7.536992479526484, -72.51604484549887, 293.79575180540314, -25.240096145105156, 52.57872192555105, -54.77923174546334, -138.37023380523186, 17.789471993395225, 61.08067584830811, 57.260764024680306, -52.282529052560925, 88.7087808781045, -40.941448584732655, 90.19903648230016, 21.25036560168356, 87.58637425396263, -80.23912815650857, -163.1512387990651, -16.845070357433556, -35.17925816105599, -38.90328380653018, -21.663539725738936, 42.34145540213558, 61.59338052286837, 1.3608272560700059, -5.684049302912179, 31.240599999454858, 1.9087811513979778, -77.71988549884037, -44.018800278791716, 16.13958127523339, -75.48249960008218, -5.499026136542189, 36.76579309201274], \"mode\": \"markers+text\", \"text\": [\"ft.com\", \"oppositionreport.com\", \"occupydemocrats.com\", \"latimes.com\", \"thenation.com\", \"politicususa.com\", \"slate.com\", \"rawstory.com\", \"thefederalistpapers.org\", \"cnn.com\", \"seattletimes.com\", \"propublica.org\", \"democracynow.org\", \"sfchronicle.com\", \"theblaze.com\", \"afp.com\", \"conservativetribune.com\", \"dailywire.com\", \"thenewcivilrightsmovement.com\", \"louderwithcrowder.com\", \"washingtonpost.com\", \"thinkprogress.org\", \"nytimes.com\", \"townhall.com\", \"wsj.com\", \"dailycaller.com\", \"redstate.com\", \"thegatewaypundit.com\", \"forbes.com\", \"bbc.com\", \"talkingpointsmemo.com\", \"usatoday.com\", \"mediamatters.org\", \"azcentral.com\", \"allenbwest.com\", \"rightwingnews.com\", \"judicialwatch.org\", \"dailykos.com\", \"economist.com\", \"reuters.com\", \"washingtonexaminer.com\", \"nypost.com\", \"nj.com\", \"dallasnews.com\", \"nydailynews.com\", \"truthfeed.com\", \"youngcons.com\", \"motherjones.com\", \"westernjournalism.com\", \"bizpacreview.com\", \"ijr.com\", \"apnews.com\", \"usherald.com\", \"100percentfedup.com\", \"mrctv.org\", \"conservative101.com\", \"freedomdaily.com\"], \"y\": [-15.761990263551676, 62.949759460447936, 42.04737016393283, -61.64018275208005, 289.98029503990045, 65.8115283048168, 83.89638874786894, -14.401823238469818, 43.832906165440605, -8.628847193542773, -41.29738839317085, -69.61999802187587, 94.43807649640596, 14.073134026763414, 31.51264141424052, 33.07134489032086, 75.3033656724561, -43.50941491106612, 47.778304870249826, -0.4221293058490434, -319.0811739397804, 107.89489282152313, -89.24010334272864, -30.815346003601533, -52.69236566543622, 228.8942514655252, 59.59811049189501, -120.56196812426393, -32.89479032575168, 61.6808762828244, 20.815819980821015, -76.32959474970983, -9.286117366218734, -71.06219862557879, 7.822010773434827, 80.97369765744402, -19.265484689403998, -99.96193251635502, -98.62928963164326, 15.988412050745916, -258.88765691281475, -43.93042140631376, -95.47857259724499, -49.386580031930514, -69.57556788132864, 128.8133211314988, 20.310166847930173, 3.5506918519718127, 72.91115488158785, -3.879407780005701, 98.1567614398114, -83.33295203787911, -132.25344913502823, 51.663702164200664, 50.539731577174955, 39.52850299950943, 104.71690747133563]}], {\"autosize\": false, \"height\": 700, \"width\": 1000}, {\"showLink\": false, \"linkText\": \"Export to plot.ly\"})});</script>"
      ]
     },
     "metadata": {},
     "output_type": "display_data"
    }
   ],
   "source": [
    "trace = Scatter(x=X_proj, y=Y_proj, mode='markers+text', text=labels, textposition='top',  marker=dict(size=10))\n",
    "iplot({\n",
    "    'data': [trace],\n",
    "    'layout': Layout(\n",
    "        #xaxis=XAxis(title='Left vs Right'), \n",
    "        #yaxis=YAxis(title='Biased vs Factual'),\n",
    "        autosize=False,\n",
    "        width=1000,\n",
    "        height=700)},\n",
    "    show_link=False\n",
    ")"
   ]
  },
  {
   "cell_type": "markdown",
   "metadata": {},
   "source": [
    "### PCA Analysis"
   ]
  },
  {
   "cell_type": "code",
   "execution_count": 27,
   "metadata": {
    "collapsed": true
   },
   "outputs": [],
   "source": [
    "from sklearn.decomposition import PCA\n",
    "pca = PCA(n_components=2)\n",
    "site_vectors_pca = pca.fit(site_vectors).components_"
   ]
  },
  {
   "cell_type": "code",
   "execution_count": 28,
   "metadata": {},
   "outputs": [
    {
     "data": {
      "application/vnd.plotly.v1+json": {
       "data": [
        {
         "marker": {
          "size": 10
         },
         "mode": "markers+text",
         "text": [
          "ft.com",
          "oppositionreport.com",
          "occupydemocrats.com",
          "latimes.com",
          "thenation.com",
          "politicususa.com",
          "slate.com",
          "rawstory.com",
          "thefederalistpapers.org",
          "cnn.com",
          "seattletimes.com",
          "propublica.org",
          "democracynow.org",
          "sfchronicle.com",
          "theblaze.com",
          "afp.com",
          "conservativetribune.com",
          "dailywire.com",
          "thenewcivilrightsmovement.com",
          "louderwithcrowder.com",
          "washingtonpost.com",
          "thinkprogress.org",
          "nytimes.com",
          "townhall.com",
          "wsj.com",
          "dailycaller.com",
          "redstate.com",
          "thegatewaypundit.com",
          "forbes.com",
          "bbc.com",
          "talkingpointsmemo.com",
          "usatoday.com",
          "mediamatters.org",
          "azcentral.com",
          "allenbwest.com",
          "rightwingnews.com",
          "judicialwatch.org",
          "dailykos.com",
          "economist.com",
          "reuters.com",
          "washingtonexaminer.com",
          "nypost.com",
          "nj.com",
          "dallasnews.com",
          "nydailynews.com",
          "truthfeed.com",
          "youngcons.com",
          "motherjones.com",
          "westernjournalism.com",
          "bizpacreview.com",
          "ijr.com",
          "apnews.com",
          "usherald.com",
          "100percentfedup.com",
          "mrctv.org",
          "conservative101.com",
          "freedomdaily.com"
         ],
         "textposition": "top",
         "type": "scatter",
         "x": [
          0.0022554483540048187,
          0.13077498040687208,
          0.09868509020417546,
          0.20633499091531732,
          -0.1098715967361354,
          0.14412514506888788,
          0.0014810075792084162,
          -0.07269339727426088,
          -0.03565139177875477,
          -0.030390792424386283,
          0.16131161812390976,
          -0.01765667440116663,
          0.006662926395636387,
          0.16900957622780713,
          0.18856359815557514,
          -0.03096638067622734,
          0.13272120065989831,
          0.18622275693928567,
          -0.045359553091902045,
          -0.05567467582112731,
          -0.032715703269631725,
          -0.011621953677785193,
          0.10341136561331879,
          0.2361272827855169,
          0.19090699102331646,
          -0.03059089209665817,
          -0.058926388784495104,
          0.058729471299004125,
          -0.07243854229687605,
          -0.025566345365788445,
          -0.03292031616981332,
          0.02085474083084186,
          -0.00644527586922859,
          -0.05739938307177092,
          0.183610134699772,
          -0.04400151633271611,
          0.08452286349601115,
          -0.025576420267797384,
          0.002885387818740083,
          -0.09231439193895427,
          -0.0050250137033842675,
          0.14015320921232968,
          -0.024747923403633628,
          0.03057884301189306,
          -0.0203279328245844,
          0.15129588112972214,
          -0.06299973527062289,
          0.16264318113988263,
          -0.06000818840947039,
          0.07617535387613368,
          -0.012109515318061953,
          -0.04241071183015374,
          -0.018530050312119527,
          0.08755799139590766,
          -0.00029358232825151177,
          0.16922957495329594,
          0.01186687001998035,
          -0.0028255407070888377,
          -0.041791095329290984,
          0.10209409899604514,
          -0.04259436821740015,
          0.14828331406462908,
          0.06733258071643308,
          0.13401510814464299,
          0.003867884599615365,
          0.04748910480904214,
          0.00917198619449563,
          0.01562616862861961,
          0.1925611903600415,
          -0.03661876143279213,
          -0.003702788869149549,
          0.23283459812064944,
          -0.07030390669922602,
          0.159507139842975,
          -0.02369648045289879,
          0.11322916208321014,
          -0.07028451357040641,
          -0.03796854475429247,
          -0.023437135677882106,
          0.002363423371095761,
          -0.10583077289386324,
          0.20524278527628612,
          -0.10441619474697039,
          0.19574094337068784,
          -0.03195510849311939,
          0.11003103640813952,
          -0.026162482080574447,
          -0.009721295218293374,
          -0.03569095288399268,
          0.1722295012610771,
          0.04203912164358041,
          0.12777296491205398,
          0.033410968839953974,
          0.08233712509473817,
          0.1155530175712718,
          0.16726823750103514,
          -0.03689983537681687,
          0.10109003429815705,
          -0.02512178820620225,
          -0.11061630429634936
         ],
         "y": [
          -0.06829137293742982,
          0.14908590491145363,
          0.018066474220687967,
          -0.02612674905589496,
          0.17678282792575284,
          -0.028368017226745854,
          -0.07007138990664588,
          0.007524880045184318,
          0.05018265642865653,
          -0.01638499849945669,
          0.1395504430772416,
          0.06741187869502198,
          0.03192426941446903,
          0.1509538185450289,
          -0.01437401612719709,
          0.13759720924082455,
          -0.023543567789882286,
          -0.12426449232239374,
          0.17583144161012593,
          0.04837091408715529,
          0.16050550320085605,
          -0.049206466707233394,
          0.05989705637000728,
          -0.07404271623893678,
          -0.019588471191121077,
          0.0022442719103740907,
          0.08165586859793554,
          -0.04380337102303568,
          0.011510084339089822,
          0.12194752628590128,
          0.02578158782745512,
          -0.03020871282815545,
          0.0013295264423804909,
          0.16722660444545556,
          0.16527967028453802,
          0.09250142850226187,
          0.008280186452853716,
          0.02179466808030311,
          -0.019085571805505366,
          0.19509608647999552,
          -0.00827407107119499,
          0.1277718059783242,
          -0.01978372027823776,
          -0.11534572656017292,
          0.09562657116830549,
          0.01850904939802161,
          0.19120129458174734,
          0.12272737165700381,
          0.18347865796348745,
          0.06765301256660167,
          -0.033323452403617226,
          0.04625525723438368,
          -0.022004363602086154,
          -0.024085869624765836,
          0.013398839814007742,
          -0.05364053443383511,
          -0.10032004087355655,
          0.007300722034323853,
          0.07995637177377067,
          0.11907324402139949,
          -0.04672494071936392,
          0.10894460665756986,
          -0.12678109760745113,
          0.1311461700513909,
          -0.07164509440251206,
          0.060265558658257105,
          -0.041927325397399316,
          0.025438059794712305,
          0.14354252044235827,
          0.02339633463473926,
          -0.02040597800542862,
          -0.026183603908572283,
          0.1455220534371114,
          0.1279921086150354,
          0.024979508935872946,
          -0.08017103200173684,
          0.14820453319177995,
          0.1672972226079152,
          -0.010916891944703983,
          -0.053926505127596856,
          0.2239205635042432,
          -0.08946229238441981,
          0.14983795629308538,
          0.17388034338220512,
          0.0488055399115476,
          0.09589021934473714,
          -0.03024021556513189,
          -0.08573629233175684,
          0.02109516139101924,
          0.17141573741354824,
          -0.1023648945633428,
          -0.08116281140570811,
          0.045514809839466666,
          -0.13177129200267768,
          0.11690304514482386,
          0.12019282158883082,
          0.1581357330849358,
          -0.014188106292459719,
          0.1191329528333713,
          0.20025257963305315
         ]
        }
       ],
       "layout": {
        "autosize": false,
        "height": 700,
        "width": 1000
       }
      },
      "text/html": [
       "<div id=\"7f48d203-71be-49c9-96f1-2d67c3dfc02f\" style=\"height: 700px; width: 1000px;\" class=\"plotly-graph-div\"></div><script type=\"text/javascript\">require([\"plotly\"], function(Plotly) { window.PLOTLYENV=window.PLOTLYENV || {};window.PLOTLYENV.BASE_URL=\"https://plot.ly\";Plotly.newPlot(\"7f48d203-71be-49c9-96f1-2d67c3dfc02f\", [{\"textposition\": \"top\", \"marker\": {\"size\": 10}, \"type\": \"scatter\", \"x\": [0.0022554483540048187, 0.13077498040687208, 0.09868509020417546, 0.20633499091531732, -0.1098715967361354, 0.14412514506888788, 0.0014810075792084162, -0.07269339727426088, -0.03565139177875477, -0.030390792424386283, 0.16131161812390976, -0.01765667440116663, 0.006662926395636387, 0.16900957622780713, 0.18856359815557514, -0.03096638067622734, 0.13272120065989831, 0.18622275693928567, -0.045359553091902045, -0.05567467582112731, -0.032715703269631725, -0.011621953677785193, 0.10341136561331879, 0.2361272827855169, 0.19090699102331646, -0.03059089209665817, -0.058926388784495104, 0.058729471299004125, -0.07243854229687605, -0.025566345365788445, -0.03292031616981332, 0.02085474083084186, -0.00644527586922859, -0.05739938307177092, 0.183610134699772, -0.04400151633271611, 0.08452286349601115, -0.025576420267797384, 0.002885387818740083, -0.09231439193895427, -0.0050250137033842675, 0.14015320921232968, -0.024747923403633628, 0.03057884301189306, -0.0203279328245844, 0.15129588112972214, -0.06299973527062289, 0.16264318113988263, -0.06000818840947039, 0.07617535387613368, -0.012109515318061953, -0.04241071183015374, -0.018530050312119527, 0.08755799139590766, -0.00029358232825151177, 0.16922957495329594, 0.01186687001998035, -0.0028255407070888377, -0.041791095329290984, 0.10209409899604514, -0.04259436821740015, 0.14828331406462908, 0.06733258071643308, 0.13401510814464299, 0.003867884599615365, 0.04748910480904214, 0.00917198619449563, 0.01562616862861961, 0.1925611903600415, -0.03661876143279213, -0.003702788869149549, 0.23283459812064944, -0.07030390669922602, 0.159507139842975, -0.02369648045289879, 0.11322916208321014, -0.07028451357040641, -0.03796854475429247, -0.023437135677882106, 0.002363423371095761, -0.10583077289386324, 0.20524278527628612, -0.10441619474697039, 0.19574094337068784, -0.03195510849311939, 0.11003103640813952, -0.026162482080574447, -0.009721295218293374, -0.03569095288399268, 0.1722295012610771, 0.04203912164358041, 0.12777296491205398, 0.033410968839953974, 0.08233712509473817, 0.1155530175712718, 0.16726823750103514, -0.03689983537681687, 0.10109003429815705, -0.02512178820620225, -0.11061630429634936], \"mode\": \"markers+text\", \"text\": [\"ft.com\", \"oppositionreport.com\", \"occupydemocrats.com\", \"latimes.com\", \"thenation.com\", \"politicususa.com\", \"slate.com\", \"rawstory.com\", \"thefederalistpapers.org\", \"cnn.com\", \"seattletimes.com\", \"propublica.org\", \"democracynow.org\", \"sfchronicle.com\", \"theblaze.com\", \"afp.com\", \"conservativetribune.com\", \"dailywire.com\", \"thenewcivilrightsmovement.com\", \"louderwithcrowder.com\", \"washingtonpost.com\", \"thinkprogress.org\", \"nytimes.com\", \"townhall.com\", \"wsj.com\", \"dailycaller.com\", \"redstate.com\", \"thegatewaypundit.com\", \"forbes.com\", \"bbc.com\", \"talkingpointsmemo.com\", \"usatoday.com\", \"mediamatters.org\", \"azcentral.com\", \"allenbwest.com\", \"rightwingnews.com\", \"judicialwatch.org\", \"dailykos.com\", \"economist.com\", \"reuters.com\", \"washingtonexaminer.com\", \"nypost.com\", \"nj.com\", \"dallasnews.com\", \"nydailynews.com\", \"truthfeed.com\", \"youngcons.com\", \"motherjones.com\", \"westernjournalism.com\", \"bizpacreview.com\", \"ijr.com\", \"apnews.com\", \"usherald.com\", \"100percentfedup.com\", \"mrctv.org\", \"conservative101.com\", \"freedomdaily.com\"], \"y\": [-0.06829137293742982, 0.14908590491145363, 0.018066474220687967, -0.02612674905589496, 0.17678282792575284, -0.028368017226745854, -0.07007138990664588, 0.007524880045184318, 0.05018265642865653, -0.01638499849945669, 0.1395504430772416, 0.06741187869502198, 0.03192426941446903, 0.1509538185450289, -0.01437401612719709, 0.13759720924082455, -0.023543567789882286, -0.12426449232239374, 0.17583144161012593, 0.04837091408715529, 0.16050550320085605, -0.049206466707233394, 0.05989705637000728, -0.07404271623893678, -0.019588471191121077, 0.0022442719103740907, 0.08165586859793554, -0.04380337102303568, 0.011510084339089822, 0.12194752628590128, 0.02578158782745512, -0.03020871282815545, 0.0013295264423804909, 0.16722660444545556, 0.16527967028453802, 0.09250142850226187, 0.008280186452853716, 0.02179466808030311, -0.019085571805505366, 0.19509608647999552, -0.00827407107119499, 0.1277718059783242, -0.01978372027823776, -0.11534572656017292, 0.09562657116830549, 0.01850904939802161, 0.19120129458174734, 0.12272737165700381, 0.18347865796348745, 0.06765301256660167, -0.033323452403617226, 0.04625525723438368, -0.022004363602086154, -0.024085869624765836, 0.013398839814007742, -0.05364053443383511, -0.10032004087355655, 0.007300722034323853, 0.07995637177377067, 0.11907324402139949, -0.04672494071936392, 0.10894460665756986, -0.12678109760745113, 0.1311461700513909, -0.07164509440251206, 0.060265558658257105, -0.041927325397399316, 0.025438059794712305, 0.14354252044235827, 0.02339633463473926, -0.02040597800542862, -0.026183603908572283, 0.1455220534371114, 0.1279921086150354, 0.024979508935872946, -0.08017103200173684, 0.14820453319177995, 0.1672972226079152, -0.010916891944703983, -0.053926505127596856, 0.2239205635042432, -0.08946229238441981, 0.14983795629308538, 0.17388034338220512, 0.0488055399115476, 0.09589021934473714, -0.03024021556513189, -0.08573629233175684, 0.02109516139101924, 0.17141573741354824, -0.1023648945633428, -0.08116281140570811, 0.045514809839466666, -0.13177129200267768, 0.11690304514482386, 0.12019282158883082, 0.1581357330849358, -0.014188106292459719, 0.1191329528333713, 0.20025257963305315]}], {\"autosize\": false, \"height\": 700, \"width\": 1000}, {\"showLink\": false, \"linkText\": \"Export to plot.ly\"})});</script>"
      ],
      "text/vnd.plotly.v1+html": [
       "<div id=\"7f48d203-71be-49c9-96f1-2d67c3dfc02f\" style=\"height: 700px; width: 1000px;\" class=\"plotly-graph-div\"></div><script type=\"text/javascript\">require([\"plotly\"], function(Plotly) { window.PLOTLYENV=window.PLOTLYENV || {};window.PLOTLYENV.BASE_URL=\"https://plot.ly\";Plotly.newPlot(\"7f48d203-71be-49c9-96f1-2d67c3dfc02f\", [{\"textposition\": \"top\", \"marker\": {\"size\": 10}, \"type\": \"scatter\", \"x\": [0.0022554483540048187, 0.13077498040687208, 0.09868509020417546, 0.20633499091531732, -0.1098715967361354, 0.14412514506888788, 0.0014810075792084162, -0.07269339727426088, -0.03565139177875477, -0.030390792424386283, 0.16131161812390976, -0.01765667440116663, 0.006662926395636387, 0.16900957622780713, 0.18856359815557514, -0.03096638067622734, 0.13272120065989831, 0.18622275693928567, -0.045359553091902045, -0.05567467582112731, -0.032715703269631725, -0.011621953677785193, 0.10341136561331879, 0.2361272827855169, 0.19090699102331646, -0.03059089209665817, -0.058926388784495104, 0.058729471299004125, -0.07243854229687605, -0.025566345365788445, -0.03292031616981332, 0.02085474083084186, -0.00644527586922859, -0.05739938307177092, 0.183610134699772, -0.04400151633271611, 0.08452286349601115, -0.025576420267797384, 0.002885387818740083, -0.09231439193895427, -0.0050250137033842675, 0.14015320921232968, -0.024747923403633628, 0.03057884301189306, -0.0203279328245844, 0.15129588112972214, -0.06299973527062289, 0.16264318113988263, -0.06000818840947039, 0.07617535387613368, -0.012109515318061953, -0.04241071183015374, -0.018530050312119527, 0.08755799139590766, -0.00029358232825151177, 0.16922957495329594, 0.01186687001998035, -0.0028255407070888377, -0.041791095329290984, 0.10209409899604514, -0.04259436821740015, 0.14828331406462908, 0.06733258071643308, 0.13401510814464299, 0.003867884599615365, 0.04748910480904214, 0.00917198619449563, 0.01562616862861961, 0.1925611903600415, -0.03661876143279213, -0.003702788869149549, 0.23283459812064944, -0.07030390669922602, 0.159507139842975, -0.02369648045289879, 0.11322916208321014, -0.07028451357040641, -0.03796854475429247, -0.023437135677882106, 0.002363423371095761, -0.10583077289386324, 0.20524278527628612, -0.10441619474697039, 0.19574094337068784, -0.03195510849311939, 0.11003103640813952, -0.026162482080574447, -0.009721295218293374, -0.03569095288399268, 0.1722295012610771, 0.04203912164358041, 0.12777296491205398, 0.033410968839953974, 0.08233712509473817, 0.1155530175712718, 0.16726823750103514, -0.03689983537681687, 0.10109003429815705, -0.02512178820620225, -0.11061630429634936], \"mode\": \"markers+text\", \"text\": [\"ft.com\", \"oppositionreport.com\", \"occupydemocrats.com\", \"latimes.com\", \"thenation.com\", \"politicususa.com\", \"slate.com\", \"rawstory.com\", \"thefederalistpapers.org\", \"cnn.com\", \"seattletimes.com\", \"propublica.org\", \"democracynow.org\", \"sfchronicle.com\", \"theblaze.com\", \"afp.com\", \"conservativetribune.com\", \"dailywire.com\", \"thenewcivilrightsmovement.com\", \"louderwithcrowder.com\", \"washingtonpost.com\", \"thinkprogress.org\", \"nytimes.com\", \"townhall.com\", \"wsj.com\", \"dailycaller.com\", \"redstate.com\", \"thegatewaypundit.com\", \"forbes.com\", \"bbc.com\", \"talkingpointsmemo.com\", \"usatoday.com\", \"mediamatters.org\", \"azcentral.com\", \"allenbwest.com\", \"rightwingnews.com\", \"judicialwatch.org\", \"dailykos.com\", \"economist.com\", \"reuters.com\", \"washingtonexaminer.com\", \"nypost.com\", \"nj.com\", \"dallasnews.com\", \"nydailynews.com\", \"truthfeed.com\", \"youngcons.com\", \"motherjones.com\", \"westernjournalism.com\", \"bizpacreview.com\", \"ijr.com\", \"apnews.com\", \"usherald.com\", \"100percentfedup.com\", \"mrctv.org\", \"conservative101.com\", \"freedomdaily.com\"], \"y\": [-0.06829137293742982, 0.14908590491145363, 0.018066474220687967, -0.02612674905589496, 0.17678282792575284, -0.028368017226745854, -0.07007138990664588, 0.007524880045184318, 0.05018265642865653, -0.01638499849945669, 0.1395504430772416, 0.06741187869502198, 0.03192426941446903, 0.1509538185450289, -0.01437401612719709, 0.13759720924082455, -0.023543567789882286, -0.12426449232239374, 0.17583144161012593, 0.04837091408715529, 0.16050550320085605, -0.049206466707233394, 0.05989705637000728, -0.07404271623893678, -0.019588471191121077, 0.0022442719103740907, 0.08165586859793554, -0.04380337102303568, 0.011510084339089822, 0.12194752628590128, 0.02578158782745512, -0.03020871282815545, 0.0013295264423804909, 0.16722660444545556, 0.16527967028453802, 0.09250142850226187, 0.008280186452853716, 0.02179466808030311, -0.019085571805505366, 0.19509608647999552, -0.00827407107119499, 0.1277718059783242, -0.01978372027823776, -0.11534572656017292, 0.09562657116830549, 0.01850904939802161, 0.19120129458174734, 0.12272737165700381, 0.18347865796348745, 0.06765301256660167, -0.033323452403617226, 0.04625525723438368, -0.022004363602086154, -0.024085869624765836, 0.013398839814007742, -0.05364053443383511, -0.10032004087355655, 0.007300722034323853, 0.07995637177377067, 0.11907324402139949, -0.04672494071936392, 0.10894460665756986, -0.12678109760745113, 0.1311461700513909, -0.07164509440251206, 0.060265558658257105, -0.041927325397399316, 0.025438059794712305, 0.14354252044235827, 0.02339633463473926, -0.02040597800542862, -0.026183603908572283, 0.1455220534371114, 0.1279921086150354, 0.024979508935872946, -0.08017103200173684, 0.14820453319177995, 0.1672972226079152, -0.010916891944703983, -0.053926505127596856, 0.2239205635042432, -0.08946229238441981, 0.14983795629308538, 0.17388034338220512, 0.0488055399115476, 0.09589021934473714, -0.03024021556513189, -0.08573629233175684, 0.02109516139101924, 0.17141573741354824, -0.1023648945633428, -0.08116281140570811, 0.045514809839466666, -0.13177129200267768, 0.11690304514482386, 0.12019282158883082, 0.1581357330849358, -0.014188106292459719, 0.1191329528333713, 0.20025257963305315]}], {\"autosize\": false, \"height\": 700, \"width\": 1000}, {\"showLink\": false, \"linkText\": \"Export to plot.ly\"})});</script>"
      ]
     },
     "metadata": {},
     "output_type": "display_data"
    }
   ],
   "source": [
    "trace = Scatter(x=site_vectors_pca[0], y=site_vectors_pca[1], mode='markers+text', text=labels, textposition='top',  marker=dict(size=10))\n",
    "iplot({\n",
    "    'data': [trace],\n",
    "    'layout': Layout(\n",
    "        #xaxis=XAxis(title='Left vs Right'), \n",
    "        #yaxis=YAxis(title='Biased vs Factual'),\n",
    "        autosize=False,\n",
    "        width=1000,\n",
    "        height=700)},\n",
    "    show_link=False\n",
    ")"
   ]
  }
 ],
 "metadata": {
  "kernelspec": {
   "display_name": "Python 3",
   "language": "python",
   "name": "python3"
  },
  "language_info": {
   "codemirror_mode": {
    "name": "ipython",
    "version": 3
   },
   "file_extension": ".py",
   "mimetype": "text/x-python",
   "name": "python",
   "nbconvert_exporter": "python",
   "pygments_lexer": "ipython3",
   "version": "3.5.2"
  }
 },
 "nbformat": 4,
 "nbformat_minor": 2
}
