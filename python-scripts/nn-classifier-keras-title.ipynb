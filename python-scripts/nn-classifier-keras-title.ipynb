{
 "cells": [
  {
   "cell_type": "markdown",
   "metadata": {},
   "source": [
    "# Text NN classifier for Political Bias"
   ]
  },
  {
   "cell_type": "code",
   "execution_count": 1,
   "metadata": {},
   "outputs": [
    {
     "name": "stderr",
     "output_type": "stream",
     "text": [
      "/Users/rodrigo/Libs/torchsample/torchsample/datasets.py:16: UserWarning: Cant import nibabel.. Cant load brain images\n",
      "  warnings.warn('Cant import nibabel.. Cant load brain images')\n"
     ]
    }
   ],
   "source": [
    "%load_ext autoreload\n",
    "\n",
    "import pandas as pd\n",
    "import numpy as np\n",
    "\n",
    "import torch\n",
    "import torch.nn as nn\n",
    "import torch.optim as optim\n",
    "import torch.utils.data\n",
    "from torch.autograd import Variable\n",
    "from sklearn.utils import shuffle\n",
    "from torchsample.initializers import XavierUniform, Uniform\n",
    "from torchsample.modules import ModuleTrainer\n",
    "from torchsample.metrics import CategoricalAccuracy\n",
    "\n",
    "%aimport torchsample.modules"
   ]
  },
  {
   "cell_type": "code",
   "execution_count": 2,
   "metadata": {
    "collapsed": true
   },
   "outputs": [],
   "source": [
    "use_cuda = False\n",
    "batch_size = 64"
   ]
  },
  {
   "cell_type": "code",
   "execution_count": 3,
   "metadata": {},
   "outputs": [
    {
     "name": "stdout",
     "output_type": "stream",
     "text": [
      "103262\n"
     ]
    }
   ],
   "source": [
    "df = pd.read_csv(\"../data/source/newsclust.csv\")\n",
    "df = df.query(\"site != 'cbn.com'\")\n",
    "print(len(df))\n",
    "df = df.sample(90000)"
   ]
  },
  {
   "cell_type": "markdown",
   "metadata": {},
   "source": [
    "Compute the bias for each one of the articles, based on the publication's known bias"
   ]
  },
  {
   "cell_type": "code",
   "execution_count": 4,
   "metadata": {},
   "outputs": [
    {
     "data": {
      "text/html": [
       "<div>\n",
       "<style>\n",
       "    .dataframe thead tr:only-child th {\n",
       "        text-align: right;\n",
       "    }\n",
       "\n",
       "    .dataframe thead th {\n",
       "        text-align: left;\n",
       "    }\n",
       "\n",
       "    .dataframe tbody tr th {\n",
       "        vertical-align: top;\n",
       "    }\n",
       "</style>\n",
       "<table border=\"1\" class=\"dataframe\">\n",
       "  <thead>\n",
       "    <tr style=\"text-align: right;\">\n",
       "      <th></th>\n",
       "      <th>Unnamed: 0</th>\n",
       "      <th>date</th>\n",
       "      <th>site</th>\n",
       "      <th>text</th>\n",
       "      <th>title</th>\n",
       "      <th>url</th>\n",
       "      <th>bias</th>\n",
       "    </tr>\n",
       "  </thead>\n",
       "  <tbody>\n",
       "    <tr>\n",
       "      <th>72159</th>\n",
       "      <td>72159</td>\n",
       "      <td>2016-09-13T01:44:00.000+03:00</td>\n",
       "      <td>dailykos.com</td>\n",
       "      <td>35 North Carolina Sen. Richard Burr \\nThe late...</td>\n",
       "      <td>Republican strategists are freaking out about ...</td>\n",
       "      <td>http://www.dailykos.com/story/2016/9/12/156932...</td>\n",
       "      <td>1</td>\n",
       "    </tr>\n",
       "    <tr>\n",
       "      <th>12549</th>\n",
       "      <td>12549</td>\n",
       "      <td>2016-04-13T22:50:00.000+03:00</td>\n",
       "      <td>chicagotribune.com</td>\n",
       "      <td>Lance Anderson has always worked with books. H...</td>\n",
       "      <td>Shout Out: Lance Anderson, River Grove librari...</td>\n",
       "      <td>http://www.chicagotribune.com/suburbs/elmwood-...</td>\n",
       "      <td>2</td>\n",
       "    </tr>\n",
       "  </tbody>\n",
       "</table>\n",
       "</div>"
      ],
      "text/plain": [
       "       Unnamed: 0                           date                site  \\\n",
       "72159       72159  2016-09-13T01:44:00.000+03:00        dailykos.com   \n",
       "12549       12549  2016-04-13T22:50:00.000+03:00  chicagotribune.com   \n",
       "\n",
       "                                                    text  \\\n",
       "72159  35 North Carolina Sen. Richard Burr \\nThe late...   \n",
       "12549  Lance Anderson has always worked with books. H...   \n",
       "\n",
       "                                                   title  \\\n",
       "72159  Republican strategists are freaking out about ...   \n",
       "12549  Shout Out: Lance Anderson, River Grove librari...   \n",
       "\n",
       "                                                     url  bias  \n",
       "72159  http://www.dailykos.com/story/2016/9/12/156932...     1  \n",
       "12549  http://www.chicagotribune.com/suburbs/elmwood-...     2  "
      ]
     },
     "execution_count": 4,
     "metadata": {},
     "output_type": "execute_result"
    }
   ],
   "source": [
    "from bias import Bias\n",
    "\n",
    "num_classes = 7\n",
    "df['bias'] = df.apply(lambda row: Bias.get_bias_for_domain(row['site']).value, axis=1)\n",
    "df.head(2)"
   ]
  },
  {
   "cell_type": "markdown",
   "metadata": {},
   "source": [
    "Tokenize the text of the articles, create a vocabulary of words"
   ]
  },
  {
   "cell_type": "code",
   "execution_count": 5,
   "metadata": {
    "collapsed": true
   },
   "outputs": [],
   "source": [
    "import spacy\n",
    "nlp = spacy.load('en')\n",
    "nlp.pipeline = []\n",
    "\n",
    "def tokenize_text(texts):\n",
    "    docs = [doc for doc in nlp.pipe(texts, batch_size=500, n_threads=8)]\n",
    "    return docs\n",
    "\n",
    "def is_invalid_token(token):\n",
    "    return token.is_punct or token.is_space or token.like_url or token.like_num or token.is_digit\n",
    "\n",
    "def get_words_for_docs(docs):\n",
    "    return [get_words_ids(doc) for doc in docs]\n",
    "\n",
    "def get_words_ids(doc):\n",
    "    return [token.orth for token in doc if not is_invalid_token(token)]"
   ]
  },
  {
   "cell_type": "code",
   "execution_count": 6,
   "metadata": {
    "collapsed": true
   },
   "outputs": [],
   "source": [
    "df['docs'] = tokenize_text(df['title'].astype(str))"
   ]
  },
  {
   "cell_type": "code",
   "execution_count": 7,
   "metadata": {},
   "outputs": [
    {
     "data": {
      "text/html": [
       "<div>\n",
       "<style>\n",
       "    .dataframe thead tr:only-child th {\n",
       "        text-align: right;\n",
       "    }\n",
       "\n",
       "    .dataframe thead th {\n",
       "        text-align: left;\n",
       "    }\n",
       "\n",
       "    .dataframe tbody tr th {\n",
       "        vertical-align: top;\n",
       "    }\n",
       "</style>\n",
       "<table border=\"1\" class=\"dataframe\">\n",
       "  <thead>\n",
       "    <tr style=\"text-align: right;\">\n",
       "      <th></th>\n",
       "      <th>Unnamed: 0</th>\n",
       "      <th>date</th>\n",
       "      <th>site</th>\n",
       "      <th>text</th>\n",
       "      <th>title</th>\n",
       "      <th>url</th>\n",
       "      <th>bias</th>\n",
       "      <th>docs</th>\n",
       "      <th>words</th>\n",
       "    </tr>\n",
       "  </thead>\n",
       "  <tbody>\n",
       "    <tr>\n",
       "      <th>72159</th>\n",
       "      <td>72159</td>\n",
       "      <td>2016-09-13T01:44:00.000+03:00</td>\n",
       "      <td>dailykos.com</td>\n",
       "      <td>35 North Carolina Sen. Richard Burr \\nThe late...</td>\n",
       "      <td>Republican strategists are freaking out about ...</td>\n",
       "      <td>http://www.dailykos.com/story/2016/9/12/156932...</td>\n",
       "      <td>1</td>\n",
       "      <td>(Republican, strategists, are, freaking, out, ...</td>\n",
       "      <td>[1316, 350748, 534, 5185, 582, 581, 501, 2711,...</td>\n",
       "    </tr>\n",
       "  </tbody>\n",
       "</table>\n",
       "</div>"
      ],
      "text/plain": [
       "       Unnamed: 0                           date          site  \\\n",
       "72159       72159  2016-09-13T01:44:00.000+03:00  dailykos.com   \n",
       "\n",
       "                                                    text  \\\n",
       "72159  35 North Carolina Sen. Richard Burr \\nThe late...   \n",
       "\n",
       "                                                   title  \\\n",
       "72159  Republican strategists are freaking out about ...   \n",
       "\n",
       "                                                     url  bias  \\\n",
       "72159  http://www.dailykos.com/story/2016/9/12/156932...     1   \n",
       "\n",
       "                                                    docs  \\\n",
       "72159  (Republican, strategists, are, freaking, out, ...   \n",
       "\n",
       "                                                   words  \n",
       "72159  [1316, 350748, 534, 5185, 582, 581, 501, 2711,...  "
      ]
     },
     "execution_count": 7,
     "metadata": {},
     "output_type": "execute_result"
    }
   ],
   "source": [
    "df['words'] = get_words_for_docs(df['docs'])\n",
    "df.head(1)"
   ]
  },
  {
   "cell_type": "markdown",
   "metadata": {},
   "source": [
    "Keep the most common words as vocabulary, replace the words out of vocabulary by the least frequently used word"
   ]
  },
  {
   "cell_type": "code",
   "execution_count": 8,
   "metadata": {},
   "outputs": [
    {
     "data": {
      "text/plain": [
       "[(504, 18219), (576246, 14844), (522, 12734), (566, 11576), (501, 11539)]"
      ]
     },
     "execution_count": 8,
     "metadata": {},
     "output_type": "execute_result"
    }
   ],
   "source": [
    "from collections import Counter\n",
    "\n",
    "vocab_size = 5000\n",
    "\n",
    "def flatten(l):\n",
    "    flat_list = [item for sublist in l for item in sublist]\n",
    "    return flat_list\n",
    "\n",
    "word_freq = Counter(flatten(df['words']))\n",
    "common_words = word_freq.most_common(vocab_size)\n",
    "word_freq.most_common(5)"
   ]
  },
  {
   "cell_type": "code",
   "execution_count": 9,
   "metadata": {},
   "outputs": [
    {
     "name": "stdout",
     "output_type": "stream",
     "text": [
      "the of and a\n"
     ]
    }
   ],
   "source": [
    "print(nlp.vocab.strings[501], nlp.vocab.strings[510], nlp.vocab.strings[512], nlp.vocab.strings[506])"
   ]
  },
  {
   "cell_type": "code",
   "execution_count": 10,
   "metadata": {},
   "outputs": [
    {
     "name": "stdout",
     "output_type": "stream",
     "text": [
      "5000 4 0 5\n"
     ]
    },
    {
     "data": {
      "text/plain": [
       "4999"
      ]
     },
     "execution_count": 10,
     "metadata": {},
     "output_type": "execute_result"
    }
   ],
   "source": [
    "vocab = {word_id: i for (i, (word_id, freq)) in enumerate(common_words)}\n",
    "print(len(vocab), vocab[501], vocab[504], vocab[510])\n",
    "oov_word = vocab_size - 1\n",
    "oov_word"
   ]
  },
  {
   "cell_type": "code",
   "execution_count": 11,
   "metadata": {},
   "outputs": [
    {
     "data": {
      "text/plain": [
       "72159    [140, 4999, 101, 4999, 115, 90, 4, 4355, 38, 1...\n",
       "12549    [4999, 74, 4999, 2556, 2357, 3190, 4999, 4999,...\n",
       "46881    [188, 225, 4999, 34, 2126, 4999, 141, 88, 200,...\n",
       "62012    [4999, 4999, 4999, 4999, 23, 1106, 1587, 358, ...\n",
       "33069    [4999, 9, 736, 4999, 4999, 4999, 3237, 1939, 4...\n",
       "Name: words_with_oov, dtype: object"
      ]
     },
     "execution_count": 11,
     "metadata": {},
     "output_type": "execute_result"
    }
   ],
   "source": [
    "def get_words_ids_if_common(words):\n",
    "    return [vocab.get(word, oov_word) for word in words]\n",
    "\n",
    "df['words_with_oov'] = df.apply(lambda row: get_words_ids_if_common(row['words']), axis=1)\n",
    "df['words_with_oov'].head()"
   ]
  },
  {
   "cell_type": "markdown",
   "metadata": {},
   "source": [
    "Look at the distribution of words. The longest article has 15K words, the shortest 21."
   ]
  },
  {
   "cell_type": "code",
   "execution_count": 12,
   "metadata": {},
   "outputs": [
    {
     "data": {
      "text/plain": [
       "(45, 0, 11.091799999999999)"
      ]
     },
     "execution_count": 12,
     "metadata": {},
     "output_type": "execute_result"
    }
   ],
   "source": [
    "lens = np.array(list(map(len, df['words'])))\n",
    "(lens.max(), lens.min(), lens.mean())"
   ]
  },
  {
   "cell_type": "markdown",
   "metadata": {},
   "source": [
    "Split the data for training and validation"
   ]
  },
  {
   "cell_type": "code",
   "execution_count": 13,
   "metadata": {},
   "outputs": [
    {
     "name": "stdout",
     "output_type": "stream",
     "text": [
      "82312\n",
      "7688\n"
     ]
    }
   ],
   "source": [
    "TEST_DOMAINS =  {\n",
    "    'bloomberg.com',\n",
    "     'breitbart.com',\n",
    "     'c-span.org',\n",
    "     'chicagotribune.com',\n",
    "     'chron.com'\n",
    "}\n",
    "df_train =  df.loc[~df['site'].isin(TEST_DOMAINS)]\n",
    "df_test =  df.loc[df['site'].isin(TEST_DOMAINS)]\n",
    "print(len(df_train))\n",
    "print(len(df_test))"
   ]
  },
  {
   "cell_type": "markdown",
   "metadata": {},
   "source": [
    "Enforce all texts to have the same length, truncating or padding if necessary"
   ]
  },
  {
   "cell_type": "code",
   "execution_count": 14,
   "metadata": {},
   "outputs": [
    {
     "name": "stderr",
     "output_type": "stream",
     "text": [
      "Using TensorFlow backend.\n"
     ]
    },
    {
     "data": {
      "text/plain": [
       "array([[   0,    0,    0, ...,   22,   72, 1626],\n",
       "       [   0,    0,    0, ..., 4711,  116,  606],\n",
       "       [   0,    0,    0, ..., 1587,  358, 4999],\n",
       "       ..., \n",
       "       [   0,    0,    0, ..., 4999, 4999,    8],\n",
       "       [   0,    0,    0, ...,   63, 2021, 4999],\n",
       "       [   0,    0,    0, ...,   61,  668, 1411]], dtype=int32)"
      ]
     },
     "execution_count": 14,
     "metadata": {},
     "output_type": "execute_result"
    }
   ],
   "source": [
    "seq_len = 50\n",
    "\n",
    "from keras.preprocessing import sequence\n",
    "\n",
    "trn = sequence.pad_sequences(df_train['words_with_oov'], maxlen=seq_len, value=0)\n",
    "test = sequence.pad_sequences(df_test['words_with_oov'], maxlen=seq_len, value=0)\n",
    "\n",
    "trn_tensor = torch.from_numpy(trn).long()\n",
    "test_tensor = torch.from_numpy(test).long()\n",
    "\n",
    "trn"
   ]
  },
  {
   "cell_type": "markdown",
   "metadata": {},
   "source": [
    "Prepare the tensor data for pytorch"
   ]
  },
  {
   "cell_type": "code",
   "execution_count": 15,
   "metadata": {},
   "outputs": [
    {
     "data": {
      "text/plain": [
       "\n",
       " 1\n",
       " 1\n",
       " 3\n",
       "[torch.LongTensor of size 3]"
      ]
     },
     "execution_count": 15,
     "metadata": {},
     "output_type": "execute_result"
    }
   ],
   "source": [
    "labels_train_tensor = torch.from_numpy(np.array(df_train['bias']))\n",
    "labels_test_tensor = torch.from_numpy(np.array(df_test['bias']))\n",
    "labels_train_tensor[:3]"
   ]
  },
  {
   "cell_type": "markdown",
   "metadata": {},
   "source": [
    "## Single Hidden Layer NN classifier"
   ]
  },
  {
   "cell_type": "markdown",
   "metadata": {},
   "source": [
    "### Keras NN model"
   ]
  },
  {
   "cell_type": "code",
   "execution_count": 17,
   "metadata": {
    "collapsed": true
   },
   "outputs": [],
   "source": [
    "# Force use CPU\n",
    "import os\n",
    "os.environ[\"CUDA_DEVICE_ORDER\"] = \"PCI_BUS_ID\"   # see issue #152\n",
    "os.environ[\"CUDA_VISIBLE_DEVICES\"] = \"\"\n",
    "\n",
    "import keras\n",
    "from keras.models import Sequential, Model\n",
    "from keras.layers import Embedding\n",
    "from keras.layers.core import Flatten, Dense, Dropout\n",
    "from keras.optimizers import Adam"
   ]
  },
  {
   "cell_type": "code",
   "execution_count": 38,
   "metadata": {
    "collapsed": true
   },
   "outputs": [],
   "source": [
    "k_model = Sequential([\n",
    "    Embedding(vocab_size, 32, input_length=seq_len),\n",
    "    Flatten(),\n",
    "    Dense(100, activation='relu'),\n",
    "    Dropout(0.7),\n",
    "    Dense(7, activation='softmax')])"
   ]
  },
  {
   "cell_type": "code",
   "execution_count": 39,
   "metadata": {},
   "outputs": [
    {
     "name": "stdout",
     "output_type": "stream",
     "text": [
      "____________________________________________________________________________________________________\n",
      "Layer (type)                     Output Shape          Param #     Connected to                     \n",
      "====================================================================================================\n",
      "embedding_2 (Embedding)          (None, 50, 32)        160000      embedding_input_2[0][0]          \n",
      "____________________________________________________________________________________________________\n",
      "flatten_2 (Flatten)              (None, 1600)          0           embedding_2[0][0]                \n",
      "____________________________________________________________________________________________________\n",
      "dense_3 (Dense)                  (None, 100)           160100      flatten_2[0][0]                  \n",
      "____________________________________________________________________________________________________\n",
      "dropout_2 (Dropout)              (None, 100)           0           dense_3[0][0]                    \n",
      "____________________________________________________________________________________________________\n",
      "dense_4 (Dense)                  (None, 7)             707         dropout_2[0][0]                  \n",
      "====================================================================================================\n",
      "Total params: 320,807\n",
      "Trainable params: 320,807\n",
      "Non-trainable params: 0\n",
      "____________________________________________________________________________________________________\n"
     ]
    }
   ],
   "source": [
    "k_model.compile(loss='sparse_categorical_crossentropy', optimizer=Adam(), metrics=['accuracy'])\n",
    "k_model.summary()"
   ]
  },
  {
   "cell_type": "code",
   "execution_count": 40,
   "metadata": {},
   "outputs": [
    {
     "name": "stdout",
     "output_type": "stream",
     "text": [
      "[2 2 5]\n",
      "Train on 82312 samples, validate on 7688 samples\n",
      "Epoch 1/3\n",
      "82312/82312 [==============================] - 7s - loss: 1.3330 - acc: 0.4620 - val_loss: 1.1756 - val_acc: 0.5976\n",
      "Epoch 2/3\n",
      "82312/82312 [==============================] - 7s - loss: 0.9994 - acc: 0.6145 - val_loss: 1.1320 - val_acc: 0.5578\n",
      "Epoch 3/3\n",
      "82312/82312 [==============================] - 7s - loss: 0.8962 - acc: 0.6585 - val_loss: 1.1678 - val_acc: 0.5537\n"
     ]
    },
    {
     "data": {
      "text/plain": [
       "<keras.callbacks.History at 0x142e47a20>"
      ]
     },
     "execution_count": 40,
     "metadata": {},
     "output_type": "execute_result"
    }
   ],
   "source": [
    "from keras.utils.np_utils import to_categorical\n",
    "\n",
    "labels_train = np.array(df_train['bias'])\n",
    "labels_test = np.array(df_test['bias'])\n",
    "\n",
    "print(labels_test[:3])\n",
    "k_model.fit(trn, labels_train, validation_data=(test, labels_test), nb_epoch=3, batch_size=batch_size)"
   ]
  },
  {
   "cell_type": "markdown",
   "metadata": {},
   "source": [
    "Manually verify some articles. The bias for these articles should match the predicted bias below."
   ]
  },
  {
   "cell_type": "code",
   "execution_count": 79,
   "metadata": {},
   "outputs": [
    {
     "data": {
      "text/html": [
       "<div>\n",
       "<style>\n",
       "    .dataframe thead tr:only-child th {\n",
       "        text-align: right;\n",
       "    }\n",
       "\n",
       "    .dataframe thead th {\n",
       "        text-align: left;\n",
       "    }\n",
       "\n",
       "    .dataframe tbody tr th {\n",
       "        vertical-align: top;\n",
       "    }\n",
       "</style>\n",
       "<table border=\"1\" class=\"dataframe\">\n",
       "  <thead>\n",
       "    <tr style=\"text-align: right;\">\n",
       "      <th></th>\n",
       "      <th>site</th>\n",
       "      <th>bias</th>\n",
       "    </tr>\n",
       "  </thead>\n",
       "  <tbody>\n",
       "    <tr>\n",
       "      <th>81223</th>\n",
       "      <td>bloomberg.com</td>\n",
       "      <td>2</td>\n",
       "    </tr>\n",
       "    <tr>\n",
       "      <th>31554</th>\n",
       "      <td>chicagotribune.com</td>\n",
       "      <td>2</td>\n",
       "    </tr>\n",
       "    <tr>\n",
       "      <th>43857</th>\n",
       "      <td>c-span.org</td>\n",
       "      <td>3</td>\n",
       "    </tr>\n",
       "    <tr>\n",
       "      <th>80184</th>\n",
       "      <td>breitbart.com</td>\n",
       "      <td>5</td>\n",
       "    </tr>\n",
       "    <tr>\n",
       "      <th>97101</th>\n",
       "      <td>chron.com</td>\n",
       "      <td>2</td>\n",
       "    </tr>\n",
       "  </tbody>\n",
       "</table>\n",
       "</div>"
      ],
      "text/plain": [
       "                     site  bias\n",
       "81223       bloomberg.com     2\n",
       "31554  chicagotribune.com     2\n",
       "43857          c-span.org     3\n",
       "80184       breitbart.com     5\n",
       "97101           chron.com     2"
      ]
     },
     "execution_count": 79,
     "metadata": {},
     "output_type": "execute_result"
    }
   ],
   "source": [
    "df_sample = df_test.sample(5)\n",
    "df_sample[['site', 'bias']]"
   ]
  },
  {
   "cell_type": "code",
   "execution_count": 80,
   "metadata": {},
   "outputs": [
    {
     "name": "stdout",
     "output_type": "stream",
     "text": [
      "precision =  55.3720083247\n"
     ]
    },
    {
     "data": {
      "text/plain": [
       "array([3, 1, 4, 2, 1, 3, 3])"
      ]
     },
     "execution_count": 80,
     "metadata": {},
     "output_type": "execute_result"
    }
   ],
   "source": [
    "sample = sequence.pad_sequences(df_sample['words_with_oov'], maxlen=seq_len, value=0)\n",
    "print(\"precision = \", np.sum(np.argmax(k_model.predict(test), axis=1) == labels_test) * 100.0 / len(labels_test))\n",
    "np.argmax(k_model.predict(sample), axis=0)"
   ]
  },
  {
   "cell_type": "markdown",
   "metadata": {},
   "source": [
    "## Site vectors"
   ]
  },
  {
   "cell_type": "markdown",
   "metadata": {},
   "source": [
    "Remove the last linear classifier"
   ]
  },
  {
   "cell_type": "code",
   "execution_count": 23,
   "metadata": {
    "collapsed": true
   },
   "outputs": [],
   "source": [
    "l4 = k_model.pop()\n",
    "l3 = k_model.pop()"
   ]
  },
  {
   "cell_type": "code",
   "execution_count": 24,
   "metadata": {},
   "outputs": [
    {
     "name": "stdout",
     "output_type": "stream",
     "text": [
      "____________________________________________________________________________________________________\n",
      "Layer (type)                     Output Shape          Param #     Connected to                     \n",
      "====================================================================================================\n",
      "embedding_1 (Embedding)          (None, 50, 32)        160000      embedding_input_1[0][0]          \n",
      "____________________________________________________________________________________________________\n",
      "flatten_1 (Flatten)              (None, 1600)          0           embedding_1[0][0]                \n",
      "____________________________________________________________________________________________________\n",
      "dense_1 (Dense)                  (None, 100)           160100      flatten_1[0][0]                  \n",
      "====================================================================================================\n",
      "Total params: 320,100\n",
      "Trainable params: 320,100\n",
      "Non-trainable params: 0\n",
      "____________________________________________________________________________________________________\n"
     ]
    }
   ],
   "source": [
    "k_model.compile(loss='sparse_categorical_crossentropy', optimizer=Adam(), metrics=['accuracy'])\n",
    "k_model.summary()"
   ]
  },
  {
   "cell_type": "code",
   "execution_count": 25,
   "metadata": {},
   "outputs": [
    {
     "data": {
      "text/plain": [
       "(82312, 100)"
      ]
     },
     "execution_count": 25,
     "metadata": {},
     "output_type": "execute_result"
    }
   ],
   "source": [
    "article_vectors = k_model.predict(trn)\n",
    "article_vectors.shape"
   ]
  },
  {
   "cell_type": "markdown",
   "metadata": {},
   "source": [
    "Generate an average vector of all the article vectors for each site"
   ]
  },
  {
   "cell_type": "code",
   "execution_count": 94,
   "metadata": {},
   "outputs": [
    {
     "data": {
      "text/plain": [
       "(57, 100)"
      ]
     },
     "execution_count": 94,
     "metadata": {},
     "output_type": "execute_result"
    }
   ],
   "source": [
    "site_vectors = []\n",
    "labels = []\n",
    "sample_size = 1000\n",
    "for site in df_train['site'].unique():\n",
    "    site_indexes = np.where(df_train[\"site\"] == site)[0]\n",
    "    if len(site_indexes) > 0:\n",
    "        site_vector = np.mean(article_vectors[site_indexes[:sample_size], :], axis=0)\n",
    "        site_vectors.append(site_vector)\n",
    "        labels.append(site)\n",
    "site_vectors = np.array(site_vectors)\n",
    "site_vectors.shape"
   ]
  },
  {
   "cell_type": "code",
   "execution_count": 95,
   "metadata": {
    "collapsed": true
   },
   "outputs": [],
   "source": [
    "from sklearn.manifold import TSNE\n",
    "\n",
    "tsne_model = TSNE(n_components=2, random_state=0)\n",
    "# np.set_printoptions(suppress=True)\n",
    "site_vectors_2_dim = tsne_model.fit_transform(site_vectors)\n",
    "X_proj = site_vectors_2_dim[:, 0]\n",
    "Y_proj = site_vectors_2_dim[:, 1]"
   ]
  },
  {
   "cell_type": "code",
   "execution_count": 96,
   "metadata": {},
   "outputs": [
    {
     "data": {
      "text/html": [
       "<script>requirejs.config({paths: { 'plotly': ['https://cdn.plot.ly/plotly-latest.min']},});if(!window.Plotly) {{require(['plotly'],function(plotly) {window.Plotly=plotly;});}}</script>"
      ],
      "text/vnd.plotly.v1+html": [
       "<script>requirejs.config({paths: { 'plotly': ['https://cdn.plot.ly/plotly-latest.min']},});if(!window.Plotly) {{require(['plotly'],function(plotly) {window.Plotly=plotly;});}}</script>"
      ]
     },
     "metadata": {},
     "output_type": "display_data"
    }
   ],
   "source": [
    "from plotly.offline import init_notebook_mode, plot, iplot\n",
    "init_notebook_mode(connected=True)\n",
    "\n",
    "from plotly.graph_objs import Bar, Scatter, Figure, Layout, XAxis, YAxis"
   ]
  },
  {
   "cell_type": "code",
   "execution_count": 97,
   "metadata": {},
   "outputs": [
    {
     "data": {
      "application/vnd.plotly.v1+json": {
       "data": [
        {
         "marker": {
          "size": 10
         },
         "mode": "markers+text",
         "text": [
          "dailykos.com",
          "thinkprogress.org",
          "usatoday.com",
          "forbes.com",
          "slate.com",
          "nypost.com",
          "seattletimes.com",
          "thenewcivilrightsmovement.com",
          "rawstory.com",
          "rightwingnews.com",
          "westernjournalism.com",
          "theblaze.com",
          "mediamatters.org",
          "occupydemocrats.com",
          "motherjones.com",
          "100percentfedup.com",
          "afp.com",
          "propublica.org",
          "dailycaller.com",
          "reuters.com",
          "allenbwest.com",
          "conservativetribune.com",
          "thenation.com",
          "ft.com",
          "democracynow.org",
          "truthfeed.com",
          "economist.com",
          "bbc.com",
          "nydailynews.com",
          "youngcons.com",
          "washingtonpost.com",
          "thegatewaypundit.com",
          "bizpacreview.com",
          "dailywire.com",
          "azcentral.com",
          "redstate.com",
          "talkingpointsmemo.com",
          "cnn.com",
          "ijr.com",
          "nj.com",
          "wsj.com",
          "apnews.com",
          "sfchronicle.com",
          "nytimes.com",
          "townhall.com",
          "washingtonexaminer.com",
          "thefederalistpapers.org",
          "dallasnews.com",
          "latimes.com",
          "judicialwatch.org",
          "politicususa.com",
          "freedomdaily.com",
          "mrctv.org",
          "oppositionreport.com",
          "conservative101.com",
          "louderwithcrowder.com",
          "usherald.com"
         ],
         "textposition": "top",
         "type": "scatter",
         "x": [
          -5.937408860654123,
          79.49202662533585,
          42.79981988091044,
          48.14739587041288,
          -70.27107659724368,
          36.71256469487967,
          22.166095141151093,
          -33.9877651354734,
          16.98225610694932,
          -39.020187880813815,
          -58.53227632749741,
          69.966887572675,
          -49.37349241382625,
          -38.86875667155102,
          -3.8545997622150994,
          13.67016251718659,
          69.60791690518406,
          563.9235752889658,
          25.191503114671832,
          -55.09933119302041,
          -18.734186040792284,
          116.82543122594521,
          -23.981210188154556,
          60.208770521566464,
          3.844296367509273,
          -68.52517876536649,
          33.075582948617814,
          88.76287624182334,
          106.37226878756005,
          -46.65124817507685,
          9.97120121411651,
          -41.64543965630194,
          -10.644382733496066,
          233.28871253469933,
          -1.6060434490061197,
          -88.08955387769537,
          70.04545498215438,
          -100.4003858911418,
          -71.44699102636814,
          -16.08240926042226,
          86.44200182513768,
          39.74435394874704,
          84.28330057530681,
          55.205598622606274,
          4.005391965349772,
          52.0613908376176,
          -33.44464637461418,
          23.821338402814487,
          68.34919351578105,
          -103.83322757178033,
          -46.62483883646307,
          -599.5677254892978,
          -98.48395698131633,
          -61.749618273536264,
          -71.01947622927023,
          -81.44466637217074,
          -208.01352012186473
         ],
         "y": [
          -6.2286782084470325,
          -64.91458757178341,
          19.293165751180464,
          -28.888528859944667,
          4.078188892985128,
          48.453955678692324,
          -25.632842651675322,
          30.76458710379053,
          0.8112059986946892,
          -23.403109553175785,
          -38.513659199198685,
          82.78127198443482,
          49.06432865762818,
          -126.32553820464469,
          39.30352691112622,
          -104.93871405609653,
          -17.609333224847912,
          356.2402436740018,
          91.45467463060366,
          119.65536050314553,
          96.5622085435714,
          -14.992645790341195,
          8.915251599631057,
          7.3837961495592,
          73.30303415935205,
          -103.93746228060282,
          -52.67400849364711,
          28.133760431755274,
          44.06725963117379,
          74.87903229139414,
          -53.28277884378058,
          -75.89190716922822,
          -30.172251316794245,
          56.06489216645095,
          -75.24842620959242,
          24.438157352615143,
          -210.81127664596616,
          -57.72300703242881,
          -19.567052302193524,
          59.50818381480884,
          -33.99643224783264,
          -5.132203485366068,
          3.9303384121468827,
          -56.16497343905963,
          17.53150841119688,
          62.78171555550933,
          -51.875267783767995,
          33.457335378066205,
          39.47240798795783,
          -9.053982822593426,
          5.784595893422677,
          -374.72030665883887,
          53.71066561756501,
          28.92727182999535,
          -70.83448226251579,
          74.92601034558821,
          38.26924587305916
         ]
        }
       ],
       "layout": {
        "autosize": false,
        "height": 700,
        "width": 1000
       }
      },
      "text/html": [
       "<div id=\"315e336e-7629-4f47-8ffe-42b48ccf7e73\" style=\"height: 700px; width: 1000px;\" class=\"plotly-graph-div\"></div><script type=\"text/javascript\">require([\"plotly\"], function(Plotly) { window.PLOTLYENV=window.PLOTLYENV || {};window.PLOTLYENV.BASE_URL=\"https://plot.ly\";Plotly.newPlot(\"315e336e-7629-4f47-8ffe-42b48ccf7e73\", [{\"type\": \"scatter\", \"textposition\": \"top\", \"y\": [-6.2286782084470325, -64.91458757178341, 19.293165751180464, -28.888528859944667, 4.078188892985128, 48.453955678692324, -25.632842651675322, 30.76458710379053, 0.8112059986946892, -23.403109553175785, -38.513659199198685, 82.78127198443482, 49.06432865762818, -126.32553820464469, 39.30352691112622, -104.93871405609653, -17.609333224847912, 356.2402436740018, 91.45467463060366, 119.65536050314553, 96.5622085435714, -14.992645790341195, 8.915251599631057, 7.3837961495592, 73.30303415935205, -103.93746228060282, -52.67400849364711, 28.133760431755274, 44.06725963117379, 74.87903229139414, -53.28277884378058, -75.89190716922822, -30.172251316794245, 56.06489216645095, -75.24842620959242, 24.438157352615143, -210.81127664596616, -57.72300703242881, -19.567052302193524, 59.50818381480884, -33.99643224783264, -5.132203485366068, 3.9303384121468827, -56.16497343905963, 17.53150841119688, 62.78171555550933, -51.875267783767995, 33.457335378066205, 39.47240798795783, -9.053982822593426, 5.784595893422677, -374.72030665883887, 53.71066561756501, 28.92727182999535, -70.83448226251579, 74.92601034558821, 38.26924587305916], \"x\": [-5.937408860654123, 79.49202662533585, 42.79981988091044, 48.14739587041288, -70.27107659724368, 36.71256469487967, 22.166095141151093, -33.9877651354734, 16.98225610694932, -39.020187880813815, -58.53227632749741, 69.966887572675, -49.37349241382625, -38.86875667155102, -3.8545997622150994, 13.67016251718659, 69.60791690518406, 563.9235752889658, 25.191503114671832, -55.09933119302041, -18.734186040792284, 116.82543122594521, -23.981210188154556, 60.208770521566464, 3.844296367509273, -68.52517876536649, 33.075582948617814, 88.76287624182334, 106.37226878756005, -46.65124817507685, 9.97120121411651, -41.64543965630194, -10.644382733496066, 233.28871253469933, -1.6060434490061197, -88.08955387769537, 70.04545498215438, -100.4003858911418, -71.44699102636814, -16.08240926042226, 86.44200182513768, 39.74435394874704, 84.28330057530681, 55.205598622606274, 4.005391965349772, 52.0613908376176, -33.44464637461418, 23.821338402814487, 68.34919351578105, -103.83322757178033, -46.62483883646307, -599.5677254892978, -98.48395698131633, -61.749618273536264, -71.01947622927023, -81.44466637217074, -208.01352012186473], \"text\": [\"dailykos.com\", \"thinkprogress.org\", \"usatoday.com\", \"forbes.com\", \"slate.com\", \"nypost.com\", \"seattletimes.com\", \"thenewcivilrightsmovement.com\", \"rawstory.com\", \"rightwingnews.com\", \"westernjournalism.com\", \"theblaze.com\", \"mediamatters.org\", \"occupydemocrats.com\", \"motherjones.com\", \"100percentfedup.com\", \"afp.com\", \"propublica.org\", \"dailycaller.com\", \"reuters.com\", \"allenbwest.com\", \"conservativetribune.com\", \"thenation.com\", \"ft.com\", \"democracynow.org\", \"truthfeed.com\", \"economist.com\", \"bbc.com\", \"nydailynews.com\", \"youngcons.com\", \"washingtonpost.com\", \"thegatewaypundit.com\", \"bizpacreview.com\", \"dailywire.com\", \"azcentral.com\", \"redstate.com\", \"talkingpointsmemo.com\", \"cnn.com\", \"ijr.com\", \"nj.com\", \"wsj.com\", \"apnews.com\", \"sfchronicle.com\", \"nytimes.com\", \"townhall.com\", \"washingtonexaminer.com\", \"thefederalistpapers.org\", \"dallasnews.com\", \"latimes.com\", \"judicialwatch.org\", \"politicususa.com\", \"freedomdaily.com\", \"mrctv.org\", \"oppositionreport.com\", \"conservative101.com\", \"louderwithcrowder.com\", \"usherald.com\"], \"mode\": \"markers+text\", \"marker\": {\"size\": 10}}], {\"height\": 700, \"autosize\": false, \"width\": 1000}, {\"linkText\": \"Export to plot.ly\", \"showLink\": false})});</script>"
      ],
      "text/vnd.plotly.v1+html": [
       "<div id=\"315e336e-7629-4f47-8ffe-42b48ccf7e73\" style=\"height: 700px; width: 1000px;\" class=\"plotly-graph-div\"></div><script type=\"text/javascript\">require([\"plotly\"], function(Plotly) { window.PLOTLYENV=window.PLOTLYENV || {};window.PLOTLYENV.BASE_URL=\"https://plot.ly\";Plotly.newPlot(\"315e336e-7629-4f47-8ffe-42b48ccf7e73\", [{\"type\": \"scatter\", \"textposition\": \"top\", \"y\": [-6.2286782084470325, -64.91458757178341, 19.293165751180464, -28.888528859944667, 4.078188892985128, 48.453955678692324, -25.632842651675322, 30.76458710379053, 0.8112059986946892, -23.403109553175785, -38.513659199198685, 82.78127198443482, 49.06432865762818, -126.32553820464469, 39.30352691112622, -104.93871405609653, -17.609333224847912, 356.2402436740018, 91.45467463060366, 119.65536050314553, 96.5622085435714, -14.992645790341195, 8.915251599631057, 7.3837961495592, 73.30303415935205, -103.93746228060282, -52.67400849364711, 28.133760431755274, 44.06725963117379, 74.87903229139414, -53.28277884378058, -75.89190716922822, -30.172251316794245, 56.06489216645095, -75.24842620959242, 24.438157352615143, -210.81127664596616, -57.72300703242881, -19.567052302193524, 59.50818381480884, -33.99643224783264, -5.132203485366068, 3.9303384121468827, -56.16497343905963, 17.53150841119688, 62.78171555550933, -51.875267783767995, 33.457335378066205, 39.47240798795783, -9.053982822593426, 5.784595893422677, -374.72030665883887, 53.71066561756501, 28.92727182999535, -70.83448226251579, 74.92601034558821, 38.26924587305916], \"x\": [-5.937408860654123, 79.49202662533585, 42.79981988091044, 48.14739587041288, -70.27107659724368, 36.71256469487967, 22.166095141151093, -33.9877651354734, 16.98225610694932, -39.020187880813815, -58.53227632749741, 69.966887572675, -49.37349241382625, -38.86875667155102, -3.8545997622150994, 13.67016251718659, 69.60791690518406, 563.9235752889658, 25.191503114671832, -55.09933119302041, -18.734186040792284, 116.82543122594521, -23.981210188154556, 60.208770521566464, 3.844296367509273, -68.52517876536649, 33.075582948617814, 88.76287624182334, 106.37226878756005, -46.65124817507685, 9.97120121411651, -41.64543965630194, -10.644382733496066, 233.28871253469933, -1.6060434490061197, -88.08955387769537, 70.04545498215438, -100.4003858911418, -71.44699102636814, -16.08240926042226, 86.44200182513768, 39.74435394874704, 84.28330057530681, 55.205598622606274, 4.005391965349772, 52.0613908376176, -33.44464637461418, 23.821338402814487, 68.34919351578105, -103.83322757178033, -46.62483883646307, -599.5677254892978, -98.48395698131633, -61.749618273536264, -71.01947622927023, -81.44466637217074, -208.01352012186473], \"text\": [\"dailykos.com\", \"thinkprogress.org\", \"usatoday.com\", \"forbes.com\", \"slate.com\", \"nypost.com\", \"seattletimes.com\", \"thenewcivilrightsmovement.com\", \"rawstory.com\", \"rightwingnews.com\", \"westernjournalism.com\", \"theblaze.com\", \"mediamatters.org\", \"occupydemocrats.com\", \"motherjones.com\", \"100percentfedup.com\", \"afp.com\", \"propublica.org\", \"dailycaller.com\", \"reuters.com\", \"allenbwest.com\", \"conservativetribune.com\", \"thenation.com\", \"ft.com\", \"democracynow.org\", \"truthfeed.com\", \"economist.com\", \"bbc.com\", \"nydailynews.com\", \"youngcons.com\", \"washingtonpost.com\", \"thegatewaypundit.com\", \"bizpacreview.com\", \"dailywire.com\", \"azcentral.com\", \"redstate.com\", \"talkingpointsmemo.com\", \"cnn.com\", \"ijr.com\", \"nj.com\", \"wsj.com\", \"apnews.com\", \"sfchronicle.com\", \"nytimes.com\", \"townhall.com\", \"washingtonexaminer.com\", \"thefederalistpapers.org\", \"dallasnews.com\", \"latimes.com\", \"judicialwatch.org\", \"politicususa.com\", \"freedomdaily.com\", \"mrctv.org\", \"oppositionreport.com\", \"conservative101.com\", \"louderwithcrowder.com\", \"usherald.com\"], \"mode\": \"markers+text\", \"marker\": {\"size\": 10}}], {\"height\": 700, \"autosize\": false, \"width\": 1000}, {\"linkText\": \"Export to plot.ly\", \"showLink\": false})});</script>"
      ]
     },
     "metadata": {},
     "output_type": "display_data"
    }
   ],
   "source": [
    "trace = Scatter(x=X_proj, y=Y_proj, mode='markers+text', text=labels, textposition='top',  marker=dict(size=10))\n",
    "iplot({\n",
    "    'data': [trace],\n",
    "    'layout': Layout(\n",
    "        #xaxis=XAxis(title='Left vs Right'), \n",
    "        #yaxis=YAxis(title='Biased vs Factual'),\n",
    "        autosize=False,\n",
    "        width=1000,\n",
    "        height=700)},\n",
    "    show_link=False\n",
    ")"
   ]
  },
  {
   "cell_type": "markdown",
   "metadata": {},
   "source": [
    "### PCA Analysis"
   ]
  },
  {
   "cell_type": "code",
   "execution_count": 98,
   "metadata": {
    "collapsed": true
   },
   "outputs": [],
   "source": [
    "from sklearn.decomposition import PCA\n",
    "pca = PCA(n_components=2)\n",
    "site_vectors_pca = pca.fit(site_vectors).components_"
   ]
  },
  {
   "cell_type": "code",
   "execution_count": 99,
   "metadata": {},
   "outputs": [
    {
     "data": {
      "application/vnd.plotly.v1+json": {
       "data": [
        {
         "marker": {
          "size": 10
         },
         "mode": "markers+text",
         "text": [
          "dailykos.com",
          "thinkprogress.org",
          "usatoday.com",
          "forbes.com",
          "slate.com",
          "nypost.com",
          "seattletimes.com",
          "thenewcivilrightsmovement.com",
          "rawstory.com",
          "rightwingnews.com",
          "westernjournalism.com",
          "theblaze.com",
          "mediamatters.org",
          "occupydemocrats.com",
          "motherjones.com",
          "100percentfedup.com",
          "afp.com",
          "propublica.org",
          "dailycaller.com",
          "reuters.com",
          "allenbwest.com",
          "conservativetribune.com",
          "thenation.com",
          "ft.com",
          "democracynow.org",
          "truthfeed.com",
          "economist.com",
          "bbc.com",
          "nydailynews.com",
          "youngcons.com",
          "washingtonpost.com",
          "thegatewaypundit.com",
          "bizpacreview.com",
          "dailywire.com",
          "azcentral.com",
          "redstate.com",
          "talkingpointsmemo.com",
          "cnn.com",
          "ijr.com",
          "nj.com",
          "wsj.com",
          "apnews.com",
          "sfchronicle.com",
          "nytimes.com",
          "townhall.com",
          "washingtonexaminer.com",
          "thefederalistpapers.org",
          "dallasnews.com",
          "latimes.com",
          "judicialwatch.org",
          "politicususa.com",
          "freedomdaily.com",
          "mrctv.org",
          "oppositionreport.com",
          "conservative101.com",
          "louderwithcrowder.com",
          "usherald.com"
         ],
         "textposition": "top",
         "type": "scatter",
         "x": [
          -0.02705486385231204,
          -0.041588888929847356,
          -0.007621428024783397,
          -0.06915550599762914,
          0.008312471144234774,
          0.08119485123512044,
          0.0013569629968651009,
          -0.034172484850857034,
          -0.04127890317867507,
          0.1701678434168233,
          0.06141416072417632,
          0.11739399172041215,
          0.15977607053932158,
          -0.04048669377603026,
          0.08583129704295175,
          -0.0150302912246516,
          -0.031401199161043315,
          -0.03960066399614718,
          -0.028530513718808815,
          0.11515789424205622,
          -0.04077767200305258,
          -0.05774865578131609,
          -0.033453486685680225,
          0.16686791803466497,
          -0.036993965969255846,
          0.23919090701242585,
          0.019914208972805363,
          0.13268828838279575,
          0.0017524887002119888,
          -0.0037115427958354526,
          -0.009529959386003397,
          0.16052507699077534,
          -0.09190491718548631,
          0.11779142740706264,
          0.1445619352153212,
          -0.01160804244624787,
          -0.026243193974288925,
          0.14649234271107536,
          0.10299191115308055,
          -0.09617552910799124,
          -0.08883422957585904,
          -0.09350983610362945,
          -0.05953986549840795,
          -0.07633873776444847,
          -0.12190120282853963,
          0.03204624649231873,
          -0.025204825353011127,
          0.14273822078461873,
          0.17362810283838517,
          0.17533132951756958,
          -0.012054105746692521,
          -0.017498388285681114,
          0.23397432276122396,
          0.12214423147653362,
          -0.06798955118199418,
          0.04647562264306396,
          -0.006736144114867457,
          0.20457394394486542,
          -0.017866011247031955,
          -0.026644040949078487,
          -0.04687001900766597,
          0.18416234320693647,
          0.16141749569741656,
          0.00927717120425213,
          -0.06698944297529734,
          -0.0008039968903886973,
          0.12096474523071302,
          0.17069822391098977,
          0.005698002705521172,
          0.1672114219582229,
          -0.016417939279511302,
          -0.009368660338284119,
          0.08100570452392243,
          -0.03276807157710737,
          -0.009808482772071017,
          -0.04945768956755927,
          -0.022126901057640674,
          0.15112884796480638,
          -0.014286120859519436,
          -0.02559685056450507,
          0.0018958202362798326,
          9.014873352096523e-05,
          0.11557942779189438,
          0.15501068235764454,
          0.1513048889052542,
          -0.02464302561712308,
          0.12513067335913844,
          -0.0595726106427871,
          0.20465942231411072,
          0.018393427861559775,
          0.000551679282074049,
          0.1723787221787732,
          -0.01799661088989093,
          -0.04628884012655636,
          0.10804730709459287,
          0.20575497216099012,
          -0.015300755474645315,
          0.17628512890211906,
          0.010797949989431442,
          0.08184328420009793
         ],
         "y": [
          0.01840702399208266,
          0.1068917743979864,
          -0.013448766603249007,
          0.06923994203011297,
          -0.09624496078899056,
          -0.011942867820966721,
          0.0014864653115717295,
          0.04637093666624404,
          0.07674245012505172,
          0.10724119493294366,
          0.09141647891298015,
          -0.012036862962032682,
          0.2008308664096591,
          0.07983117794212082,
          0.012514404352946264,
          -0.017760204421286882,
          0.08379182802889727,
          0.053851058952435395,
          0.05762072662710545,
          0.12352863298027242,
          0.08851288922934769,
          0.13971492146525832,
          0.08438058572939952,
          -0.06081671444643641,
          0.07808403545277878,
          -0.04183027246050201,
          -0.07821503403200789,
          -0.0010761186062026046,
          -0.0269627564876553,
          -0.011064560920408795,
          -0.06161950023390244,
          -0.11838838357731062,
          0.15869609149628983,
          0.14496024853025713,
          0.16568578316205035,
          -0.004737612788369701,
          0.021990901005925798,
          0.1597657690693016,
          0.1797683484617071,
          0.10076078290104135,
          0.20538755879799966,
          0.1824907343001407,
          0.10090178129735228,
          0.1405766408189061,
          0.1504205095501486,
          0.056261883158716525,
          -0.01106673562036966,
          0.14358907501376308,
          0.14732385875991866,
          -0.14516942819591086,
          -0.07978822763072949,
          0.02027299739151992,
          -0.03974495625241383,
          0.16774439802456056,
          0.1318747850687646,
          -0.04932069774352628,
          -0.0753527246520294,
          -0.11912273230224155,
          -0.02994217597724414,
          0.03499935108589732,
          0.09656511322980994,
          -0.09905986607356204,
          0.1018704420028256,
          -0.08923285790617046,
          0.1656622433657312,
          -0.07749652706688702,
          -0.08312986634376673,
          -0.02536574496113098,
          0.02171855325457252,
          0.11524631475214464,
          -0.01203756336559957,
          0.11238381462575425,
          -0.06485531727691397,
          -0.046132396902061085,
          -0.07747461406362122,
          0.1004834401520292,
          0.022976679318305257,
          0.1406087501612413,
          0.03083811187630482,
          -0.009451314373205138,
          -0.04224826592177001,
          0.015003078754111415,
          0.17538550685475318,
          0.12685301528705753,
          -0.006091238522623265,
          -0.010126405044502814,
          0.16831176464059866,
          -0.012044480866277903,
          0.1429082653876781,
          0.14041309952792497,
          -0.084359289769999,
          -0.12145532870688094,
          0.006467512260293423,
          0.11835025186004146,
          0.1772789385579874,
          -0.10272458496607018,
          0.0852697621683515,
          -0.15957937599716943,
          -0.03101547051371001,
          -0.07835607453761839
         ]
        }
       ],
       "layout": {
        "autosize": false,
        "height": 700,
        "width": 1000
       }
      },
      "text/html": [
       "<div id=\"fa6aa919-06cd-4711-bad0-272383613f3a\" style=\"height: 700px; width: 1000px;\" class=\"plotly-graph-div\"></div><script type=\"text/javascript\">require([\"plotly\"], function(Plotly) { window.PLOTLYENV=window.PLOTLYENV || {};window.PLOTLYENV.BASE_URL=\"https://plot.ly\";Plotly.newPlot(\"fa6aa919-06cd-4711-bad0-272383613f3a\", [{\"type\": \"scatter\", \"textposition\": \"top\", \"y\": [0.01840702399208266, 0.1068917743979864, -0.013448766603249007, 0.06923994203011297, -0.09624496078899056, -0.011942867820966721, 0.0014864653115717295, 0.04637093666624404, 0.07674245012505172, 0.10724119493294366, 0.09141647891298015, -0.012036862962032682, 0.2008308664096591, 0.07983117794212082, 0.012514404352946264, -0.017760204421286882, 0.08379182802889727, 0.053851058952435395, 0.05762072662710545, 0.12352863298027242, 0.08851288922934769, 0.13971492146525832, 0.08438058572939952, -0.06081671444643641, 0.07808403545277878, -0.04183027246050201, -0.07821503403200789, -0.0010761186062026046, -0.0269627564876553, -0.011064560920408795, -0.06161950023390244, -0.11838838357731062, 0.15869609149628983, 0.14496024853025713, 0.16568578316205035, -0.004737612788369701, 0.021990901005925798, 0.1597657690693016, 0.1797683484617071, 0.10076078290104135, 0.20538755879799966, 0.1824907343001407, 0.10090178129735228, 0.1405766408189061, 0.1504205095501486, 0.056261883158716525, -0.01106673562036966, 0.14358907501376308, 0.14732385875991866, -0.14516942819591086, -0.07978822763072949, 0.02027299739151992, -0.03974495625241383, 0.16774439802456056, 0.1318747850687646, -0.04932069774352628, -0.0753527246520294, -0.11912273230224155, -0.02994217597724414, 0.03499935108589732, 0.09656511322980994, -0.09905986607356204, 0.1018704420028256, -0.08923285790617046, 0.1656622433657312, -0.07749652706688702, -0.08312986634376673, -0.02536574496113098, 0.02171855325457252, 0.11524631475214464, -0.01203756336559957, 0.11238381462575425, -0.06485531727691397, -0.046132396902061085, -0.07747461406362122, 0.1004834401520292, 0.022976679318305257, 0.1406087501612413, 0.03083811187630482, -0.009451314373205138, -0.04224826592177001, 0.015003078754111415, 0.17538550685475318, 0.12685301528705753, -0.006091238522623265, -0.010126405044502814, 0.16831176464059866, -0.012044480866277903, 0.1429082653876781, 0.14041309952792497, -0.084359289769999, -0.12145532870688094, 0.006467512260293423, 0.11835025186004146, 0.1772789385579874, -0.10272458496607018, 0.0852697621683515, -0.15957937599716943, -0.03101547051371001, -0.07835607453761839], \"x\": [-0.02705486385231204, -0.041588888929847356, -0.007621428024783397, -0.06915550599762914, 0.008312471144234774, 0.08119485123512044, 0.0013569629968651009, -0.034172484850857034, -0.04127890317867507, 0.1701678434168233, 0.06141416072417632, 0.11739399172041215, 0.15977607053932158, -0.04048669377603026, 0.08583129704295175, -0.0150302912246516, -0.031401199161043315, -0.03960066399614718, -0.028530513718808815, 0.11515789424205622, -0.04077767200305258, -0.05774865578131609, -0.033453486685680225, 0.16686791803466497, -0.036993965969255846, 0.23919090701242585, 0.019914208972805363, 0.13268828838279575, 0.0017524887002119888, -0.0037115427958354526, -0.009529959386003397, 0.16052507699077534, -0.09190491718548631, 0.11779142740706264, 0.1445619352153212, -0.01160804244624787, -0.026243193974288925, 0.14649234271107536, 0.10299191115308055, -0.09617552910799124, -0.08883422957585904, -0.09350983610362945, -0.05953986549840795, -0.07633873776444847, -0.12190120282853963, 0.03204624649231873, -0.025204825353011127, 0.14273822078461873, 0.17362810283838517, 0.17533132951756958, -0.012054105746692521, -0.017498388285681114, 0.23397432276122396, 0.12214423147653362, -0.06798955118199418, 0.04647562264306396, -0.006736144114867457, 0.20457394394486542, -0.017866011247031955, -0.026644040949078487, -0.04687001900766597, 0.18416234320693647, 0.16141749569741656, 0.00927717120425213, -0.06698944297529734, -0.0008039968903886973, 0.12096474523071302, 0.17069822391098977, 0.005698002705521172, 0.1672114219582229, -0.016417939279511302, -0.009368660338284119, 0.08100570452392243, -0.03276807157710737, -0.009808482772071017, -0.04945768956755927, -0.022126901057640674, 0.15112884796480638, -0.014286120859519436, -0.02559685056450507, 0.0018958202362798326, 9.014873352096523e-05, 0.11557942779189438, 0.15501068235764454, 0.1513048889052542, -0.02464302561712308, 0.12513067335913844, -0.0595726106427871, 0.20465942231411072, 0.018393427861559775, 0.000551679282074049, 0.1723787221787732, -0.01799661088989093, -0.04628884012655636, 0.10804730709459287, 0.20575497216099012, -0.015300755474645315, 0.17628512890211906, 0.010797949989431442, 0.08184328420009793], \"text\": [\"dailykos.com\", \"thinkprogress.org\", \"usatoday.com\", \"forbes.com\", \"slate.com\", \"nypost.com\", \"seattletimes.com\", \"thenewcivilrightsmovement.com\", \"rawstory.com\", \"rightwingnews.com\", \"westernjournalism.com\", \"theblaze.com\", \"mediamatters.org\", \"occupydemocrats.com\", \"motherjones.com\", \"100percentfedup.com\", \"afp.com\", \"propublica.org\", \"dailycaller.com\", \"reuters.com\", \"allenbwest.com\", \"conservativetribune.com\", \"thenation.com\", \"ft.com\", \"democracynow.org\", \"truthfeed.com\", \"economist.com\", \"bbc.com\", \"nydailynews.com\", \"youngcons.com\", \"washingtonpost.com\", \"thegatewaypundit.com\", \"bizpacreview.com\", \"dailywire.com\", \"azcentral.com\", \"redstate.com\", \"talkingpointsmemo.com\", \"cnn.com\", \"ijr.com\", \"nj.com\", \"wsj.com\", \"apnews.com\", \"sfchronicle.com\", \"nytimes.com\", \"townhall.com\", \"washingtonexaminer.com\", \"thefederalistpapers.org\", \"dallasnews.com\", \"latimes.com\", \"judicialwatch.org\", \"politicususa.com\", \"freedomdaily.com\", \"mrctv.org\", \"oppositionreport.com\", \"conservative101.com\", \"louderwithcrowder.com\", \"usherald.com\"], \"mode\": \"markers+text\", \"marker\": {\"size\": 10}}], {\"height\": 700, \"autosize\": false, \"width\": 1000}, {\"linkText\": \"Export to plot.ly\", \"showLink\": false})});</script>"
      ],
      "text/vnd.plotly.v1+html": [
       "<div id=\"fa6aa919-06cd-4711-bad0-272383613f3a\" style=\"height: 700px; width: 1000px;\" class=\"plotly-graph-div\"></div><script type=\"text/javascript\">require([\"plotly\"], function(Plotly) { window.PLOTLYENV=window.PLOTLYENV || {};window.PLOTLYENV.BASE_URL=\"https://plot.ly\";Plotly.newPlot(\"fa6aa919-06cd-4711-bad0-272383613f3a\", [{\"type\": \"scatter\", \"textposition\": \"top\", \"y\": [0.01840702399208266, 0.1068917743979864, -0.013448766603249007, 0.06923994203011297, -0.09624496078899056, -0.011942867820966721, 0.0014864653115717295, 0.04637093666624404, 0.07674245012505172, 0.10724119493294366, 0.09141647891298015, -0.012036862962032682, 0.2008308664096591, 0.07983117794212082, 0.012514404352946264, -0.017760204421286882, 0.08379182802889727, 0.053851058952435395, 0.05762072662710545, 0.12352863298027242, 0.08851288922934769, 0.13971492146525832, 0.08438058572939952, -0.06081671444643641, 0.07808403545277878, -0.04183027246050201, -0.07821503403200789, -0.0010761186062026046, -0.0269627564876553, -0.011064560920408795, -0.06161950023390244, -0.11838838357731062, 0.15869609149628983, 0.14496024853025713, 0.16568578316205035, -0.004737612788369701, 0.021990901005925798, 0.1597657690693016, 0.1797683484617071, 0.10076078290104135, 0.20538755879799966, 0.1824907343001407, 0.10090178129735228, 0.1405766408189061, 0.1504205095501486, 0.056261883158716525, -0.01106673562036966, 0.14358907501376308, 0.14732385875991866, -0.14516942819591086, -0.07978822763072949, 0.02027299739151992, -0.03974495625241383, 0.16774439802456056, 0.1318747850687646, -0.04932069774352628, -0.0753527246520294, -0.11912273230224155, -0.02994217597724414, 0.03499935108589732, 0.09656511322980994, -0.09905986607356204, 0.1018704420028256, -0.08923285790617046, 0.1656622433657312, -0.07749652706688702, -0.08312986634376673, -0.02536574496113098, 0.02171855325457252, 0.11524631475214464, -0.01203756336559957, 0.11238381462575425, -0.06485531727691397, -0.046132396902061085, -0.07747461406362122, 0.1004834401520292, 0.022976679318305257, 0.1406087501612413, 0.03083811187630482, -0.009451314373205138, -0.04224826592177001, 0.015003078754111415, 0.17538550685475318, 0.12685301528705753, -0.006091238522623265, -0.010126405044502814, 0.16831176464059866, -0.012044480866277903, 0.1429082653876781, 0.14041309952792497, -0.084359289769999, -0.12145532870688094, 0.006467512260293423, 0.11835025186004146, 0.1772789385579874, -0.10272458496607018, 0.0852697621683515, -0.15957937599716943, -0.03101547051371001, -0.07835607453761839], \"x\": [-0.02705486385231204, -0.041588888929847356, -0.007621428024783397, -0.06915550599762914, 0.008312471144234774, 0.08119485123512044, 0.0013569629968651009, -0.034172484850857034, -0.04127890317867507, 0.1701678434168233, 0.06141416072417632, 0.11739399172041215, 0.15977607053932158, -0.04048669377603026, 0.08583129704295175, -0.0150302912246516, -0.031401199161043315, -0.03960066399614718, -0.028530513718808815, 0.11515789424205622, -0.04077767200305258, -0.05774865578131609, -0.033453486685680225, 0.16686791803466497, -0.036993965969255846, 0.23919090701242585, 0.019914208972805363, 0.13268828838279575, 0.0017524887002119888, -0.0037115427958354526, -0.009529959386003397, 0.16052507699077534, -0.09190491718548631, 0.11779142740706264, 0.1445619352153212, -0.01160804244624787, -0.026243193974288925, 0.14649234271107536, 0.10299191115308055, -0.09617552910799124, -0.08883422957585904, -0.09350983610362945, -0.05953986549840795, -0.07633873776444847, -0.12190120282853963, 0.03204624649231873, -0.025204825353011127, 0.14273822078461873, 0.17362810283838517, 0.17533132951756958, -0.012054105746692521, -0.017498388285681114, 0.23397432276122396, 0.12214423147653362, -0.06798955118199418, 0.04647562264306396, -0.006736144114867457, 0.20457394394486542, -0.017866011247031955, -0.026644040949078487, -0.04687001900766597, 0.18416234320693647, 0.16141749569741656, 0.00927717120425213, -0.06698944297529734, -0.0008039968903886973, 0.12096474523071302, 0.17069822391098977, 0.005698002705521172, 0.1672114219582229, -0.016417939279511302, -0.009368660338284119, 0.08100570452392243, -0.03276807157710737, -0.009808482772071017, -0.04945768956755927, -0.022126901057640674, 0.15112884796480638, -0.014286120859519436, -0.02559685056450507, 0.0018958202362798326, 9.014873352096523e-05, 0.11557942779189438, 0.15501068235764454, 0.1513048889052542, -0.02464302561712308, 0.12513067335913844, -0.0595726106427871, 0.20465942231411072, 0.018393427861559775, 0.000551679282074049, 0.1723787221787732, -0.01799661088989093, -0.04628884012655636, 0.10804730709459287, 0.20575497216099012, -0.015300755474645315, 0.17628512890211906, 0.010797949989431442, 0.08184328420009793], \"text\": [\"dailykos.com\", \"thinkprogress.org\", \"usatoday.com\", \"forbes.com\", \"slate.com\", \"nypost.com\", \"seattletimes.com\", \"thenewcivilrightsmovement.com\", \"rawstory.com\", \"rightwingnews.com\", \"westernjournalism.com\", \"theblaze.com\", \"mediamatters.org\", \"occupydemocrats.com\", \"motherjones.com\", \"100percentfedup.com\", \"afp.com\", \"propublica.org\", \"dailycaller.com\", \"reuters.com\", \"allenbwest.com\", \"conservativetribune.com\", \"thenation.com\", \"ft.com\", \"democracynow.org\", \"truthfeed.com\", \"economist.com\", \"bbc.com\", \"nydailynews.com\", \"youngcons.com\", \"washingtonpost.com\", \"thegatewaypundit.com\", \"bizpacreview.com\", \"dailywire.com\", \"azcentral.com\", \"redstate.com\", \"talkingpointsmemo.com\", \"cnn.com\", \"ijr.com\", \"nj.com\", \"wsj.com\", \"apnews.com\", \"sfchronicle.com\", \"nytimes.com\", \"townhall.com\", \"washingtonexaminer.com\", \"thefederalistpapers.org\", \"dallasnews.com\", \"latimes.com\", \"judicialwatch.org\", \"politicususa.com\", \"freedomdaily.com\", \"mrctv.org\", \"oppositionreport.com\", \"conservative101.com\", \"louderwithcrowder.com\", \"usherald.com\"], \"mode\": \"markers+text\", \"marker\": {\"size\": 10}}], {\"height\": 700, \"autosize\": false, \"width\": 1000}, {\"linkText\": \"Export to plot.ly\", \"showLink\": false})});</script>"
      ]
     },
     "metadata": {},
     "output_type": "display_data"
    }
   ],
   "source": [
    "trace = Scatter(x=site_vectors_pca[0], y=site_vectors_pca[1], mode='markers+text', text=labels, textposition='top',  marker=dict(size=10))\n",
    "iplot({\n",
    "    'data': [trace],\n",
    "    'layout': Layout(\n",
    "        #xaxis=XAxis(title='Left vs Right'), \n",
    "        #yaxis=YAxis(title='Biased vs Factual'),\n",
    "        autosize=False,\n",
    "        width=1000,\n",
    "        height=700)},\n",
    "    show_link=False\n",
    ")"
   ]
  }
 ],
 "metadata": {
  "kernelspec": {
   "display_name": "Python 3",
   "language": "python",
   "name": "python3"
  },
  "language_info": {
   "codemirror_mode": {
    "name": "ipython",
    "version": 3
   },
   "file_extension": ".py",
   "mimetype": "text/x-python",
   "name": "python",
   "nbconvert_exporter": "python",
   "pygments_lexer": "ipython3",
   "version": "3.5.2"
  }
 },
 "nbformat": 4,
 "nbformat_minor": 2
}
