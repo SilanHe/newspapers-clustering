{
 "cells": [
  {
   "cell_type": "code",
   "execution_count": 1,
   "metadata": {
    "collapsed": true
   },
   "outputs": [],
   "source": [
    "import pandas as pd\n",
    "from tqdm import tqdm\n",
    "import pickle\n",
    "\n",
    "from concurrent.futures import ThreadPoolExecutor"
   ]
  },
  {
   "cell_type": "code",
   "execution_count": 2,
   "metadata": {
    "collapsed": true
   },
   "outputs": [],
   "source": [
    "# Where the JSON files are located\n",
    "source = '../data/source/newsclust.csv'\n",
    "df_file_name = '../data/source/df-entities-sentiment.pickle.gz'\n",
    "entities_file_name = '../data/entities.pickle'"
   ]
  },
  {
   "cell_type": "code",
   "execution_count": 3,
   "metadata": {},
   "outputs": [
    {
     "name": "stdout",
     "output_type": "stream",
     "text": [
      "103262\n"
     ]
    }
   ],
   "source": [
    "df = pd.read_csv(\"../data/source/newsclust.csv\")\n",
    "df = df.query(\"site != 'cbn.com'\")\n",
    "print(len(df))\n",
    "df = df.set_index('Unnamed: 0', drop=True, verify_integrity=True)\n",
    "df.index.names = ['id']\n",
    "# Uncomment to run on a very small sample\n",
    "df = df.head(50)"
   ]
  },
  {
   "cell_type": "code",
   "execution_count": 4,
   "metadata": {},
   "outputs": [
    {
     "data": {
      "text/html": [
       "<div>\n",
       "<style>\n",
       "    .dataframe thead tr:only-child th {\n",
       "        text-align: right;\n",
       "    }\n",
       "\n",
       "    .dataframe thead th {\n",
       "        text-align: left;\n",
       "    }\n",
       "\n",
       "    .dataframe tbody tr th {\n",
       "        vertical-align: top;\n",
       "    }\n",
       "</style>\n",
       "<table border=\"1\" class=\"dataframe\">\n",
       "  <thead>\n",
       "    <tr style=\"text-align: right;\">\n",
       "      <th></th>\n",
       "      <th>date</th>\n",
       "      <th>site</th>\n",
       "      <th>text</th>\n",
       "      <th>title</th>\n",
       "      <th>url</th>\n",
       "      <th>bias</th>\n",
       "    </tr>\n",
       "    <tr>\n",
       "      <th>id</th>\n",
       "      <th></th>\n",
       "      <th></th>\n",
       "      <th></th>\n",
       "      <th></th>\n",
       "      <th></th>\n",
       "      <th></th>\n",
       "    </tr>\n",
       "  </thead>\n",
       "  <tbody>\n",
       "    <tr>\n",
       "      <th>0</th>\n",
       "      <td>2015-01-29T23:14:00.000+02:00</td>\n",
       "      <td>washingtonexaminer.com</td>\n",
       "      <td>Class action filed over United’s ‘low fare gua...</td>\n",
       "      <td>Class action filed over United’s ‘low fare gua...</td>\n",
       "      <td>http://www.washingtonexaminer.com/class-action...</td>\n",
       "      <td>1</td>\n",
       "    </tr>\n",
       "    <tr>\n",
       "      <th>1</th>\n",
       "      <td>2015-01-23T02:00:00.000+02:00</td>\n",
       "      <td>nydailynews.com</td>\n",
       "      <td>Jupiterimages/Getty Images/Goodshoot RF Snuggl...</td>\n",
       "      <td>Portland pro cuddler hosts ‘Cuddle Con’ on Val...</td>\n",
       "      <td>http://www.nydailynews.com/news/national/portl...</td>\n",
       "      <td>1</td>\n",
       "    </tr>\n",
       "  </tbody>\n",
       "</table>\n",
       "</div>"
      ],
      "text/plain": [
       "                             date                    site  \\\n",
       "id                                                          \n",
       "0   2015-01-29T23:14:00.000+02:00  washingtonexaminer.com   \n",
       "1   2015-01-23T02:00:00.000+02:00         nydailynews.com   \n",
       "\n",
       "                                                 text  \\\n",
       "id                                                      \n",
       "0   Class action filed over United’s ‘low fare gua...   \n",
       "1   Jupiterimages/Getty Images/Goodshoot RF Snuggl...   \n",
       "\n",
       "                                                title  \\\n",
       "id                                                      \n",
       "0   Class action filed over United’s ‘low fare gua...   \n",
       "1   Portland pro cuddler hosts ‘Cuddle Con’ on Val...   \n",
       "\n",
       "                                                  url  bias  \n",
       "id                                                           \n",
       "0   http://www.washingtonexaminer.com/class-action...     1  \n",
       "1   http://www.nydailynews.com/news/national/portl...     1  "
      ]
     },
     "execution_count": 4,
     "metadata": {},
     "output_type": "execute_result"
    }
   ],
   "source": [
    "from bias import SimplifiedBias\n",
    "\n",
    "df['bias'] = df.apply(lambda row: SimplifiedBias.get_simplified_bias_for_domain(row['site']).value, axis=1)\n",
    "df.head(2)"
   ]
  },
  {
   "cell_type": "code",
   "execution_count": null,
   "metadata": {
    "collapsed": true
   },
   "outputs": [],
   "source": [
    "from google.cloud.gapic.language.v1beta2 import enums\n",
    "from google.cloud.gapic.language.v1beta2 import language_service_client\n",
    "from google.cloud.proto.language.v1beta2 import language_service_pb2\n",
    "import six\n",
    "import sys\n",
    "import traceback\n",
    "\n",
    "# taken from https://cloud.google.com/natural-language/docs/beta#analyze-entity-sentiment\n",
    "def entity_sentiment_text(text):\n",
    "    \"\"\"Detects entity sentiment in the provided text.\"\"\"\n",
    "    language_client = language_service_client.LanguageServiceClient()\n",
    "    document = language_service_pb2.Document()\n",
    "\n",
    "    if isinstance(text, six.binary_type):\n",
    "        text = text.decode('utf-8')\n",
    "\n",
    "    document.content = text.encode('utf-8')\n",
    "    document.type = enums.Document.Type.PLAIN_TEXT\n",
    "\n",
    "    encoding = enums.EncodingType.UTF32\n",
    "    if sys.maxunicode == 65535:\n",
    "        encoding = enums.EncodingType.UTF16\n",
    "\n",
    "    result = language_client.analyze_entity_sentiment(\n",
    "        document, encoding)\n",
    "\n",
    "    # for entity in result.entities:\n",
    "    #     print('Mentions: ')\n",
    "    #    print(u'Name: \"{}\"'.format(entity.name))\n",
    "    #     for mention in entity.mentions:\n",
    "    #         print(u'  Begin Offset : {}'.format(mention.text.begin_offset))\n",
    "    #         print(u'  Content : {}'.format(mention.text.content))\n",
    "    #         print(u'  Magnitude : {}'.format(mention.sentiment.magnitude))\n",
    "    #         print(u'  Sentiment : {}'.format(mention.sentiment.score))\n",
    "    #         print(u'  Type : {}'.format(mention.type))\n",
    "    #     print(u'Salience: {}'.format(entity.salience))\n",
    "    #     print(u'Sentiment: {}\\n'.format(entity.sentiment))\n",
    "        \n",
    "    return result\n",
    "\n",
    "from time import sleep\n",
    "def get_entities_and_save_to_disk(pbar, row, out, error, ents):\n",
    "    row_id = row[0]\n",
    "    text = row[1]\n",
    "    try:\n",
    "        pbar.update(1)\n",
    "        \n",
    "        # Execute Google's API call\n",
    "        entity = entity_sentiment_text(text)\n",
    "        # Simulate an API call\n",
    "        #entity = None; sleep(0.5)\n",
    "        \n",
    "        ents.append((row_id, entity, None))\n",
    "        pickle.dump((row_id, entity, None), out)\n",
    "    except:\n",
    "        type_, value_, _ = sys.exc_info()\n",
    "        error['count'] += 1\n",
    "        \n",
    "        ents.append((row_id, None, (type_, value_)))\n",
    "        pickle.dump((row_id, None, (type_, value_)), out)\n",
    "        pbar.set_postfix(error_count=error['count'])\n",
    "\n",
    "def parallel_get_and_save_entities(df, ents):\n",
    "    error = {'count': 0}\n",
    "    with open(entities_file_name, 'wb') as out:\n",
    "        with tqdm(total=len(df)) as pbar:\n",
    "            with ThreadPoolExecutor(max_workers=9) as pool:\n",
    "                id_and_text = zip(df.index.values, df['text'])\n",
    "                list(pool.map(lambda row: get_entities_and_save_to_disk(pbar, row, out, error, ents), id_and_text))"
   ]
  },
  {
   "cell_type": "code",
   "execution_count": null,
   "metadata": {},
   "outputs": [
    {
     "name": "stderr",
     "output_type": "stream",
     "text": [
      " 98%|█████████▊| 49/50 [00:11<00:00,  4.60it/s, error_count=40]"
     ]
    }
   ],
   "source": [
    "ents = []\n",
    "# Running this code costs around US 300 - US $400\n",
    "parallel_get_and_save_entities(df, ents)\n",
    "print(len(ents))"
   ]
  },
  {
   "cell_type": "code",
   "execution_count": null,
   "metadata": {
    "collapsed": true
   },
   "outputs": [],
   "source": [
    "def read_entities_from_disk():\n",
    "    my_objects = []\n",
    "    error_count = 0\n",
    "    try:\n",
    "        with open(entities_file_name, 'rb') as infile:\n",
    "            while True:\n",
    "                row = pickle.load(infile)\n",
    "                my_objects.append(row)\n",
    "                    \n",
    "    except EOFError:\n",
    "        pass\n",
    "    return my_objects"
   ]
  },
  {
   "cell_type": "code",
   "execution_count": null,
   "metadata": {
    "collapsed": true
   },
   "outputs": [],
   "source": [
    "entities = read_entities_from_disk()\n",
    "print(len(entities))\n",
    "entities[-1]"
   ]
  },
  {
   "cell_type": "code",
   "execution_count": null,
   "metadata": {
    "collapsed": true
   },
   "outputs": [],
   "source": [
    "df['entities'] = list(map(lambda row: row[1], entities))"
   ]
  },
  {
   "cell_type": "code",
   "execution_count": null,
   "metadata": {
    "collapsed": true
   },
   "outputs": [],
   "source": [
    "df.head()"
   ]
  },
  {
   "cell_type": "code",
   "execution_count": null,
   "metadata": {
    "collapsed": true
   },
   "outputs": [],
   "source": [
    "df.to_pickle(df_file_name, compression=\"gzip\")\n",
    "df2 = pd.read_pickle(df_file_name)"
   ]
  },
  {
   "cell_type": "code",
   "execution_count": null,
   "metadata": {
    "collapsed": true
   },
   "outputs": [],
   "source": [
    "df2['entities'][0].entities[0].name"
   ]
  }
 ],
 "metadata": {
  "kernelspec": {
   "display_name": "Python 3",
   "language": "python",
   "name": "python3"
  },
  "language_info": {
   "codemirror_mode": {
    "name": "ipython",
    "version": 3
   },
   "file_extension": ".py",
   "mimetype": "text/x-python",
   "name": "python",
   "nbconvert_exporter": "python",
   "pygments_lexer": "ipython3",
   "version": "3.5.2"
  }
 },
 "nbformat": 4,
 "nbformat_minor": 2
}
