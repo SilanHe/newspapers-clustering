{
 "cells": [
  {
   "cell_type": "code",
   "execution_count": 1,
   "metadata": {
    "collapsed": true
   },
   "outputs": [],
   "source": [
    "import pandas as pd\n",
    "from tqdm import tqdm\n",
    "\n",
    "from concurrent.futures import ThreadPoolExecutor"
   ]
  },
  {
   "cell_type": "code",
   "execution_count": 2,
   "metadata": {
    "collapsed": true
   },
   "outputs": [],
   "source": [
    "# Where the JSON files are located\n",
    "source = '../data/source/newsclust.csv'\n",
    "df_file_name = '../data/source/df-entities-sentiment.pickle.gz'"
   ]
  },
  {
   "cell_type": "code",
   "execution_count": 3,
   "metadata": {},
   "outputs": [
    {
     "name": "stdout",
     "output_type": "stream",
     "text": [
      "103262\n"
     ]
    }
   ],
   "source": [
    "df = pd.read_csv(\"../data/source/newsclust.csv\")\n",
    "df = df.query(\"site != 'cbn.com'\")\n",
    "print(len(df))\n",
    "df = df.reset_index([0], drop=\"true\")\n",
    "# Uncomment to run on a very small sample\n",
    "# df = df.head(2)"
   ]
  },
  {
   "cell_type": "code",
   "execution_count": 4,
   "metadata": {},
   "outputs": [
    {
     "data": {
      "text/html": [
       "<div>\n",
       "<style>\n",
       "    .dataframe thead tr:only-child th {\n",
       "        text-align: right;\n",
       "    }\n",
       "\n",
       "    .dataframe thead th {\n",
       "        text-align: left;\n",
       "    }\n",
       "\n",
       "    .dataframe tbody tr th {\n",
       "        vertical-align: top;\n",
       "    }\n",
       "</style>\n",
       "<table border=\"1\" class=\"dataframe\">\n",
       "  <thead>\n",
       "    <tr style=\"text-align: right;\">\n",
       "      <th></th>\n",
       "      <th>Unnamed: 0</th>\n",
       "      <th>date</th>\n",
       "      <th>site</th>\n",
       "      <th>text</th>\n",
       "      <th>title</th>\n",
       "      <th>url</th>\n",
       "      <th>bias</th>\n",
       "    </tr>\n",
       "  </thead>\n",
       "  <tbody>\n",
       "    <tr>\n",
       "      <th>0</th>\n",
       "      <td>0</td>\n",
       "      <td>2015-01-29T23:14:00.000+02:00</td>\n",
       "      <td>washingtonexaminer.com</td>\n",
       "      <td>Class action filed over United’s ‘low fare gua...</td>\n",
       "      <td>Class action filed over United’s ‘low fare gua...</td>\n",
       "      <td>http://www.washingtonexaminer.com/class-action...</td>\n",
       "      <td>1</td>\n",
       "    </tr>\n",
       "    <tr>\n",
       "      <th>1</th>\n",
       "      <td>1</td>\n",
       "      <td>2015-01-23T02:00:00.000+02:00</td>\n",
       "      <td>nydailynews.com</td>\n",
       "      <td>Jupiterimages/Getty Images/Goodshoot RF Snuggl...</td>\n",
       "      <td>Portland pro cuddler hosts ‘Cuddle Con’ on Val...</td>\n",
       "      <td>http://www.nydailynews.com/news/national/portl...</td>\n",
       "      <td>1</td>\n",
       "    </tr>\n",
       "  </tbody>\n",
       "</table>\n",
       "</div>"
      ],
      "text/plain": [
       "   Unnamed: 0                           date                    site  \\\n",
       "0           0  2015-01-29T23:14:00.000+02:00  washingtonexaminer.com   \n",
       "1           1  2015-01-23T02:00:00.000+02:00         nydailynews.com   \n",
       "\n",
       "                                                text  \\\n",
       "0  Class action filed over United’s ‘low fare gua...   \n",
       "1  Jupiterimages/Getty Images/Goodshoot RF Snuggl...   \n",
       "\n",
       "                                               title  \\\n",
       "0  Class action filed over United’s ‘low fare gua...   \n",
       "1  Portland pro cuddler hosts ‘Cuddle Con’ on Val...   \n",
       "\n",
       "                                                 url  bias  \n",
       "0  http://www.washingtonexaminer.com/class-action...     1  \n",
       "1  http://www.nydailynews.com/news/national/portl...     1  "
      ]
     },
     "execution_count": 4,
     "metadata": {},
     "output_type": "execute_result"
    }
   ],
   "source": [
    "from bias import SimplifiedBias\n",
    "\n",
    "df['bias'] = df.apply(lambda row: SimplifiedBias.get_simplified_bias_for_domain(row['site']).value, axis=1)\n",
    "df.head(2)"
   ]
  },
  {
   "cell_type": "code",
   "execution_count": null,
   "metadata": {},
   "outputs": [],
   "source": [
    "from google.cloud.gapic.language.v1beta2 import enums\n",
    "from google.cloud.gapic.language.v1beta2 import language_service_client\n",
    "from google.cloud.proto.language.v1beta2 import language_service_pb2\n",
    "import six\n",
    "import sys\n",
    "\n",
    "# taken from https://cloud.google.com/natural-language/docs/beta#analyze-entity-sentiment\n",
    "\n",
    "def entity_sentiment_text(text):\n",
    "    \"\"\"Detects entity sentiment in the provided text.\"\"\"\n",
    "    language_client = language_service_client.LanguageServiceClient()\n",
    "    document = language_service_pb2.Document()\n",
    "\n",
    "    if isinstance(text, six.binary_type):\n",
    "        text = text.decode('utf-8')\n",
    "\n",
    "    document.content = text.encode('utf-8')\n",
    "    document.type = enums.Document.Type.PLAIN_TEXT\n",
    "\n",
    "    encoding = enums.EncodingType.UTF32\n",
    "    if sys.maxunicode == 65535:\n",
    "        encoding = enums.EncodingType.UTF16\n",
    "\n",
    "    result = language_client.analyze_entity_sentiment(\n",
    "        document, encoding)\n",
    "\n",
    "    # for entity in result.entities:\n",
    "    #     print('Mentions: ')\n",
    "    #    print(u'Name: \"{}\"'.format(entity.name))\n",
    "    #     for mention in entity.mentions:\n",
    "    #         print(u'  Begin Offset : {}'.format(mention.text.begin_offset))\n",
    "    #         print(u'  Content : {}'.format(mention.text.content))\n",
    "    #         print(u'  Magnitude : {}'.format(mention.sentiment.magnitude))\n",
    "    #         print(u'  Sentiment : {}'.format(mention.sentiment.score))\n",
    "    #         print(u'  Type : {}'.format(mention.type))\n",
    "    #     print(u'Salience: {}'.format(entity.salience))\n",
    "    #     print(u'Sentiment: {}\\n'.format(entity.sentiment))\n",
    "        \n",
    "    return result\n",
    "\n",
    "# from time import sleep\n",
    "def safe_entity_sentiment_text(pbar, text):\n",
    "    try:\n",
    "        pbar.update(1)\n",
    "        return entity_sentiment_text(text)\n",
    "        # sleep(0.500)\n",
    "        # return 1\n",
    "    except:\n",
    "        return None\n",
    "\n",
    "def parallel_get_entities(texts):\n",
    "    with tqdm(total=len(texts)) as pbar:\n",
    "        with ThreadPoolExecutor(max_workers=50) as pool:\n",
    "            return pool.map(lambda text: safe_entity_sentiment_text(pbar, text), texts)"
   ]
  },
  {
   "cell_type": "code",
   "execution_count": null,
   "metadata": {},
   "outputs": [
    {
     "name": "stderr",
     "output_type": "stream",
     "text": [
      "100%|█████████▉| 103217/103262 [01:54<00:00, 1231.40it/s]"
     ]
    }
   ],
   "source": [
    "# entities = [safe_entity_sentiment_text(text) for text in tqdm(df['text'])]\n",
    "entities = list(parallel_get_entities(df['text']))"
   ]
  },
  {
   "cell_type": "code",
   "execution_count": null,
   "metadata": {},
   "outputs": [],
   "source": [
    "df['entities'] = entities\n",
    "len(entities)"
   ]
  },
  {
   "cell_type": "code",
   "execution_count": null,
   "metadata": {},
   "outputs": [],
   "source": [
    "df.head()"
   ]
  },
  {
   "cell_type": "code",
   "execution_count": null,
   "metadata": {},
   "outputs": [],
   "source": [
    "df.to_pickle(df_file_name, compression=\"gzip\")\n",
    "df2 = pd.read_pickle(df_file_name)"
   ]
  },
  {
   "cell_type": "code",
   "execution_count": null,
   "metadata": {},
   "outputs": [],
   "source": [
    "df2['entities'][0].entities[0].name"
   ]
  }
 ],
 "metadata": {
  "kernelspec": {
   "display_name": "Python 3",
   "language": "python",
   "name": "python3"
  },
  "language_info": {
   "codemirror_mode": {
    "name": "ipython",
    "version": 3
   },
   "file_extension": ".py",
   "mimetype": "text/x-python",
   "name": "python",
   "nbconvert_exporter": "python",
   "pygments_lexer": "ipython3",
   "version": "3.5.2"
  }
 },
 "nbformat": 4,
 "nbformat_minor": 2
}
