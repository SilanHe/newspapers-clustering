{
 "cells": [
  {
   "cell_type": "markdown",
   "metadata": {},
   "source": [
    "## Create a document linear classifier using Doc2Vec"
   ]
  },
  {
   "cell_type": "code",
   "execution_count": 1,
   "metadata": {},
   "outputs": [
    {
     "name": "stderr",
     "output_type": "stream",
     "text": [
      "Using TensorFlow backend.\n"
     ]
    }
   ],
   "source": [
    "import pandas as pd\n",
    "import json\n",
    "import glob\n",
    "import os\n",
    "\n",
    "import gensim"
   ]
  },
  {
   "cell_type": "code",
   "execution_count": 2,
   "metadata": {},
   "outputs": [],
   "source": [
    "df = pd.read_csv(\"data/source/newsclust.csv\")\n",
    "df = df.query(\"site != 'cbn.com'\")\n",
    "df = df.sample(int(len(df) / 30)) # sample 1 month out of 30 for faster training"
   ]
  },
  {
   "cell_type": "code",
   "execution_count": 3,
   "metadata": {},
   "outputs": [
    {
     "data": {
      "text/html": [
       "<div>\n",
       "<style>\n",
       "    .dataframe thead tr:only-child th {\n",
       "        text-align: right;\n",
       "    }\n",
       "\n",
       "    .dataframe thead th {\n",
       "        text-align: left;\n",
       "    }\n",
       "\n",
       "    .dataframe tbody tr th {\n",
       "        vertical-align: top;\n",
       "    }\n",
       "</style>\n",
       "<table border=\"1\" class=\"dataframe\">\n",
       "  <thead>\n",
       "    <tr style=\"text-align: right;\">\n",
       "      <th></th>\n",
       "      <th>Unnamed: 0</th>\n",
       "      <th>date</th>\n",
       "      <th>site</th>\n",
       "      <th>text</th>\n",
       "      <th>title</th>\n",
       "      <th>url</th>\n",
       "      <th>bias</th>\n",
       "    </tr>\n",
       "  </thead>\n",
       "  <tbody>\n",
       "    <tr>\n",
       "      <th>32267</th>\n",
       "      <td>32267</td>\n",
       "      <td>2015-05-13T15:25:00.000+03:00</td>\n",
       "      <td>nytimes.com</td>\n",
       "      <td>MOBILE TECH KEY TO AOL-VERIZON MERGER | AOL ha...</td>\n",
       "      <td>Morning Agenda: Mobile Tech Key to AOL-Verizon...</td>\n",
       "      <td>http://news.blogs.nytimes.com/2015/05/13/morni...</td>\n",
       "      <td>2</td>\n",
       "    </tr>\n",
       "    <tr>\n",
       "      <th>41587</th>\n",
       "      <td>41587</td>\n",
       "      <td>2017-05-21T03:45:00.000+03:00</td>\n",
       "      <td>westernjournalism.com</td>\n",
       "      <td>Saudi King Shatters Tradition To Welcome Melan...</td>\n",
       "      <td>Saudi King Shatters Tradition To Welcome Melan...</td>\n",
       "      <td>http://www.westernjournalism.com/saudi-king-sh...</td>\n",
       "      <td>5</td>\n",
       "    </tr>\n",
       "  </tbody>\n",
       "</table>\n",
       "</div>"
      ],
      "text/plain": [
       "       Unnamed: 0                           date                   site  \\\n",
       "32267       32267  2015-05-13T15:25:00.000+03:00            nytimes.com   \n",
       "41587       41587  2017-05-21T03:45:00.000+03:00  westernjournalism.com   \n",
       "\n",
       "                                                    text  \\\n",
       "32267  MOBILE TECH KEY TO AOL-VERIZON MERGER | AOL ha...   \n",
       "41587  Saudi King Shatters Tradition To Welcome Melan...   \n",
       "\n",
       "                                                   title  \\\n",
       "32267  Morning Agenda: Mobile Tech Key to AOL-Verizon...   \n",
       "41587  Saudi King Shatters Tradition To Welcome Melan...   \n",
       "\n",
       "                                                     url  bias  \n",
       "32267  http://news.blogs.nytimes.com/2015/05/13/morni...     2  \n",
       "41587  http://www.westernjournalism.com/saudi-king-sh...     5  "
      ]
     },
     "execution_count": 3,
     "metadata": {},
     "output_type": "execute_result"
    }
   ],
   "source": [
    "from bias import Bias\n",
    "\n",
    "num_classes = 7\n",
    "df['bias'] = df.apply(lambda row: Bias.get_bias_for_domain(row['site']).value, axis=1)\n",
    "df.head(2)"
   ]
  },
  {
   "cell_type": "code",
   "execution_count": 4,
   "metadata": {},
   "outputs": [],
   "source": [
    "import spacy\n",
    "nlp = spacy.load('en')\n",
    "nlp.pipeline = []\n",
    "\n",
    "def tokenize_text(texts):\n",
    "    docs = [doc for doc in nlp.pipe(texts, batch_size=500, n_threads=8)]\n",
    "    return docs"
   ]
  },
  {
   "cell_type": "code",
   "execution_count": 5,
   "metadata": {},
   "outputs": [],
   "source": [
    "df['docs'] = tokenize_text(df['title'].astype(str))"
   ]
  },
  {
   "cell_type": "code",
   "execution_count": 6,
   "metadata": {
    "collapsed": true
   },
   "outputs": [],
   "source": [
    "def is_invalid_token(token):\n",
    "    return token.is_punct or token.is_space or token.like_url or token.like_num or token.is_digit\n",
    "\n",
    "def get_words(doc):\n",
    "    return [token.orth_ for token in doc if not is_invalid_token(token)]\n",
    "\n",
    "def taggedDocument(doc, bias):\n",
    "    return gensim.models.doc2vec.TaggedDocument(get_words(doc), [bias])"
   ]
  },
  {
   "cell_type": "code",
   "execution_count": 7,
   "metadata": {},
   "outputs": [
    {
     "data": {
      "text/plain": [
       "32267    ([Morning, Agenda, Mobile, Tech, Key, to, AOL,...\n",
       "41587    ([Saudi, King, Shatters, Tradition, To, Welcom...\n",
       "43816    ([D.C., judge, grants, retrial, in, killing, o...\n",
       "75254    ([Tim, Kaine, Blasts, Donald, Trump, and, Mike...\n",
       "83703    ([McCarthy, Dems, Will, Be, Punished, For, Gun...\n",
       "Name: tagged_doc, dtype: object"
      ]
     },
     "execution_count": 7,
     "metadata": {},
     "output_type": "execute_result"
    }
   ],
   "source": [
    "df['tagged_doc'] = df.apply(lambda row: taggedDocument(row['docs'], row['bias']), axis=1)\n",
    "df['tagged_doc'].head()"
   ]
  },
  {
   "cell_type": "code",
   "execution_count": 8,
   "metadata": {
    "collapsed": true
   },
   "outputs": [],
   "source": [
    "TEST_DOMAINS =  {\n",
    "    'bloomberg.com',\n",
    "     'breitbart.com',\n",
    "     'c-span.org',\n",
    "     'chicagotribune.com',\n",
    "     'chron.com'\n",
    "}"
   ]
  },
  {
   "cell_type": "code",
   "execution_count": 9,
   "metadata": {},
   "outputs": [],
   "source": [
    "df_train =  df.loc[~df['site'].isin(TEST_DOMAINS)]\n",
    "df_valid =  df.loc[df['site'].isin(TEST_DOMAINS)]\n",
    "\n",
    "train_corpus = df_train['tagged_doc']\n",
    "valid_corpus = df_valid.apply(lambda row: get_words(row['docs']), axis=1)"
   ]
  },
  {
   "cell_type": "code",
   "execution_count": 10,
   "metadata": {
    "collapsed": true
   },
   "outputs": [],
   "source": [
    "model = gensim.models.doc2vec.Doc2Vec(size=50, min_count=2, iter=55)"
   ]
  },
  {
   "cell_type": "code",
   "execution_count": 11,
   "metadata": {},
   "outputs": [],
   "source": [
    "model.build_vocab(train_corpus)"
   ]
  },
  {
   "cell_type": "code",
   "execution_count": 12,
   "metadata": {},
   "outputs": [
    {
     "name": "stdout",
     "output_type": "stream",
     "text": [
      "CPU times: user 9.59 s, sys: 2.9 s, total: 12.5 s\n",
      "Wall time: 9.12 s\n"
     ]
    },
    {
     "data": {
      "text/plain": [
       "1542624"
      ]
     },
     "execution_count": 12,
     "metadata": {},
     "output_type": "execute_result"
    }
   ],
   "source": [
    "%time model.train(train_corpus, total_examples=model.corpus_count, epochs=model.iter)"
   ]
  },
  {
   "cell_type": "code",
   "execution_count": 13,
   "metadata": {
    "collapsed": true
   },
   "outputs": [],
   "source": [
    "from sklearn.preprocessing import LabelEncoder\n",
    "\n",
    "encoder = LabelEncoder()\n",
    "encoder.fit(df['bias'].values)\n",
    "\n",
    "def make_X_Y(docs_words, biases):\n",
    "    X = [model.infer_vector(words) for words in docs_words]\n",
    "    Y = encoder.transform(biases)\n",
    "    return X, Y"
   ]
  },
  {
   "cell_type": "code",
   "execution_count": 14,
   "metadata": {
    "collapsed": true
   },
   "outputs": [],
   "source": [
    "train_words = [tagged_words.words for tagged_words in train_corpus]\n",
    "X_train, Y_train = make_X_Y(train_words, df_train['bias'].values)\n",
    "X_valid, Y_valid = make_X_Y(valid_corpus, df_valid['bias'].values)"
   ]
  },
  {
   "cell_type": "code",
   "execution_count": 15,
   "metadata": {},
   "outputs": [
    {
     "data": {
      "text/plain": [
       "LogisticRegression(C=1.0, class_weight=None, dual=False, fit_intercept=True,\n",
       "          intercept_scaling=1, max_iter=100, multi_class='ovr', n_jobs=1,\n",
       "          penalty='l2', random_state=None, solver='liblinear', tol=0.0001,\n",
       "          verbose=0, warm_start=False)"
      ]
     },
     "execution_count": 15,
     "metadata": {},
     "output_type": "execute_result"
    }
   ],
   "source": [
    "from sklearn.linear_model import LogisticRegression\n",
    "\n",
    "classifier = LogisticRegression()\n",
    "classifier.fit(X_train, Y_train)"
   ]
  },
  {
   "cell_type": "code",
   "execution_count": 16,
   "metadata": {},
   "outputs": [
    {
     "name": "stderr",
     "output_type": "stream",
     "text": [
      "/Users/rodrigo/pytorch/lib/python3.5/site-packages/ipykernel_launcher.py:1: SettingWithCopyWarning: \n",
      "A value is trying to be set on a copy of a slice from a DataFrame.\n",
      "Try using .loc[row_indexer,col_indexer] = value instead\n",
      "\n",
      "See the caveats in the documentation: http://pandas.pydata.org/pandas-docs/stable/indexing.html#indexing-view-versus-copy\n",
      "  \"\"\"Entry point for launching an IPython kernel.\n"
     ]
    },
    {
     "data": {
      "text/html": [
       "<div>\n",
       "<style>\n",
       "    .dataframe thead tr:only-child th {\n",
       "        text-align: right;\n",
       "    }\n",
       "\n",
       "    .dataframe thead th {\n",
       "        text-align: left;\n",
       "    }\n",
       "\n",
       "    .dataframe tbody tr th {\n",
       "        vertical-align: top;\n",
       "    }\n",
       "</style>\n",
       "<table border=\"1\" class=\"dataframe\">\n",
       "  <thead>\n",
       "    <tr style=\"text-align: right;\">\n",
       "      <th></th>\n",
       "      <th>Unnamed: 0</th>\n",
       "      <th>date</th>\n",
       "      <th>site</th>\n",
       "      <th>text</th>\n",
       "      <th>title</th>\n",
       "      <th>url</th>\n",
       "      <th>bias</th>\n",
       "      <th>docs</th>\n",
       "      <th>tagged_doc</th>\n",
       "      <th>pred</th>\n",
       "    </tr>\n",
       "  </thead>\n",
       "  <tbody>\n",
       "    <tr>\n",
       "      <th>104741</th>\n",
       "      <td>104741</td>\n",
       "      <td>2014-12-19T12:46:00.000+02:00</td>\n",
       "      <td>bloomberg.com</td>\n",
       "      <td>Photographer: Jason Alden/Bloomberg Petroleo B...</td>\n",
       "      <td>Crude Below $60 Tests Petrobras’ Deepwater Dis...</td>\n",
       "      <td>http://www.bloomberg.com/news/2014-12-19/crude...</td>\n",
       "      <td>2</td>\n",
       "      <td>(Crude, Below, $, 60, Tests, Petrobras’, Deepw...</td>\n",
       "      <td>([Crude, Below, $, Tests, Petrobras’, Deepwate...</td>\n",
       "      <td>3</td>\n",
       "    </tr>\n",
       "    <tr>\n",
       "      <th>82333</th>\n",
       "      <td>82333</td>\n",
       "      <td>2016-07-17T10:15:00.000+03:00</td>\n",
       "      <td>breitbart.com</td>\n",
       "      <td>by AP 17 Jul 2016 0 17 Jul, 2016 17 Jul, 2016 ...</td>\n",
       "      <td>2 more arrests in Nice truck attack; 49 dead s...</td>\n",
       "      <td>http://www.breitbart.com/news/2-more-arrests-i...</td>\n",
       "      <td>5</td>\n",
       "      <td>(2, more, arrests, in, Nice, truck, attack, ;,...</td>\n",
       "      <td>([more, arrests, in, Nice, truck, attack, dead...</td>\n",
       "      <td>6</td>\n",
       "    </tr>\n",
       "    <tr>\n",
       "      <th>54866</th>\n",
       "      <td>54866</td>\n",
       "      <td>2016-09-30T10:00:00.000+03:00</td>\n",
       "      <td>chicagotribune.com</td>\n",
       "      <td>Teammates and coaches alike refer to Maine Sou...</td>\n",
       "      <td>Peyton Turner serves as team mom, helps Maine ...</td>\n",
       "      <td>http://www.chicagotribune.com/suburbs/suburbs/...</td>\n",
       "      <td>2</td>\n",
       "      <td>(Peyton, Turner, serves, as, team, mom, ,, hel...</td>\n",
       "      <td>([Peyton, Turner, serves, as, team, mom, helps...</td>\n",
       "      <td>1</td>\n",
       "    </tr>\n",
       "    <tr>\n",
       "      <th>84934</th>\n",
       "      <td>84934</td>\n",
       "      <td>2017-04-08T00:21:00.000+03:00</td>\n",
       "      <td>breitbart.com</td>\n",
       "      <td>Gorka on Syria: ‘This Is Not a Full-Throated W...</td>\n",
       "      <td>Gorka on Syria: ‘This Is Not a Full-Throated W...</td>\n",
       "      <td>http://www.breitbart.com/radio/2017/04/07/gork...</td>\n",
       "      <td>5</td>\n",
       "      <td>(Gorka, on, Syria, :, ‘, This, Is, Not, a, Ful...</td>\n",
       "      <td>([Gorka, on, Syria, This, Is, Not, a, Full, Th...</td>\n",
       "      <td>2</td>\n",
       "    </tr>\n",
       "    <tr>\n",
       "      <th>102199</th>\n",
       "      <td>102199</td>\n",
       "      <td>2015-10-12T18:18:00.000+03:00</td>\n",
       "      <td>c-span.org</td>\n",
       "      <td>Arvol Looking Horse Chief Lakota Sioux Nation ...</td>\n",
       "      <td>Millions Justice March | Video | C-SPAN.org</td>\n",
       "      <td>http://www.c-span.org/video/?328654-1/millions...</td>\n",
       "      <td>3</td>\n",
       "      <td>(Millions, Justice, March, |, Video, |, C, -, ...</td>\n",
       "      <td>([Millions, Justice, March, |, Video, |, C], [3])</td>\n",
       "      <td>3</td>\n",
       "    </tr>\n",
       "  </tbody>\n",
       "</table>\n",
       "</div>"
      ],
      "text/plain": [
       "        Unnamed: 0                           date                site  \\\n",
       "104741      104741  2014-12-19T12:46:00.000+02:00       bloomberg.com   \n",
       "82333        82333  2016-07-17T10:15:00.000+03:00       breitbart.com   \n",
       "54866        54866  2016-09-30T10:00:00.000+03:00  chicagotribune.com   \n",
       "84934        84934  2017-04-08T00:21:00.000+03:00       breitbart.com   \n",
       "102199      102199  2015-10-12T18:18:00.000+03:00          c-span.org   \n",
       "\n",
       "                                                     text  \\\n",
       "104741  Photographer: Jason Alden/Bloomberg Petroleo B...   \n",
       "82333   by AP 17 Jul 2016 0 17 Jul, 2016 17 Jul, 2016 ...   \n",
       "54866   Teammates and coaches alike refer to Maine Sou...   \n",
       "84934   Gorka on Syria: ‘This Is Not a Full-Throated W...   \n",
       "102199  Arvol Looking Horse Chief Lakota Sioux Nation ...   \n",
       "\n",
       "                                                    title  \\\n",
       "104741  Crude Below $60 Tests Petrobras’ Deepwater Dis...   \n",
       "82333   2 more arrests in Nice truck attack; 49 dead s...   \n",
       "54866   Peyton Turner serves as team mom, helps Maine ...   \n",
       "84934   Gorka on Syria: ‘This Is Not a Full-Throated W...   \n",
       "102199        Millions Justice March | Video | C-SPAN.org   \n",
       "\n",
       "                                                      url  bias  \\\n",
       "104741  http://www.bloomberg.com/news/2014-12-19/crude...     2   \n",
       "82333   http://www.breitbart.com/news/2-more-arrests-i...     5   \n",
       "54866   http://www.chicagotribune.com/suburbs/suburbs/...     2   \n",
       "84934   http://www.breitbart.com/radio/2017/04/07/gork...     5   \n",
       "102199  http://www.c-span.org/video/?328654-1/millions...     3   \n",
       "\n",
       "                                                     docs  \\\n",
       "104741  (Crude, Below, $, 60, Tests, Petrobras’, Deepw...   \n",
       "82333   (2, more, arrests, in, Nice, truck, attack, ;,...   \n",
       "54866   (Peyton, Turner, serves, as, team, mom, ,, hel...   \n",
       "84934   (Gorka, on, Syria, :, ‘, This, Is, Not, a, Ful...   \n",
       "102199  (Millions, Justice, March, |, Video, |, C, -, ...   \n",
       "\n",
       "                                               tagged_doc  pred  \n",
       "104741  ([Crude, Below, $, Tests, Petrobras’, Deepwate...     3  \n",
       "82333   ([more, arrests, in, Nice, truck, attack, dead...     6  \n",
       "54866   ([Peyton, Turner, serves, as, team, mom, helps...     1  \n",
       "84934   ([Gorka, on, Syria, This, Is, Not, a, Full, Th...     2  \n",
       "102199  ([Millions, Justice, March, |, Video, |, C], [3])     3  "
      ]
     },
     "execution_count": 16,
     "metadata": {},
     "output_type": "execute_result"
    }
   ],
   "source": [
    "df_valid['pred'] = encoder.inverse_transform(classifier.predict(X_valid))\n",
    "df_valid.head()"
   ]
  },
  {
   "cell_type": "code",
   "execution_count": 17,
   "metadata": {},
   "outputs": [
    {
     "name": "stdout",
     "output_type": "stream",
     "text": [
      "Precision = 0.205178571429\n",
      "Accuracy = 0.373665480427\n"
     ]
    }
   ],
   "source": [
    "from sklearn.metrics import accuracy_score, precision_score, recall_score\n",
    "\n",
    "print(\"Precision = %s\" % precision_score(df_valid['bias'], df_valid['pred'], average='macro'))\n",
    "print(\"Accuracy = %s\" % accuracy_score(df_valid['bias'].values, df_valid['pred'].values))\n",
    "# print(\"Recall = %s\" % recall_score(df_valid['bias'].values, df_valid['pred'].values)) TODO?"
   ]
  },
  {
   "cell_type": "code",
   "execution_count": 18,
   "metadata": {},
   "outputs": [
    {
     "data": {
      "text/plain": [
       "104741    3\n",
       "82333     6\n",
       "54866     1\n",
       "84934     2\n",
       "102199    3\n",
       "Name: pred, dtype: int64"
      ]
     },
     "execution_count": 18,
     "metadata": {},
     "output_type": "execute_result"
    }
   ],
   "source": [
    "df_valid['pred'].head()"
   ]
  }
 ],
 "metadata": {
  "kernelspec": {
   "display_name": "Python 3",
   "language": "python",
   "name": "python3"
  },
  "language_info": {
   "codemirror_mode": {
    "name": "ipython",
    "version": 3
   },
   "file_extension": ".py",
   "mimetype": "text/x-python",
   "name": "python",
   "nbconvert_exporter": "python",
   "pygments_lexer": "ipython3",
   "version": "3.5.2"
  }
 },
 "nbformat": 4,
 "nbformat_minor": 2
}
