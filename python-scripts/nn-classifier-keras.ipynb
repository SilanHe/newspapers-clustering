{
 "cells": [
  {
   "cell_type": "markdown",
   "metadata": {},
   "source": [
    "# Text NN classifier for Political Bias"
   ]
  },
  {
   "cell_type": "code",
   "execution_count": 1,
   "metadata": {},
   "outputs": [
    {
     "name": "stderr",
     "output_type": "stream",
     "text": [
      "/Users/rodrigo/Libs/torchsample/torchsample/datasets.py:16: UserWarning: Cant import nibabel.. Cant load brain images\n",
      "  warnings.warn('Cant import nibabel.. Cant load brain images')\n"
     ]
    }
   ],
   "source": [
    "%load_ext autoreload\n",
    "\n",
    "import pandas as pd\n",
    "import numpy as np\n",
    "\n",
    "import torch\n",
    "import torch.nn as nn\n",
    "import torch.optim as optim\n",
    "import torch.utils.data\n",
    "from torch.autograd import Variable\n",
    "from sklearn.utils import shuffle\n",
    "from torchsample.initializers import XavierUniform, Uniform\n",
    "from torchsample.modules import ModuleTrainer\n",
    "from torchsample.metrics import CategoricalAccuracy\n",
    "\n",
    "%aimport torchsample.modules"
   ]
  },
  {
   "cell_type": "code",
   "execution_count": 2,
   "metadata": {
    "collapsed": true
   },
   "outputs": [],
   "source": [
    "use_cuda = False\n",
    "batch_size = 64"
   ]
  },
  {
   "cell_type": "code",
   "execution_count": 3,
   "metadata": {},
   "outputs": [
    {
     "name": "stdout",
     "output_type": "stream",
     "text": [
      "103262\n"
     ]
    }
   ],
   "source": [
    "df = pd.read_csv(\"data/source/newsclust.csv\")\n",
    "df = df.query(\"site != 'cbn.com'\")\n",
    "print(len(df))\n",
    "df = df.sample(30000)"
   ]
  },
  {
   "cell_type": "markdown",
   "metadata": {},
   "source": [
    "Compute the bias for each one of the articles, based on the publication's known bias"
   ]
  },
  {
   "cell_type": "code",
   "execution_count": 4,
   "metadata": {},
   "outputs": [
    {
     "data": {
      "text/html": [
       "<div>\n",
       "<style>\n",
       "    .dataframe thead tr:only-child th {\n",
       "        text-align: right;\n",
       "    }\n",
       "\n",
       "    .dataframe thead th {\n",
       "        text-align: left;\n",
       "    }\n",
       "\n",
       "    .dataframe tbody tr th {\n",
       "        vertical-align: top;\n",
       "    }\n",
       "</style>\n",
       "<table border=\"1\" class=\"dataframe\">\n",
       "  <thead>\n",
       "    <tr style=\"text-align: right;\">\n",
       "      <th></th>\n",
       "      <th>Unnamed: 0</th>\n",
       "      <th>date</th>\n",
       "      <th>site</th>\n",
       "      <th>text</th>\n",
       "      <th>title</th>\n",
       "      <th>url</th>\n",
       "      <th>bias</th>\n",
       "    </tr>\n",
       "  </thead>\n",
       "  <tbody>\n",
       "    <tr>\n",
       "      <th>10977</th>\n",
       "      <td>10977</td>\n",
       "      <td>2016-04-06T03:00:00.000+03:00</td>\n",
       "      <td>washingtonpost.com</td>\n",
       "      <td>By Jorge Castillo April 6 at 6:59 PM Follow @j...</td>\n",
       "      <td>Wizards vs. Nets: Game 77 discussion thread</td>\n",
       "      <td>https://www.washingtonpost.com/news/wizards-in...</td>\n",
       "      <td>2</td>\n",
       "    </tr>\n",
       "    <tr>\n",
       "      <th>48175</th>\n",
       "      <td>48175</td>\n",
       "      <td>2017-01-11T23:27:00.000+02:00</td>\n",
       "      <td>allenbwest.com</td>\n",
       "      <td>Proving they’re not giving up identity politic...</td>\n",
       "      <td>What Ted Cruz just did spells DISASTER for DNC...</td>\n",
       "      <td>http://www.allenbwest.com/matt-palumbo/ted-cru...</td>\n",
       "      <td>5</td>\n",
       "    </tr>\n",
       "  </tbody>\n",
       "</table>\n",
       "</div>"
      ],
      "text/plain": [
       "       Unnamed: 0                           date                site  \\\n",
       "10977       10977  2016-04-06T03:00:00.000+03:00  washingtonpost.com   \n",
       "48175       48175  2017-01-11T23:27:00.000+02:00      allenbwest.com   \n",
       "\n",
       "                                                    text  \\\n",
       "10977  By Jorge Castillo April 6 at 6:59 PM Follow @j...   \n",
       "48175  Proving they’re not giving up identity politic...   \n",
       "\n",
       "                                                   title  \\\n",
       "10977        Wizards vs. Nets: Game 77 discussion thread   \n",
       "48175  What Ted Cruz just did spells DISASTER for DNC...   \n",
       "\n",
       "                                                     url  bias  \n",
       "10977  https://www.washingtonpost.com/news/wizards-in...     2  \n",
       "48175  http://www.allenbwest.com/matt-palumbo/ted-cru...     5  "
      ]
     },
     "execution_count": 4,
     "metadata": {},
     "output_type": "execute_result"
    }
   ],
   "source": [
    "from bias import Bias\n",
    "\n",
    "num_classes = 7\n",
    "df['bias'] = df.apply(lambda row: Bias.get_bias_for_domain(row['site']).value, axis=1)\n",
    "df.head(2)"
   ]
  },
  {
   "cell_type": "markdown",
   "metadata": {},
   "source": [
    "Tokenize the text of the articles, create a vocabulary of words"
   ]
  },
  {
   "cell_type": "code",
   "execution_count": 5,
   "metadata": {
    "collapsed": true
   },
   "outputs": [],
   "source": [
    "import spacy\n",
    "nlp = spacy.load('en')\n",
    "nlp.pipeline = []\n",
    "\n",
    "def tokenize_text(texts):\n",
    "    docs = [doc for doc in nlp.pipe(texts, batch_size=500, n_threads=8)]\n",
    "    return docs\n",
    "\n",
    "def is_invalid_token(token):\n",
    "    return token.is_punct or token.is_space or token.like_url or token.like_num or token.is_digit\n",
    "\n",
    "def get_words_for_docs(docs):\n",
    "    return [get_words_ids(doc) for doc in docs]\n",
    "\n",
    "def get_words_ids(doc):\n",
    "    return [token.orth for token in doc if not is_invalid_token(token)]"
   ]
  },
  {
   "cell_type": "code",
   "execution_count": 6,
   "metadata": {
    "collapsed": true
   },
   "outputs": [],
   "source": [
    "df['docs'] = tokenize_text(df['text'])"
   ]
  },
  {
   "cell_type": "code",
   "execution_count": 7,
   "metadata": {},
   "outputs": [
    {
     "data": {
      "text/html": [
       "<div>\n",
       "<style>\n",
       "    .dataframe thead tr:only-child th {\n",
       "        text-align: right;\n",
       "    }\n",
       "\n",
       "    .dataframe thead th {\n",
       "        text-align: left;\n",
       "    }\n",
       "\n",
       "    .dataframe tbody tr th {\n",
       "        vertical-align: top;\n",
       "    }\n",
       "</style>\n",
       "<table border=\"1\" class=\"dataframe\">\n",
       "  <thead>\n",
       "    <tr style=\"text-align: right;\">\n",
       "      <th></th>\n",
       "      <th>Unnamed: 0</th>\n",
       "      <th>date</th>\n",
       "      <th>site</th>\n",
       "      <th>text</th>\n",
       "      <th>title</th>\n",
       "      <th>url</th>\n",
       "      <th>bias</th>\n",
       "      <th>docs</th>\n",
       "      <th>words</th>\n",
       "    </tr>\n",
       "  </thead>\n",
       "  <tbody>\n",
       "    <tr>\n",
       "      <th>10977</th>\n",
       "      <td>10977</td>\n",
       "      <td>2016-04-06T03:00:00.000+03:00</td>\n",
       "      <td>washingtonpost.com</td>\n",
       "      <td>By Jorge Castillo April 6 at 6:59 PM Follow @j...</td>\n",
       "      <td>Wizards vs. Nets: Game 77 discussion thread</td>\n",
       "      <td>https://www.washingtonpost.com/news/wizards-in...</td>\n",
       "      <td>2</td>\n",
       "      <td>(By, Jorge, Castillo, April, 6, at, 6:59, PM, ...</td>\n",
       "      <td>[1659, 713423, 503075, 7604, 584, 776980, 7908...</td>\n",
       "    </tr>\n",
       "  </tbody>\n",
       "</table>\n",
       "</div>"
      ],
      "text/plain": [
       "       Unnamed: 0                           date                site  \\\n",
       "10977       10977  2016-04-06T03:00:00.000+03:00  washingtonpost.com   \n",
       "\n",
       "                                                    text  \\\n",
       "10977  By Jorge Castillo April 6 at 6:59 PM Follow @j...   \n",
       "\n",
       "                                             title  \\\n",
       "10977  Wizards vs. Nets: Game 77 discussion thread   \n",
       "\n",
       "                                                     url  bias  \\\n",
       "10977  https://www.washingtonpost.com/news/wizards-in...     2   \n",
       "\n",
       "                                                    docs  \\\n",
       "10977  (By, Jorge, Castillo, April, 6, at, 6:59, PM, ...   \n",
       "\n",
       "                                                   words  \n",
       "10977  [1659, 713423, 503075, 7604, 584, 776980, 7908...  "
      ]
     },
     "execution_count": 7,
     "metadata": {},
     "output_type": "execute_result"
    }
   ],
   "source": [
    "df['words'] = get_words_for_docs(df['docs'])\n",
    "df.head(1)"
   ]
  },
  {
   "cell_type": "markdown",
   "metadata": {},
   "source": [
    "Keep the most common words as vocabulary, replace the words out of vocabulary by the least frequently used word"
   ]
  },
  {
   "cell_type": "code",
   "execution_count": 8,
   "metadata": {},
   "outputs": [
    {
     "data": {
      "text/plain": [
       "[(501, 767748), (504, 424390), (510, 385088), (512, 340089), (506, 339955)]"
      ]
     },
     "execution_count": 8,
     "metadata": {},
     "output_type": "execute_result"
    }
   ],
   "source": [
    "from collections import Counter\n",
    "\n",
    "vocab_size = 5000\n",
    "\n",
    "def flatten(l):\n",
    "    flat_list = [item for sublist in l for item in sublist]\n",
    "    return flat_list\n",
    "\n",
    "word_freq = Counter(flatten(df['words']))\n",
    "common_words = word_freq.most_common(vocab_size)\n",
    "word_freq.most_common(5)"
   ]
  },
  {
   "cell_type": "code",
   "execution_count": 9,
   "metadata": {},
   "outputs": [
    {
     "name": "stdout",
     "output_type": "stream",
     "text": [
      "the of and a\n"
     ]
    }
   ],
   "source": [
    "print(nlp.vocab.strings[501], nlp.vocab.strings[510], nlp.vocab.strings[512], nlp.vocab.strings[506])"
   ]
  },
  {
   "cell_type": "code",
   "execution_count": 10,
   "metadata": {},
   "outputs": [
    {
     "name": "stdout",
     "output_type": "stream",
     "text": [
      "5000 0 1 2\n"
     ]
    },
    {
     "data": {
      "text/plain": [
       "4999"
      ]
     },
     "execution_count": 10,
     "metadata": {},
     "output_type": "execute_result"
    }
   ],
   "source": [
    "vocab = {word_id: i for (i, (word_id, freq)) in enumerate(common_words)}\n",
    "print(len(vocab), vocab[501], vocab[504], vocab[510])\n",
    "oov_word = vocab_size - 1\n",
    "oov_word"
   ]
  },
  {
   "cell_type": "code",
   "execution_count": 11,
   "metadata": {},
   "outputs": [
    {
     "data": {
      "text/plain": [
       "10977     [234, 4999, 4999, 320, 16, 4999, 678, 621, 499...\n",
       "48175     [4999, 33, 146, 28, 1094, 54, 2016, 650, 885, ...\n",
       "59228     [690, 2, 181, 285, 3021, 4999, 4999, 3, 2900, ...\n",
       "103119    [4999, 8, 186, 4999, 4999, 4999, 4999, 4999, 4...\n",
       "47327     [1193, 2626, 3247, 4999, 159, 704, 2, 0, 1676,...\n",
       "Name: words_with_oov, dtype: object"
      ]
     },
     "execution_count": 11,
     "metadata": {},
     "output_type": "execute_result"
    }
   ],
   "source": [
    "def get_words_ids_if_common(words):\n",
    "    return [vocab.get(word, oov_word) for word in words]\n",
    "\n",
    "df['words_with_oov'] = df.apply(lambda row: get_words_ids_if_common(row['words']), axis=1)\n",
    "df['words_with_oov'].head()"
   ]
  },
  {
   "cell_type": "markdown",
   "metadata": {},
   "source": [
    "Look at the distribution of words. The longest article has 15K words, the shortest 21."
   ]
  },
  {
   "cell_type": "code",
   "execution_count": 12,
   "metadata": {},
   "outputs": [
    {
     "data": {
      "text/plain": [
       "(22014, 17, 540.0028666666667)"
      ]
     },
     "execution_count": 12,
     "metadata": {},
     "output_type": "execute_result"
    }
   ],
   "source": [
    "lens = np.array(list(map(len, df['words'])))\n",
    "(lens.max(), lens.min(), lens.mean())"
   ]
  },
  {
   "cell_type": "markdown",
   "metadata": {},
   "source": [
    "Split the data for training and validation"
   ]
  },
  {
   "cell_type": "code",
   "execution_count": 13,
   "metadata": {},
   "outputs": [
    {
     "name": "stdout",
     "output_type": "stream",
     "text": [
      "27472\n",
      "2528\n"
     ]
    }
   ],
   "source": [
    "TEST_DOMAINS =  {\n",
    "    'bloomberg.com',\n",
    "     'breitbart.com',\n",
    "     'c-span.org',\n",
    "     'chicagotribune.com',\n",
    "     'chron.com'\n",
    "}\n",
    "df_train =  df.loc[~df['site'].isin(TEST_DOMAINS)]\n",
    "df_test =  df.loc[df['site'].isin(TEST_DOMAINS)]\n",
    "print(len(df_train))\n",
    "print(len(df_test))"
   ]
  },
  {
   "cell_type": "markdown",
   "metadata": {},
   "source": [
    "Enforce all texts to have the same length, truncating or padding if necessary"
   ]
  },
  {
   "cell_type": "code",
   "execution_count": 14,
   "metadata": {},
   "outputs": [
    {
     "name": "stderr",
     "output_type": "stream",
     "text": [
      "Using TensorFlow backend.\n"
     ]
    },
    {
     "data": {
      "text/plain": [
       "array([[   0,    0,    0, ..., 2626, 4999, 4999],\n",
       "       [   0,    0,    0, ...,    9,  246, 4999],\n",
       "       [   0,    0,    0, ..., 4999, 4999,  678],\n",
       "       ..., \n",
       "       [   0,    0,    0, ...,   39, 1439,   59],\n",
       "       [   0,    0,    0, ...,   58,   45,  891],\n",
       "       [   0,    0,    0, ...,  151,    9,  228]], dtype=int32)"
      ]
     },
     "execution_count": 14,
     "metadata": {},
     "output_type": "execute_result"
    }
   ],
   "source": [
    "seq_len = 1000\n",
    "\n",
    "from keras.preprocessing import sequence\n",
    "\n",
    "trn = sequence.pad_sequences(df_train['words_with_oov'], maxlen=seq_len, value=0)\n",
    "test = sequence.pad_sequences(df_test['words_with_oov'], maxlen=seq_len, value=0)\n",
    "\n",
    "trn_tensor = torch.from_numpy(trn).long()\n",
    "test_tensor = torch.from_numpy(test).long()\n",
    "\n",
    "trn"
   ]
  },
  {
   "cell_type": "markdown",
   "metadata": {},
   "source": [
    "Prepare the tensor data for pytorch"
   ]
  },
  {
   "cell_type": "code",
   "execution_count": 15,
   "metadata": {},
   "outputs": [
    {
     "data": {
      "text/plain": [
       "\n",
       " 2\n",
       " 5\n",
       " 4\n",
       "[torch.LongTensor of size 3]"
      ]
     },
     "execution_count": 15,
     "metadata": {},
     "output_type": "execute_result"
    }
   ],
   "source": [
    "labels_train_tensor = torch.from_numpy(np.array(df_train['bias']))\n",
    "labels_test_tensor = torch.from_numpy(np.array(df_test['bias']))\n",
    "labels_train_tensor[:3]"
   ]
  },
  {
   "cell_type": "markdown",
   "metadata": {},
   "source": [
    "## Single Hidden Layer NN classifier"
   ]
  },
  {
   "cell_type": "markdown",
   "metadata": {},
   "source": [
    "### Keras NN model"
   ]
  },
  {
   "cell_type": "code",
   "execution_count": 18,
   "metadata": {
    "collapsed": true
   },
   "outputs": [],
   "source": [
    "# Force use CPU\n",
    "import os\n",
    "os.environ[\"CUDA_DEVICE_ORDER\"] = \"PCI_BUS_ID\"   # see issue #152\n",
    "os.environ[\"CUDA_VISIBLE_DEVICES\"] = \"\"\n",
    "\n",
    "import keras\n",
    "from keras.models import Sequential, Model\n",
    "from keras.layers import Embedding\n",
    "from keras.layers.core import Flatten, Dense, Dropout\n",
    "from keras.optimizers import Adam"
   ]
  },
  {
   "cell_type": "code",
   "execution_count": 19,
   "metadata": {
    "collapsed": true
   },
   "outputs": [],
   "source": [
    "k_model = Sequential([\n",
    "    Embedding(vocab_size, 32, input_length=seq_len),\n",
    "    Flatten(),\n",
    "    Dense(100, activation='relu'),\n",
    "    Dropout(0.7),\n",
    "    Dense(7, activation='softmax')])"
   ]
  },
  {
   "cell_type": "code",
   "execution_count": 20,
   "metadata": {},
   "outputs": [
    {
     "name": "stdout",
     "output_type": "stream",
     "text": [
      "____________________________________________________________________________________________________\n",
      "Layer (type)                     Output Shape          Param #     Connected to                     \n",
      "====================================================================================================\n",
      "embedding_1 (Embedding)          (None, 1000, 32)      160000      embedding_input_1[0][0]          \n",
      "____________________________________________________________________________________________________\n",
      "flatten_1 (Flatten)              (None, 32000)         0           embedding_1[0][0]                \n",
      "____________________________________________________________________________________________________\n",
      "dense_1 (Dense)                  (None, 100)           3200100     flatten_1[0][0]                  \n",
      "____________________________________________________________________________________________________\n",
      "dropout_1 (Dropout)              (None, 100)           0           dense_1[0][0]                    \n",
      "____________________________________________________________________________________________________\n",
      "dense_2 (Dense)                  (None, 7)             707         dropout_1[0][0]                  \n",
      "====================================================================================================\n",
      "Total params: 3,360,807\n",
      "Trainable params: 3,360,807\n",
      "Non-trainable params: 0\n",
      "____________________________________________________________________________________________________\n"
     ]
    }
   ],
   "source": [
    "k_model.compile(loss='sparse_categorical_crossentropy', optimizer=Adam(), metrics=['accuracy'])\n",
    "k_model.summary()"
   ]
  },
  {
   "cell_type": "code",
   "execution_count": 21,
   "metadata": {},
   "outputs": [
    {
     "name": "stdout",
     "output_type": "stream",
     "text": [
      "[2 5 2]\n",
      "Train on 27472 samples, validate on 2528 samples\n",
      "Epoch 1/3\n",
      "27472/27472 [==============================] - 30s - loss: 1.4457 - acc: 0.4309 - val_loss: 1.2173 - val_acc: 0.6705\n",
      "Epoch 2/3\n",
      "27472/27472 [==============================] - 38s - loss: 0.7573 - acc: 0.7247 - val_loss: 1.4630 - val_acc: 0.5210\n",
      "Epoch 3/3\n",
      "27472/27472 [==============================] - 53s - loss: 0.4276 - acc: 0.8526 - val_loss: 1.5924 - val_acc: 0.4537\n"
     ]
    },
    {
     "data": {
      "text/plain": [
       "<keras.callbacks.History at 0x25979eb00>"
      ]
     },
     "execution_count": 21,
     "metadata": {},
     "output_type": "execute_result"
    }
   ],
   "source": [
    "from keras.utils.np_utils import to_categorical\n",
    "\n",
    "labels_train = np.array(df_train['bias'])\n",
    "labels_test = np.array(df_test['bias'])\n",
    "\n",
    "print(labels_test[:3])\n",
    "k_model.fit(trn, labels_train, validation_data=(test, labels_test), nb_epoch=3, batch_size=batch_size)"
   ]
  },
  {
   "cell_type": "markdown",
   "metadata": {},
   "source": [
    "Manually verify some articles. The bias for these articles should match the predicted bias below."
   ]
  },
  {
   "cell_type": "code",
   "execution_count": 22,
   "metadata": {},
   "outputs": [
    {
     "data": {
      "text/html": [
       "<div>\n",
       "<style>\n",
       "    .dataframe thead tr:only-child th {\n",
       "        text-align: right;\n",
       "    }\n",
       "\n",
       "    .dataframe thead th {\n",
       "        text-align: left;\n",
       "    }\n",
       "\n",
       "    .dataframe tbody tr th {\n",
       "        vertical-align: top;\n",
       "    }\n",
       "</style>\n",
       "<table border=\"1\" class=\"dataframe\">\n",
       "  <thead>\n",
       "    <tr style=\"text-align: right;\">\n",
       "      <th></th>\n",
       "      <th>Unnamed: 0</th>\n",
       "      <th>date</th>\n",
       "      <th>site</th>\n",
       "      <th>text</th>\n",
       "      <th>title</th>\n",
       "      <th>url</th>\n",
       "      <th>bias</th>\n",
       "      <th>docs</th>\n",
       "      <th>words</th>\n",
       "      <th>words_with_oov</th>\n",
       "    </tr>\n",
       "  </thead>\n",
       "  <tbody>\n",
       "    <tr>\n",
       "      <th>96411</th>\n",
       "      <td>96411</td>\n",
       "      <td>2015-12-20T02:00:00.000+02:00</td>\n",
       "      <td>chron.com</td>\n",
       "      <td>Brem beats Gut to win women's World Cup GS Jer...</td>\n",
       "      <td>Brem beats Gut to win women's World Cup GS - H...</td>\n",
       "      <td>http://www.chron.com/sports/article/Brem-posts...</td>\n",
       "      <td>2</td>\n",
       "      <td>(Brem, beats, Gut, to, win, women, 's, World, ...</td>\n",
       "      <td>[968437, 6479, 546597, 504, 1212, 1154, 525, 2...</td>\n",
       "      <td>[4999, 4999, 4999, 1, 345, 195, 24, 624, 1861,...</td>\n",
       "    </tr>\n",
       "    <tr>\n",
       "      <th>82587</th>\n",
       "      <td>82587</td>\n",
       "      <td>2016-07-20T20:02:00.000+03:00</td>\n",
       "      <td>bloomberg.com</td>\n",
       "      <td>The U.S. Justice Department is seeking to seiz...</td>\n",
       "      <td>‘Wolf of Wall Street’ Sued as U.S. Seeks 1MDB-...</td>\n",
       "      <td>http://www.bloomberg.com/news/articles/2016-07...</td>\n",
       "      <td>2</td>\n",
       "      <td>(The, U.S., Justice, Department, is, seeking, ...</td>\n",
       "      <td>[566, 1717, 8163, 5653, 513, 5546, 504, 259054...</td>\n",
       "      <td>[11, 111, 623, 240, 7, 1349, 1, 4999, 2645, 19...</td>\n",
       "    </tr>\n",
       "    <tr>\n",
       "      <th>92642</th>\n",
       "      <td>92642</td>\n",
       "      <td>2015-08-28T03:00:00.000+03:00</td>\n",
       "      <td>bloomberg.com</td>\n",
       "      <td>Type of Data * Update Needed * \\nAll data chan...</td>\n",
       "      <td>BANGKOK CHAIN HOSPITAL PCL (KH:Bangkok): Owner...</td>\n",
       "      <td>http://www.bloomberg.com/research/stocks/owner...</td>\n",
       "      <td>2</td>\n",
       "      <td>(Type, of, Data, *, Update, Needed, *, \\n, All...</td>\n",
       "      <td>[755732, 510, 663156, 156974, 593302, 1125, 16...</td>\n",
       "      <td>[4999, 2, 4135, 4999, 4999, 431, 425, 997, 159...</td>\n",
       "    </tr>\n",
       "    <tr>\n",
       "      <th>35882</th>\n",
       "      <td>35882</td>\n",
       "      <td>2016-02-07T16:33:00.000+02:00</td>\n",
       "      <td>c-span.org</td>\n",
       "      <td>Official Bio Marco Rubio @marcorubio January 5...</td>\n",
       "      <td>Marco Rubio | C-SPAN.org</td>\n",
       "      <td>http://www.c-span.org/person/?marcorubio</td>\n",
       "      <td>3</td>\n",
       "      <td>(Official, Bio, Marco, Rubio, @marcorubio, Jan...</td>\n",
       "      <td>[690509, 568064, 24406, 66284, 778338, 6626, 6...</td>\n",
       "      <td>[4999, 4999, 2466, 1065, 4999, 432, 432, 111, ...</td>\n",
       "    </tr>\n",
       "    <tr>\n",
       "      <th>99876</th>\n",
       "      <td>99876</td>\n",
       "      <td>2015-07-30T19:06:00.000+03:00</td>\n",
       "      <td>bloomberg.com</td>\n",
       "      <td>Procter &amp; Gamble Co., the world’s largest cons...</td>\n",
       "      <td>P&amp;G Falls After Forecast Signals Sales Struggl...</td>\n",
       "      <td>http://www.bloomberg.com/news/articles/2015-07...</td>\n",
       "      <td>2</td>\n",
       "      <td>(Procter, &amp;, Gamble, Co., ,, the, world, ’s, l...</td>\n",
       "      <td>[432202, 597294, 384742, 501, 790, 1402, 3734,...</td>\n",
       "      <td>[4999, 4999, 3344, 0, 162, 10, 808, 3014, 1774...</td>\n",
       "    </tr>\n",
       "  </tbody>\n",
       "</table>\n",
       "</div>"
      ],
      "text/plain": [
       "       Unnamed: 0                           date           site  \\\n",
       "96411       96411  2015-12-20T02:00:00.000+02:00      chron.com   \n",
       "82587       82587  2016-07-20T20:02:00.000+03:00  bloomberg.com   \n",
       "92642       92642  2015-08-28T03:00:00.000+03:00  bloomberg.com   \n",
       "35882       35882  2016-02-07T16:33:00.000+02:00     c-span.org   \n",
       "99876       99876  2015-07-30T19:06:00.000+03:00  bloomberg.com   \n",
       "\n",
       "                                                    text  \\\n",
       "96411  Brem beats Gut to win women's World Cup GS Jer...   \n",
       "82587  The U.S. Justice Department is seeking to seiz...   \n",
       "92642  Type of Data * Update Needed * \\nAll data chan...   \n",
       "35882  Official Bio Marco Rubio @marcorubio January 5...   \n",
       "99876  Procter & Gamble Co., the world’s largest cons...   \n",
       "\n",
       "                                                   title  \\\n",
       "96411  Brem beats Gut to win women's World Cup GS - H...   \n",
       "82587  ‘Wolf of Wall Street’ Sued as U.S. Seeks 1MDB-...   \n",
       "92642  BANGKOK CHAIN HOSPITAL PCL (KH:Bangkok): Owner...   \n",
       "35882                           Marco Rubio | C-SPAN.org   \n",
       "99876  P&G Falls After Forecast Signals Sales Struggl...   \n",
       "\n",
       "                                                     url  bias  \\\n",
       "96411  http://www.chron.com/sports/article/Brem-posts...     2   \n",
       "82587  http://www.bloomberg.com/news/articles/2016-07...     2   \n",
       "92642  http://www.bloomberg.com/research/stocks/owner...     2   \n",
       "35882           http://www.c-span.org/person/?marcorubio     3   \n",
       "99876  http://www.bloomberg.com/news/articles/2015-07...     2   \n",
       "\n",
       "                                                    docs  \\\n",
       "96411  (Brem, beats, Gut, to, win, women, 's, World, ...   \n",
       "82587  (The, U.S., Justice, Department, is, seeking, ...   \n",
       "92642  (Type, of, Data, *, Update, Needed, *, \\n, All...   \n",
       "35882  (Official, Bio, Marco, Rubio, @marcorubio, Jan...   \n",
       "99876  (Procter, &, Gamble, Co., ,, the, world, ’s, l...   \n",
       "\n",
       "                                                   words  \\\n",
       "96411  [968437, 6479, 546597, 504, 1212, 1154, 525, 2...   \n",
       "82587  [566, 1717, 8163, 5653, 513, 5546, 504, 259054...   \n",
       "92642  [755732, 510, 663156, 156974, 593302, 1125, 16...   \n",
       "35882  [690509, 568064, 24406, 66284, 778338, 6626, 6...   \n",
       "99876  [432202, 597294, 384742, 501, 790, 1402, 3734,...   \n",
       "\n",
       "                                          words_with_oov  \n",
       "96411  [4999, 4999, 4999, 1, 345, 195, 24, 624, 1861,...  \n",
       "82587  [11, 111, 623, 240, 7, 1349, 1, 4999, 2645, 19...  \n",
       "92642  [4999, 2, 4135, 4999, 4999, 431, 425, 997, 159...  \n",
       "35882  [4999, 4999, 2466, 1065, 4999, 432, 432, 111, ...  \n",
       "99876  [4999, 4999, 3344, 0, 162, 10, 808, 3014, 1774...  "
      ]
     },
     "execution_count": 22,
     "metadata": {},
     "output_type": "execute_result"
    }
   ],
   "source": [
    "df_sample = df_test.sample(5)\n",
    "df_sample"
   ]
  },
  {
   "cell_type": "code",
   "execution_count": 23,
   "metadata": {},
   "outputs": [
    {
     "data": {
      "text/plain": [
       "array([2, 3, 0, 2, 4, 3, 1])"
      ]
     },
     "execution_count": 23,
     "metadata": {},
     "output_type": "execute_result"
    }
   ],
   "source": [
    "sample = sequence.pad_sequences(df_sample['words_with_oov'], maxlen=seq_len, value=0)\n",
    "np.argmax(k_model.predict(sample), axis=0)"
   ]
  },
  {
   "cell_type": "markdown",
   "metadata": {},
   "source": [
    "## Site vectors"
   ]
  },
  {
   "cell_type": "markdown",
   "metadata": {},
   "source": [
    "Remove the last linear classifier"
   ]
  },
  {
   "cell_type": "code",
   "execution_count": 24,
   "metadata": {
    "collapsed": true
   },
   "outputs": [],
   "source": [
    "l4 = k_model.pop()\n",
    "l3 = k_model.pop()"
   ]
  },
  {
   "cell_type": "code",
   "execution_count": 25,
   "metadata": {},
   "outputs": [
    {
     "name": "stdout",
     "output_type": "stream",
     "text": [
      "____________________________________________________________________________________________________\n",
      "Layer (type)                     Output Shape          Param #     Connected to                     \n",
      "====================================================================================================\n",
      "embedding_1 (Embedding)          (None, 1000, 32)      160000      embedding_input_1[0][0]          \n",
      "____________________________________________________________________________________________________\n",
      "flatten_1 (Flatten)              (None, 32000)         0           embedding_1[0][0]                \n",
      "____________________________________________________________________________________________________\n",
      "dense_1 (Dense)                  (None, 100)           3200100     flatten_1[0][0]                  \n",
      "====================================================================================================\n",
      "Total params: 3,360,100\n",
      "Trainable params: 3,360,100\n",
      "Non-trainable params: 0\n",
      "____________________________________________________________________________________________________\n"
     ]
    }
   ],
   "source": [
    "k_model.compile(loss='sparse_categorical_crossentropy', optimizer=Adam(), metrics=['accuracy'])\n",
    "k_model.summary()"
   ]
  },
  {
   "cell_type": "code",
   "execution_count": 26,
   "metadata": {},
   "outputs": [
    {
     "data": {
      "text/plain": [
       "(27472, 100)"
      ]
     },
     "execution_count": 26,
     "metadata": {},
     "output_type": "execute_result"
    }
   ],
   "source": [
    "article_vectors = k_model.predict(trn)\n",
    "article_vectors.shape"
   ]
  },
  {
   "cell_type": "markdown",
   "metadata": {},
   "source": [
    "Generate an average vector of all the article vectors for each site"
   ]
  },
  {
   "cell_type": "code",
   "execution_count": 27,
   "metadata": {},
   "outputs": [
    {
     "data": {
      "text/plain": [
       "(57, 100)"
      ]
     },
     "execution_count": 27,
     "metadata": {},
     "output_type": "execute_result"
    }
   ],
   "source": [
    "site_vectors = []\n",
    "labels = []\n",
    "for site in df_train['site'].unique():\n",
    "    site_indexes = np.where(df_train[\"site\"] == site)[0]\n",
    "    if len(site_indexes) > 0:\n",
    "        site_vector = np.mean(article_vectors[site_indexes, :], axis=0)\n",
    "        site_vectors.append(site_vector)\n",
    "        labels.append(site)\n",
    "site_vectors = np.array(site_vectors)\n",
    "site_vectors.shape"
   ]
  },
  {
   "cell_type": "code",
   "execution_count": 28,
   "metadata": {
    "collapsed": true
   },
   "outputs": [],
   "source": [
    "from sklearn.manifold import TSNE\n",
    "\n",
    "tsne_model = TSNE(n_components=2, random_state=0)\n",
    "# np.set_printoptions(suppress=True)\n",
    "site_vectors_2_dim = tsne_model.fit_transform(site_vectors)\n",
    "X_proj = site_vectors_2_dim[:, 0]\n",
    "Y_proj = site_vectors_2_dim[:, 1]"
   ]
  },
  {
   "cell_type": "code",
   "execution_count": 29,
   "metadata": {},
   "outputs": [
    {
     "data": {
      "text/html": [
       "<script>requirejs.config({paths: { 'plotly': ['https://cdn.plot.ly/plotly-latest.min']},});if(!window.Plotly) {{require(['plotly'],function(plotly) {window.Plotly=plotly;});}}</script>"
      ],
      "text/vnd.plotly.v1+html": [
       "<script>requirejs.config({paths: { 'plotly': ['https://cdn.plot.ly/plotly-latest.min']},});if(!window.Plotly) {{require(['plotly'],function(plotly) {window.Plotly=plotly;});}}</script>"
      ]
     },
     "metadata": {},
     "output_type": "display_data"
    }
   ],
   "source": [
    "from plotly.offline import init_notebook_mode, plot, iplot\n",
    "init_notebook_mode(connected=True)\n",
    "\n",
    "from plotly.graph_objs import Bar, Scatter, Figure, Layout, XAxis, YAxis"
   ]
  },
  {
   "cell_type": "code",
   "execution_count": 30,
   "metadata": {},
   "outputs": [
    {
     "data": {
      "application/vnd.plotly.v1+json": {
       "data": [
        {
         "marker": {
          "size": 10
         },
         "mode": "markers+text",
         "text": [
          "washingtonpost.com",
          "allenbwest.com",
          "washingtonexaminer.com",
          "nydailynews.com",
          "occupydemocrats.com",
          "bbc.com",
          "economist.com",
          "seattletimes.com",
          "cnn.com",
          "wsj.com",
          "talkingpointsmemo.com",
          "thenation.com",
          "conservativetribune.com",
          "theblaze.com",
          "youngcons.com",
          "thefederalistpapers.org",
          "afp.com",
          "mediamatters.org",
          "thinkprogress.org",
          "dailywire.com",
          "rightwingnews.com",
          "thenewcivilrightsmovement.com",
          "rawstory.com",
          "democracynow.org",
          "nypost.com",
          "townhall.com",
          "forbes.com",
          "thegatewaypundit.com",
          "westernjournalism.com",
          "propublica.org",
          "usatoday.com",
          "politicususa.com",
          "dailykos.com",
          "judicialwatch.org",
          "reuters.com",
          "dailycaller.com",
          "truthfeed.com",
          "motherjones.com",
          "slate.com",
          "dallasnews.com",
          "nj.com",
          "ijr.com",
          "nytimes.com",
          "bizpacreview.com",
          "redstate.com",
          "sfchronicle.com",
          "latimes.com",
          "apnews.com",
          "100percentfedup.com",
          "ft.com",
          "oppositionreport.com",
          "azcentral.com",
          "louderwithcrowder.com",
          "usherald.com",
          "freedomdaily.com",
          "mrctv.org",
          "conservative101.com"
         ],
         "textposition": "top",
         "type": "scatter",
         "x": [
          -54.3728256797565,
          75.6317400469334,
          -33.79194822652814,
          -11.919930989526877,
          -146.42609735673068,
          -70.79852687770973,
          31.187191097796926,
          -23.40368113246871,
          85.33279667874488,
          -74.57776956253672,
          -12.856171954713549,
          -55.03427764772478,
          70.92973131294023,
          -78.15152582189143,
          45.48506136498438,
          109.01870580908552,
          13.538377258312485,
          56.72041901637482,
          37.109027457293486,
          75.44473680217128,
          113.4131727761925,
          -44.910926975600354,
          335.9567964402677,
          50.755817923144065,
          -20.738757627454323,
          63.229952399599405,
          -100.75707737869737,
          26.243340768484416,
          87.24161791953438,
          745.0817550986304,
          10.569779860602711,
          -78.57007158196659,
          -130.65262110698941,
          124.15860602643778,
          -119.09258340121234,
          94.07167916748243,
          -395.9967229923358,
          -23.258244187080354,
          -261.84718660458896,
          -118.04667873832577,
          48.344460438391025,
          -37.59057630530416,
          160.0574840519344,
          18.090978648114834,
          -91.5745864425976,
          -50.69571447958771,
          -741.0890646638406,
          197.79532988680052,
          20.888012136685525,
          -4.391041619829008,
          20.12806813030993,
          126.6999777113961,
          -46.113274912467766,
          -85.63823348217927,
          58.256426105115985,
          -12.258319103172196,
          -18.48831789092693
         ],
         "y": [
          -46.94646006420295,
          265.6472499437482,
          8.529162592143665,
          -23.07022085569519,
          37.36871406053044,
          115.45872899439891,
          -93.29152905934147,
          -53.49855852517785,
          -37.25398197812674,
          8.368361178809367,
          73.87835738648896,
          46.525429102166605,
          -73.76634332611086,
          -125.92070946908184,
          58.50456594542369,
          -72.40528839876777,
          -65.60667616945992,
          114.21939390544178,
          -37.919045456526845,
          74.28025346567865,
          89.78093192077775,
          79.43723653899495,
          -174.12137749577622,
          23.627742930916728,
          33.05971621282147,
          -121.4357843798889,
          25.576008068181324,
          142.8639490900695,
          41.88418381093984,
          -380.5443833573775,
          -123.6743321028929,
          69.015276872762,
          -55.72911268363689,
          36.96132533945889,
          78.70150913522136,
          8.477051095123315,
          336.8052949192491,
          110.93089621315971,
          -157.0951116845719,
          -6.069382958842332,
          383.75565578278486,
          -131.0304227096364,
          -45.366235606967116,
          37.03672053588864,
          -41.622204812467,
          -17.195072077581244,
          215.26782016424966,
          181.8054576214792,
          -3.4371187574830344,
          -93.78639507440663,
          93.14352759537614,
          -19.509752076760286,
          -92.72148740074714,
          -82.85046346256561,
          -10.798501612551792,
          -169.03216635348386,
          -383.06353332727264
         ]
        }
       ],
       "layout": {
        "autosize": false,
        "height": 700,
        "width": 1000
       }
      },
      "text/html": [
       "<div id=\"03dc9630-8a89-4ca9-92bb-cb9a944a11e8\" style=\"height: 700px; width: 1000px;\" class=\"plotly-graph-div\"></div><script type=\"text/javascript\">require([\"plotly\"], function(Plotly) { window.PLOTLYENV=window.PLOTLYENV || {};window.PLOTLYENV.BASE_URL=\"https://plot.ly\";Plotly.newPlot(\"03dc9630-8a89-4ca9-92bb-cb9a944a11e8\", [{\"mode\": \"markers+text\", \"marker\": {\"size\": 10}, \"y\": [-46.94646006420295, 265.6472499437482, 8.529162592143665, -23.07022085569519, 37.36871406053044, 115.45872899439891, -93.29152905934147, -53.49855852517785, -37.25398197812674, 8.368361178809367, 73.87835738648896, 46.525429102166605, -73.76634332611086, -125.92070946908184, 58.50456594542369, -72.40528839876777, -65.60667616945992, 114.21939390544178, -37.919045456526845, 74.28025346567865, 89.78093192077775, 79.43723653899495, -174.12137749577622, 23.627742930916728, 33.05971621282147, -121.4357843798889, 25.576008068181324, 142.8639490900695, 41.88418381093984, -380.5443833573775, -123.6743321028929, 69.015276872762, -55.72911268363689, 36.96132533945889, 78.70150913522136, 8.477051095123315, 336.8052949192491, 110.93089621315971, -157.0951116845719, -6.069382958842332, 383.75565578278486, -131.0304227096364, -45.366235606967116, 37.03672053588864, -41.622204812467, -17.195072077581244, 215.26782016424966, 181.8054576214792, -3.4371187574830344, -93.78639507440663, 93.14352759537614, -19.509752076760286, -92.72148740074714, -82.85046346256561, -10.798501612551792, -169.03216635348386, -383.06353332727264], \"type\": \"scatter\", \"textposition\": \"top\", \"x\": [-54.3728256797565, 75.6317400469334, -33.79194822652814, -11.919930989526877, -146.42609735673068, -70.79852687770973, 31.187191097796926, -23.40368113246871, 85.33279667874488, -74.57776956253672, -12.856171954713549, -55.03427764772478, 70.92973131294023, -78.15152582189143, 45.48506136498438, 109.01870580908552, 13.538377258312485, 56.72041901637482, 37.109027457293486, 75.44473680217128, 113.4131727761925, -44.910926975600354, 335.9567964402677, 50.755817923144065, -20.738757627454323, 63.229952399599405, -100.75707737869737, 26.243340768484416, 87.24161791953438, 745.0817550986304, 10.569779860602711, -78.57007158196659, -130.65262110698941, 124.15860602643778, -119.09258340121234, 94.07167916748243, -395.9967229923358, -23.258244187080354, -261.84718660458896, -118.04667873832577, 48.344460438391025, -37.59057630530416, 160.0574840519344, 18.090978648114834, -91.5745864425976, -50.69571447958771, -741.0890646638406, 197.79532988680052, 20.888012136685525, -4.391041619829008, 20.12806813030993, 126.6999777113961, -46.113274912467766, -85.63823348217927, 58.256426105115985, -12.258319103172196, -18.48831789092693], \"text\": [\"washingtonpost.com\", \"allenbwest.com\", \"washingtonexaminer.com\", \"nydailynews.com\", \"occupydemocrats.com\", \"bbc.com\", \"economist.com\", \"seattletimes.com\", \"cnn.com\", \"wsj.com\", \"talkingpointsmemo.com\", \"thenation.com\", \"conservativetribune.com\", \"theblaze.com\", \"youngcons.com\", \"thefederalistpapers.org\", \"afp.com\", \"mediamatters.org\", \"thinkprogress.org\", \"dailywire.com\", \"rightwingnews.com\", \"thenewcivilrightsmovement.com\", \"rawstory.com\", \"democracynow.org\", \"nypost.com\", \"townhall.com\", \"forbes.com\", \"thegatewaypundit.com\", \"westernjournalism.com\", \"propublica.org\", \"usatoday.com\", \"politicususa.com\", \"dailykos.com\", \"judicialwatch.org\", \"reuters.com\", \"dailycaller.com\", \"truthfeed.com\", \"motherjones.com\", \"slate.com\", \"dallasnews.com\", \"nj.com\", \"ijr.com\", \"nytimes.com\", \"bizpacreview.com\", \"redstate.com\", \"sfchronicle.com\", \"latimes.com\", \"apnews.com\", \"100percentfedup.com\", \"ft.com\", \"oppositionreport.com\", \"azcentral.com\", \"louderwithcrowder.com\", \"usherald.com\", \"freedomdaily.com\", \"mrctv.org\", \"conservative101.com\"]}], {\"height\": 700, \"autosize\": false, \"width\": 1000}, {\"showLink\": false, \"linkText\": \"Export to plot.ly\"})});</script>"
      ],
      "text/vnd.plotly.v1+html": [
       "<div id=\"03dc9630-8a89-4ca9-92bb-cb9a944a11e8\" style=\"height: 700px; width: 1000px;\" class=\"plotly-graph-div\"></div><script type=\"text/javascript\">require([\"plotly\"], function(Plotly) { window.PLOTLYENV=window.PLOTLYENV || {};window.PLOTLYENV.BASE_URL=\"https://plot.ly\";Plotly.newPlot(\"03dc9630-8a89-4ca9-92bb-cb9a944a11e8\", [{\"mode\": \"markers+text\", \"marker\": {\"size\": 10}, \"y\": [-46.94646006420295, 265.6472499437482, 8.529162592143665, -23.07022085569519, 37.36871406053044, 115.45872899439891, -93.29152905934147, -53.49855852517785, -37.25398197812674, 8.368361178809367, 73.87835738648896, 46.525429102166605, -73.76634332611086, -125.92070946908184, 58.50456594542369, -72.40528839876777, -65.60667616945992, 114.21939390544178, -37.919045456526845, 74.28025346567865, 89.78093192077775, 79.43723653899495, -174.12137749577622, 23.627742930916728, 33.05971621282147, -121.4357843798889, 25.576008068181324, 142.8639490900695, 41.88418381093984, -380.5443833573775, -123.6743321028929, 69.015276872762, -55.72911268363689, 36.96132533945889, 78.70150913522136, 8.477051095123315, 336.8052949192491, 110.93089621315971, -157.0951116845719, -6.069382958842332, 383.75565578278486, -131.0304227096364, -45.366235606967116, 37.03672053588864, -41.622204812467, -17.195072077581244, 215.26782016424966, 181.8054576214792, -3.4371187574830344, -93.78639507440663, 93.14352759537614, -19.509752076760286, -92.72148740074714, -82.85046346256561, -10.798501612551792, -169.03216635348386, -383.06353332727264], \"type\": \"scatter\", \"textposition\": \"top\", \"x\": [-54.3728256797565, 75.6317400469334, -33.79194822652814, -11.919930989526877, -146.42609735673068, -70.79852687770973, 31.187191097796926, -23.40368113246871, 85.33279667874488, -74.57776956253672, -12.856171954713549, -55.03427764772478, 70.92973131294023, -78.15152582189143, 45.48506136498438, 109.01870580908552, 13.538377258312485, 56.72041901637482, 37.109027457293486, 75.44473680217128, 113.4131727761925, -44.910926975600354, 335.9567964402677, 50.755817923144065, -20.738757627454323, 63.229952399599405, -100.75707737869737, 26.243340768484416, 87.24161791953438, 745.0817550986304, 10.569779860602711, -78.57007158196659, -130.65262110698941, 124.15860602643778, -119.09258340121234, 94.07167916748243, -395.9967229923358, -23.258244187080354, -261.84718660458896, -118.04667873832577, 48.344460438391025, -37.59057630530416, 160.0574840519344, 18.090978648114834, -91.5745864425976, -50.69571447958771, -741.0890646638406, 197.79532988680052, 20.888012136685525, -4.391041619829008, 20.12806813030993, 126.6999777113961, -46.113274912467766, -85.63823348217927, 58.256426105115985, -12.258319103172196, -18.48831789092693], \"text\": [\"washingtonpost.com\", \"allenbwest.com\", \"washingtonexaminer.com\", \"nydailynews.com\", \"occupydemocrats.com\", \"bbc.com\", \"economist.com\", \"seattletimes.com\", \"cnn.com\", \"wsj.com\", \"talkingpointsmemo.com\", \"thenation.com\", \"conservativetribune.com\", \"theblaze.com\", \"youngcons.com\", \"thefederalistpapers.org\", \"afp.com\", \"mediamatters.org\", \"thinkprogress.org\", \"dailywire.com\", \"rightwingnews.com\", \"thenewcivilrightsmovement.com\", \"rawstory.com\", \"democracynow.org\", \"nypost.com\", \"townhall.com\", \"forbes.com\", \"thegatewaypundit.com\", \"westernjournalism.com\", \"propublica.org\", \"usatoday.com\", \"politicususa.com\", \"dailykos.com\", \"judicialwatch.org\", \"reuters.com\", \"dailycaller.com\", \"truthfeed.com\", \"motherjones.com\", \"slate.com\", \"dallasnews.com\", \"nj.com\", \"ijr.com\", \"nytimes.com\", \"bizpacreview.com\", \"redstate.com\", \"sfchronicle.com\", \"latimes.com\", \"apnews.com\", \"100percentfedup.com\", \"ft.com\", \"oppositionreport.com\", \"azcentral.com\", \"louderwithcrowder.com\", \"usherald.com\", \"freedomdaily.com\", \"mrctv.org\", \"conservative101.com\"]}], {\"height\": 700, \"autosize\": false, \"width\": 1000}, {\"showLink\": false, \"linkText\": \"Export to plot.ly\"})});</script>"
      ]
     },
     "metadata": {},
     "output_type": "display_data"
    }
   ],
   "source": [
    "trace = Scatter(x=X_proj, y=Y_proj, mode='markers+text', text=labels, textposition='top',  marker=dict(size=10))\n",
    "iplot({\n",
    "    'data': [trace],\n",
    "    'layout': Layout(\n",
    "        #xaxis=XAxis(title='Left vs Right'), \n",
    "        #yaxis=YAxis(title='Biased vs Factual'),\n",
    "        autosize=False,\n",
    "        width=1000,\n",
    "        height=700)},\n",
    "    show_link=False\n",
    ")"
   ]
  }
 ],
 "metadata": {
  "kernelspec": {
   "display_name": "Python 3",
   "language": "python",
   "name": "python3"
  },
  "language_info": {
   "codemirror_mode": {
    "name": "ipython",
    "version": 3
   },
   "file_extension": ".py",
   "mimetype": "text/x-python",
   "name": "python",
   "nbconvert_exporter": "python",
   "pygments_lexer": "ipython3",
   "version": "3.5.2"
  }
 },
 "nbformat": 4,
 "nbformat_minor": 2
}
