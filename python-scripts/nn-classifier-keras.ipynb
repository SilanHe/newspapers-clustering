{
 "cells": [
  {
   "cell_type": "markdown",
   "metadata": {},
   "source": [
    "# Text NN classifier for Political Bias"
   ]
  },
  {
   "cell_type": "code",
   "execution_count": 1,
   "metadata": {},
   "outputs": [],
   "source": [
    "import pandas as pd\n",
    "import numpy as np\n",
    "\n",
    "batch_size = 64"
   ]
  },
  {
   "cell_type": "code",
   "execution_count": 2,
   "metadata": {},
   "outputs": [
    {
     "name": "stdout",
     "output_type": "stream",
     "text": [
      "103262\n"
     ]
    }
   ],
   "source": [
    "df = pd.read_csv(\"../data/source/newsclust.csv\")\n",
    "df = df.query(\"site != 'cbn.com'\")\n",
    "print(len(df))\n",
    "df = df.sample(30000)"
   ]
  },
  {
   "cell_type": "markdown",
   "metadata": {},
   "source": [
    "Compute the bias for each one of the articles, based on the publication's known bias"
   ]
  },
  {
   "cell_type": "code",
   "execution_count": 3,
   "metadata": {},
   "outputs": [
    {
     "data": {
      "text/html": [
       "<div>\n",
       "<style>\n",
       "    .dataframe thead tr:only-child th {\n",
       "        text-align: right;\n",
       "    }\n",
       "\n",
       "    .dataframe thead th {\n",
       "        text-align: left;\n",
       "    }\n",
       "\n",
       "    .dataframe tbody tr th {\n",
       "        vertical-align: top;\n",
       "    }\n",
       "</style>\n",
       "<table border=\"1\" class=\"dataframe\">\n",
       "  <thead>\n",
       "    <tr style=\"text-align: right;\">\n",
       "      <th></th>\n",
       "      <th>Unnamed: 0</th>\n",
       "      <th>date</th>\n",
       "      <th>site</th>\n",
       "      <th>text</th>\n",
       "      <th>title</th>\n",
       "      <th>url</th>\n",
       "      <th>bias</th>\n",
       "    </tr>\n",
       "  </thead>\n",
       "  <tbody>\n",
       "    <tr>\n",
       "      <th>510</th>\n",
       "      <td>510</td>\n",
       "      <td>2015-01-10T04:27:00.000+02:00</td>\n",
       "      <td>latimes.com</td>\n",
       "      <td>'Diving Normal' explores deep emotional waters...</td>\n",
       "      <td>'Diving Normal' explores deep emotional waters</td>\n",
       "      <td>http://www.latimes.com/entertainment/movies/la...</td>\n",
       "      <td>2</td>\n",
       "    </tr>\n",
       "    <tr>\n",
       "      <th>51913</th>\n",
       "      <td>51913</td>\n",
       "      <td>2016-11-15T19:20:00.000+02:00</td>\n",
       "      <td>allenbwest.com</td>\n",
       "      <td>Is personal responsibility dead? More often th...</td>\n",
       "      <td>UNREAL: Look what liberals are blaming on Trum...</td>\n",
       "      <td>http://www.allenbwest.com/analytical-economist...</td>\n",
       "      <td>5</td>\n",
       "    </tr>\n",
       "  </tbody>\n",
       "</table>\n",
       "</div>"
      ],
      "text/plain": [
       "       Unnamed: 0                           date            site  \\\n",
       "510           510  2015-01-10T04:27:00.000+02:00     latimes.com   \n",
       "51913       51913  2016-11-15T19:20:00.000+02:00  allenbwest.com   \n",
       "\n",
       "                                                    text  \\\n",
       "510    'Diving Normal' explores deep emotional waters...   \n",
       "51913  Is personal responsibility dead? More often th...   \n",
       "\n",
       "                                                   title  \\\n",
       "510       'Diving Normal' explores deep emotional waters   \n",
       "51913  UNREAL: Look what liberals are blaming on Trum...   \n",
       "\n",
       "                                                     url  bias  \n",
       "510    http://www.latimes.com/entertainment/movies/la...     2  \n",
       "51913  http://www.allenbwest.com/analytical-economist...     5  "
      ]
     },
     "execution_count": 3,
     "metadata": {},
     "output_type": "execute_result"
    }
   ],
   "source": [
    "from bias import Bias\n",
    "\n",
    "num_classes = 7\n",
    "df['bias'] = df.apply(lambda row: Bias.get_bias_for_domain(row['site']).value, axis=1)\n",
    "df.head(2)"
   ]
  },
  {
   "cell_type": "markdown",
   "metadata": {},
   "source": [
    "Tokenize the text of the articles, create a vocabulary of words"
   ]
  },
  {
   "cell_type": "code",
   "execution_count": 4,
   "metadata": {
    "collapsed": true
   },
   "outputs": [],
   "source": [
    "import spacy\n",
    "nlp = spacy.load('en')\n",
    "nlp.pipeline = []\n",
    "\n",
    "def tokenize_text(texts):\n",
    "    docs = [doc for doc in nlp.pipe(texts, batch_size=500, n_threads=8)]\n",
    "    return docs\n",
    "\n",
    "def is_invalid_token(token):\n",
    "    return token.is_punct or token.is_space or token.like_url or token.like_num or token.is_digit\n",
    "\n",
    "def get_words_for_docs(docs):\n",
    "    return [get_words_ids(doc) for doc in docs]\n",
    "\n",
    "def get_words_ids(doc):\n",
    "    return [token.orth for token in doc if not is_invalid_token(token)]"
   ]
  },
  {
   "cell_type": "code",
   "execution_count": 5,
   "metadata": {
    "collapsed": true
   },
   "outputs": [],
   "source": [
    "df['docs'] = tokenize_text(df['text'])"
   ]
  },
  {
   "cell_type": "code",
   "execution_count": 6,
   "metadata": {},
   "outputs": [
    {
     "data": {
      "text/html": [
       "<div>\n",
       "<style>\n",
       "    .dataframe thead tr:only-child th {\n",
       "        text-align: right;\n",
       "    }\n",
       "\n",
       "    .dataframe thead th {\n",
       "        text-align: left;\n",
       "    }\n",
       "\n",
       "    .dataframe tbody tr th {\n",
       "        vertical-align: top;\n",
       "    }\n",
       "</style>\n",
       "<table border=\"1\" class=\"dataframe\">\n",
       "  <thead>\n",
       "    <tr style=\"text-align: right;\">\n",
       "      <th></th>\n",
       "      <th>Unnamed: 0</th>\n",
       "      <th>date</th>\n",
       "      <th>site</th>\n",
       "      <th>text</th>\n",
       "      <th>title</th>\n",
       "      <th>url</th>\n",
       "      <th>bias</th>\n",
       "      <th>docs</th>\n",
       "      <th>words</th>\n",
       "    </tr>\n",
       "  </thead>\n",
       "  <tbody>\n",
       "    <tr>\n",
       "      <th>510</th>\n",
       "      <td>510</td>\n",
       "      <td>2015-01-10T04:27:00.000+02:00</td>\n",
       "      <td>latimes.com</td>\n",
       "      <td>'Diving Normal' explores deep emotional waters...</td>\n",
       "      <td>'Diving Normal' explores deep emotional waters</td>\n",
       "      <td>http://www.latimes.com/entertainment/movies/la...</td>\n",
       "      <td>2</td>\n",
       "      <td>(', Diving, Normal, ', explores, deep, emotion...</td>\n",
       "      <td>[583882, 446008, 119874, 2693, 4224, 58909, 58...</td>\n",
       "    </tr>\n",
       "  </tbody>\n",
       "</table>\n",
       "</div>"
      ],
      "text/plain": [
       "     Unnamed: 0                           date         site  \\\n",
       "510         510  2015-01-10T04:27:00.000+02:00  latimes.com   \n",
       "\n",
       "                                                  text  \\\n",
       "510  'Diving Normal' explores deep emotional waters...   \n",
       "\n",
       "                                              title  \\\n",
       "510  'Diving Normal' explores deep emotional waters   \n",
       "\n",
       "                                                   url  bias  \\\n",
       "510  http://www.latimes.com/entertainment/movies/la...     2   \n",
       "\n",
       "                                                  docs  \\\n",
       "510  (', Diving, Normal, ', explores, deep, emotion...   \n",
       "\n",
       "                                                 words  \n",
       "510  [583882, 446008, 119874, 2693, 4224, 58909, 58...  "
      ]
     },
     "execution_count": 6,
     "metadata": {},
     "output_type": "execute_result"
    }
   ],
   "source": [
    "df['words'] = get_words_for_docs(df['docs'])\n",
    "df.head(1)"
   ]
  },
  {
   "cell_type": "markdown",
   "metadata": {},
   "source": [
    "Keep the most common words as vocabulary, replace the words out of vocabulary by the least frequently used word"
   ]
  },
  {
   "cell_type": "code",
   "execution_count": 7,
   "metadata": {},
   "outputs": [
    {
     "data": {
      "text/plain": [
       "[(501, 758955), (504, 420642), (510, 381346), (512, 338364), (506, 337322)]"
      ]
     },
     "execution_count": 7,
     "metadata": {},
     "output_type": "execute_result"
    }
   ],
   "source": [
    "from collections import Counter\n",
    "\n",
    "vocab_size = 5000\n",
    "\n",
    "def flatten(l):\n",
    "    flat_list = [item for sublist in l for item in sublist]\n",
    "    return flat_list\n",
    "\n",
    "word_freq = Counter(flatten(df['words']))\n",
    "common_words = word_freq.most_common(vocab_size)\n",
    "word_freq.most_common(5)"
   ]
  },
  {
   "cell_type": "code",
   "execution_count": 8,
   "metadata": {},
   "outputs": [
    {
     "name": "stdout",
     "output_type": "stream",
     "text": [
      "the of and a\n"
     ]
    }
   ],
   "source": [
    "print(nlp.vocab.strings[501], nlp.vocab.strings[510], nlp.vocab.strings[512], nlp.vocab.strings[506])"
   ]
  },
  {
   "cell_type": "code",
   "execution_count": 9,
   "metadata": {},
   "outputs": [
    {
     "name": "stdout",
     "output_type": "stream",
     "text": [
      "5000 0 1 2\n"
     ]
    },
    {
     "data": {
      "text/plain": [
       "4999"
      ]
     },
     "execution_count": 9,
     "metadata": {},
     "output_type": "execute_result"
    }
   ],
   "source": [
    "vocab = {word_id: i for (i, (word_id, freq)) in enumerate(common_words)}\n",
    "print(len(vocab), vocab[501], vocab[504], vocab[510])\n",
    "oov_word = vocab_size - 1\n",
    "oov_word"
   ]
  },
  {
   "cell_type": "code",
   "execution_count": 10,
   "metadata": {},
   "outputs": [
    {
     "data": {
      "text/plain": [
       "510       [4999, 4999, 4999, 1455, 3235, 4568, 4999, 499...\n",
       "51913     [648, 686, 1714, 991, 484, 461, 63, 28, 14, 10...\n",
       "68980     [4999, 29, 2706, 341, 0, 996, 2, 0, 4275, 1119...\n",
       "18984     [531, 4999, 9, 4999, 0, 3558, 2, 4999, 3, 4646...\n",
       "104526    [4561, 4999, 889, 3, 375, 4999, 5, 4999, 346, ...\n",
       "Name: words_with_oov, dtype: object"
      ]
     },
     "execution_count": 10,
     "metadata": {},
     "output_type": "execute_result"
    }
   ],
   "source": [
    "def get_words_ids_if_common(words):\n",
    "    return [vocab.get(word, oov_word) for word in words]\n",
    "\n",
    "df['words_with_oov'] = df.apply(lambda row: get_words_ids_if_common(row['words']), axis=1)\n",
    "df['words_with_oov'].head()"
   ]
  },
  {
   "cell_type": "markdown",
   "metadata": {},
   "source": [
    "Look at the distribution of words. The longest article has 15K words, the shortest 21."
   ]
  },
  {
   "cell_type": "code",
   "execution_count": 11,
   "metadata": {},
   "outputs": [
    {
     "data": {
      "text/plain": [
       "(20532, 16, 535.67420000000004)"
      ]
     },
     "execution_count": 11,
     "metadata": {},
     "output_type": "execute_result"
    }
   ],
   "source": [
    "lens = np.array(list(map(len, df['words'])))\n",
    "(lens.max(), lens.min(), lens.mean())"
   ]
  },
  {
   "cell_type": "markdown",
   "metadata": {},
   "source": [
    "Split the data for training and validation"
   ]
  },
  {
   "cell_type": "code",
   "execution_count": 12,
   "metadata": {},
   "outputs": [
    {
     "name": "stdout",
     "output_type": "stream",
     "text": [
      "27514\n",
      "2486\n"
     ]
    }
   ],
   "source": [
    "TEST_DOMAINS =  {\n",
    "    'bloomberg.com',\n",
    "     'breitbart.com',\n",
    "     'c-span.org',\n",
    "     'chicagotribune.com',\n",
    "     'chron.com'\n",
    "}\n",
    "df_train =  df.loc[~df['site'].isin(TEST_DOMAINS)]\n",
    "df_test =  df.loc[df['site'].isin(TEST_DOMAINS)]\n",
    "print(len(df_train))\n",
    "print(len(df_test))"
   ]
  },
  {
   "cell_type": "markdown",
   "metadata": {},
   "source": [
    "Enforce all texts to have the same length, truncating or padding if necessary"
   ]
  },
  {
   "cell_type": "code",
   "execution_count": 13,
   "metadata": {},
   "outputs": [
    {
     "name": "stderr",
     "output_type": "stream",
     "text": [
      "Using TensorFlow backend.\n"
     ]
    },
    {
     "data": {
      "text/plain": [
       "array([[   0,    0,    0, ..., 1617,   60,   14],\n",
       "       [   0,    0,    0, ...,   11, 4999, 4999],\n",
       "       [   0,    0,    0, ...,   54,   15, 4999],\n",
       "       ..., \n",
       "       [   0,    0,    0, ..., 4465,    9,  223],\n",
       "       [  47, 4999,    8, ..., 2503,  592,  223],\n",
       "       [   0,    0,    0, ...,    1,  366, 2930]], dtype=int32)"
      ]
     },
     "execution_count": 13,
     "metadata": {},
     "output_type": "execute_result"
    }
   ],
   "source": [
    "seq_len = 1000\n",
    "\n",
    "from keras.preprocessing import sequence\n",
    "\n",
    "trn = sequence.pad_sequences(df_train['words_with_oov'], maxlen=seq_len, value=0)\n",
    "test = sequence.pad_sequences(df_test['words_with_oov'], maxlen=seq_len, value=0)\n",
    "\n",
    "trn"
   ]
  },
  {
   "cell_type": "markdown",
   "metadata": {},
   "source": [
    "## Single Hidden Layer NN classifier"
   ]
  },
  {
   "cell_type": "markdown",
   "metadata": {},
   "source": [
    "### Keras NN model"
   ]
  },
  {
   "cell_type": "code",
   "execution_count": 14,
   "metadata": {
    "collapsed": true
   },
   "outputs": [],
   "source": [
    "# Force use CPU\n",
    "import os\n",
    "os.environ[\"CUDA_DEVICE_ORDER\"] = \"PCI_BUS_ID\"   # see issue #152\n",
    "os.environ[\"CUDA_VISIBLE_DEVICES\"] = \"\"\n",
    "\n",
    "import keras\n",
    "from keras.models import Sequential, Model\n",
    "from keras.layers import Embedding\n",
    "from keras.layers.core import Flatten, Dense, Dropout\n",
    "from keras.optimizers import Adam"
   ]
  },
  {
   "cell_type": "code",
   "execution_count": 15,
   "metadata": {
    "collapsed": true
   },
   "outputs": [],
   "source": [
    "k_model = Sequential([\n",
    "    Embedding(vocab_size, 32, input_length=seq_len),\n",
    "    Flatten(),\n",
    "    Dense(100, activation='relu'),\n",
    "    Dropout(0.7),\n",
    "    Dense(7, activation='softmax')])"
   ]
  },
  {
   "cell_type": "code",
   "execution_count": 16,
   "metadata": {},
   "outputs": [
    {
     "name": "stdout",
     "output_type": "stream",
     "text": [
      "____________________________________________________________________________________________________\n",
      "Layer (type)                     Output Shape          Param #     Connected to                     \n",
      "====================================================================================================\n",
      "embedding_1 (Embedding)          (None, 1000, 32)      160000      embedding_input_1[0][0]          \n",
      "____________________________________________________________________________________________________\n",
      "flatten_1 (Flatten)              (None, 32000)         0           embedding_1[0][0]                \n",
      "____________________________________________________________________________________________________\n",
      "dense_1 (Dense)                  (None, 100)           3200100     flatten_1[0][0]                  \n",
      "____________________________________________________________________________________________________\n",
      "dropout_1 (Dropout)              (None, 100)           0           dense_1[0][0]                    \n",
      "____________________________________________________________________________________________________\n",
      "dense_2 (Dense)                  (None, 7)             707         dropout_1[0][0]                  \n",
      "====================================================================================================\n",
      "Total params: 3,360,807\n",
      "Trainable params: 3,360,807\n",
      "Non-trainable params: 0\n",
      "____________________________________________________________________________________________________\n"
     ]
    }
   ],
   "source": [
    "k_model.compile(loss='sparse_categorical_crossentropy', optimizer=Adam(), metrics=['accuracy'])\n",
    "k_model.summary()"
   ]
  },
  {
   "cell_type": "code",
   "execution_count": 17,
   "metadata": {},
   "outputs": [
    {
     "name": "stdout",
     "output_type": "stream",
     "text": [
      "[2 5 2]\n",
      "Train on 27514 samples, validate on 2486 samples\n",
      "Epoch 1/3\n",
      "27514/27514 [==============================] - 53s - loss: 1.4689 - acc: 0.4186 - val_loss: 1.2807 - val_acc: 0.6062\n",
      "Epoch 2/3\n",
      "27514/27514 [==============================] - 103s - loss: 0.7753 - acc: 0.7147 - val_loss: 1.8044 - val_acc: 0.4067\n",
      "Epoch 3/3\n",
      "27514/27514 [==============================] - 81s - loss: 0.4467 - acc: 0.8436 - val_loss: 1.8666 - val_acc: 0.4159\n"
     ]
    },
    {
     "data": {
      "text/plain": [
       "<keras.callbacks.History at 0x22e0a6e48>"
      ]
     },
     "execution_count": 17,
     "metadata": {},
     "output_type": "execute_result"
    }
   ],
   "source": [
    "from keras.utils.np_utils import to_categorical\n",
    "\n",
    "labels_train = np.array(df_train['bias'])\n",
    "labels_test = np.array(df_test['bias'])\n",
    "\n",
    "print(labels_test[:3])\n",
    "k_model.fit(trn, labels_train, validation_data=(test, labels_test), nb_epoch=3, batch_size=batch_size)"
   ]
  },
  {
   "cell_type": "markdown",
   "metadata": {},
   "source": [
    "Manually verify some articles. The bias for these articles should match the predicted bias below."
   ]
  },
  {
   "cell_type": "code",
   "execution_count": 18,
   "metadata": {},
   "outputs": [
    {
     "data": {
      "text/html": [
       "<div>\n",
       "<style>\n",
       "    .dataframe thead tr:only-child th {\n",
       "        text-align: right;\n",
       "    }\n",
       "\n",
       "    .dataframe thead th {\n",
       "        text-align: left;\n",
       "    }\n",
       "\n",
       "    .dataframe tbody tr th {\n",
       "        vertical-align: top;\n",
       "    }\n",
       "</style>\n",
       "<table border=\"1\" class=\"dataframe\">\n",
       "  <thead>\n",
       "    <tr style=\"text-align: right;\">\n",
       "      <th></th>\n",
       "      <th>Unnamed: 0</th>\n",
       "      <th>date</th>\n",
       "      <th>site</th>\n",
       "      <th>text</th>\n",
       "      <th>title</th>\n",
       "      <th>url</th>\n",
       "      <th>bias</th>\n",
       "      <th>docs</th>\n",
       "      <th>words</th>\n",
       "      <th>words_with_oov</th>\n",
       "    </tr>\n",
       "  </thead>\n",
       "  <tbody>\n",
       "    <tr>\n",
       "      <th>34411</th>\n",
       "      <td>34411</td>\n",
       "      <td>2016-02-11T20:57:00.000+02:00</td>\n",
       "      <td>bloomberg.com</td>\n",
       "      <td>Share on LinkedIn Share on Reddit Share on Goo...</td>\n",
       "      <td>Bloomberg Business</td>\n",
       "      <td>http://www.bloomberg.com/news/audio/2016-02-11...</td>\n",
       "      <td>2</td>\n",
       "      <td>(Share, on, LinkedIn, Share, on, Reddit, Share...</td>\n",
       "      <td>[191732, 542, 777508, 191732, 542, 1230, 19173...</td>\n",
       "      <td>[439, 9, 4999, 439, 9, 4999, 439, 9, 4999, 403...</td>\n",
       "    </tr>\n",
       "    <tr>\n",
       "      <th>68464</th>\n",
       "      <td>68464</td>\n",
       "      <td>2017-02-23T12:07:00.000+02:00</td>\n",
       "      <td>bloomberg.com</td>\n",
       "      <td>Is the Worst Over for Singapore Property Build...</td>\n",
       "      <td>Is the Worst Over for Singapore Property Build...</td>\n",
       "      <td>https://www.bloomberg.com/news/videos/2017-02-...</td>\n",
       "      <td>2</td>\n",
       "      <td>(Is, the, Worst, Over, for, Singapore, Propert...</td>\n",
       "      <td>[1001, 501, 589508, 5160, 531, 694585, 523361,...</td>\n",
       "      <td>[648, 0, 4999, 1536, 8, 4999, 4999, 4999, 4999...</td>\n",
       "    </tr>\n",
       "    <tr>\n",
       "      <th>34938</th>\n",
       "      <td>34938</td>\n",
       "      <td>2016-02-17T00:57:00.000+02:00</td>\n",
       "      <td>chicagotribune.com</td>\n",
       "      <td>Aurora man charged with home invasion Beacon-N...</td>\n",
       "      <td>Aurora man charged with home invasion</td>\n",
       "      <td>http://www.chicagotribune.com/suburbs/aurora-b...</td>\n",
       "      <td>2</td>\n",
       "      <td>(Aurora, man, charged, with, home, invasion, B...</td>\n",
       "      <td>[642360, 852, 3772, 548, 1095, 5492, 738235, 2...</td>\n",
       "      <td>[4999, 217, 1002, 13, 207, 4999, 4999, 182, 63...</td>\n",
       "    </tr>\n",
       "    <tr>\n",
       "      <th>43342</th>\n",
       "      <td>43342</td>\n",
       "      <td>2015-06-01T03:00:00.000+03:00</td>\n",
       "      <td>chron.com</td>\n",
       "      <td>Woman held on charges she robbed dollar store,...</td>\n",
       "      <td>Woman held on charges she robbed dollar store,...</td>\n",
       "      <td>http://www.chron.com/news/crime/article/Woman-...</td>\n",
       "      <td>2</td>\n",
       "      <td>(Woman, held, on, charges, she, robbed, dollar...</td>\n",
       "      <td>[154911, 2465, 542, 3830, 699, 8997, 1633, 213...</td>\n",
       "      <td>[4999, 502, 9, 844, 61, 4999, 1747, 1477, 651,...</td>\n",
       "    </tr>\n",
       "    <tr>\n",
       "      <th>89723</th>\n",
       "      <td>89723</td>\n",
       "      <td>2015-11-16T02:00:00.000+02:00</td>\n",
       "      <td>breitbart.com</td>\n",
       "      <td>Speaker Paul Ryan: Congress May Cut Funding Fr...</td>\n",
       "      <td>Speaker Paul Ryan: Congress May Cut Funding Fr...</td>\n",
       "      <td>http://www.breitbart.com/big-government/2015/1...</td>\n",
       "      <td>5</td>\n",
       "      <td>(Speaker, Paul, Ryan, :, Congress, May, Cut, F...</td>\n",
       "      <td>[284569, 1469, 634801, 2242, 4323, 9497, 43769...</td>\n",
       "      <td>[2093, 547, 641, 394, 268, 4999, 4999, 488, 10...</td>\n",
       "    </tr>\n",
       "  </tbody>\n",
       "</table>\n",
       "</div>"
      ],
      "text/plain": [
       "       Unnamed: 0                           date                site  \\\n",
       "34411       34411  2016-02-11T20:57:00.000+02:00       bloomberg.com   \n",
       "68464       68464  2017-02-23T12:07:00.000+02:00       bloomberg.com   \n",
       "34938       34938  2016-02-17T00:57:00.000+02:00  chicagotribune.com   \n",
       "43342       43342  2015-06-01T03:00:00.000+03:00           chron.com   \n",
       "89723       89723  2015-11-16T02:00:00.000+02:00       breitbart.com   \n",
       "\n",
       "                                                    text  \\\n",
       "34411  Share on LinkedIn Share on Reddit Share on Goo...   \n",
       "68464  Is the Worst Over for Singapore Property Build...   \n",
       "34938  Aurora man charged with home invasion Beacon-N...   \n",
       "43342  Woman held on charges she robbed dollar store,...   \n",
       "89723  Speaker Paul Ryan: Congress May Cut Funding Fr...   \n",
       "\n",
       "                                                   title  \\\n",
       "34411                                 Bloomberg Business   \n",
       "68464  Is the Worst Over for Singapore Property Build...   \n",
       "34938              Aurora man charged with home invasion   \n",
       "43342  Woman held on charges she robbed dollar store,...   \n",
       "89723  Speaker Paul Ryan: Congress May Cut Funding Fr...   \n",
       "\n",
       "                                                     url  bias  \\\n",
       "34411  http://www.bloomberg.com/news/audio/2016-02-11...     2   \n",
       "68464  https://www.bloomberg.com/news/videos/2017-02-...     2   \n",
       "34938  http://www.chicagotribune.com/suburbs/aurora-b...     2   \n",
       "43342  http://www.chron.com/news/crime/article/Woman-...     2   \n",
       "89723  http://www.breitbart.com/big-government/2015/1...     5   \n",
       "\n",
       "                                                    docs  \\\n",
       "34411  (Share, on, LinkedIn, Share, on, Reddit, Share...   \n",
       "68464  (Is, the, Worst, Over, for, Singapore, Propert...   \n",
       "34938  (Aurora, man, charged, with, home, invasion, B...   \n",
       "43342  (Woman, held, on, charges, she, robbed, dollar...   \n",
       "89723  (Speaker, Paul, Ryan, :, Congress, May, Cut, F...   \n",
       "\n",
       "                                                   words  \\\n",
       "34411  [191732, 542, 777508, 191732, 542, 1230, 19173...   \n",
       "68464  [1001, 501, 589508, 5160, 531, 694585, 523361,...   \n",
       "34938  [642360, 852, 3772, 548, 1095, 5492, 738235, 2...   \n",
       "43342  [154911, 2465, 542, 3830, 699, 8997, 1633, 213...   \n",
       "89723  [284569, 1469, 634801, 2242, 4323, 9497, 43769...   \n",
       "\n",
       "                                          words_with_oov  \n",
       "34411  [439, 9, 4999, 439, 9, 4999, 439, 9, 4999, 403...  \n",
       "68464  [648, 0, 4999, 1536, 8, 4999, 4999, 4999, 4999...  \n",
       "34938  [4999, 217, 1002, 13, 207, 4999, 4999, 182, 63...  \n",
       "43342  [4999, 502, 9, 844, 61, 4999, 1747, 1477, 651,...  \n",
       "89723  [2093, 547, 641, 394, 268, 4999, 4999, 488, 10...  "
      ]
     },
     "execution_count": 18,
     "metadata": {},
     "output_type": "execute_result"
    }
   ],
   "source": [
    "df_sample = df_test.sample(5)\n",
    "df_sample"
   ]
  },
  {
   "cell_type": "code",
   "execution_count": 19,
   "metadata": {},
   "outputs": [
    {
     "data": {
      "text/plain": [
       "array([0, 0, 2, 1, 1, 4, 2])"
      ]
     },
     "execution_count": 19,
     "metadata": {},
     "output_type": "execute_result"
    }
   ],
   "source": [
    "sample = sequence.pad_sequences(df_sample['words_with_oov'], maxlen=seq_len, value=0)\n",
    "np.argmax(k_model.predict(sample), axis=0)"
   ]
  },
  {
   "cell_type": "markdown",
   "metadata": {},
   "source": [
    "## Site vectors"
   ]
  },
  {
   "cell_type": "markdown",
   "metadata": {},
   "source": [
    "Remove the last linear classifier"
   ]
  },
  {
   "cell_type": "code",
   "execution_count": 20,
   "metadata": {
    "collapsed": true
   },
   "outputs": [],
   "source": [
    "l4 = k_model.pop()\n",
    "l3 = k_model.pop()"
   ]
  },
  {
   "cell_type": "code",
   "execution_count": 21,
   "metadata": {},
   "outputs": [
    {
     "name": "stdout",
     "output_type": "stream",
     "text": [
      "____________________________________________________________________________________________________\n",
      "Layer (type)                     Output Shape          Param #     Connected to                     \n",
      "====================================================================================================\n",
      "embedding_1 (Embedding)          (None, 1000, 32)      160000      embedding_input_1[0][0]          \n",
      "____________________________________________________________________________________________________\n",
      "flatten_1 (Flatten)              (None, 32000)         0           embedding_1[0][0]                \n",
      "____________________________________________________________________________________________________\n",
      "dense_1 (Dense)                  (None, 100)           3200100     flatten_1[0][0]                  \n",
      "====================================================================================================\n",
      "Total params: 3,360,100\n",
      "Trainable params: 3,360,100\n",
      "Non-trainable params: 0\n",
      "____________________________________________________________________________________________________\n"
     ]
    }
   ],
   "source": [
    "k_model.compile(loss='sparse_categorical_crossentropy', optimizer=Adam(), metrics=['accuracy'])\n",
    "k_model.summary()"
   ]
  },
  {
   "cell_type": "code",
   "execution_count": 22,
   "metadata": {},
   "outputs": [
    {
     "data": {
      "text/plain": [
       "(27514, 100)"
      ]
     },
     "execution_count": 22,
     "metadata": {},
     "output_type": "execute_result"
    }
   ],
   "source": [
    "article_vectors = k_model.predict(trn)\n",
    "article_vectors.shape"
   ]
  },
  {
   "cell_type": "markdown",
   "metadata": {},
   "source": [
    "Generate an average vector of all the article vectors for each site"
   ]
  },
  {
   "cell_type": "code",
   "execution_count": 23,
   "metadata": {},
   "outputs": [
    {
     "data": {
      "text/plain": [
       "(57, 100)"
      ]
     },
     "execution_count": 23,
     "metadata": {},
     "output_type": "execute_result"
    }
   ],
   "source": [
    "site_vectors = []\n",
    "labels = []\n",
    "for site in df_train['site'].unique():\n",
    "    site_indexes = np.where(df_train[\"site\"] == site)[0]\n",
    "    if len(site_indexes) > 0:\n",
    "        site_vector = np.mean(article_vectors[site_indexes, :], axis=0)\n",
    "        site_vectors.append(site_vector)\n",
    "        labels.append(site)\n",
    "site_vectors = np.array(site_vectors)\n",
    "site_vectors.shape"
   ]
  },
  {
   "cell_type": "code",
   "execution_count": 24,
   "metadata": {
    "collapsed": true
   },
   "outputs": [],
   "source": [
    "from sklearn.manifold import TSNE\n",
    "\n",
    "tsne_model = TSNE(n_components=2, random_state=0)\n",
    "# np.set_printoptions(suppress=True)\n",
    "site_vectors_2_dim = tsne_model.fit_transform(site_vectors)\n",
    "X_proj = site_vectors_2_dim[:, 0]\n",
    "Y_proj = site_vectors_2_dim[:, 1]"
   ]
  },
  {
   "cell_type": "code",
   "execution_count": 25,
   "metadata": {},
   "outputs": [
    {
     "data": {
      "text/html": [
       "<script>requirejs.config({paths: { 'plotly': ['https://cdn.plot.ly/plotly-latest.min']},});if(!window.Plotly) {{require(['plotly'],function(plotly) {window.Plotly=plotly;});}}</script>"
      ],
      "text/vnd.plotly.v1+html": [
       "<script>requirejs.config({paths: { 'plotly': ['https://cdn.plot.ly/plotly-latest.min']},});if(!window.Plotly) {{require(['plotly'],function(plotly) {window.Plotly=plotly;});}}</script>"
      ]
     },
     "metadata": {},
     "output_type": "display_data"
    }
   ],
   "source": [
    "from plotly.offline import init_notebook_mode, plot, iplot\n",
    "init_notebook_mode(connected=True)\n",
    "\n",
    "from plotly.graph_objs import Bar, Scatter, Figure, Layout, XAxis, YAxis"
   ]
  },
  {
   "cell_type": "code",
   "execution_count": 26,
   "metadata": {},
   "outputs": [
    {
     "data": {
      "application/vnd.plotly.v1+json": {
       "data": [
        {
         "marker": {
          "size": 10
         },
         "mode": "markers+text",
         "text": [
          "latimes.com",
          "allenbwest.com",
          "propublica.org",
          "democracynow.org",
          "ft.com",
          "seattletimes.com",
          "nytimes.com",
          "afp.com",
          "usatoday.com",
          "thefederalistpapers.org",
          "ijr.com",
          "slate.com",
          "washingtonexaminer.com",
          "townhall.com",
          "politicususa.com",
          "conservativetribune.com",
          "redstate.com",
          "thinkprogress.org",
          "thegatewaypundit.com",
          "oppositionreport.com",
          "thenewcivilrightsmovement.com",
          "rightwingnews.com",
          "nypost.com",
          "youngcons.com",
          "bizpacreview.com",
          "wsj.com",
          "thenation.com",
          "dailywire.com",
          "truthfeed.com",
          "dailycaller.com",
          "dailykos.com",
          "dallasnews.com",
          "bbc.com",
          "occupydemocrats.com",
          "sfchronicle.com",
          "theblaze.com",
          "washingtonpost.com",
          "economist.com",
          "forbes.com",
          "azcentral.com",
          "louderwithcrowder.com",
          "motherjones.com",
          "talkingpointsmemo.com",
          "mediamatters.org",
          "judicialwatch.org",
          "nj.com",
          "nydailynews.com",
          "rawstory.com",
          "westernjournalism.com",
          "cnn.com",
          "reuters.com",
          "mrctv.org",
          "100percentfedup.com",
          "apnews.com",
          "conservative101.com",
          "freedomdaily.com",
          "usherald.com"
         ],
         "textposition": "top",
         "type": "scatter",
         "x": [
          -32.57337170266322,
          -105.82000787096234,
          121.45576627048854,
          -204.10278530748624,
          88.59670819287163,
          64.25420584819594,
          108.03384840875559,
          62.09230304668532,
          -56.0076374783827,
          -45.605834285005585,
          54.28511095589479,
          39.11623999290899,
          7.516921543489598,
          -70.7523513667501,
          22.464884905284574,
          -21.02844482930327,
          -90.0025802847091,
          32.66518532878563,
          -37.595518542816976,
          62.4075658644852,
          35.41076196903356,
          -65.14667037959487,
          -445.89859616110726,
          -13.810780088756461,
          -95.11141411327141,
          3.922257777511148,
          -44.217806428679324,
          -94.99918094564451,
          322.10223746079527,
          -67.86809994066928,
          -126.94321401688732,
          16.360555695046745,
          -12.276289431948841,
          23.748251312196842,
          -40.621379375400856,
          -0.06184156879962738,
          117.22209819083415,
          85.57869795594078,
          -21.560513095712814,
          85.56356331611316,
          13.882906801105948,
          15.489713201462669,
          41.795105528892485,
          23.57642429934006,
          -90.17307277551437,
          -23.264916452549294,
          74.26384014001603,
          266.5568881884596,
          -72.09466474751653,
          88.13323908332512,
          40.709752218549106,
          -43.22547644061136,
          -38.90405024718353,
          43.110459349387966,
          -12.329785611191568,
          -14.784662513967751,
          -5.974071896780533
         ],
         "y": [
          107.60080919236309,
          45.71889225295128,
          -27.45306236217174,
          -75.20739049373164,
          65.45019704541505,
          -8.26505150345101,
          -0.40479831403592376,
          -47.90111104785247,
          -83.9094203513325,
          -115.32255508517916,
          100.349737171145,
          55.91349899024513,
          -71.52081562256784,
          44.592288730313804,
          38.203050433570034,
          41.64936594790215,
          22.196303397758154,
          78.36942164885747,
          72.17470364212171,
          42.6607761421298,
          -90.52302768533588,
          80.9986177459357,
          449.17038205094644,
          -106.86430607527676,
          -27.822295096593123,
          -49.946028800063225,
          47.63904925735607,
          -59.77950470018794,
          -651.5705825644127,
          5.869327452814109,
          13.47840825707393,
          -30.66667555399917,
          -27.107615584177566,
          131.4111957631849,
          -33.79337692167158,
          55.582714693838525,
          34.725750177761434,
          -51.46230374089513,
          -52.14836575507607,
          20.581232587613876,
          -120.16752240881532,
          97.36098760193268,
          21.38926197574902,
          2.8053633753270466,
          -4.545298671356873,
          -76.91346348375261,
          -80.31552094204748,
          76.509027764608,
          -42.09167635537228,
          -19.429539262317682,
          -59.88415896378248,
          21.43981067411725,
          -2.5588670898504966,
          -33.023887743879506,
          79.10437025453409,
          2.536322337571654,
          23.28392377904342
         ]
        }
       ],
       "layout": {
        "autosize": false,
        "height": 700,
        "width": 1000
       }
      },
      "text/html": [
       "<div id=\"bfb0f819-816e-4471-9368-7ace908e48d4\" style=\"height: 700px; width: 1000px;\" class=\"plotly-graph-div\"></div><script type=\"text/javascript\">require([\"plotly\"], function(Plotly) { window.PLOTLYENV=window.PLOTLYENV || {};window.PLOTLYENV.BASE_URL=\"https://plot.ly\";Plotly.newPlot(\"bfb0f819-816e-4471-9368-7ace908e48d4\", [{\"type\": \"scatter\", \"y\": [107.60080919236309, 45.71889225295128, -27.45306236217174, -75.20739049373164, 65.45019704541505, -8.26505150345101, -0.40479831403592376, -47.90111104785247, -83.9094203513325, -115.32255508517916, 100.349737171145, 55.91349899024513, -71.52081562256784, 44.592288730313804, 38.203050433570034, 41.64936594790215, 22.196303397758154, 78.36942164885747, 72.17470364212171, 42.6607761421298, -90.52302768533588, 80.9986177459357, 449.17038205094644, -106.86430607527676, -27.822295096593123, -49.946028800063225, 47.63904925735607, -59.77950470018794, -651.5705825644127, 5.869327452814109, 13.47840825707393, -30.66667555399917, -27.107615584177566, 131.4111957631849, -33.79337692167158, 55.582714693838525, 34.725750177761434, -51.46230374089513, -52.14836575507607, 20.581232587613876, -120.16752240881532, 97.36098760193268, 21.38926197574902, 2.8053633753270466, -4.545298671356873, -76.91346348375261, -80.31552094204748, 76.509027764608, -42.09167635537228, -19.429539262317682, -59.88415896378248, 21.43981067411725, -2.5588670898504966, -33.023887743879506, 79.10437025453409, 2.536322337571654, 23.28392377904342], \"marker\": {\"size\": 10}, \"mode\": \"markers+text\", \"text\": [\"latimes.com\", \"allenbwest.com\", \"propublica.org\", \"democracynow.org\", \"ft.com\", \"seattletimes.com\", \"nytimes.com\", \"afp.com\", \"usatoday.com\", \"thefederalistpapers.org\", \"ijr.com\", \"slate.com\", \"washingtonexaminer.com\", \"townhall.com\", \"politicususa.com\", \"conservativetribune.com\", \"redstate.com\", \"thinkprogress.org\", \"thegatewaypundit.com\", \"oppositionreport.com\", \"thenewcivilrightsmovement.com\", \"rightwingnews.com\", \"nypost.com\", \"youngcons.com\", \"bizpacreview.com\", \"wsj.com\", \"thenation.com\", \"dailywire.com\", \"truthfeed.com\", \"dailycaller.com\", \"dailykos.com\", \"dallasnews.com\", \"bbc.com\", \"occupydemocrats.com\", \"sfchronicle.com\", \"theblaze.com\", \"washingtonpost.com\", \"economist.com\", \"forbes.com\", \"azcentral.com\", \"louderwithcrowder.com\", \"motherjones.com\", \"talkingpointsmemo.com\", \"mediamatters.org\", \"judicialwatch.org\", \"nj.com\", \"nydailynews.com\", \"rawstory.com\", \"westernjournalism.com\", \"cnn.com\", \"reuters.com\", \"mrctv.org\", \"100percentfedup.com\", \"apnews.com\", \"conservative101.com\", \"freedomdaily.com\", \"usherald.com\"], \"x\": [-32.57337170266322, -105.82000787096234, 121.45576627048854, -204.10278530748624, 88.59670819287163, 64.25420584819594, 108.03384840875559, 62.09230304668532, -56.0076374783827, -45.605834285005585, 54.28511095589479, 39.11623999290899, 7.516921543489598, -70.7523513667501, 22.464884905284574, -21.02844482930327, -90.0025802847091, 32.66518532878563, -37.595518542816976, 62.4075658644852, 35.41076196903356, -65.14667037959487, -445.89859616110726, -13.810780088756461, -95.11141411327141, 3.922257777511148, -44.217806428679324, -94.99918094564451, 322.10223746079527, -67.86809994066928, -126.94321401688732, 16.360555695046745, -12.276289431948841, 23.748251312196842, -40.621379375400856, -0.06184156879962738, 117.22209819083415, 85.57869795594078, -21.560513095712814, 85.56356331611316, 13.882906801105948, 15.489713201462669, 41.795105528892485, 23.57642429934006, -90.17307277551437, -23.264916452549294, 74.26384014001603, 266.5568881884596, -72.09466474751653, 88.13323908332512, 40.709752218549106, -43.22547644061136, -38.90405024718353, 43.110459349387966, -12.329785611191568, -14.784662513967751, -5.974071896780533], \"textposition\": \"top\"}], {\"width\": 1000, \"height\": 700, \"autosize\": false}, {\"showLink\": false, \"linkText\": \"Export to plot.ly\"})});</script>"
      ],
      "text/vnd.plotly.v1+html": [
       "<div id=\"bfb0f819-816e-4471-9368-7ace908e48d4\" style=\"height: 700px; width: 1000px;\" class=\"plotly-graph-div\"></div><script type=\"text/javascript\">require([\"plotly\"], function(Plotly) { window.PLOTLYENV=window.PLOTLYENV || {};window.PLOTLYENV.BASE_URL=\"https://plot.ly\";Plotly.newPlot(\"bfb0f819-816e-4471-9368-7ace908e48d4\", [{\"type\": \"scatter\", \"y\": [107.60080919236309, 45.71889225295128, -27.45306236217174, -75.20739049373164, 65.45019704541505, -8.26505150345101, -0.40479831403592376, -47.90111104785247, -83.9094203513325, -115.32255508517916, 100.349737171145, 55.91349899024513, -71.52081562256784, 44.592288730313804, 38.203050433570034, 41.64936594790215, 22.196303397758154, 78.36942164885747, 72.17470364212171, 42.6607761421298, -90.52302768533588, 80.9986177459357, 449.17038205094644, -106.86430607527676, -27.822295096593123, -49.946028800063225, 47.63904925735607, -59.77950470018794, -651.5705825644127, 5.869327452814109, 13.47840825707393, -30.66667555399917, -27.107615584177566, 131.4111957631849, -33.79337692167158, 55.582714693838525, 34.725750177761434, -51.46230374089513, -52.14836575507607, 20.581232587613876, -120.16752240881532, 97.36098760193268, 21.38926197574902, 2.8053633753270466, -4.545298671356873, -76.91346348375261, -80.31552094204748, 76.509027764608, -42.09167635537228, -19.429539262317682, -59.88415896378248, 21.43981067411725, -2.5588670898504966, -33.023887743879506, 79.10437025453409, 2.536322337571654, 23.28392377904342], \"marker\": {\"size\": 10}, \"mode\": \"markers+text\", \"text\": [\"latimes.com\", \"allenbwest.com\", \"propublica.org\", \"democracynow.org\", \"ft.com\", \"seattletimes.com\", \"nytimes.com\", \"afp.com\", \"usatoday.com\", \"thefederalistpapers.org\", \"ijr.com\", \"slate.com\", \"washingtonexaminer.com\", \"townhall.com\", \"politicususa.com\", \"conservativetribune.com\", \"redstate.com\", \"thinkprogress.org\", \"thegatewaypundit.com\", \"oppositionreport.com\", \"thenewcivilrightsmovement.com\", \"rightwingnews.com\", \"nypost.com\", \"youngcons.com\", \"bizpacreview.com\", \"wsj.com\", \"thenation.com\", \"dailywire.com\", \"truthfeed.com\", \"dailycaller.com\", \"dailykos.com\", \"dallasnews.com\", \"bbc.com\", \"occupydemocrats.com\", \"sfchronicle.com\", \"theblaze.com\", \"washingtonpost.com\", \"economist.com\", \"forbes.com\", \"azcentral.com\", \"louderwithcrowder.com\", \"motherjones.com\", \"talkingpointsmemo.com\", \"mediamatters.org\", \"judicialwatch.org\", \"nj.com\", \"nydailynews.com\", \"rawstory.com\", \"westernjournalism.com\", \"cnn.com\", \"reuters.com\", \"mrctv.org\", \"100percentfedup.com\", \"apnews.com\", \"conservative101.com\", \"freedomdaily.com\", \"usherald.com\"], \"x\": [-32.57337170266322, -105.82000787096234, 121.45576627048854, -204.10278530748624, 88.59670819287163, 64.25420584819594, 108.03384840875559, 62.09230304668532, -56.0076374783827, -45.605834285005585, 54.28511095589479, 39.11623999290899, 7.516921543489598, -70.7523513667501, 22.464884905284574, -21.02844482930327, -90.0025802847091, 32.66518532878563, -37.595518542816976, 62.4075658644852, 35.41076196903356, -65.14667037959487, -445.89859616110726, -13.810780088756461, -95.11141411327141, 3.922257777511148, -44.217806428679324, -94.99918094564451, 322.10223746079527, -67.86809994066928, -126.94321401688732, 16.360555695046745, -12.276289431948841, 23.748251312196842, -40.621379375400856, -0.06184156879962738, 117.22209819083415, 85.57869795594078, -21.560513095712814, 85.56356331611316, 13.882906801105948, 15.489713201462669, 41.795105528892485, 23.57642429934006, -90.17307277551437, -23.264916452549294, 74.26384014001603, 266.5568881884596, -72.09466474751653, 88.13323908332512, 40.709752218549106, -43.22547644061136, -38.90405024718353, 43.110459349387966, -12.329785611191568, -14.784662513967751, -5.974071896780533], \"textposition\": \"top\"}], {\"width\": 1000, \"height\": 700, \"autosize\": false}, {\"showLink\": false, \"linkText\": \"Export to plot.ly\"})});</script>"
      ]
     },
     "metadata": {},
     "output_type": "display_data"
    }
   ],
   "source": [
    "trace = Scatter(x=X_proj, y=Y_proj, mode='markers+text', text=labels, textposition='top',  marker=dict(size=10))\n",
    "iplot({\n",
    "    'data': [trace],\n",
    "    'layout': Layout(\n",
    "        #xaxis=XAxis(title='Left vs Right'), \n",
    "        #yaxis=YAxis(title='Biased vs Factual'),\n",
    "        autosize=False,\n",
    "        width=1000,\n",
    "        height=700)},\n",
    "    show_link=False\n",
    ")"
   ]
  }
 ],
 "metadata": {
  "kernelspec": {
   "display_name": "Python 3",
   "language": "python",
   "name": "python3"
  },
  "language_info": {
   "codemirror_mode": {
    "name": "ipython",
    "version": 3
   },
   "file_extension": ".py",
   "mimetype": "text/x-python",
   "name": "python",
   "nbconvert_exporter": "python",
   "pygments_lexer": "ipython3",
   "version": "3.5.2"
  }
 },
 "nbformat": 4,
 "nbformat_minor": 2
}
