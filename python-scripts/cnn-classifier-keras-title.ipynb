{
 "cells": [
  {
   "cell_type": "markdown",
   "metadata": {},
   "source": [
    "# Text CNN classifier for Political Bias"
   ]
  },
  {
   "cell_type": "code",
   "execution_count": 1,
   "metadata": {},
   "outputs": [
    {
     "name": "stderr",
     "output_type": "stream",
     "text": [
      "/Users/rodrigo/Libs/torchsample/torchsample/datasets.py:16: UserWarning: Cant import nibabel.. Cant load brain images\n",
      "  warnings.warn('Cant import nibabel.. Cant load brain images')\n"
     ]
    }
   ],
   "source": [
    "%load_ext autoreload\n",
    "\n",
    "import pandas as pd\n",
    "import numpy as np\n",
    "\n",
    "import torch\n",
    "import torch.nn as nn\n",
    "import torch.optim as optim\n",
    "import torch.utils.data\n",
    "from torch.autograd import Variable\n",
    "from sklearn.utils import shuffle\n",
    "from torchsample.initializers import XavierUniform, Uniform\n",
    "from torchsample.modules import ModuleTrainer\n",
    "from torchsample.metrics import CategoricalAccuracy\n",
    "\n",
    "%aimport torchsample.modules"
   ]
  },
  {
   "cell_type": "code",
   "execution_count": 2,
   "metadata": {
    "collapsed": true
   },
   "outputs": [],
   "source": [
    "use_cuda = False\n",
    "batch_size = 64"
   ]
  },
  {
   "cell_type": "code",
   "execution_count": 3,
   "metadata": {},
   "outputs": [
    {
     "name": "stdout",
     "output_type": "stream",
     "text": [
      "103262\n"
     ]
    }
   ],
   "source": [
    "df = pd.read_csv(\"../data/source/newsclust.csv\")\n",
    "df = df.query(\"site != 'cbn.com'\")\n",
    "print(len(df))\n",
    "df = df.sample(90000)"
   ]
  },
  {
   "cell_type": "markdown",
   "metadata": {},
   "source": [
    "Compute the bias for each one of the articles, based on the publication's known bias"
   ]
  },
  {
   "cell_type": "code",
   "execution_count": 4,
   "metadata": {},
   "outputs": [
    {
     "data": {
      "text/html": [
       "<div>\n",
       "<style>\n",
       "    .dataframe thead tr:only-child th {\n",
       "        text-align: right;\n",
       "    }\n",
       "\n",
       "    .dataframe thead th {\n",
       "        text-align: left;\n",
       "    }\n",
       "\n",
       "    .dataframe tbody tr th {\n",
       "        vertical-align: top;\n",
       "    }\n",
       "</style>\n",
       "<table border=\"1\" class=\"dataframe\">\n",
       "  <thead>\n",
       "    <tr style=\"text-align: right;\">\n",
       "      <th></th>\n",
       "      <th>Unnamed: 0</th>\n",
       "      <th>date</th>\n",
       "      <th>site</th>\n",
       "      <th>text</th>\n",
       "      <th>title</th>\n",
       "      <th>url</th>\n",
       "      <th>bias</th>\n",
       "    </tr>\n",
       "  </thead>\n",
       "  <tbody>\n",
       "    <tr>\n",
       "      <th>72159</th>\n",
       "      <td>72159</td>\n",
       "      <td>2016-09-13T01:44:00.000+03:00</td>\n",
       "      <td>dailykos.com</td>\n",
       "      <td>35 North Carolina Sen. Richard Burr \\nThe late...</td>\n",
       "      <td>Republican strategists are freaking out about ...</td>\n",
       "      <td>http://www.dailykos.com/story/2016/9/12/156932...</td>\n",
       "      <td>1</td>\n",
       "    </tr>\n",
       "    <tr>\n",
       "      <th>12549</th>\n",
       "      <td>12549</td>\n",
       "      <td>2016-04-13T22:50:00.000+03:00</td>\n",
       "      <td>chicagotribune.com</td>\n",
       "      <td>Lance Anderson has always worked with books. H...</td>\n",
       "      <td>Shout Out: Lance Anderson, River Grove librari...</td>\n",
       "      <td>http://www.chicagotribune.com/suburbs/elmwood-...</td>\n",
       "      <td>2</td>\n",
       "    </tr>\n",
       "  </tbody>\n",
       "</table>\n",
       "</div>"
      ],
      "text/plain": [
       "       Unnamed: 0                           date                site  \\\n",
       "72159       72159  2016-09-13T01:44:00.000+03:00        dailykos.com   \n",
       "12549       12549  2016-04-13T22:50:00.000+03:00  chicagotribune.com   \n",
       "\n",
       "                                                    text  \\\n",
       "72159  35 North Carolina Sen. Richard Burr \\nThe late...   \n",
       "12549  Lance Anderson has always worked with books. H...   \n",
       "\n",
       "                                                   title  \\\n",
       "72159  Republican strategists are freaking out about ...   \n",
       "12549  Shout Out: Lance Anderson, River Grove librari...   \n",
       "\n",
       "                                                     url  bias  \n",
       "72159  http://www.dailykos.com/story/2016/9/12/156932...     1  \n",
       "12549  http://www.chicagotribune.com/suburbs/elmwood-...     2  "
      ]
     },
     "execution_count": 4,
     "metadata": {},
     "output_type": "execute_result"
    }
   ],
   "source": [
    "from bias import Bias\n",
    "\n",
    "num_classes = 7\n",
    "df['bias'] = df.apply(lambda row: Bias.get_bias_for_domain(row['site']).value, axis=1)\n",
    "df.head(2)"
   ]
  },
  {
   "cell_type": "markdown",
   "metadata": {},
   "source": [
    "Tokenize the text of the articles, create a vocabulary of words"
   ]
  },
  {
   "cell_type": "code",
   "execution_count": 5,
   "metadata": {
    "collapsed": true
   },
   "outputs": [],
   "source": [
    "import spacy\n",
    "nlp = spacy.load('en')\n",
    "nlp.pipeline = []\n",
    "\n",
    "def tokenize_text(texts):\n",
    "    docs = [doc for doc in nlp.pipe(texts, batch_size=500, n_threads=8)]\n",
    "    return docs\n",
    "\n",
    "def is_invalid_token(token):\n",
    "    return token.is_punct or token.is_space or token.like_url or token.like_num or token.is_digit\n",
    "\n",
    "def get_words_for_docs(docs):\n",
    "    return [get_words_ids(doc) for doc in docs]\n",
    "\n",
    "def get_words_ids(doc):\n",
    "    return [token.orth for token in doc if not is_invalid_token(token)]"
   ]
  },
  {
   "cell_type": "code",
   "execution_count": 6,
   "metadata": {},
   "outputs": [],
   "source": [
    "df['docs'] = tokenize_text(df['title'].astype(str))"
   ]
  },
  {
   "cell_type": "code",
   "execution_count": 7,
   "metadata": {},
   "outputs": [
    {
     "data": {
      "text/html": [
       "<div>\n",
       "<style>\n",
       "    .dataframe thead tr:only-child th {\n",
       "        text-align: right;\n",
       "    }\n",
       "\n",
       "    .dataframe thead th {\n",
       "        text-align: left;\n",
       "    }\n",
       "\n",
       "    .dataframe tbody tr th {\n",
       "        vertical-align: top;\n",
       "    }\n",
       "</style>\n",
       "<table border=\"1\" class=\"dataframe\">\n",
       "  <thead>\n",
       "    <tr style=\"text-align: right;\">\n",
       "      <th></th>\n",
       "      <th>Unnamed: 0</th>\n",
       "      <th>date</th>\n",
       "      <th>site</th>\n",
       "      <th>text</th>\n",
       "      <th>title</th>\n",
       "      <th>url</th>\n",
       "      <th>bias</th>\n",
       "      <th>docs</th>\n",
       "      <th>words</th>\n",
       "    </tr>\n",
       "  </thead>\n",
       "  <tbody>\n",
       "    <tr>\n",
       "      <th>72159</th>\n",
       "      <td>72159</td>\n",
       "      <td>2016-09-13T01:44:00.000+03:00</td>\n",
       "      <td>dailykos.com</td>\n",
       "      <td>35 North Carolina Sen. Richard Burr \\nThe late...</td>\n",
       "      <td>Republican strategists are freaking out about ...</td>\n",
       "      <td>http://www.dailykos.com/story/2016/9/12/156932...</td>\n",
       "      <td>1</td>\n",
       "      <td>(Republican, strategists, are, freaking, out, ...</td>\n",
       "      <td>[1316, 350748, 534, 5185, 582, 581, 501, 2711,...</td>\n",
       "    </tr>\n",
       "  </tbody>\n",
       "</table>\n",
       "</div>"
      ],
      "text/plain": [
       "       Unnamed: 0                           date          site  \\\n",
       "72159       72159  2016-09-13T01:44:00.000+03:00  dailykos.com   \n",
       "\n",
       "                                                    text  \\\n",
       "72159  35 North Carolina Sen. Richard Burr \\nThe late...   \n",
       "\n",
       "                                                   title  \\\n",
       "72159  Republican strategists are freaking out about ...   \n",
       "\n",
       "                                                     url  bias  \\\n",
       "72159  http://www.dailykos.com/story/2016/9/12/156932...     1   \n",
       "\n",
       "                                                    docs  \\\n",
       "72159  (Republican, strategists, are, freaking, out, ...   \n",
       "\n",
       "                                                   words  \n",
       "72159  [1316, 350748, 534, 5185, 582, 581, 501, 2711,...  "
      ]
     },
     "execution_count": 7,
     "metadata": {},
     "output_type": "execute_result"
    }
   ],
   "source": [
    "df['words'] = get_words_for_docs(df['docs'])\n",
    "df.head(1)"
   ]
  },
  {
   "cell_type": "markdown",
   "metadata": {},
   "source": [
    "Keep the most common words as vocabulary, replace the words out of vocabulary by the least frequently used word"
   ]
  },
  {
   "cell_type": "code",
   "execution_count": 8,
   "metadata": {},
   "outputs": [
    {
     "data": {
      "text/plain": [
       "[(504, 18219), (576246, 14844), (522, 12734), (566, 11576), (501, 11539)]"
      ]
     },
     "execution_count": 8,
     "metadata": {},
     "output_type": "execute_result"
    }
   ],
   "source": [
    "from collections import Counter\n",
    "\n",
    "vocab_size = 5000\n",
    "\n",
    "def flatten(l):\n",
    "    flat_list = [item for sublist in l for item in sublist]\n",
    "    return flat_list\n",
    "\n",
    "word_freq = Counter(flatten(df['words']))\n",
    "common_words = word_freq.most_common(vocab_size)\n",
    "word_freq.most_common(5)"
   ]
  },
  {
   "cell_type": "code",
   "execution_count": 9,
   "metadata": {},
   "outputs": [
    {
     "name": "stdout",
     "output_type": "stream",
     "text": [
      "the of and a\n"
     ]
    }
   ],
   "source": [
    "print(nlp.vocab.strings[501], nlp.vocab.strings[510], nlp.vocab.strings[512], nlp.vocab.strings[506])"
   ]
  },
  {
   "cell_type": "code",
   "execution_count": 10,
   "metadata": {},
   "outputs": [
    {
     "name": "stdout",
     "output_type": "stream",
     "text": [
      "5000 4 0 5\n"
     ]
    },
    {
     "data": {
      "text/plain": [
       "4999"
      ]
     },
     "execution_count": 10,
     "metadata": {},
     "output_type": "execute_result"
    }
   ],
   "source": [
    "vocab = {word_id: i for (i, (word_id, freq)) in enumerate(common_words)}\n",
    "print(len(vocab), vocab[501], vocab[504], vocab[510])\n",
    "oov_word = vocab_size - 1\n",
    "oov_word"
   ]
  },
  {
   "cell_type": "code",
   "execution_count": 11,
   "metadata": {},
   "outputs": [
    {
     "data": {
      "text/plain": [
       "72159    [140, 4999, 101, 4999, 115, 90, 4, 4355, 38, 1...\n",
       "12549    [4999, 74, 4999, 2556, 2357, 3190, 4999, 4999,...\n",
       "46881    [188, 225, 4999, 34, 2126, 4999, 141, 88, 200,...\n",
       "62012    [4999, 4999, 4999, 4999, 23, 1106, 1587, 358, ...\n",
       "33069    [4999, 9, 736, 4999, 4999, 4999, 3237, 1939, 4...\n",
       "Name: words_with_oov, dtype: object"
      ]
     },
     "execution_count": 11,
     "metadata": {},
     "output_type": "execute_result"
    }
   ],
   "source": [
    "def get_words_ids_if_common(words):\n",
    "    return [vocab.get(word, oov_word) for word in words]\n",
    "\n",
    "df['words_with_oov'] = df.apply(lambda row: get_words_ids_if_common(row['words']), axis=1)\n",
    "df['words_with_oov'].head()"
   ]
  },
  {
   "cell_type": "markdown",
   "metadata": {},
   "source": [
    "Look at the distribution of words. The longest article has 15K words, the shortest 21."
   ]
  },
  {
   "cell_type": "code",
   "execution_count": 12,
   "metadata": {},
   "outputs": [
    {
     "data": {
      "text/plain": [
       "(45, 0, 11.091799999999999)"
      ]
     },
     "execution_count": 12,
     "metadata": {},
     "output_type": "execute_result"
    }
   ],
   "source": [
    "lens = np.array(list(map(len, df['words'])))\n",
    "(lens.max(), lens.min(), lens.mean())"
   ]
  },
  {
   "cell_type": "markdown",
   "metadata": {},
   "source": [
    "Split the data for training and validation"
   ]
  },
  {
   "cell_type": "code",
   "execution_count": 13,
   "metadata": {},
   "outputs": [
    {
     "name": "stdout",
     "output_type": "stream",
     "text": [
      "82312\n",
      "7688\n"
     ]
    }
   ],
   "source": [
    "TEST_DOMAINS =  {\n",
    "    'bloomberg.com',\n",
    "     'breitbart.com',\n",
    "     'c-span.org',\n",
    "     'chicagotribune.com',\n",
    "     'chron.com'\n",
    "}\n",
    "df_train =  df.loc[~df['site'].isin(TEST_DOMAINS)]\n",
    "df_test =  df.loc[df['site'].isin(TEST_DOMAINS)]\n",
    "print(len(df_train))\n",
    "print(len(df_test))"
   ]
  },
  {
   "cell_type": "markdown",
   "metadata": {},
   "source": [
    "Enforce all texts to have the same length, truncating or padding if necessary"
   ]
  },
  {
   "cell_type": "code",
   "execution_count": 14,
   "metadata": {},
   "outputs": [
    {
     "name": "stderr",
     "output_type": "stream",
     "text": [
      "Using TensorFlow backend.\n"
     ]
    },
    {
     "data": {
      "text/plain": [
       "array([[   0,    0,    0, ...,   22,   72, 1626],\n",
       "       [   0,    0,    0, ..., 4711,  116,  606],\n",
       "       [   0,    0,    0, ..., 1587,  358, 4999],\n",
       "       ..., \n",
       "       [   0,    0,    0, ..., 4999, 4999,    8],\n",
       "       [   0,    0,    0, ...,   63, 2021, 4999],\n",
       "       [   0,    0,    0, ...,   61,  668, 1411]], dtype=int32)"
      ]
     },
     "execution_count": 14,
     "metadata": {},
     "output_type": "execute_result"
    }
   ],
   "source": [
    "seq_len = 50\n",
    "\n",
    "from keras.preprocessing import sequence\n",
    "\n",
    "trn = sequence.pad_sequences(df_train['words_with_oov'], maxlen=seq_len, value=0)\n",
    "test = sequence.pad_sequences(df_test['words_with_oov'], maxlen=seq_len, value=0)\n",
    "\n",
    "trn_tensor = torch.from_numpy(trn).long()\n",
    "test_tensor = torch.from_numpy(test).long()\n",
    "\n",
    "trn"
   ]
  },
  {
   "cell_type": "markdown",
   "metadata": {},
   "source": [
    "Prepare the tensor data for pytorch"
   ]
  },
  {
   "cell_type": "code",
   "execution_count": 15,
   "metadata": {},
   "outputs": [
    {
     "data": {
      "text/plain": [
       "\n",
       " 1\n",
       " 1\n",
       " 3\n",
       "[torch.LongTensor of size 3]"
      ]
     },
     "execution_count": 15,
     "metadata": {},
     "output_type": "execute_result"
    }
   ],
   "source": [
    "labels_train_tensor = torch.from_numpy(np.array(df_train['bias']))\n",
    "labels_test_tensor = torch.from_numpy(np.array(df_test['bias']))\n",
    "labels_train_tensor[:3]"
   ]
  },
  {
   "cell_type": "markdown",
   "metadata": {},
   "source": [
    "## Single Hidden Layer CNN classifier"
   ]
  },
  {
   "cell_type": "markdown",
   "metadata": {},
   "source": [
    "Manually verify some articles. The bias for these articles should match the predicted bias below."
   ]
  },
  {
   "cell_type": "code",
   "execution_count": 16,
   "metadata": {},
   "outputs": [
    {
     "data": {
      "text/html": [
       "<div>\n",
       "<style>\n",
       "    .dataframe thead tr:only-child th {\n",
       "        text-align: right;\n",
       "    }\n",
       "\n",
       "    .dataframe thead th {\n",
       "        text-align: left;\n",
       "    }\n",
       "\n",
       "    .dataframe tbody tr th {\n",
       "        vertical-align: top;\n",
       "    }\n",
       "</style>\n",
       "<table border=\"1\" class=\"dataframe\">\n",
       "  <thead>\n",
       "    <tr style=\"text-align: right;\">\n",
       "      <th></th>\n",
       "      <th>Unnamed: 0</th>\n",
       "      <th>date</th>\n",
       "      <th>site</th>\n",
       "      <th>text</th>\n",
       "      <th>title</th>\n",
       "      <th>url</th>\n",
       "      <th>bias</th>\n",
       "      <th>docs</th>\n",
       "      <th>words</th>\n",
       "      <th>words_with_oov</th>\n",
       "    </tr>\n",
       "  </thead>\n",
       "  <tbody>\n",
       "    <tr>\n",
       "      <th>31167</th>\n",
       "      <td>31167</td>\n",
       "      <td>2015-05-05T03:00:00.000+03:00</td>\n",
       "      <td>chicagotribune.com</td>\n",
       "      <td>Why you should keep things weird at work Capti...</td>\n",
       "      <td>Why you should keep things weird at work - Chi...</td>\n",
       "      <td>http://www.chicagotribune.com/bluesky/hub/ct-i...</td>\n",
       "      <td>2</td>\n",
       "      <td>(Why, you, should, keep, things, weird, at, wo...</td>\n",
       "      <td>[901, 520, 650, 936, 753, 2426, 584, 747, 3639...</td>\n",
       "      <td>[66, 154, 347, 908, 875, 4999, 17, 804, 128, 217]</td>\n",
       "    </tr>\n",
       "    <tr>\n",
       "      <th>23044</th>\n",
       "      <td>23044</td>\n",
       "      <td>2015-02-28T05:35:00.000+02:00</td>\n",
       "      <td>bloomberg.com</td>\n",
       "      <td>(Bloomberg) -- Boris Nemtsov, a Russian opposi...</td>\n",
       "      <td>Russian Opposition Member Boris Nemtsov Was Ki...</td>\n",
       "      <td>http://www.bloomberg.com/news/articles/2015-02...</td>\n",
       "      <td>2</td>\n",
       "      <td>(Russian, Opposition, Member, Boris, Nemtsov, ...</td>\n",
       "      <td>[4087, 474971, 48179, 118470, 793677, 2750, 75...</td>\n",
       "      <td>[205, 3042, 1990, 4999, 4999, 89, 508, 2, 4397]</td>\n",
       "    </tr>\n",
       "    <tr>\n",
       "      <th>82709</th>\n",
       "      <td>82709</td>\n",
       "      <td>2016-07-21T04:13:00.000+03:00</td>\n",
       "      <td>c-span.org</td>\n",
       "      <td>See all on Republican National Convention Augu...</td>\n",
       "      <td>Scott Walker 2012 Republican National Conventi...</td>\n",
       "      <td>http://www.c-span.org/video/?c3830448/scott-wa...</td>\n",
       "      <td>3</td>\n",
       "      <td>(Scott, Walker, 2012, Republican, National, Co...</td>\n",
       "      <td>[8681, 456440, 1316, 3341, 589956, 2329, 68578...</td>\n",
       "      <td>[506, 1138, 140, 210, 521, 8, 2396, 2597, 8, 97]</td>\n",
       "    </tr>\n",
       "    <tr>\n",
       "      <th>35891</th>\n",
       "      <td>35891</td>\n",
       "      <td>2016-02-11T01:19:00.000+02:00</td>\n",
       "      <td>bloomberg.com</td>\n",
       "      <td>Mark Halperin and John Heilemann discuss Donal...</td>\n",
       "      <td>Who’s Best Positioned to Stop Donald Trump?</td>\n",
       "      <td>http://www.bloomberg.com/politics/videos/2016-...</td>\n",
       "      <td>2</td>\n",
       "      <td>(Who, ’s, Best, Positioned, to, Stop, Donald, ...</td>\n",
       "      <td>[1318, 1402, 3622, 654708, 504, 2948, 388386, ...</td>\n",
       "      <td>[70, 6, 419, 4999, 0, 294, 38, 1]</td>\n",
       "    </tr>\n",
       "    <tr>\n",
       "      <th>10189</th>\n",
       "      <td>10189</td>\n",
       "      <td>2015-04-01T03:00:00.000+03:00</td>\n",
       "      <td>chicagotribune.com</td>\n",
       "      <td>0 \\nClinical psychologist and relationship coa...</td>\n",
       "      <td>Tamsen Fadal, &amp;apos;Girlfriends&amp;apos; Guide&amp;ap...</td>\n",
       "      <td>http://www.chicagotribune.com/lifestyles/sc-fa...</td>\n",
       "      <td>2</td>\n",
       "      <td>(Tamsen, Fadal, ,, &amp;, apos;Girlfriends&amp;apos, ;...</td>\n",
       "      <td>[785983, 785985, 785987, 785989, 6708, 231964,...</td>\n",
       "      <td>[4999, 4999, 4999, 4999, 4999, 4799, 2, 10, 15...</td>\n",
       "    </tr>\n",
       "  </tbody>\n",
       "</table>\n",
       "</div>"
      ],
      "text/plain": [
       "       Unnamed: 0                           date                site  \\\n",
       "31167       31167  2015-05-05T03:00:00.000+03:00  chicagotribune.com   \n",
       "23044       23044  2015-02-28T05:35:00.000+02:00       bloomberg.com   \n",
       "82709       82709  2016-07-21T04:13:00.000+03:00          c-span.org   \n",
       "35891       35891  2016-02-11T01:19:00.000+02:00       bloomberg.com   \n",
       "10189       10189  2015-04-01T03:00:00.000+03:00  chicagotribune.com   \n",
       "\n",
       "                                                    text  \\\n",
       "31167  Why you should keep things weird at work Capti...   \n",
       "23044  (Bloomberg) -- Boris Nemtsov, a Russian opposi...   \n",
       "82709  See all on Republican National Convention Augu...   \n",
       "35891  Mark Halperin and John Heilemann discuss Donal...   \n",
       "10189  0 \\nClinical psychologist and relationship coa...   \n",
       "\n",
       "                                                   title  \\\n",
       "31167  Why you should keep things weird at work - Chi...   \n",
       "23044  Russian Opposition Member Boris Nemtsov Was Ki...   \n",
       "82709  Scott Walker 2012 Republican National Conventi...   \n",
       "35891        Who’s Best Positioned to Stop Donald Trump?   \n",
       "10189  Tamsen Fadal, &apos;Girlfriends&apos; Guide&ap...   \n",
       "\n",
       "                                                     url  bias  \\\n",
       "31167  http://www.chicagotribune.com/bluesky/hub/ct-i...     2   \n",
       "23044  http://www.bloomberg.com/news/articles/2015-02...     2   \n",
       "82709  http://www.c-span.org/video/?c3830448/scott-wa...     3   \n",
       "35891  http://www.bloomberg.com/politics/videos/2016-...     2   \n",
       "10189  http://www.chicagotribune.com/lifestyles/sc-fa...     2   \n",
       "\n",
       "                                                    docs  \\\n",
       "31167  (Why, you, should, keep, things, weird, at, wo...   \n",
       "23044  (Russian, Opposition, Member, Boris, Nemtsov, ...   \n",
       "82709  (Scott, Walker, 2012, Republican, National, Co...   \n",
       "35891  (Who, ’s, Best, Positioned, to, Stop, Donald, ...   \n",
       "10189  (Tamsen, Fadal, ,, &, apos;Girlfriends&apos, ;...   \n",
       "\n",
       "                                                   words  \\\n",
       "31167  [901, 520, 650, 936, 753, 2426, 584, 747, 3639...   \n",
       "23044  [4087, 474971, 48179, 118470, 793677, 2750, 75...   \n",
       "82709  [8681, 456440, 1316, 3341, 589956, 2329, 68578...   \n",
       "35891  [1318, 1402, 3622, 654708, 504, 2948, 388386, ...   \n",
       "10189  [785983, 785985, 785987, 785989, 6708, 231964,...   \n",
       "\n",
       "                                          words_with_oov  \n",
       "31167  [66, 154, 347, 908, 875, 4999, 17, 804, 128, 217]  \n",
       "23044    [205, 3042, 1990, 4999, 4999, 89, 508, 2, 4397]  \n",
       "82709   [506, 1138, 140, 210, 521, 8, 2396, 2597, 8, 97]  \n",
       "35891                  [70, 6, 419, 4999, 0, 294, 38, 1]  \n",
       "10189  [4999, 4999, 4999, 4999, 4999, 4799, 2, 10, 15...  "
      ]
     },
     "execution_count": 16,
     "metadata": {},
     "output_type": "execute_result"
    }
   ],
   "source": [
    "df_sample = df_test.sample(5)\n",
    "df_sample"
   ]
  },
  {
   "cell_type": "markdown",
   "metadata": {},
   "source": [
    "## Keras CNN model"
   ]
  },
  {
   "cell_type": "code",
   "execution_count": 17,
   "metadata": {
    "collapsed": true
   },
   "outputs": [],
   "source": [
    "# Force use CPU\n",
    "import os\n",
    "os.environ[\"CUDA_DEVICE_ORDER\"] = \"PCI_BUS_ID\"   # see issue #152\n",
    "os.environ[\"CUDA_VISIBLE_DEVICES\"] = \"\"\n",
    "\n",
    "import keras\n",
    "from keras.models import Sequential, Model\n",
    "from keras.layers import Embedding\n",
    "from keras.layers.core import Flatten, Dense, Dropout\n",
    "from keras.optimizers import Adam"
   ]
  },
  {
   "cell_type": "code",
   "execution_count": 18,
   "metadata": {
    "collapsed": true
   },
   "outputs": [],
   "source": [
    "k_model = Sequential([\n",
    "    Embedding(vocab_size, 32, input_length=seq_len),\n",
    "    Flatten(),\n",
    "    Dense(100, activation='relu'),\n",
    "    Dropout(0.7),\n",
    "    Dense(7, activation='softmax')])"
   ]
  },
  {
   "cell_type": "code",
   "execution_count": 19,
   "metadata": {},
   "outputs": [
    {
     "name": "stdout",
     "output_type": "stream",
     "text": [
      "____________________________________________________________________________________________________\n",
      "Layer (type)                     Output Shape          Param #     Connected to                     \n",
      "====================================================================================================\n",
      "embedding_1 (Embedding)          (None, 50, 32)        160000      embedding_input_1[0][0]          \n",
      "____________________________________________________________________________________________________\n",
      "flatten_1 (Flatten)              (None, 1600)          0           embedding_1[0][0]                \n",
      "____________________________________________________________________________________________________\n",
      "dense_1 (Dense)                  (None, 100)           160100      flatten_1[0][0]                  \n",
      "____________________________________________________________________________________________________\n",
      "dropout_1 (Dropout)              (None, 100)           0           dense_1[0][0]                    \n",
      "____________________________________________________________________________________________________\n",
      "dense_2 (Dense)                  (None, 7)             707         dropout_1[0][0]                  \n",
      "====================================================================================================\n",
      "Total params: 320,807\n",
      "Trainable params: 320,807\n",
      "Non-trainable params: 0\n",
      "____________________________________________________________________________________________________\n"
     ]
    }
   ],
   "source": [
    "k_model.compile(loss='sparse_categorical_crossentropy', optimizer=Adam(), metrics=['accuracy'])\n",
    "k_model.summary()"
   ]
  },
  {
   "cell_type": "code",
   "execution_count": 20,
   "metadata": {},
   "outputs": [
    {
     "name": "stdout",
     "output_type": "stream",
     "text": [
      "[2 2 5]\n",
      "Train on 82312 samples, validate on 7688 samples\n",
      "Epoch 1/3\n",
      "82312/82312 [==============================] - 7s - loss: 1.3368 - acc: 0.4576 - val_loss: 1.0831 - val_acc: 0.6332\n",
      "Epoch 2/3\n",
      "82312/82312 [==============================] - 7s - loss: 1.0103 - acc: 0.6058 - val_loss: 1.1013 - val_acc: 0.5609\n",
      "Epoch 3/3\n",
      "82312/82312 [==============================] - 7s - loss: 0.8998 - acc: 0.6562 - val_loss: 1.1445 - val_acc: 0.5674\n"
     ]
    },
    {
     "data": {
      "text/plain": [
       "<keras.callbacks.History at 0x198776e10>"
      ]
     },
     "execution_count": 20,
     "metadata": {},
     "output_type": "execute_result"
    }
   ],
   "source": [
    "from keras.utils.np_utils import to_categorical\n",
    "\n",
    "labels_train = np.array(df_train['bias'])\n",
    "labels_test = np.array(df_test['bias'])\n",
    "\n",
    "print(labels_test[:3])\n",
    "k_model.fit(trn, labels_train, validation_data=(test, labels_test), nb_epoch=3, batch_size=batch_size)"
   ]
  },
  {
   "cell_type": "markdown",
   "metadata": {},
   "source": [
    "Manually verify some articles. The bias for these articles should match the predicted bias below."
   ]
  },
  {
   "cell_type": "code",
   "execution_count": 21,
   "metadata": {},
   "outputs": [
    {
     "data": {
      "text/html": [
       "<div>\n",
       "<style>\n",
       "    .dataframe thead tr:only-child th {\n",
       "        text-align: right;\n",
       "    }\n",
       "\n",
       "    .dataframe thead th {\n",
       "        text-align: left;\n",
       "    }\n",
       "\n",
       "    .dataframe tbody tr th {\n",
       "        vertical-align: top;\n",
       "    }\n",
       "</style>\n",
       "<table border=\"1\" class=\"dataframe\">\n",
       "  <thead>\n",
       "    <tr style=\"text-align: right;\">\n",
       "      <th></th>\n",
       "      <th>Unnamed: 0</th>\n",
       "      <th>date</th>\n",
       "      <th>site</th>\n",
       "      <th>text</th>\n",
       "      <th>title</th>\n",
       "      <th>url</th>\n",
       "      <th>bias</th>\n",
       "      <th>docs</th>\n",
       "      <th>words</th>\n",
       "      <th>words_with_oov</th>\n",
       "    </tr>\n",
       "  </thead>\n",
       "  <tbody>\n",
       "    <tr>\n",
       "      <th>67538</th>\n",
       "      <td>67538</td>\n",
       "      <td>2017-02-12T02:00:00.000+02:00</td>\n",
       "      <td>breitbart.com</td>\n",
       "      <td>Breitbart News Daily: Repeal and Replace by Br...</td>\n",
       "      <td>Breitbart News Daily: Repeal and Replace</td>\n",
       "      <td>http://www.breitbart.com/radio/2017/02/12/brei...</td>\n",
       "      <td>5</td>\n",
       "      <td>(Breitbart, News, Daily, :, Repeal, and, Replace)</td>\n",
       "      <td>[777136, 2548, 4940, 41725, 512, 692490]</td>\n",
       "      <td>[178, 35, 32, 1136, 12, 2632]</td>\n",
       "    </tr>\n",
       "    <tr>\n",
       "      <th>39510</th>\n",
       "      <td>39510</td>\n",
       "      <td>2017-05-08T10:57:00.000+03:00</td>\n",
       "      <td>bloomberg.com</td>\n",
       "      <td>Macau’s government is requiring facial recogni...</td>\n",
       "      <td>Macau Introduces ATM Facial Recognition to Det...</td>\n",
       "      <td>http://www.bloomberg.com/news/articles/2017-05...</td>\n",
       "      <td>2</td>\n",
       "      <td>(Macau, Introduces, ATM, Facial, Recognition, ...</td>\n",
       "      <td>[761142, 104556, 6385, 532880, 12203, 504, 496...</td>\n",
       "      <td>[4999, 4999, 4999, 4999, 4999, 0, 4999, 770, 4...</td>\n",
       "    </tr>\n",
       "    <tr>\n",
       "      <th>12448</th>\n",
       "      <td>12448</td>\n",
       "      <td>2016-04-08T18:10:00.000+03:00</td>\n",
       "      <td>chron.com</td>\n",
       "      <td>Oklahoma man arrested in New Mexico after meth...</td>\n",
       "      <td>Oklahoma man arrested in New Mexico after meth...</td>\n",
       "      <td>http://www.chron.com/news/crime/article/Oklaho...</td>\n",
       "      <td>2</td>\n",
       "      <td>(Oklahoma, man, arrested, in, New, Mexico, aft...</td>\n",
       "      <td>[9472, 852, 4220, 522, 1571, 4268, 805, 7574, ...</td>\n",
       "      <td>[1383, 183, 587, 2, 18, 360, 55, 4999, 490, 2,...</td>\n",
       "    </tr>\n",
       "    <tr>\n",
       "      <th>42371</th>\n",
       "      <td>42371</td>\n",
       "      <td>2015-06-28T03:00:00.000+03:00</td>\n",
       "      <td>breitbart.com</td>\n",
       "      <td>Andrew Cuomo Officiates Gay Wedding, Demands P...</td>\n",
       "      <td>Andrew Cuomo Officiates Gay Wedding, Demands P...</td>\n",
       "      <td>http://www.breitbart.com/big-government/2015/0...</td>\n",
       "      <td>5</td>\n",
       "      <td>(Andrew, Cuomo, Officiates, Gay, Wedding, ,, D...</td>\n",
       "      <td>[116732, 291864, 790082, 8676, 333553, 510455,...</td>\n",
       "      <td>[2122, 1557, 4999, 290, 3812, 1727, 4422, 7, 8...</td>\n",
       "    </tr>\n",
       "    <tr>\n",
       "      <th>52904</th>\n",
       "      <td>52904</td>\n",
       "      <td>2016-11-16T02:25:00.000+02:00</td>\n",
       "      <td>breitbart.com</td>\n",
       "      <td>by Pam Key 15 Nov 2016 0 15 Nov, 2016 15 Nov, ...</td>\n",
       "      <td>Blasts 'Troubling' Rhetoric of Right Media...</td>\n",
       "      <td>http://www.breitbart.com/video/2016/11/15/obam...</td>\n",
       "      <td>5</td>\n",
       "      <td>(Blasts, ', Troubling, ', Rhetoric, of, Right,...</td>\n",
       "      <td>[511195, 82282, 406659, 510, 2042, 7779]</td>\n",
       "      <td>[1386, 4999, 4999, 5, 164, 95]</td>\n",
       "    </tr>\n",
       "  </tbody>\n",
       "</table>\n",
       "</div>"
      ],
      "text/plain": [
       "       Unnamed: 0                           date           site  \\\n",
       "67538       67538  2017-02-12T02:00:00.000+02:00  breitbart.com   \n",
       "39510       39510  2017-05-08T10:57:00.000+03:00  bloomberg.com   \n",
       "12448       12448  2016-04-08T18:10:00.000+03:00      chron.com   \n",
       "42371       42371  2015-06-28T03:00:00.000+03:00  breitbart.com   \n",
       "52904       52904  2016-11-16T02:25:00.000+02:00  breitbart.com   \n",
       "\n",
       "                                                    text  \\\n",
       "67538  Breitbart News Daily: Repeal and Replace by Br...   \n",
       "39510  Macau’s government is requiring facial recogni...   \n",
       "12448  Oklahoma man arrested in New Mexico after meth...   \n",
       "42371  Andrew Cuomo Officiates Gay Wedding, Demands P...   \n",
       "52904  by Pam Key 15 Nov 2016 0 15 Nov, 2016 15 Nov, ...   \n",
       "\n",
       "                                                   title  \\\n",
       "67538           Breitbart News Daily: Repeal and Replace   \n",
       "39510  Macau Introduces ATM Facial Recognition to Det...   \n",
       "12448  Oklahoma man arrested in New Mexico after meth...   \n",
       "42371  Andrew Cuomo Officiates Gay Wedding, Demands P...   \n",
       "52904      Blasts 'Troubling' Rhetoric of Right Media...   \n",
       "\n",
       "                                                     url  bias  \\\n",
       "67538  http://www.breitbart.com/radio/2017/02/12/brei...     5   \n",
       "39510  http://www.bloomberg.com/news/articles/2017-05...     2   \n",
       "12448  http://www.chron.com/news/crime/article/Oklaho...     2   \n",
       "42371  http://www.breitbart.com/big-government/2015/0...     5   \n",
       "52904  http://www.breitbart.com/video/2016/11/15/obam...     5   \n",
       "\n",
       "                                                    docs  \\\n",
       "67538  (Breitbart, News, Daily, :, Repeal, and, Replace)   \n",
       "39510  (Macau, Introduces, ATM, Facial, Recognition, ...   \n",
       "12448  (Oklahoma, man, arrested, in, New, Mexico, aft...   \n",
       "42371  (Andrew, Cuomo, Officiates, Gay, Wedding, ,, D...   \n",
       "52904  (Blasts, ', Troubling, ', Rhetoric, of, Right,...   \n",
       "\n",
       "                                                   words  \\\n",
       "67538           [777136, 2548, 4940, 41725, 512, 692490]   \n",
       "39510  [761142, 104556, 6385, 532880, 12203, 504, 496...   \n",
       "12448  [9472, 852, 4220, 522, 1571, 4268, 805, 7574, ...   \n",
       "42371  [116732, 291864, 790082, 8676, 333553, 510455,...   \n",
       "52904           [511195, 82282, 406659, 510, 2042, 7779]   \n",
       "\n",
       "                                          words_with_oov  \n",
       "67538                      [178, 35, 32, 1136, 12, 2632]  \n",
       "39510  [4999, 4999, 4999, 4999, 4999, 0, 4999, 770, 4...  \n",
       "12448  [1383, 183, 587, 2, 18, 360, 55, 4999, 490, 2,...  \n",
       "42371  [2122, 1557, 4999, 290, 3812, 1727, 4422, 7, 8...  \n",
       "52904                     [1386, 4999, 4999, 5, 164, 95]  "
      ]
     },
     "execution_count": 21,
     "metadata": {},
     "output_type": "execute_result"
    }
   ],
   "source": [
    "df_sample = df_test.sample(5)\n",
    "df_sample"
   ]
  },
  {
   "cell_type": "code",
   "execution_count": 22,
   "metadata": {},
   "outputs": [
    {
     "data": {
      "text/plain": [
       "array([3, 3, 2, 1, 4, 4, 0])"
      ]
     },
     "execution_count": 22,
     "metadata": {},
     "output_type": "execute_result"
    }
   ],
   "source": [
    "sample = sequence.pad_sequences(df_sample['words_with_oov'], maxlen=seq_len, value=0)\n",
    "np.argmax(k_model.predict(sample), axis=0)"
   ]
  },
  {
   "cell_type": "markdown",
   "metadata": {},
   "source": [
    "## Site vectors"
   ]
  },
  {
   "cell_type": "markdown",
   "metadata": {},
   "source": [
    "Remove the last linear classifier"
   ]
  },
  {
   "cell_type": "code",
   "execution_count": 23,
   "metadata": {
    "collapsed": true
   },
   "outputs": [],
   "source": [
    "l4 = k_model.pop()\n",
    "l3 = k_model.pop()"
   ]
  },
  {
   "cell_type": "code",
   "execution_count": 24,
   "metadata": {},
   "outputs": [
    {
     "name": "stdout",
     "output_type": "stream",
     "text": [
      "____________________________________________________________________________________________________\n",
      "Layer (type)                     Output Shape          Param #     Connected to                     \n",
      "====================================================================================================\n",
      "embedding_1 (Embedding)          (None, 50, 32)        160000      embedding_input_1[0][0]          \n",
      "____________________________________________________________________________________________________\n",
      "flatten_1 (Flatten)              (None, 1600)          0           embedding_1[0][0]                \n",
      "____________________________________________________________________________________________________\n",
      "dense_1 (Dense)                  (None, 100)           160100      flatten_1[0][0]                  \n",
      "====================================================================================================\n",
      "Total params: 320,100\n",
      "Trainable params: 320,100\n",
      "Non-trainable params: 0\n",
      "____________________________________________________________________________________________________\n"
     ]
    }
   ],
   "source": [
    "k_model.compile(loss='sparse_categorical_crossentropy', optimizer=Adam(), metrics=['accuracy'])\n",
    "k_model.summary()"
   ]
  },
  {
   "cell_type": "code",
   "execution_count": 25,
   "metadata": {},
   "outputs": [
    {
     "data": {
      "text/plain": [
       "(82312, 100)"
      ]
     },
     "execution_count": 25,
     "metadata": {},
     "output_type": "execute_result"
    }
   ],
   "source": [
    "article_vectors = k_model.predict(trn)\n",
    "article_vectors.shape"
   ]
  },
  {
   "cell_type": "markdown",
   "metadata": {},
   "source": [
    "Generate an average vector of all the article vectors for each site"
   ]
  },
  {
   "cell_type": "code",
   "execution_count": 26,
   "metadata": {},
   "outputs": [
    {
     "data": {
      "text/plain": [
       "(57, 100)"
      ]
     },
     "execution_count": 26,
     "metadata": {},
     "output_type": "execute_result"
    }
   ],
   "source": [
    "site_vectors = []\n",
    "labels = []\n",
    "for site in df_train['site'].unique():\n",
    "    site_indexes = np.where(df_train[\"site\"] == site)[0]\n",
    "    if len(site_indexes) > 0:\n",
    "        site_vector = np.mean(article_vectors[site_indexes, :], axis=0)\n",
    "        site_vectors.append(site_vector)\n",
    "        labels.append(site)\n",
    "site_vectors = np.array(site_vectors)\n",
    "site_vectors.shape"
   ]
  },
  {
   "cell_type": "code",
   "execution_count": 27,
   "metadata": {
    "collapsed": true
   },
   "outputs": [],
   "source": [
    "from sklearn.manifold import TSNE\n",
    "\n",
    "tsne_model = TSNE(n_components=2, random_state=0)\n",
    "# np.set_printoptions(suppress=True)\n",
    "site_vectors_2_dim = tsne_model.fit_transform(site_vectors)\n",
    "X_proj = site_vectors_2_dim[:, 0]\n",
    "Y_proj = site_vectors_2_dim[:, 1]"
   ]
  },
  {
   "cell_type": "code",
   "execution_count": 28,
   "metadata": {},
   "outputs": [
    {
     "data": {
      "text/html": [
       "<script>requirejs.config({paths: { 'plotly': ['https://cdn.plot.ly/plotly-latest.min']},});if(!window.Plotly) {{require(['plotly'],function(plotly) {window.Plotly=plotly;});}}</script>"
      ],
      "text/vnd.plotly.v1+html": [
       "<script>requirejs.config({paths: { 'plotly': ['https://cdn.plot.ly/plotly-latest.min']},});if(!window.Plotly) {{require(['plotly'],function(plotly) {window.Plotly=plotly;});}}</script>"
      ]
     },
     "metadata": {},
     "output_type": "display_data"
    }
   ],
   "source": [
    "from plotly.offline import init_notebook_mode, plot, iplot\n",
    "init_notebook_mode(connected=True)\n",
    "\n",
    "from plotly.graph_objs import Bar, Scatter, Figure, Layout, XAxis, YAxis"
   ]
  },
  {
   "cell_type": "code",
   "execution_count": 29,
   "metadata": {},
   "outputs": [
    {
     "data": {
      "application/vnd.plotly.v1+json": {
       "data": [
        {
         "marker": {
          "size": 10
         },
         "mode": "markers+text",
         "text": [
          "dailykos.com",
          "thinkprogress.org",
          "usatoday.com",
          "forbes.com",
          "slate.com",
          "nypost.com",
          "seattletimes.com",
          "thenewcivilrightsmovement.com",
          "rawstory.com",
          "rightwingnews.com",
          "westernjournalism.com",
          "theblaze.com",
          "mediamatters.org",
          "occupydemocrats.com",
          "motherjones.com",
          "100percentfedup.com",
          "afp.com",
          "propublica.org",
          "dailycaller.com",
          "reuters.com",
          "allenbwest.com",
          "conservativetribune.com",
          "thenation.com",
          "ft.com",
          "democracynow.org",
          "truthfeed.com",
          "economist.com",
          "bbc.com",
          "nydailynews.com",
          "youngcons.com",
          "washingtonpost.com",
          "thegatewaypundit.com",
          "bizpacreview.com",
          "dailywire.com",
          "azcentral.com",
          "redstate.com",
          "talkingpointsmemo.com",
          "cnn.com",
          "ijr.com",
          "nj.com",
          "wsj.com",
          "apnews.com",
          "sfchronicle.com",
          "nytimes.com",
          "townhall.com",
          "washingtonexaminer.com",
          "thefederalistpapers.org",
          "dallasnews.com",
          "latimes.com",
          "judicialwatch.org",
          "politicususa.com",
          "freedomdaily.com",
          "mrctv.org",
          "oppositionreport.com",
          "conservative101.com",
          "louderwithcrowder.com",
          "usherald.com"
         ],
         "textposition": "top",
         "type": "scatter",
         "x": [
          118.40652300455056,
          4.9211533545548125,
          54.48621845860829,
          41.913051131243,
          -89.498433484788,
          -49.9835529290259,
          34.36979602540052,
          -61.05444111352525,
          22.612534846194276,
          -32.51754218512368,
          29.52713658526324,
          56.36887170146841,
          -97.95782215233096,
          -22.831887576447023,
          37.114474636950426,
          76.70180993860185,
          30.91918486745081,
          16.809040761288564,
          -14.177899516611818,
          34.13823010415756,
          -62.196922183476545,
          14.164606841811253,
          104.31754189491386,
          63.06179148183801,
          59.47438563001159,
          -76.82688834639083,
          54.500331386007375,
          9.924601367080514,
          70.14977399510764,
          -60.56288958612403,
          53.98096173812809,
          8.997222577485614,
          -8.751031665146405,
          -29.7912797633321,
          -33.881610364799904,
          -33.14035329129964,
          -8.333791696428051,
          67.19889201104337,
          -38.840156824985534,
          -8.040987568671433,
          85.44764135581438,
          -122.92803789514898,
          95.7106470161197,
          -50.57355280297999,
          -15.23306089696802,
          -81.10053163656771,
          95.75787091259004,
          38.904472902698004,
          -6.779018434939789,
          -87.37546857400382,
          -58.716299333384285,
          -62.16099104539109,
          -23.84540047518726,
          -36.31032217343276,
          -100.81464115449295,
          -7.7099541019780125,
          -61.13986221551091
         ],
         "y": [
          16.704711350291525,
          16.217427864370322,
          10.22184952867528,
          -10.970985193577516,
          -0.20129053336348018,
          -103.7592641005864,
          34.35026950818144,
          8.049615469427703,
          2.096353962459082,
          8.967297975800479,
          -104.8419283202304,
          -89.33068579876351,
          27.9470439110257,
          -28.99165294970218,
          -67.97723300739415,
          -59.74892983860331,
          114.83860398896988,
          55.42518530661928,
          27.53206428295907,
          -42.39330998838532,
          -64.3675851008869,
          -81.04535032824674,
          89.44876922812686,
          31.091878753066077,
          248.95981689464512,
          53.471184937739004,
          -36.72397051599063,
          79.94588982048262,
          -11.472210956375603,
          -37.525078428324925,
          55.1293875796076,
          -30.717868498976035,
          -71.08036967632202,
          -138.81413573874934,
          -80.05478443393696,
          39.8448902458531,
          -47.690689047379685,
          78.8733831380564,
          -47.24996367958243,
          104.31046481217993,
          12.72489261538083,
          -21.835242692823513,
          -16.98294754649561,
          84.6865395890512,
          139.97612225154987,
          -99.80493451482968,
          44.6555121733073,
          77.94050089435103,
          -110.39262486878249,
          -32.94883385898394,
          -13.953708728449747,
          36.69759119962186,
          67.78983810881377,
          -13.75670711527206,
          -63.742412443271824,
          -8.321287297410727,
          -190.17303796617009
         ]
        }
       ],
       "layout": {
        "autosize": false,
        "height": 700,
        "width": 1000
       }
      },
      "text/html": [
       "<div id=\"7e21a008-fbf3-480d-bab5-ff470708f700\" style=\"height: 700px; width: 1000px;\" class=\"plotly-graph-div\"></div><script type=\"text/javascript\">require([\"plotly\"], function(Plotly) { window.PLOTLYENV=window.PLOTLYENV || {};window.PLOTLYENV.BASE_URL=\"https://plot.ly\";Plotly.newPlot(\"7e21a008-fbf3-480d-bab5-ff470708f700\", [{\"type\": \"scatter\", \"textposition\": \"top\", \"y\": [16.704711350291525, 16.217427864370322, 10.22184952867528, -10.970985193577516, -0.20129053336348018, -103.7592641005864, 34.35026950818144, 8.049615469427703, 2.096353962459082, 8.967297975800479, -104.8419283202304, -89.33068579876351, 27.9470439110257, -28.99165294970218, -67.97723300739415, -59.74892983860331, 114.83860398896988, 55.42518530661928, 27.53206428295907, -42.39330998838532, -64.3675851008869, -81.04535032824674, 89.44876922812686, 31.091878753066077, 248.95981689464512, 53.471184937739004, -36.72397051599063, 79.94588982048262, -11.472210956375603, -37.525078428324925, 55.1293875796076, -30.717868498976035, -71.08036967632202, -138.81413573874934, -80.05478443393696, 39.8448902458531, -47.690689047379685, 78.8733831380564, -47.24996367958243, 104.31046481217993, 12.72489261538083, -21.835242692823513, -16.98294754649561, 84.6865395890512, 139.97612225154987, -99.80493451482968, 44.6555121733073, 77.94050089435103, -110.39262486878249, -32.94883385898394, -13.953708728449747, 36.69759119962186, 67.78983810881377, -13.75670711527206, -63.742412443271824, -8.321287297410727, -190.17303796617009], \"x\": [118.40652300455056, 4.9211533545548125, 54.48621845860829, 41.913051131243, -89.498433484788, -49.9835529290259, 34.36979602540052, -61.05444111352525, 22.612534846194276, -32.51754218512368, 29.52713658526324, 56.36887170146841, -97.95782215233096, -22.831887576447023, 37.114474636950426, 76.70180993860185, 30.91918486745081, 16.809040761288564, -14.177899516611818, 34.13823010415756, -62.196922183476545, 14.164606841811253, 104.31754189491386, 63.06179148183801, 59.47438563001159, -76.82688834639083, 54.500331386007375, 9.924601367080514, 70.14977399510764, -60.56288958612403, 53.98096173812809, 8.997222577485614, -8.751031665146405, -29.7912797633321, -33.881610364799904, -33.14035329129964, -8.333791696428051, 67.19889201104337, -38.840156824985534, -8.040987568671433, 85.44764135581438, -122.92803789514898, 95.7106470161197, -50.57355280297999, -15.23306089696802, -81.10053163656771, 95.75787091259004, 38.904472902698004, -6.779018434939789, -87.37546857400382, -58.716299333384285, -62.16099104539109, -23.84540047518726, -36.31032217343276, -100.81464115449295, -7.7099541019780125, -61.13986221551091], \"text\": [\"dailykos.com\", \"thinkprogress.org\", \"usatoday.com\", \"forbes.com\", \"slate.com\", \"nypost.com\", \"seattletimes.com\", \"thenewcivilrightsmovement.com\", \"rawstory.com\", \"rightwingnews.com\", \"westernjournalism.com\", \"theblaze.com\", \"mediamatters.org\", \"occupydemocrats.com\", \"motherjones.com\", \"100percentfedup.com\", \"afp.com\", \"propublica.org\", \"dailycaller.com\", \"reuters.com\", \"allenbwest.com\", \"conservativetribune.com\", \"thenation.com\", \"ft.com\", \"democracynow.org\", \"truthfeed.com\", \"economist.com\", \"bbc.com\", \"nydailynews.com\", \"youngcons.com\", \"washingtonpost.com\", \"thegatewaypundit.com\", \"bizpacreview.com\", \"dailywire.com\", \"azcentral.com\", \"redstate.com\", \"talkingpointsmemo.com\", \"cnn.com\", \"ijr.com\", \"nj.com\", \"wsj.com\", \"apnews.com\", \"sfchronicle.com\", \"nytimes.com\", \"townhall.com\", \"washingtonexaminer.com\", \"thefederalistpapers.org\", \"dallasnews.com\", \"latimes.com\", \"judicialwatch.org\", \"politicususa.com\", \"freedomdaily.com\", \"mrctv.org\", \"oppositionreport.com\", \"conservative101.com\", \"louderwithcrowder.com\", \"usherald.com\"], \"mode\": \"markers+text\", \"marker\": {\"size\": 10}}], {\"height\": 700, \"autosize\": false, \"width\": 1000}, {\"linkText\": \"Export to plot.ly\", \"showLink\": false})});</script>"
      ],
      "text/vnd.plotly.v1+html": [
       "<div id=\"7e21a008-fbf3-480d-bab5-ff470708f700\" style=\"height: 700px; width: 1000px;\" class=\"plotly-graph-div\"></div><script type=\"text/javascript\">require([\"plotly\"], function(Plotly) { window.PLOTLYENV=window.PLOTLYENV || {};window.PLOTLYENV.BASE_URL=\"https://plot.ly\";Plotly.newPlot(\"7e21a008-fbf3-480d-bab5-ff470708f700\", [{\"type\": \"scatter\", \"textposition\": \"top\", \"y\": [16.704711350291525, 16.217427864370322, 10.22184952867528, -10.970985193577516, -0.20129053336348018, -103.7592641005864, 34.35026950818144, 8.049615469427703, 2.096353962459082, 8.967297975800479, -104.8419283202304, -89.33068579876351, 27.9470439110257, -28.99165294970218, -67.97723300739415, -59.74892983860331, 114.83860398896988, 55.42518530661928, 27.53206428295907, -42.39330998838532, -64.3675851008869, -81.04535032824674, 89.44876922812686, 31.091878753066077, 248.95981689464512, 53.471184937739004, -36.72397051599063, 79.94588982048262, -11.472210956375603, -37.525078428324925, 55.1293875796076, -30.717868498976035, -71.08036967632202, -138.81413573874934, -80.05478443393696, 39.8448902458531, -47.690689047379685, 78.8733831380564, -47.24996367958243, 104.31046481217993, 12.72489261538083, -21.835242692823513, -16.98294754649561, 84.6865395890512, 139.97612225154987, -99.80493451482968, 44.6555121733073, 77.94050089435103, -110.39262486878249, -32.94883385898394, -13.953708728449747, 36.69759119962186, 67.78983810881377, -13.75670711527206, -63.742412443271824, -8.321287297410727, -190.17303796617009], \"x\": [118.40652300455056, 4.9211533545548125, 54.48621845860829, 41.913051131243, -89.498433484788, -49.9835529290259, 34.36979602540052, -61.05444111352525, 22.612534846194276, -32.51754218512368, 29.52713658526324, 56.36887170146841, -97.95782215233096, -22.831887576447023, 37.114474636950426, 76.70180993860185, 30.91918486745081, 16.809040761288564, -14.177899516611818, 34.13823010415756, -62.196922183476545, 14.164606841811253, 104.31754189491386, 63.06179148183801, 59.47438563001159, -76.82688834639083, 54.500331386007375, 9.924601367080514, 70.14977399510764, -60.56288958612403, 53.98096173812809, 8.997222577485614, -8.751031665146405, -29.7912797633321, -33.881610364799904, -33.14035329129964, -8.333791696428051, 67.19889201104337, -38.840156824985534, -8.040987568671433, 85.44764135581438, -122.92803789514898, 95.7106470161197, -50.57355280297999, -15.23306089696802, -81.10053163656771, 95.75787091259004, 38.904472902698004, -6.779018434939789, -87.37546857400382, -58.716299333384285, -62.16099104539109, -23.84540047518726, -36.31032217343276, -100.81464115449295, -7.7099541019780125, -61.13986221551091], \"text\": [\"dailykos.com\", \"thinkprogress.org\", \"usatoday.com\", \"forbes.com\", \"slate.com\", \"nypost.com\", \"seattletimes.com\", \"thenewcivilrightsmovement.com\", \"rawstory.com\", \"rightwingnews.com\", \"westernjournalism.com\", \"theblaze.com\", \"mediamatters.org\", \"occupydemocrats.com\", \"motherjones.com\", \"100percentfedup.com\", \"afp.com\", \"propublica.org\", \"dailycaller.com\", \"reuters.com\", \"allenbwest.com\", \"conservativetribune.com\", \"thenation.com\", \"ft.com\", \"democracynow.org\", \"truthfeed.com\", \"economist.com\", \"bbc.com\", \"nydailynews.com\", \"youngcons.com\", \"washingtonpost.com\", \"thegatewaypundit.com\", \"bizpacreview.com\", \"dailywire.com\", \"azcentral.com\", \"redstate.com\", \"talkingpointsmemo.com\", \"cnn.com\", \"ijr.com\", \"nj.com\", \"wsj.com\", \"apnews.com\", \"sfchronicle.com\", \"nytimes.com\", \"townhall.com\", \"washingtonexaminer.com\", \"thefederalistpapers.org\", \"dallasnews.com\", \"latimes.com\", \"judicialwatch.org\", \"politicususa.com\", \"freedomdaily.com\", \"mrctv.org\", \"oppositionreport.com\", \"conservative101.com\", \"louderwithcrowder.com\", \"usherald.com\"], \"mode\": \"markers+text\", \"marker\": {\"size\": 10}}], {\"height\": 700, \"autosize\": false, \"width\": 1000}, {\"linkText\": \"Export to plot.ly\", \"showLink\": false})});</script>"
      ]
     },
     "metadata": {},
     "output_type": "display_data"
    }
   ],
   "source": [
    "trace = Scatter(x=X_proj, y=Y_proj, mode='markers+text', text=labels, textposition='top',  marker=dict(size=10))\n",
    "iplot({\n",
    "    'data': [trace],\n",
    "    'layout': Layout(\n",
    "        #xaxis=XAxis(title='Left vs Right'), \n",
    "        #yaxis=YAxis(title='Biased vs Factual'),\n",
    "        autosize=False,\n",
    "        width=1000,\n",
    "        height=700)},\n",
    "    show_link=False\n",
    ")"
   ]
  }
 ],
 "metadata": {
  "kernelspec": {
   "display_name": "Python 3",
   "language": "python",
   "name": "python3"
  },
  "language_info": {
   "codemirror_mode": {
    "name": "ipython",
    "version": 3
   },
   "file_extension": ".py",
   "mimetype": "text/x-python",
   "name": "python",
   "nbconvert_exporter": "python",
   "pygments_lexer": "ipython3",
   "version": "3.5.2"
  }
 },
 "nbformat": 4,
 "nbformat_minor": 2
}
