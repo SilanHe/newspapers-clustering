{
 "cells": [
  {
   "cell_type": "markdown",
   "metadata": {},
   "source": [
    "## Create a dataframe that stores the site, text and bias of all articles under data/source"
   ]
  },
  {
   "cell_type": "code",
   "execution_count": 1,
   "metadata": {
    "collapsed": true
   },
   "outputs": [],
   "source": [
    "import pandas as pd\n",
    "import json\n",
    "import glob"
   ]
  },
  {
   "cell_type": "markdown",
   "metadata": {},
   "source": [
    "Load all JSON files under data/source"
   ]
  },
  {
   "cell_type": "code",
   "execution_count": 2,
   "metadata": {
    "collapsed": true
   },
   "outputs": [],
   "source": [
    "path = '../data/source/*.json'\n",
    "data = []\n",
    "for filename in glob.glob(path):\n",
    "    with open(filename, 'r') as f:\n",
    "        for line in f:\n",
    "            data.append(json.loads(line))"
   ]
  },
  {
   "cell_type": "markdown",
   "metadata": {},
   "source": [
    "Select columns, rename them if necessary (to avoid bcolz exception during save), and show some sample rows"
   ]
  },
  {
   "cell_type": "code",
   "execution_count": 3,
   "metadata": {},
   "outputs": [
    {
     "data": {
      "text/html": [
       "<div>\n",
       "<table border=\"1\" class=\"dataframe\">\n",
       "  <thead>\n",
       "    <tr style=\"text-align: right;\">\n",
       "      <th></th>\n",
       "      <th>uuid</th>\n",
       "      <th>site</th>\n",
       "      <th>text</th>\n",
       "    </tr>\n",
       "  </thead>\n",
       "  <tbody>\n",
       "    <tr>\n",
       "      <th>0</th>\n",
       "      <td>a2547fd206cf2d182e7f58131b0445e5041be533</td>\n",
       "      <td>washingtonexaminer.com</td>\n",
       "      <td>Class action filed over United’s ‘low fare gua...</td>\n",
       "    </tr>\n",
       "    <tr>\n",
       "      <th>1</th>\n",
       "      <td>6e8a766deb69148bd1a840d3353d10a3d1d4590a</td>\n",
       "      <td>nydailynews.com</td>\n",
       "      <td>Jupiterimages/Getty Images/Goodshoot RF Snuggl...</td>\n",
       "    </tr>\n",
       "    <tr>\n",
       "      <th>2</th>\n",
       "      <td>7c14e6606642ecc8c1394458ff1cdf19fda06d06</td>\n",
       "      <td>youngcons.com</td>\n",
       "      <td>Cops have been getting a lot of negative atten...</td>\n",
       "    </tr>\n",
       "    <tr>\n",
       "      <th>3</th>\n",
       "      <td>608b600a0148d8257145aebb8a29c12199580d01</td>\n",
       "      <td>youngcons.com</td>\n",
       "      <td>Powered by Starbox \\nIn the social media satur...</td>\n",
       "    </tr>\n",
       "    <tr>\n",
       "      <th>4</th>\n",
       "      <td>f94ff5791ae401d509689e8645c59f91cb8bfc15</td>\n",
       "      <td>nj.com</td>\n",
       "      <td>View/Post Comments 2013 Star-Ledger file photo...</td>\n",
       "    </tr>\n",
       "  </tbody>\n",
       "</table>\n",
       "</div>"
      ],
      "text/plain": [
       "                                       uuid                    site  \\\n",
       "0  a2547fd206cf2d182e7f58131b0445e5041be533  washingtonexaminer.com   \n",
       "1  6e8a766deb69148bd1a840d3353d10a3d1d4590a         nydailynews.com   \n",
       "2  7c14e6606642ecc8c1394458ff1cdf19fda06d06           youngcons.com   \n",
       "3  608b600a0148d8257145aebb8a29c12199580d01           youngcons.com   \n",
       "4  f94ff5791ae401d509689e8645c59f91cb8bfc15                  nj.com   \n",
       "\n",
       "                                                text  \n",
       "0  Class action filed over United’s ‘low fare gua...  \n",
       "1  Jupiterimages/Getty Images/Goodshoot RF Snuggl...  \n",
       "2  Cops have been getting a lot of negative atten...  \n",
       "3  Powered by Starbox \\nIn the social media satur...  \n",
       "4  View/Post Comments 2013 Star-Ledger file photo...  "
      ]
     },
     "execution_count": 3,
     "metadata": {},
     "output_type": "execute_result"
    }
   ],
   "source": [
    "df = pd.io.json.json_normalize(data)\n",
    "df = df[['uuid', 'thread.site', 'text']]\n",
    "# Remove cbn.com (no bias defined in spreadsheet)\n",
    "df = df[df['thread.site'] != 'cbn.com']\n",
    "df = df.rename(columns={'thread.site': 'site'})\n",
    "df.head()"
   ]
  },
  {
   "cell_type": "markdown",
   "metadata": {},
   "source": [
    "Find the bias for each article"
   ]
  },
  {
   "cell_type": "code",
   "execution_count": 4,
   "metadata": {},
   "outputs": [
    {
     "data": {
      "text/html": [
       "<div>\n",
       "<table border=\"1\" class=\"dataframe\">\n",
       "  <thead>\n",
       "    <tr style=\"text-align: right;\">\n",
       "      <th></th>\n",
       "      <th>uuid</th>\n",
       "      <th>site</th>\n",
       "      <th>text</th>\n",
       "      <th>bias</th>\n",
       "    </tr>\n",
       "  </thead>\n",
       "  <tbody>\n",
       "    <tr>\n",
       "      <th>0</th>\n",
       "      <td>a2547fd206cf2d182e7f58131b0445e5041be533</td>\n",
       "      <td>washingtonexaminer.com</td>\n",
       "      <td>Class action filed over United’s ‘low fare gua...</td>\n",
       "      <td>Bias.RIGHT_CENTER</td>\n",
       "    </tr>\n",
       "    <tr>\n",
       "      <th>1</th>\n",
       "      <td>6e8a766deb69148bd1a840d3353d10a3d1d4590a</td>\n",
       "      <td>nydailynews.com</td>\n",
       "      <td>Jupiterimages/Getty Images/Goodshoot RF Snuggl...</td>\n",
       "      <td>Bias.LEFT_CENTER</td>\n",
       "    </tr>\n",
       "    <tr>\n",
       "      <th>2</th>\n",
       "      <td>7c14e6606642ecc8c1394458ff1cdf19fda06d06</td>\n",
       "      <td>youngcons.com</td>\n",
       "      <td>Cops have been getting a lot of negative atten...</td>\n",
       "      <td>Bias.RIGHT</td>\n",
       "    </tr>\n",
       "    <tr>\n",
       "      <th>3</th>\n",
       "      <td>608b600a0148d8257145aebb8a29c12199580d01</td>\n",
       "      <td>youngcons.com</td>\n",
       "      <td>Powered by Starbox \\nIn the social media satur...</td>\n",
       "      <td>Bias.RIGHT</td>\n",
       "    </tr>\n",
       "    <tr>\n",
       "      <th>4</th>\n",
       "      <td>f94ff5791ae401d509689e8645c59f91cb8bfc15</td>\n",
       "      <td>nj.com</td>\n",
       "      <td>View/Post Comments 2013 Star-Ledger file photo...</td>\n",
       "      <td>Bias.LEFT_CENTER</td>\n",
       "    </tr>\n",
       "  </tbody>\n",
       "</table>\n",
       "</div>"
      ],
      "text/plain": [
       "                                       uuid                    site  \\\n",
       "0  a2547fd206cf2d182e7f58131b0445e5041be533  washingtonexaminer.com   \n",
       "1  6e8a766deb69148bd1a840d3353d10a3d1d4590a         nydailynews.com   \n",
       "2  7c14e6606642ecc8c1394458ff1cdf19fda06d06           youngcons.com   \n",
       "3  608b600a0148d8257145aebb8a29c12199580d01           youngcons.com   \n",
       "4  f94ff5791ae401d509689e8645c59f91cb8bfc15                  nj.com   \n",
       "\n",
       "                                                text               bias  \n",
       "0  Class action filed over United’s ‘low fare gua...  Bias.RIGHT_CENTER  \n",
       "1  Jupiterimages/Getty Images/Goodshoot RF Snuggl...   Bias.LEFT_CENTER  \n",
       "2  Cops have been getting a lot of negative atten...         Bias.RIGHT  \n",
       "3  Powered by Starbox \\nIn the social media satur...         Bias.RIGHT  \n",
       "4  View/Post Comments 2013 Star-Ledger file photo...   Bias.LEFT_CENTER  "
      ]
     },
     "execution_count": 4,
     "metadata": {},
     "output_type": "execute_result"
    }
   ],
   "source": [
    "from bias import Bias\n",
    "\n",
    "df['bias'] = df.apply(lambda row: Bias.get_bias_for_domain(row.site), axis=1)\n",
    "df.head()"
   ]
  },
  {
   "cell_type": "markdown",
   "metadata": {},
   "source": [
    "Store the data frame"
   ]
  },
  {
   "cell_type": "code",
   "execution_count": 33,
   "metadata": {
    "collapsed": true
   },
   "outputs": [],
   "source": [
    "import bcolz\n",
    "import os\n",
    "\n",
    "# Store the data\n",
    "directory = '../data/computed'\n",
    "if not os.path.exists(directory):\n",
    "    os.makedirs(directory)\n",
    "ct = bcolz.ctable.fromdataframe(df, rootdir= directory + 'df_site_text_bias.bcolz')"
   ]
  },
  {
   "cell_type": "code",
   "execution_count": null,
   "metadata": {
    "collapsed": true
   },
   "outputs": [],
   "source": []
  }
 ],
 "metadata": {
  "kernelspec": {
   "display_name": "Python 3",
   "language": "python",
   "name": "python3"
  },
  "language_info": {
   "codemirror_mode": {
    "name": "ipython",
    "version": 3
   },
   "file_extension": ".py",
   "mimetype": "text/x-python",
   "name": "python",
   "nbconvert_exporter": "python",
   "pygments_lexer": "ipython3",
   "version": "3.5.2"
  }
 },
 "nbformat": 4,
 "nbformat_minor": 2
}
