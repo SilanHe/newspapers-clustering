{
 "cells": [
  {
   "cell_type": "markdown",
   "metadata": {},
   "source": [
    "# Title NN classifier for Political Bias"
   ]
  },
  {
   "cell_type": "code",
   "execution_count": 1,
   "metadata": {
    "collapsed": true
   },
   "outputs": [],
   "source": [
    "import pandas as pd\n",
    "import numpy as np\n",
    "\n",
    "batch_size = 64"
   ]
  },
  {
   "cell_type": "code",
   "execution_count": 2,
   "metadata": {},
   "outputs": [
    {
     "name": "stdout",
     "output_type": "stream",
     "text": [
      "103262\n"
     ]
    }
   ],
   "source": [
    "df = pd.read_csv(\"../data/source/newsclust.csv\")\n",
    "df = df.query(\"site != 'cbn.com'\")\n",
    "print(len(df))\n",
    "df = df.sample(90000)"
   ]
  },
  {
   "cell_type": "markdown",
   "metadata": {},
   "source": [
    "Compute the bias for each one of the articles, based on the publication's known bias"
   ]
  },
  {
   "cell_type": "code",
   "execution_count": 3,
   "metadata": {},
   "outputs": [
    {
     "data": {
      "text/html": [
       "<div>\n",
       "<style>\n",
       "    .dataframe thead tr:only-child th {\n",
       "        text-align: right;\n",
       "    }\n",
       "\n",
       "    .dataframe thead th {\n",
       "        text-align: left;\n",
       "    }\n",
       "\n",
       "    .dataframe tbody tr th {\n",
       "        vertical-align: top;\n",
       "    }\n",
       "</style>\n",
       "<table border=\"1\" class=\"dataframe\">\n",
       "  <thead>\n",
       "    <tr style=\"text-align: right;\">\n",
       "      <th></th>\n",
       "      <th>Unnamed: 0</th>\n",
       "      <th>date</th>\n",
       "      <th>site</th>\n",
       "      <th>text</th>\n",
       "      <th>title</th>\n",
       "      <th>url</th>\n",
       "      <th>bias</th>\n",
       "    </tr>\n",
       "  </thead>\n",
       "  <tbody>\n",
       "    <tr>\n",
       "      <th>41137</th>\n",
       "      <td>41137</td>\n",
       "      <td>2017-05-10T07:50:00.000+03:00</td>\n",
       "      <td>politicususa.com</td>\n",
       "      <td>In his statement on the firing of James Comey,...</td>\n",
       "      <td>Bernie Sanders Sets The Stage For A Massive De...</td>\n",
       "      <td>http://www.politicususa.com/2017/05/09/bernie-...</td>\n",
       "      <td>1</td>\n",
       "    </tr>\n",
       "    <tr>\n",
       "      <th>27585</th>\n",
       "      <td>27585</td>\n",
       "      <td>2017-03-09T02:00:00.000+02:00</td>\n",
       "      <td>sfchronicle.com</td>\n",
       "      <td>Photo: Scott Strazzante, The Chronicle Golden ...</td>\n",
       "      <td>Stephen Curry’s great, but his contemporaries ...</td>\n",
       "      <td>http://www.sfchronicle.com/sports/jenkins/arti...</td>\n",
       "      <td>2</td>\n",
       "    </tr>\n",
       "  </tbody>\n",
       "</table>\n",
       "</div>"
      ],
      "text/plain": [
       "       Unnamed: 0                           date              site  \\\n",
       "41137       41137  2017-05-10T07:50:00.000+03:00  politicususa.com   \n",
       "27585       27585  2017-03-09T02:00:00.000+02:00   sfchronicle.com   \n",
       "\n",
       "                                                    text  \\\n",
       "41137  In his statement on the firing of James Comey,...   \n",
       "27585  Photo: Scott Strazzante, The Chronicle Golden ...   \n",
       "\n",
       "                                                   title  \\\n",
       "41137  Bernie Sanders Sets The Stage For A Massive De...   \n",
       "27585  Stephen Curry’s great, but his contemporaries ...   \n",
       "\n",
       "                                                     url  bias  \n",
       "41137  http://www.politicususa.com/2017/05/09/bernie-...     1  \n",
       "27585  http://www.sfchronicle.com/sports/jenkins/arti...     2  "
      ]
     },
     "execution_count": 3,
     "metadata": {},
     "output_type": "execute_result"
    }
   ],
   "source": [
    "from bias import Bias\n",
    "\n",
    "num_classes = 7\n",
    "df['bias'] = df.apply(lambda row: Bias.get_bias_for_domain(row['site']).value, axis=1)\n",
    "df.head(2)"
   ]
  },
  {
   "cell_type": "markdown",
   "metadata": {},
   "source": [
    "Tokenize the text of the articles, create a vocabulary of words"
   ]
  },
  {
   "cell_type": "code",
   "execution_count": 4,
   "metadata": {},
   "outputs": [],
   "source": [
    "import spacy\n",
    "nlp = spacy.load('en')\n",
    "nlp.pipeline = []\n",
    "\n",
    "def tokenize_text(texts):\n",
    "    docs = [doc for doc in nlp.pipe(texts, batch_size=500, n_threads=8)]\n",
    "    return docs\n",
    "\n",
    "def is_invalid_token(token):\n",
    "    return token.like_url or token.like_num or token.is_digit\n",
    "\n",
    "def get_words_for_docs(docs):\n",
    "    return [get_words_ids(doc) for doc in docs]\n",
    "\n",
    "def get_words_ids(doc):\n",
    "    return [token.orth for token in doc if not is_invalid_token(token)]"
   ]
  },
  {
   "cell_type": "code",
   "execution_count": 5,
   "metadata": {
    "collapsed": true
   },
   "outputs": [],
   "source": [
    "df['docs'] = tokenize_text(df['title'].astype(str))"
   ]
  },
  {
   "cell_type": "code",
   "execution_count": 6,
   "metadata": {},
   "outputs": [
    {
     "data": {
      "text/html": [
       "<div>\n",
       "<style>\n",
       "    .dataframe thead tr:only-child th {\n",
       "        text-align: right;\n",
       "    }\n",
       "\n",
       "    .dataframe thead th {\n",
       "        text-align: left;\n",
       "    }\n",
       "\n",
       "    .dataframe tbody tr th {\n",
       "        vertical-align: top;\n",
       "    }\n",
       "</style>\n",
       "<table border=\"1\" class=\"dataframe\">\n",
       "  <thead>\n",
       "    <tr style=\"text-align: right;\">\n",
       "      <th></th>\n",
       "      <th>Unnamed: 0</th>\n",
       "      <th>date</th>\n",
       "      <th>site</th>\n",
       "      <th>text</th>\n",
       "      <th>title</th>\n",
       "      <th>url</th>\n",
       "      <th>bias</th>\n",
       "      <th>docs</th>\n",
       "      <th>words</th>\n",
       "    </tr>\n",
       "  </thead>\n",
       "  <tbody>\n",
       "    <tr>\n",
       "      <th>41137</th>\n",
       "      <td>41137</td>\n",
       "      <td>2017-05-10T07:50:00.000+03:00</td>\n",
       "      <td>politicususa.com</td>\n",
       "      <td>In his statement on the firing of James Comey,...</td>\n",
       "      <td>Bernie Sanders Sets The Stage For A Massive De...</td>\n",
       "      <td>http://www.politicususa.com/2017/05/09/bernie-...</td>\n",
       "      <td>1</td>\n",
       "      <td>(Bernie, Sanders, Sets, The, Stage, For, A, Ma...</td>\n",
       "      <td>[231914, 508088, 359600, 566, 339716, 1011, 68...</td>\n",
       "    </tr>\n",
       "  </tbody>\n",
       "</table>\n",
       "</div>"
      ],
      "text/plain": [
       "       Unnamed: 0                           date              site  \\\n",
       "41137       41137  2017-05-10T07:50:00.000+03:00  politicususa.com   \n",
       "\n",
       "                                                    text  \\\n",
       "41137  In his statement on the firing of James Comey,...   \n",
       "\n",
       "                                                   title  \\\n",
       "41137  Bernie Sanders Sets The Stage For A Massive De...   \n",
       "\n",
       "                                                     url  bias  \\\n",
       "41137  http://www.politicususa.com/2017/05/09/bernie-...     1   \n",
       "\n",
       "                                                    docs  \\\n",
       "41137  (Bernie, Sanders, Sets, The, Stage, For, A, Ma...   \n",
       "\n",
       "                                                   words  \n",
       "41137  [231914, 508088, 359600, 566, 339716, 1011, 68...  "
      ]
     },
     "execution_count": 6,
     "metadata": {},
     "output_type": "execute_result"
    }
   ],
   "source": [
    "df['words'] = get_words_for_docs(df['docs'])\n",
    "df.head(1)"
   ]
  },
  {
   "cell_type": "markdown",
   "metadata": {},
   "source": [
    "Keep the most common words as vocabulary, replace the words out of vocabulary by the least frequently used word"
   ]
  },
  {
   "cell_type": "code",
   "execution_count": 7,
   "metadata": {},
   "outputs": [
    {
     "data": {
      "text/plain": [
       "[(535, 22785), (454, 21641), (450, 18417), (504, 18233), (576246, 14817)]"
      ]
     },
     "execution_count": 7,
     "metadata": {},
     "output_type": "execute_result"
    }
   ],
   "source": [
    "from collections import Counter\n",
    "\n",
    "vocab_size = 100000\n",
    "\n",
    "def flatten(l):\n",
    "    flat_list = [item for sublist in l for item in sublist]\n",
    "    return flat_list\n",
    "\n",
    "word_freq = Counter(flatten(df['words']))\n",
    "common_words = word_freq.most_common(vocab_size)\n",
    "word_freq.most_common(5)"
   ]
  },
  {
   "cell_type": "code",
   "execution_count": 8,
   "metadata": {},
   "outputs": [
    {
     "name": "stdout",
     "output_type": "stream",
     "text": [
      "the of and a\n"
     ]
    }
   ],
   "source": [
    "print(nlp.vocab.strings[501], nlp.vocab.strings[510], nlp.vocab.strings[512], nlp.vocab.strings[506])"
   ]
  },
  {
   "cell_type": "code",
   "execution_count": 9,
   "metadata": {},
   "outputs": [
    {
     "name": "stdout",
     "output_type": "stream",
     "text": [
      "66196 7 3 9\n"
     ]
    },
    {
     "data": {
      "text/plain": [
       "99999"
      ]
     },
     "execution_count": 9,
     "metadata": {},
     "output_type": "execute_result"
    }
   ],
   "source": [
    "vocab = {word_id: i for (i, (word_id, freq)) in enumerate(common_words)}\n",
    "print(len(vocab), vocab[501], vocab[504], vocab[510])\n",
    "oov_word = vocab_size - 1\n",
    "oov_word"
   ]
  },
  {
   "cell_type": "code",
   "execution_count": 10,
   "metadata": {},
   "outputs": [
    {
     "data": {
      "text/plain": [
       "41137     [180, 161, 3308, 8, 1604, 29, 21, 852, 313, 35...\n",
       "27585     [1063, 3852, 10, 1580, 2, 160, 138, 59758, 195...\n",
       "57187     [135, 10, 7, 1000, 507, 64, 6328, 199, 215, 48...\n",
       "10115     [166, 122, 4112, 3, 331, 11, 87, 827, 2538, 22...\n",
       "100500    [40, 62583, 40, 63, 1998, 1025, 8034, 49, 1357...\n",
       "Name: words_with_oov, dtype: object"
      ]
     },
     "execution_count": 10,
     "metadata": {},
     "output_type": "execute_result"
    }
   ],
   "source": [
    "def get_words_ids_if_common(words):\n",
    "    return [vocab.get(word, oov_word) for word in words]\n",
    "\n",
    "df['words_with_oov'] = df.apply(lambda row: get_words_ids_if_common(row['words']), axis=1)\n",
    "df['words_with_oov'].head()"
   ]
  },
  {
   "cell_type": "markdown",
   "metadata": {},
   "source": [
    "Look at the distribution of words. The longest article has 15K words, the shortest 21."
   ]
  },
  {
   "cell_type": "code",
   "execution_count": 11,
   "metadata": {},
   "outputs": [
    {
     "data": {
      "text/plain": [
       "(51, 0, 12.453033333333334)"
      ]
     },
     "execution_count": 11,
     "metadata": {},
     "output_type": "execute_result"
    }
   ],
   "source": [
    "lens = np.array(list(map(len, df['words'])))\n",
    "(lens.max(), lens.min(), lens.mean())"
   ]
  },
  {
   "cell_type": "markdown",
   "metadata": {},
   "source": [
    "Split the data for training and validation"
   ]
  },
  {
   "cell_type": "code",
   "execution_count": 12,
   "metadata": {},
   "outputs": [
    {
     "name": "stdout",
     "output_type": "stream",
     "text": [
      "82337\n",
      "7663\n"
     ]
    }
   ],
   "source": [
    "TEST_DOMAINS =  {\n",
    "    'bloomberg.com',\n",
    "     'breitbart.com',\n",
    "     'c-span.org',\n",
    "     'chicagotribune.com',\n",
    "     'chron.com'\n",
    "}\n",
    "df_train =  df.loc[~df['site'].isin(TEST_DOMAINS)]\n",
    "df_test =  df.loc[df['site'].isin(TEST_DOMAINS)]\n",
    "print(len(df_train))\n",
    "print(len(df_test))"
   ]
  },
  {
   "cell_type": "markdown",
   "metadata": {},
   "source": [
    "Enforce all texts to have the same length, truncating or padding if necessary"
   ]
  },
  {
   "cell_type": "code",
   "execution_count": 13,
   "metadata": {},
   "outputs": [
    {
     "name": "stderr",
     "output_type": "stream",
     "text": [
      "Using TensorFlow backend.\n"
     ]
    },
    {
     "data": {
      "text/plain": [
       "array([[    0,     0,     0, ...,    10,   176,   832],\n",
       "       [    0,     0,     0, ...,   195, 15820,  1095],\n",
       "       [    0,     0,     0, ...,    12,     8,   139],\n",
       "       ..., \n",
       "       [    0,     0,     0, ...,  2993,   322,  1933],\n",
       "       [    0,     0,     0, ...,  1037,  2628,   696],\n",
       "       [    0,     0,     0, ...,   292,    15,  7685]], dtype=int32)"
      ]
     },
     "execution_count": 13,
     "metadata": {},
     "output_type": "execute_result"
    }
   ],
   "source": [
    "seq_len = 50\n",
    "\n",
    "from keras.preprocessing import sequence\n",
    "\n",
    "trn = sequence.pad_sequences(df_train['words_with_oov'], maxlen=seq_len, value=0)\n",
    "test = sequence.pad_sequences(df_test['words_with_oov'], maxlen=seq_len, value=0)\n",
    "\n",
    "trn"
   ]
  },
  {
   "cell_type": "markdown",
   "metadata": {},
   "source": [
    "## Single Hidden Layer NN classifier"
   ]
  },
  {
   "cell_type": "markdown",
   "metadata": {},
   "source": [
    "### Keras NN model"
   ]
  },
  {
   "cell_type": "code",
   "execution_count": 14,
   "metadata": {
    "collapsed": true
   },
   "outputs": [],
   "source": [
    "# Force use CPU\n",
    "import os\n",
    "os.environ[\"CUDA_DEVICE_ORDER\"] = \"PCI_BUS_ID\"   # see issue #152\n",
    "os.environ[\"CUDA_VISIBLE_DEVICES\"] = \"\"\n",
    "\n",
    "import keras\n",
    "from keras.models import Sequential, Model\n",
    "from keras.layers import Embedding, Convolution1D, MaxPooling1D\n",
    "from keras.layers.core import Flatten, Dense, Dropout\n",
    "from keras.optimizers import Adam"
   ]
  },
  {
   "cell_type": "code",
   "execution_count": 15,
   "metadata": {
    "collapsed": true
   },
   "outputs": [],
   "source": [
    "k_model = Sequential([\n",
    "    Embedding(vocab_size, 32, input_length=seq_len),\n",
    "    Flatten(),\n",
    "    Dense(50, activation='relu'),\n",
    "    Dropout(0.3),\n",
    "    Dense(7, activation='softmax')])"
   ]
  },
  {
   "cell_type": "code",
   "execution_count": 16,
   "metadata": {
    "collapsed": true
   },
   "outputs": [],
   "source": [
    "k_model.compile(loss='sparse_categorical_crossentropy', optimizer=Adam(), metrics=['accuracy'])\n",
    "#k_model.summary()"
   ]
  },
  {
   "cell_type": "code",
   "execution_count": 17,
   "metadata": {},
   "outputs": [
    {
     "name": "stdout",
     "output_type": "stream",
     "text": [
      "Train on 82337 samples, validate on 7663 samples\n",
      "Epoch 1/2\n",
      "82337/82337 [==============================] - 57s - loss: 1.1826 - acc: 0.5313 - val_loss: 1.1199 - val_acc: 0.5782\n",
      "Epoch 2/2\n",
      "82337/82337 [==============================] - 62s - loss: 0.6786 - acc: 0.7562 - val_loss: 1.1430 - val_acc: 0.5686\n"
     ]
    },
    {
     "data": {
      "text/plain": [
       "<keras.callbacks.History at 0x176e7aba8>"
      ]
     },
     "execution_count": 17,
     "metadata": {},
     "output_type": "execute_result"
    }
   ],
   "source": [
    "from keras.utils.np_utils import to_categorical\n",
    "\n",
    "labels_train = np.array(df_train['bias'])\n",
    "labels_test = np.array(df_test['bias'])\n",
    "\n",
    "k_model.fit(trn, labels_train, validation_data=(test, labels_test), nb_epoch=2, batch_size=batch_size)"
   ]
  },
  {
   "cell_type": "markdown",
   "metadata": {},
   "source": [
    "Manually verify some articles. The bias for these articles should match the predicted bias below."
   ]
  },
  {
   "cell_type": "code",
   "execution_count": 18,
   "metadata": {},
   "outputs": [
    {
     "data": {
      "text/html": [
       "<div>\n",
       "<style>\n",
       "    .dataframe thead tr:only-child th {\n",
       "        text-align: right;\n",
       "    }\n",
       "\n",
       "    .dataframe thead th {\n",
       "        text-align: left;\n",
       "    }\n",
       "\n",
       "    .dataframe tbody tr th {\n",
       "        vertical-align: top;\n",
       "    }\n",
       "</style>\n",
       "<table border=\"1\" class=\"dataframe\">\n",
       "  <thead>\n",
       "    <tr style=\"text-align: right;\">\n",
       "      <th></th>\n",
       "      <th>site</th>\n",
       "      <th>title</th>\n",
       "      <th>bias</th>\n",
       "    </tr>\n",
       "  </thead>\n",
       "  <tbody>\n",
       "    <tr>\n",
       "      <th>52171</th>\n",
       "      <td>chron.com</td>\n",
       "      <td>Winning numbers drawn in 'Roadrunner Cash' gam...</td>\n",
       "      <td>2</td>\n",
       "    </tr>\n",
       "    <tr>\n",
       "      <th>19632</th>\n",
       "      <td>chron.com</td>\n",
       "      <td>Iowa softball coach convicted of 4 counts of s...</td>\n",
       "      <td>2</td>\n",
       "    </tr>\n",
       "    <tr>\n",
       "      <th>97701</th>\n",
       "      <td>chron.com</td>\n",
       "      <td>Newark schools reach agreement to halt federal...</td>\n",
       "      <td>2</td>\n",
       "    </tr>\n",
       "    <tr>\n",
       "      <th>52393</th>\n",
       "      <td>chicagotribune.com</td>\n",
       "      <td>City to hold Cubs World Series parade Friday -...</td>\n",
       "      <td>2</td>\n",
       "    </tr>\n",
       "    <tr>\n",
       "      <th>92919</th>\n",
       "      <td>chicagotribune.com</td>\n",
       "      <td>Northbrook man dies of injuries sustained in d...</td>\n",
       "      <td>2</td>\n",
       "    </tr>\n",
       "  </tbody>\n",
       "</table>\n",
       "</div>"
      ],
      "text/plain": [
       "                     site                                              title  \\\n",
       "52171           chron.com  Winning numbers drawn in 'Roadrunner Cash' gam...   \n",
       "19632           chron.com  Iowa softball coach convicted of 4 counts of s...   \n",
       "97701           chron.com  Newark schools reach agreement to halt federal...   \n",
       "52393  chicagotribune.com  City to hold Cubs World Series parade Friday -...   \n",
       "92919  chicagotribune.com  Northbrook man dies of injuries sustained in d...   \n",
       "\n",
       "       bias  \n",
       "52171     2  \n",
       "19632     2  \n",
       "97701     2  \n",
       "52393     2  \n",
       "92919     2  "
      ]
     },
     "execution_count": 18,
     "metadata": {},
     "output_type": "execute_result"
    }
   ],
   "source": [
    "df_sample = df_test.sample(5)\n",
    "df_sample[['site', 'title', 'bias']]"
   ]
  },
  {
   "cell_type": "code",
   "execution_count": 21,
   "metadata": {},
   "outputs": [
    {
     "name": "stdout",
     "output_type": "stream",
     "text": [
      "precision =  56.857627561\n"
     ]
    },
    {
     "name": "stderr",
     "output_type": "stream",
     "text": [
      "/Users/rodrigo/pytorch/lib/python3.5/site-packages/ipykernel_launcher.py:3: SettingWithCopyWarning: \n",
      "A value is trying to be set on a copy of a slice from a DataFrame.\n",
      "Try using .loc[row_indexer,col_indexer] = value instead\n",
      "\n",
      "See the caveats in the documentation: http://pandas.pydata.org/pandas-docs/stable/indexing.html#indexing-view-versus-copy\n",
      "  This is separate from the ipykernel package so we can avoid doing imports until\n"
     ]
    },
    {
     "data": {
      "text/html": [
       "<div>\n",
       "<style>\n",
       "    .dataframe thead tr:only-child th {\n",
       "        text-align: right;\n",
       "    }\n",
       "\n",
       "    .dataframe thead th {\n",
       "        text-align: left;\n",
       "    }\n",
       "\n",
       "    .dataframe tbody tr th {\n",
       "        vertical-align: top;\n",
       "    }\n",
       "</style>\n",
       "<table border=\"1\" class=\"dataframe\">\n",
       "  <thead>\n",
       "    <tr style=\"text-align: right;\">\n",
       "      <th></th>\n",
       "      <th>site</th>\n",
       "      <th>title</th>\n",
       "      <th>bias</th>\n",
       "    </tr>\n",
       "  </thead>\n",
       "  <tbody>\n",
       "    <tr>\n",
       "      <th>52171</th>\n",
       "      <td>chron.com</td>\n",
       "      <td>Winning numbers drawn in 'Roadrunner Cash' gam...</td>\n",
       "      <td>2</td>\n",
       "    </tr>\n",
       "    <tr>\n",
       "      <th>19632</th>\n",
       "      <td>chron.com</td>\n",
       "      <td>Iowa softball coach convicted of 4 counts of s...</td>\n",
       "      <td>2</td>\n",
       "    </tr>\n",
       "    <tr>\n",
       "      <th>97701</th>\n",
       "      <td>chron.com</td>\n",
       "      <td>Newark schools reach agreement to halt federal...</td>\n",
       "      <td>2</td>\n",
       "    </tr>\n",
       "    <tr>\n",
       "      <th>52393</th>\n",
       "      <td>chicagotribune.com</td>\n",
       "      <td>City to hold Cubs World Series parade Friday -...</td>\n",
       "      <td>2</td>\n",
       "    </tr>\n",
       "    <tr>\n",
       "      <th>92919</th>\n",
       "      <td>chicagotribune.com</td>\n",
       "      <td>Northbrook man dies of injuries sustained in d...</td>\n",
       "      <td>2</td>\n",
       "    </tr>\n",
       "  </tbody>\n",
       "</table>\n",
       "</div>"
      ],
      "text/plain": [
       "                     site                                              title  \\\n",
       "52171           chron.com  Winning numbers drawn in 'Roadrunner Cash' gam...   \n",
       "19632           chron.com  Iowa softball coach convicted of 4 counts of s...   \n",
       "97701           chron.com  Newark schools reach agreement to halt federal...   \n",
       "52393  chicagotribune.com  City to hold Cubs World Series parade Friday -...   \n",
       "92919  chicagotribune.com  Northbrook man dies of injuries sustained in d...   \n",
       "\n",
       "       bias  \n",
       "52171     2  \n",
       "19632     2  \n",
       "97701     2  \n",
       "52393     2  \n",
       "92919     2  "
      ]
     },
     "execution_count": 21,
     "metadata": {},
     "output_type": "execute_result"
    }
   ],
   "source": [
    "sample = sequence.pad_sequences(df_sample['words_with_oov'], maxlen=seq_len, value=0)\n",
    "print(\"precision = \", np.sum(np.argmax(k_model.predict(test), axis=1) == labels_test) * 100.0 / len(labels_test))\n",
    "df_prediction, df_prediction['bias'] = df_sample[['site', 'title']], np.argmax(k_model.predict(sample), axis=1)\n",
    "df_prediction"
   ]
  },
  {
   "cell_type": "code",
   "execution_count": 34,
   "metadata": {
    "collapsed": true
   },
   "outputs": [],
   "source": [
    "conv1 = Sequential([\n",
    "    Embedding(vocab_size, 32, input_length=seq_len, dropout=0.2),\n",
    "    Dropout(0.2),\n",
    "    Convolution1D(32, 5, border_mode='same', activation='relu'),\n",
    "    Dropout(0.2),\n",
    "    MaxPooling1D(),\n",
    "    Flatten(),\n",
    "    Dense(50, activation='relu'),\n",
    "    Dropout(0.3),\n",
    "    Dense(7, activation='softmax')])\n",
    "\n",
    "conv1.compile(loss='sparse_categorical_crossentropy', optimizer=Adam(), metrics=['accuracy'])\n",
    "# conv1.summary()"
   ]
  },
  {
   "cell_type": "code",
   "execution_count": 35,
   "metadata": {},
   "outputs": [
    {
     "name": "stderr",
     "output_type": "stream",
     "text": [
      "/Users/rodrigo/pytorch/lib/python3.5/site-packages/tensorflow/python/ops/gradients_impl.py:93: UserWarning:\n",
      "\n",
      "Converting sparse IndexedSlices to a dense Tensor of unknown shape. This may consume a large amount of memory.\n",
      "\n"
     ]
    },
    {
     "name": "stdout",
     "output_type": "stream",
     "text": [
      "Train on 82337 samples, validate on 7663 samples\n",
      "Epoch 1/3\n",
      "82337/82337 [==============================] - 188s - loss: 1.3333 - acc: 0.4566 - val_loss: 1.2364 - val_acc: 0.5961\n",
      "Epoch 2/3\n",
      "82337/82337 [==============================] - 205s - loss: 0.9931 - acc: 0.6170 - val_loss: 1.0727 - val_acc: 0.6030\n",
      "Epoch 3/3\n",
      "82337/82337 [==============================] - 413s - loss: 0.8427 - acc: 0.6842 - val_loss: 1.1589 - val_acc: 0.5349\n"
     ]
    },
    {
     "data": {
      "text/plain": [
       "<keras.callbacks.History at 0x1858065c0>"
      ]
     },
     "execution_count": 35,
     "metadata": {},
     "output_type": "execute_result"
    }
   ],
   "source": [
    "conv1.fit(trn, labels_train, validation_data=(test, labels_test), nb_epoch=3, batch_size=batch_size)"
   ]
  },
  {
   "cell_type": "code",
   "execution_count": 37,
   "metadata": {},
   "outputs": [
    {
     "name": "stdout",
     "output_type": "stream",
     "text": [
      "precision =  53.4907999478\n"
     ]
    },
    {
     "name": "stderr",
     "output_type": "stream",
     "text": [
      "/Users/rodrigo/pytorch/lib/python3.5/site-packages/ipykernel_launcher.py:2: SettingWithCopyWarning:\n",
      "\n",
      "\n",
      "A value is trying to be set on a copy of a slice from a DataFrame.\n",
      "Try using .loc[row_indexer,col_indexer] = value instead\n",
      "\n",
      "See the caveats in the documentation: http://pandas.pydata.org/pandas-docs/stable/indexing.html#indexing-view-versus-copy\n",
      "\n"
     ]
    },
    {
     "data": {
      "text/html": [
       "<div>\n",
       "<style>\n",
       "    .dataframe thead tr:only-child th {\n",
       "        text-align: right;\n",
       "    }\n",
       "\n",
       "    .dataframe thead th {\n",
       "        text-align: left;\n",
       "    }\n",
       "\n",
       "    .dataframe tbody tr th {\n",
       "        vertical-align: top;\n",
       "    }\n",
       "</style>\n",
       "<table border=\"1\" class=\"dataframe\">\n",
       "  <thead>\n",
       "    <tr style=\"text-align: right;\">\n",
       "      <th></th>\n",
       "      <th>site</th>\n",
       "      <th>title</th>\n",
       "      <th>bias</th>\n",
       "    </tr>\n",
       "  </thead>\n",
       "  <tbody>\n",
       "    <tr>\n",
       "      <th>52171</th>\n",
       "      <td>chron.com</td>\n",
       "      <td>Winning numbers drawn in 'Roadrunner Cash' gam...</td>\n",
       "      <td>2</td>\n",
       "    </tr>\n",
       "    <tr>\n",
       "      <th>19632</th>\n",
       "      <td>chron.com</td>\n",
       "      <td>Iowa softball coach convicted of 4 counts of s...</td>\n",
       "      <td>2</td>\n",
       "    </tr>\n",
       "    <tr>\n",
       "      <th>97701</th>\n",
       "      <td>chron.com</td>\n",
       "      <td>Newark schools reach agreement to halt federal...</td>\n",
       "      <td>2</td>\n",
       "    </tr>\n",
       "    <tr>\n",
       "      <th>52393</th>\n",
       "      <td>chicagotribune.com</td>\n",
       "      <td>City to hold Cubs World Series parade Friday -...</td>\n",
       "      <td>2</td>\n",
       "    </tr>\n",
       "    <tr>\n",
       "      <th>92919</th>\n",
       "      <td>chicagotribune.com</td>\n",
       "      <td>Northbrook man dies of injuries sustained in d...</td>\n",
       "      <td>2</td>\n",
       "    </tr>\n",
       "  </tbody>\n",
       "</table>\n",
       "</div>"
      ],
      "text/plain": [
       "                     site                                              title  \\\n",
       "52171           chron.com  Winning numbers drawn in 'Roadrunner Cash' gam...   \n",
       "19632           chron.com  Iowa softball coach convicted of 4 counts of s...   \n",
       "97701           chron.com  Newark schools reach agreement to halt federal...   \n",
       "52393  chicagotribune.com  City to hold Cubs World Series parade Friday -...   \n",
       "92919  chicagotribune.com  Northbrook man dies of injuries sustained in d...   \n",
       "\n",
       "       bias  \n",
       "52171     2  \n",
       "19632     2  \n",
       "97701     2  \n",
       "52393     2  \n",
       "92919     2  "
      ]
     },
     "execution_count": 37,
     "metadata": {},
     "output_type": "execute_result"
    }
   ],
   "source": [
    "print(\"precision = \", np.sum(np.argmax(conv1.predict(test), axis=1) == labels_test) * 100.0 / len(labels_test))\n",
    "df_prediction, df_prediction['bias'] = df_sample[['site', 'title']], np.argmax(conv1.predict(sample), axis=1)\n",
    "df_prediction"
   ]
  },
  {
   "cell_type": "markdown",
   "metadata": {},
   "source": [
    "## Site vectors"
   ]
  },
  {
   "cell_type": "markdown",
   "metadata": {},
   "source": [
    "Remove the last linear classifier"
   ]
  },
  {
   "cell_type": "code",
   "execution_count": 25,
   "metadata": {},
   "outputs": [],
   "source": [
    "l4 = k_model.pop()\n",
    "l3 = k_model.pop()"
   ]
  },
  {
   "cell_type": "code",
   "execution_count": 26,
   "metadata": {},
   "outputs": [
    {
     "name": "stdout",
     "output_type": "stream",
     "text": [
      "____________________________________________________________________________________________________\n",
      "Layer (type)                     Output Shape          Param #     Connected to                     \n",
      "====================================================================================================\n",
      "embedding_1 (Embedding)          (None, 50, 32)        3200000     embedding_input_1[0][0]          \n",
      "____________________________________________________________________________________________________\n",
      "flatten_1 (Flatten)              (None, 1600)          0           embedding_1[0][0]                \n",
      "____________________________________________________________________________________________________\n",
      "dense_1 (Dense)                  (None, 50)            80050       flatten_1[0][0]                  \n",
      "====================================================================================================\n",
      "Total params: 3,280,050\n",
      "Trainable params: 3,280,050\n",
      "Non-trainable params: 0\n",
      "____________________________________________________________________________________________________\n"
     ]
    }
   ],
   "source": [
    "k_model.compile(loss='sparse_categorical_crossentropy', optimizer=Adam(), metrics=['accuracy'])\n",
    "k_model.summary()"
   ]
  },
  {
   "cell_type": "code",
   "execution_count": 27,
   "metadata": {},
   "outputs": [
    {
     "data": {
      "text/plain": [
       "(82337, 50)"
      ]
     },
     "execution_count": 27,
     "metadata": {},
     "output_type": "execute_result"
    }
   ],
   "source": [
    "article_vectors = k_model.predict(trn)\n",
    "article_vectors.shape"
   ]
  },
  {
   "cell_type": "markdown",
   "metadata": {},
   "source": [
    "Generate an average vector of all the article vectors for each site"
   ]
  },
  {
   "cell_type": "code",
   "execution_count": 28,
   "metadata": {},
   "outputs": [
    {
     "data": {
      "text/plain": [
       "(57, 50)"
      ]
     },
     "execution_count": 28,
     "metadata": {},
     "output_type": "execute_result"
    }
   ],
   "source": [
    "site_vectors = []\n",
    "labels = []\n",
    "sample_size = 1000\n",
    "for site in df_train['site'].unique():\n",
    "    site_indexes = np.where(df_train[\"site\"] == site)[0]\n",
    "    if len(site_indexes) > 0:\n",
    "        site_vector = np.mean(article_vectors[site_indexes[:sample_size], :], axis=0)\n",
    "        site_vectors.append(site_vector)\n",
    "        labels.append(site)\n",
    "site_vectors = np.array(site_vectors)\n",
    "site_vectors.shape"
   ]
  },
  {
   "cell_type": "code",
   "execution_count": 29,
   "metadata": {
    "collapsed": true
   },
   "outputs": [],
   "source": [
    "from sklearn.manifold import TSNE\n",
    "\n",
    "tsne_model = TSNE(n_components=2, random_state=0)\n",
    "# np.set_printoptions(suppress=True)\n",
    "site_vectors_2_dim = tsne_model.fit_transform(site_vectors)\n",
    "X_proj = site_vectors_2_dim[:, 0]\n",
    "Y_proj = site_vectors_2_dim[:, 1]"
   ]
  },
  {
   "cell_type": "code",
   "execution_count": 30,
   "metadata": {},
   "outputs": [
    {
     "data": {
      "text/html": [
       "<script>requirejs.config({paths: { 'plotly': ['https://cdn.plot.ly/plotly-latest.min']},});if(!window.Plotly) {{require(['plotly'],function(plotly) {window.Plotly=plotly;});}}</script>"
      ],
      "text/vnd.plotly.v1+html": [
       "<script>requirejs.config({paths: { 'plotly': ['https://cdn.plot.ly/plotly-latest.min']},});if(!window.Plotly) {{require(['plotly'],function(plotly) {window.Plotly=plotly;});}}</script>"
      ]
     },
     "metadata": {},
     "output_type": "display_data"
    }
   ],
   "source": [
    "from plotly.offline import init_notebook_mode, plot, iplot\n",
    "init_notebook_mode(connected=True)\n",
    "\n",
    "from plotly.graph_objs import Bar, Scatter, Figure, Layout, XAxis, YAxis"
   ]
  },
  {
   "cell_type": "code",
   "execution_count": 31,
   "metadata": {},
   "outputs": [
    {
     "data": {
      "application/vnd.plotly.v1+json": {
       "data": [
        {
         "marker": {
          "size": 10
         },
         "mode": "markers+text",
         "text": [
          "politicususa.com",
          "sfchronicle.com",
          "thenation.com",
          "thegatewaypundit.com",
          "afp.com",
          "seattletimes.com",
          "rightwingnews.com",
          "conservativetribune.com",
          "talkingpointsmemo.com",
          "townhall.com",
          "dailycaller.com",
          "azcentral.com",
          "thinkprogress.org",
          "truthfeed.com",
          "motherjones.com",
          "thefederalistpapers.org",
          "propublica.org",
          "latimes.com",
          "dallasnews.com",
          "usatoday.com",
          "dailykos.com",
          "nytimes.com",
          "nydailynews.com",
          "bbc.com",
          "redstate.com",
          "westernjournalism.com",
          "democracynow.org",
          "ijr.com",
          "cnn.com",
          "dailywire.com",
          "economist.com",
          "washingtonpost.com",
          "apnews.com",
          "thenewcivilrightsmovement.com",
          "youngcons.com",
          "forbes.com",
          "mediamatters.org",
          "nj.com",
          "washingtonexaminer.com",
          "nypost.com",
          "occupydemocrats.com",
          "slate.com",
          "bizpacreview.com",
          "wsj.com",
          "rawstory.com",
          "theblaze.com",
          "louderwithcrowder.com",
          "freedomdaily.com",
          "100percentfedup.com",
          "allenbwest.com",
          "ft.com",
          "usherald.com",
          "reuters.com",
          "judicialwatch.org",
          "conservative101.com",
          "oppositionreport.com",
          "mrctv.org"
         ],
         "textposition": "top",
         "type": "scatter",
         "x": [
          28.372009824132974,
          -18.91964017407312,
          19.139380402663416,
          -11.520835667780176,
          -64.28320884902634,
          -54.0805968271058,
          -9.535910364888082,
          5.586967715647348,
          54.666826984862276,
          60.17080996488314,
          -44.39783561411099,
          -0.6491403134061662,
          -469.7799089558365,
          -35.182084881659804,
          21.155646419895742,
          -26.441297078390058,
          -1.3718667257250505,
          -63.00316057531414,
          -18.043774210733428,
          -47.32263463299701,
          -4.739673250565317,
          -35.43882564858365,
          -47.02680154779559,
          -76.55358904719837,
          39.52659956569385,
          26.686848310132852,
          4.972019629214121,
          -62.06621385138312,
          -23.373367248037162,
          48.97301446911651,
          -89.12768985366664,
          -40.01063579599082,
          -37.60112172062459,
          24.023750799799693,
          46.92517825177481,
          -4.873809214694386,
          81.1620815071365,
          -78.3206240566344,
          43.04607599783627,
          45.85805996201043,
          69.46420908535255,
          -55.31565256345497,
          30.421432640684685,
          60.277706500012904,
          81.99353031164645,
          26.21561247405173,
          37.4249377881689,
          -36.74075194678411,
          338.5422431967816,
          -21.07307156504456,
          17.18071781258375,
          75.6179155112081,
          93.2847516243699,
          -61.52628062092971,
          -14.320527715632613,
          72.43630123682624,
          -0.02321050090669917
         ],
         "y": [
          72.53594692345844,
          -34.365900273933285,
          5.955711944558322,
          69.54091469076998,
          70.49498652006353,
          -53.66058042740266,
          50.217145293789976,
          62.88062869761713,
          19.588206560868255,
          40.15133893729616,
          33.263656498647485,
          4.85081903855011,
          11.130371522754244,
          65.31832452042909,
          42.81530868149941,
          -13.525694689444238,
          -31.489124722586634,
          -36.62135164320926,
          5.14876593245653,
          -4.720023066821068,
          -73.49852339827534,
          -64.6503951458933,
          -25.702063071248,
          -22.53512134675239,
          32.872485131686496,
          -34.97219220836188,
          -53.94629653970208,
          43.134756433107974,
          -50.77940074690889,
          -36.15134427900735,
          11.008545446039612,
          -41.799290582944,
          10.047965500077236,
          23.481536056943078,
          -57.0983762930854,
          -11.420375406636214,
          24.401871023971918,
          -48.025062290326915,
          54.70680373220414,
          -14.33019464602145,
          68.34098147548129,
          -78.3030993088422,
          -77.48024184737048,
          -0.7638699992010528,
          -5.736109924817959,
          -57.07136789664383,
          3.533435421535546,
          90.49427147306358,
          4.032976306102578,
          31.128749980961057,
          -15.727042018344534,
          -78.8491233236023,
          -46.40934304529101,
          17.32929670065117,
          89.67133382948026,
          -29.40798051409419,
          27.348100804940163
         ]
        }
       ],
       "layout": {
        "autosize": false,
        "height": 700,
        "width": 1000
       }
      },
      "text/html": [
       "<div id=\"b03ba57d-0baf-4735-95b5-7bd23b110082\" style=\"height: 700px; width: 1000px;\" class=\"plotly-graph-div\"></div><script type=\"text/javascript\">require([\"plotly\"], function(Plotly) { window.PLOTLYENV=window.PLOTLYENV || {};window.PLOTLYENV.BASE_URL=\"https://plot.ly\";Plotly.newPlot(\"b03ba57d-0baf-4735-95b5-7bd23b110082\", [{\"textposition\": \"top\", \"marker\": {\"size\": 10}, \"y\": [72.53594692345844, -34.365900273933285, 5.955711944558322, 69.54091469076998, 70.49498652006353, -53.66058042740266, 50.217145293789976, 62.88062869761713, 19.588206560868255, 40.15133893729616, 33.263656498647485, 4.85081903855011, 11.130371522754244, 65.31832452042909, 42.81530868149941, -13.525694689444238, -31.489124722586634, -36.62135164320926, 5.14876593245653, -4.720023066821068, -73.49852339827534, -64.6503951458933, -25.702063071248, -22.53512134675239, 32.872485131686496, -34.97219220836188, -53.94629653970208, 43.134756433107974, -50.77940074690889, -36.15134427900735, 11.008545446039612, -41.799290582944, 10.047965500077236, 23.481536056943078, -57.0983762930854, -11.420375406636214, 24.401871023971918, -48.025062290326915, 54.70680373220414, -14.33019464602145, 68.34098147548129, -78.3030993088422, -77.48024184737048, -0.7638699992010528, -5.736109924817959, -57.07136789664383, 3.533435421535546, 90.49427147306358, 4.032976306102578, 31.128749980961057, -15.727042018344534, -78.8491233236023, -46.40934304529101, 17.32929670065117, 89.67133382948026, -29.40798051409419, 27.348100804940163], \"x\": [28.372009824132974, -18.91964017407312, 19.139380402663416, -11.520835667780176, -64.28320884902634, -54.0805968271058, -9.535910364888082, 5.586967715647348, 54.666826984862276, 60.17080996488314, -44.39783561411099, -0.6491403134061662, -469.7799089558365, -35.182084881659804, 21.155646419895742, -26.441297078390058, -1.3718667257250505, -63.00316057531414, -18.043774210733428, -47.32263463299701, -4.739673250565317, -35.43882564858365, -47.02680154779559, -76.55358904719837, 39.52659956569385, 26.686848310132852, 4.972019629214121, -62.06621385138312, -23.373367248037162, 48.97301446911651, -89.12768985366664, -40.01063579599082, -37.60112172062459, 24.023750799799693, 46.92517825177481, -4.873809214694386, 81.1620815071365, -78.3206240566344, 43.04607599783627, 45.85805996201043, 69.46420908535255, -55.31565256345497, 30.421432640684685, 60.277706500012904, 81.99353031164645, 26.21561247405173, 37.4249377881689, -36.74075194678411, 338.5422431967816, -21.07307156504456, 17.18071781258375, 75.6179155112081, 93.2847516243699, -61.52628062092971, -14.320527715632613, 72.43630123682624, -0.02321050090669917], \"type\": \"scatter\", \"mode\": \"markers+text\", \"text\": [\"politicususa.com\", \"sfchronicle.com\", \"thenation.com\", \"thegatewaypundit.com\", \"afp.com\", \"seattletimes.com\", \"rightwingnews.com\", \"conservativetribune.com\", \"talkingpointsmemo.com\", \"townhall.com\", \"dailycaller.com\", \"azcentral.com\", \"thinkprogress.org\", \"truthfeed.com\", \"motherjones.com\", \"thefederalistpapers.org\", \"propublica.org\", \"latimes.com\", \"dallasnews.com\", \"usatoday.com\", \"dailykos.com\", \"nytimes.com\", \"nydailynews.com\", \"bbc.com\", \"redstate.com\", \"westernjournalism.com\", \"democracynow.org\", \"ijr.com\", \"cnn.com\", \"dailywire.com\", \"economist.com\", \"washingtonpost.com\", \"apnews.com\", \"thenewcivilrightsmovement.com\", \"youngcons.com\", \"forbes.com\", \"mediamatters.org\", \"nj.com\", \"washingtonexaminer.com\", \"nypost.com\", \"occupydemocrats.com\", \"slate.com\", \"bizpacreview.com\", \"wsj.com\", \"rawstory.com\", \"theblaze.com\", \"louderwithcrowder.com\", \"freedomdaily.com\", \"100percentfedup.com\", \"allenbwest.com\", \"ft.com\", \"usherald.com\", \"reuters.com\", \"judicialwatch.org\", \"conservative101.com\", \"oppositionreport.com\", \"mrctv.org\"]}], {\"height\": 700, \"width\": 1000, \"autosize\": false}, {\"linkText\": \"Export to plot.ly\", \"showLink\": false})});</script>"
      ],
      "text/vnd.plotly.v1+html": [
       "<div id=\"b03ba57d-0baf-4735-95b5-7bd23b110082\" style=\"height: 700px; width: 1000px;\" class=\"plotly-graph-div\"></div><script type=\"text/javascript\">require([\"plotly\"], function(Plotly) { window.PLOTLYENV=window.PLOTLYENV || {};window.PLOTLYENV.BASE_URL=\"https://plot.ly\";Plotly.newPlot(\"b03ba57d-0baf-4735-95b5-7bd23b110082\", [{\"textposition\": \"top\", \"marker\": {\"size\": 10}, \"y\": [72.53594692345844, -34.365900273933285, 5.955711944558322, 69.54091469076998, 70.49498652006353, -53.66058042740266, 50.217145293789976, 62.88062869761713, 19.588206560868255, 40.15133893729616, 33.263656498647485, 4.85081903855011, 11.130371522754244, 65.31832452042909, 42.81530868149941, -13.525694689444238, -31.489124722586634, -36.62135164320926, 5.14876593245653, -4.720023066821068, -73.49852339827534, -64.6503951458933, -25.702063071248, -22.53512134675239, 32.872485131686496, -34.97219220836188, -53.94629653970208, 43.134756433107974, -50.77940074690889, -36.15134427900735, 11.008545446039612, -41.799290582944, 10.047965500077236, 23.481536056943078, -57.0983762930854, -11.420375406636214, 24.401871023971918, -48.025062290326915, 54.70680373220414, -14.33019464602145, 68.34098147548129, -78.3030993088422, -77.48024184737048, -0.7638699992010528, -5.736109924817959, -57.07136789664383, 3.533435421535546, 90.49427147306358, 4.032976306102578, 31.128749980961057, -15.727042018344534, -78.8491233236023, -46.40934304529101, 17.32929670065117, 89.67133382948026, -29.40798051409419, 27.348100804940163], \"x\": [28.372009824132974, -18.91964017407312, 19.139380402663416, -11.520835667780176, -64.28320884902634, -54.0805968271058, -9.535910364888082, 5.586967715647348, 54.666826984862276, 60.17080996488314, -44.39783561411099, -0.6491403134061662, -469.7799089558365, -35.182084881659804, 21.155646419895742, -26.441297078390058, -1.3718667257250505, -63.00316057531414, -18.043774210733428, -47.32263463299701, -4.739673250565317, -35.43882564858365, -47.02680154779559, -76.55358904719837, 39.52659956569385, 26.686848310132852, 4.972019629214121, -62.06621385138312, -23.373367248037162, 48.97301446911651, -89.12768985366664, -40.01063579599082, -37.60112172062459, 24.023750799799693, 46.92517825177481, -4.873809214694386, 81.1620815071365, -78.3206240566344, 43.04607599783627, 45.85805996201043, 69.46420908535255, -55.31565256345497, 30.421432640684685, 60.277706500012904, 81.99353031164645, 26.21561247405173, 37.4249377881689, -36.74075194678411, 338.5422431967816, -21.07307156504456, 17.18071781258375, 75.6179155112081, 93.2847516243699, -61.52628062092971, -14.320527715632613, 72.43630123682624, -0.02321050090669917], \"type\": \"scatter\", \"mode\": \"markers+text\", \"text\": [\"politicususa.com\", \"sfchronicle.com\", \"thenation.com\", \"thegatewaypundit.com\", \"afp.com\", \"seattletimes.com\", \"rightwingnews.com\", \"conservativetribune.com\", \"talkingpointsmemo.com\", \"townhall.com\", \"dailycaller.com\", \"azcentral.com\", \"thinkprogress.org\", \"truthfeed.com\", \"motherjones.com\", \"thefederalistpapers.org\", \"propublica.org\", \"latimes.com\", \"dallasnews.com\", \"usatoday.com\", \"dailykos.com\", \"nytimes.com\", \"nydailynews.com\", \"bbc.com\", \"redstate.com\", \"westernjournalism.com\", \"democracynow.org\", \"ijr.com\", \"cnn.com\", \"dailywire.com\", \"economist.com\", \"washingtonpost.com\", \"apnews.com\", \"thenewcivilrightsmovement.com\", \"youngcons.com\", \"forbes.com\", \"mediamatters.org\", \"nj.com\", \"washingtonexaminer.com\", \"nypost.com\", \"occupydemocrats.com\", \"slate.com\", \"bizpacreview.com\", \"wsj.com\", \"rawstory.com\", \"theblaze.com\", \"louderwithcrowder.com\", \"freedomdaily.com\", \"100percentfedup.com\", \"allenbwest.com\", \"ft.com\", \"usherald.com\", \"reuters.com\", \"judicialwatch.org\", \"conservative101.com\", \"oppositionreport.com\", \"mrctv.org\"]}], {\"height\": 700, \"width\": 1000, \"autosize\": false}, {\"linkText\": \"Export to plot.ly\", \"showLink\": false})});</script>"
      ]
     },
     "metadata": {},
     "output_type": "display_data"
    }
   ],
   "source": [
    "trace = Scatter(x=X_proj, y=Y_proj, mode='markers+text', text=labels, textposition='top',  marker=dict(size=10))\n",
    "iplot({\n",
    "    'data': [trace],\n",
    "    'layout': Layout(\n",
    "        #xaxis=XAxis(title='Left vs Right'), \n",
    "        #yaxis=YAxis(title='Biased vs Factual'),\n",
    "        autosize=False,\n",
    "        width=1000,\n",
    "        height=700)},\n",
    "    show_link=False\n",
    ")"
   ]
  },
  {
   "cell_type": "markdown",
   "metadata": {},
   "source": [
    "### PCA Analysis"
   ]
  },
  {
   "cell_type": "code",
   "execution_count": 32,
   "metadata": {
    "collapsed": true
   },
   "outputs": [],
   "source": [
    "from sklearn.decomposition import PCA\n",
    "pca = PCA(n_components=2)\n",
    "site_vectors_pca = pca.fit(site_vectors).components_"
   ]
  },
  {
   "cell_type": "code",
   "execution_count": 33,
   "metadata": {},
   "outputs": [
    {
     "data": {
      "application/vnd.plotly.v1+json": {
       "data": [
        {
         "marker": {
          "size": 10
         },
         "mode": "markers+text",
         "text": [
          "politicususa.com",
          "sfchronicle.com",
          "thenation.com",
          "thegatewaypundit.com",
          "afp.com",
          "seattletimes.com",
          "rightwingnews.com",
          "conservativetribune.com",
          "talkingpointsmemo.com",
          "townhall.com",
          "dailycaller.com",
          "azcentral.com",
          "thinkprogress.org",
          "truthfeed.com",
          "motherjones.com",
          "thefederalistpapers.org",
          "propublica.org",
          "latimes.com",
          "dallasnews.com",
          "usatoday.com",
          "dailykos.com",
          "nytimes.com",
          "nydailynews.com",
          "bbc.com",
          "redstate.com",
          "westernjournalism.com",
          "democracynow.org",
          "ijr.com",
          "cnn.com",
          "dailywire.com",
          "economist.com",
          "washingtonpost.com",
          "apnews.com",
          "thenewcivilrightsmovement.com",
          "youngcons.com",
          "forbes.com",
          "mediamatters.org",
          "nj.com",
          "washingtonexaminer.com",
          "nypost.com",
          "occupydemocrats.com",
          "slate.com",
          "bizpacreview.com",
          "wsj.com",
          "rawstory.com",
          "theblaze.com",
          "louderwithcrowder.com",
          "freedomdaily.com",
          "100percentfedup.com",
          "allenbwest.com",
          "ft.com",
          "usherald.com",
          "reuters.com",
          "judicialwatch.org",
          "conservative101.com",
          "oppositionreport.com",
          "mrctv.org"
         ],
         "textposition": "top",
         "type": "scatter",
         "x": [
          0.2587556026300441,
          -0.05012382785081282,
          -0.14696182628420718,
          -0.09653607745685139,
          -0.0526290549644163,
          -0.06482390262649397,
          0.06473011278298547,
          -0.07675717944368315,
          -0.04180761956922318,
          -0.008554165688125519,
          0.379195993676906,
          -0.023397942019432974,
          -0.1500172055733073,
          -0.0406278613810856,
          0.23571230421896575,
          0.23978897895107376,
          0.11948589112400121,
          -0.11967720879249406,
          -0.06672165058017762,
          0.14938569100871316,
          -0.1256719349102818,
          -0.1732848519087152,
          0.1922004483670727,
          0.21523248457339905,
          0.18054758514905653,
          -0.05450287677432449,
          -0.13096547592154645,
          -0.021540502430844193,
          -0.16726104945773967,
          0.052876338408839096,
          -0.10487865651616265,
          0.025446676614957742,
          0.01185358710258175,
          0.08228092088984416,
          1.1193090368026716e-05,
          0.030344307016842965,
          -0.027243699776024043,
          0.19334431503896976,
          0.2904327273273225,
          0.2641162602732941,
          0.0013380307776243987,
          -0.03376318562301516,
          -0.11762992229973718,
          -0.11663688779385609,
          -0.04562219299907323,
          0.010911715775892243,
          0.024501811793959098,
          -0.07650824626577833,
          0.26030177767487483,
          -0.1186324811621523
         ],
         "y": [
          -0.017387860749576968,
          0.0742018723500803,
          0.10857125754814949,
          0.003215113941625214,
          -0.1494068157218187,
          0.052652011671034504,
          -0.026038330473118904,
          0.03858339641640278,
          -0.010287430573370676,
          -0.0988974996787951,
          -0.05016744312673787,
          -0.060841789316687475,
          0.2044080513619008,
          -0.08956036482911565,
          0.21979300966087764,
          0.171460343119056,
          0.10163065605141125,
          0.19058188065602988,
          0.13553790554425973,
          0.20091743476686955,
          0.17640061730400447,
          0.28516200033550665,
          0.16710061450113287,
          0.035897793814553436,
          0.0832041046531746,
          0.08334893142820686,
          0.04317058935575801,
          -0.052040426171160274,
          0.28662615153099585,
          0.2724712928605134,
          0.15365347247594072,
          -0.24630362413775517,
          -0.1631482118914409,
          -0.24015439746224418,
          1.0380233127531977e-05,
          -0.023274242250448645,
          -0.08178157506296231,
          0.20857307140648942,
          0.15662925193259086,
          0.15568194699536989,
          -0.05878410519742098,
          -0.12041146820735614,
          0.017216410090992666,
          0.19789761328293823,
          -0.028881072059735332,
          -0.17858960411080066,
          -0.04524260009323529,
          -0.04807215074390944,
          -0.09728898206464875,
          0.13270389673555189
         ]
        }
       ],
       "layout": {
        "autosize": false,
        "height": 700,
        "width": 1000
       }
      },
      "text/html": [
       "<div id=\"7e6196f5-1061-4b7f-a6fe-f27a9e1957af\" style=\"height: 700px; width: 1000px;\" class=\"plotly-graph-div\"></div><script type=\"text/javascript\">require([\"plotly\"], function(Plotly) { window.PLOTLYENV=window.PLOTLYENV || {};window.PLOTLYENV.BASE_URL=\"https://plot.ly\";Plotly.newPlot(\"7e6196f5-1061-4b7f-a6fe-f27a9e1957af\", [{\"textposition\": \"top\", \"marker\": {\"size\": 10}, \"y\": [-0.017387860749576968, 0.0742018723500803, 0.10857125754814949, 0.003215113941625214, -0.1494068157218187, 0.052652011671034504, -0.026038330473118904, 0.03858339641640278, -0.010287430573370676, -0.0988974996787951, -0.05016744312673787, -0.060841789316687475, 0.2044080513619008, -0.08956036482911565, 0.21979300966087764, 0.171460343119056, 0.10163065605141125, 0.19058188065602988, 0.13553790554425973, 0.20091743476686955, 0.17640061730400447, 0.28516200033550665, 0.16710061450113287, 0.035897793814553436, 0.0832041046531746, 0.08334893142820686, 0.04317058935575801, -0.052040426171160274, 0.28662615153099585, 0.2724712928605134, 0.15365347247594072, -0.24630362413775517, -0.1631482118914409, -0.24015439746224418, 1.0380233127531977e-05, -0.023274242250448645, -0.08178157506296231, 0.20857307140648942, 0.15662925193259086, 0.15568194699536989, -0.05878410519742098, -0.12041146820735614, 0.017216410090992666, 0.19789761328293823, -0.028881072059735332, -0.17858960411080066, -0.04524260009323529, -0.04807215074390944, -0.09728898206464875, 0.13270389673555189], \"x\": [0.2587556026300441, -0.05012382785081282, -0.14696182628420718, -0.09653607745685139, -0.0526290549644163, -0.06482390262649397, 0.06473011278298547, -0.07675717944368315, -0.04180761956922318, -0.008554165688125519, 0.379195993676906, -0.023397942019432974, -0.1500172055733073, -0.0406278613810856, 0.23571230421896575, 0.23978897895107376, 0.11948589112400121, -0.11967720879249406, -0.06672165058017762, 0.14938569100871316, -0.1256719349102818, -0.1732848519087152, 0.1922004483670727, 0.21523248457339905, 0.18054758514905653, -0.05450287677432449, -0.13096547592154645, -0.021540502430844193, -0.16726104945773967, 0.052876338408839096, -0.10487865651616265, 0.025446676614957742, 0.01185358710258175, 0.08228092088984416, 1.1193090368026716e-05, 0.030344307016842965, -0.027243699776024043, 0.19334431503896976, 0.2904327273273225, 0.2641162602732941, 0.0013380307776243987, -0.03376318562301516, -0.11762992229973718, -0.11663688779385609, -0.04562219299907323, 0.010911715775892243, 0.024501811793959098, -0.07650824626577833, 0.26030177767487483, -0.1186324811621523], \"type\": \"scatter\", \"mode\": \"markers+text\", \"text\": [\"politicususa.com\", \"sfchronicle.com\", \"thenation.com\", \"thegatewaypundit.com\", \"afp.com\", \"seattletimes.com\", \"rightwingnews.com\", \"conservativetribune.com\", \"talkingpointsmemo.com\", \"townhall.com\", \"dailycaller.com\", \"azcentral.com\", \"thinkprogress.org\", \"truthfeed.com\", \"motherjones.com\", \"thefederalistpapers.org\", \"propublica.org\", \"latimes.com\", \"dallasnews.com\", \"usatoday.com\", \"dailykos.com\", \"nytimes.com\", \"nydailynews.com\", \"bbc.com\", \"redstate.com\", \"westernjournalism.com\", \"democracynow.org\", \"ijr.com\", \"cnn.com\", \"dailywire.com\", \"economist.com\", \"washingtonpost.com\", \"apnews.com\", \"thenewcivilrightsmovement.com\", \"youngcons.com\", \"forbes.com\", \"mediamatters.org\", \"nj.com\", \"washingtonexaminer.com\", \"nypost.com\", \"occupydemocrats.com\", \"slate.com\", \"bizpacreview.com\", \"wsj.com\", \"rawstory.com\", \"theblaze.com\", \"louderwithcrowder.com\", \"freedomdaily.com\", \"100percentfedup.com\", \"allenbwest.com\", \"ft.com\", \"usherald.com\", \"reuters.com\", \"judicialwatch.org\", \"conservative101.com\", \"oppositionreport.com\", \"mrctv.org\"]}], {\"height\": 700, \"width\": 1000, \"autosize\": false}, {\"linkText\": \"Export to plot.ly\", \"showLink\": false})});</script>"
      ],
      "text/vnd.plotly.v1+html": [
       "<div id=\"7e6196f5-1061-4b7f-a6fe-f27a9e1957af\" style=\"height: 700px; width: 1000px;\" class=\"plotly-graph-div\"></div><script type=\"text/javascript\">require([\"plotly\"], function(Plotly) { window.PLOTLYENV=window.PLOTLYENV || {};window.PLOTLYENV.BASE_URL=\"https://plot.ly\";Plotly.newPlot(\"7e6196f5-1061-4b7f-a6fe-f27a9e1957af\", [{\"textposition\": \"top\", \"marker\": {\"size\": 10}, \"y\": [-0.017387860749576968, 0.0742018723500803, 0.10857125754814949, 0.003215113941625214, -0.1494068157218187, 0.052652011671034504, -0.026038330473118904, 0.03858339641640278, -0.010287430573370676, -0.0988974996787951, -0.05016744312673787, -0.060841789316687475, 0.2044080513619008, -0.08956036482911565, 0.21979300966087764, 0.171460343119056, 0.10163065605141125, 0.19058188065602988, 0.13553790554425973, 0.20091743476686955, 0.17640061730400447, 0.28516200033550665, 0.16710061450113287, 0.035897793814553436, 0.0832041046531746, 0.08334893142820686, 0.04317058935575801, -0.052040426171160274, 0.28662615153099585, 0.2724712928605134, 0.15365347247594072, -0.24630362413775517, -0.1631482118914409, -0.24015439746224418, 1.0380233127531977e-05, -0.023274242250448645, -0.08178157506296231, 0.20857307140648942, 0.15662925193259086, 0.15568194699536989, -0.05878410519742098, -0.12041146820735614, 0.017216410090992666, 0.19789761328293823, -0.028881072059735332, -0.17858960411080066, -0.04524260009323529, -0.04807215074390944, -0.09728898206464875, 0.13270389673555189], \"x\": [0.2587556026300441, -0.05012382785081282, -0.14696182628420718, -0.09653607745685139, -0.0526290549644163, -0.06482390262649397, 0.06473011278298547, -0.07675717944368315, -0.04180761956922318, -0.008554165688125519, 0.379195993676906, -0.023397942019432974, -0.1500172055733073, -0.0406278613810856, 0.23571230421896575, 0.23978897895107376, 0.11948589112400121, -0.11967720879249406, -0.06672165058017762, 0.14938569100871316, -0.1256719349102818, -0.1732848519087152, 0.1922004483670727, 0.21523248457339905, 0.18054758514905653, -0.05450287677432449, -0.13096547592154645, -0.021540502430844193, -0.16726104945773967, 0.052876338408839096, -0.10487865651616265, 0.025446676614957742, 0.01185358710258175, 0.08228092088984416, 1.1193090368026716e-05, 0.030344307016842965, -0.027243699776024043, 0.19334431503896976, 0.2904327273273225, 0.2641162602732941, 0.0013380307776243987, -0.03376318562301516, -0.11762992229973718, -0.11663688779385609, -0.04562219299907323, 0.010911715775892243, 0.024501811793959098, -0.07650824626577833, 0.26030177767487483, -0.1186324811621523], \"type\": \"scatter\", \"mode\": \"markers+text\", \"text\": [\"politicususa.com\", \"sfchronicle.com\", \"thenation.com\", \"thegatewaypundit.com\", \"afp.com\", \"seattletimes.com\", \"rightwingnews.com\", \"conservativetribune.com\", \"talkingpointsmemo.com\", \"townhall.com\", \"dailycaller.com\", \"azcentral.com\", \"thinkprogress.org\", \"truthfeed.com\", \"motherjones.com\", \"thefederalistpapers.org\", \"propublica.org\", \"latimes.com\", \"dallasnews.com\", \"usatoday.com\", \"dailykos.com\", \"nytimes.com\", \"nydailynews.com\", \"bbc.com\", \"redstate.com\", \"westernjournalism.com\", \"democracynow.org\", \"ijr.com\", \"cnn.com\", \"dailywire.com\", \"economist.com\", \"washingtonpost.com\", \"apnews.com\", \"thenewcivilrightsmovement.com\", \"youngcons.com\", \"forbes.com\", \"mediamatters.org\", \"nj.com\", \"washingtonexaminer.com\", \"nypost.com\", \"occupydemocrats.com\", \"slate.com\", \"bizpacreview.com\", \"wsj.com\", \"rawstory.com\", \"theblaze.com\", \"louderwithcrowder.com\", \"freedomdaily.com\", \"100percentfedup.com\", \"allenbwest.com\", \"ft.com\", \"usherald.com\", \"reuters.com\", \"judicialwatch.org\", \"conservative101.com\", \"oppositionreport.com\", \"mrctv.org\"]}], {\"height\": 700, \"width\": 1000, \"autosize\": false}, {\"linkText\": \"Export to plot.ly\", \"showLink\": false})});</script>"
      ]
     },
     "metadata": {},
     "output_type": "display_data"
    }
   ],
   "source": [
    "trace = Scatter(x=site_vectors_pca[0], y=site_vectors_pca[1], mode='markers+text', text=labels, textposition='top',  marker=dict(size=10))\n",
    "iplot({\n",
    "    'data': [trace],\n",
    "    'layout': Layout(\n",
    "        #xaxis=XAxis(title='Left vs Right'), \n",
    "        #yaxis=YAxis(title='Biased vs Factual'),\n",
    "        autosize=False,\n",
    "        width=1000,\n",
    "        height=700)},\n",
    "    show_link=False\n",
    ")"
   ]
  }
 ],
 "metadata": {
  "kernelspec": {
   "display_name": "Python 3",
   "language": "python",
   "name": "python3"
  },
  "language_info": {
   "codemirror_mode": {
    "name": "ipython",
    "version": 3
   },
   "file_extension": ".py",
   "mimetype": "text/x-python",
   "name": "python",
   "nbconvert_exporter": "python",
   "pygments_lexer": "ipython3",
   "version": "3.5.2"
  }
 },
 "nbformat": 4,
 "nbformat_minor": 2
}
